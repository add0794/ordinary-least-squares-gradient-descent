{
 "cells": [
  {
   "cell_type": "markdown",
   "metadata": {},
   "source": [
    "# Ordinary Least Squares (OLS) vs. Gradient Descent (GD): Academic Performance"
   ]
  },
  {
   "cell_type": "markdown",
   "metadata": {},
   "source": [
    "## 1) Abstract: Framing the Problem"
   ]
  },
  {
   "cell_type": "markdown",
   "metadata": {},
   "source": [
    "Machine learning is transforming industries with powerful applications like image recognition, spam detection, and conversational AI. These advancements often rely on *deep learning*, which requires large datasets, significant computational power, and specialized hardware. While deep learning excels in tasks like computer vision and natural language processing, it may not always align with the needs of small- and medium-sized enterprises (SMEs).\n",
    "\n",
    "For these businesses, *shallow learning* offers a seemingly compelling alternative. By solving well-defined problems with smaller datasets and simpler models, shallow learning techniques are faster, more cost-effective, and easier to interpret. Examples include predicting sales revenue (using regression), segmenting customers (with decision trees), and classifying products (via k-nearest neighbors).\n",
    "\n",
    "One interesting area of comparison lies in multiple regression, where gradient descent (GD) competes with traditional ordinary least squares (OLS). This article evaluates both methods to determine their suitability for SMEs, focusing on criteria like accuracy, speed, and memory usage. It additionally looks at alternative algorithms (e.g. ridge regression) to give readers a full understanding of what tools are available.\n",
    "\n",
    "This article should provide a comprehensive comparison that will help readers choose the appropriate method for their specific use case."
   ]
  },
  {
   "cell_type": "markdown",
   "metadata": {},
   "source": [
    "## 2) Introduction: What Is Multiple Regression?"
   ]
  },
  {
   "cell_type": "markdown",
   "metadata": {},
   "source": [
    "Multiple regression is a statistical technique used to model the relationship between one dependent variable (or label) and two or more independent variables (or features). It is a powerful tool for understanding how changes in independent variables influence the dependent variable.\n",
    "\n",
    "This modeling approach can be implemented using various strategies, but I will focus on two aforementioned methods:\n",
    "\n",
    "**Ordinary Least Squares (OLS)**, which derives the solution through pure mathematical analysis by minimizing the sum of squared residuals through matrix operations.\\\n",
    "**Gradient Descent (GD)**, an iterative machine learning optimization algorithm that minimizes the loss function (e.g., mean squared error) by updating parameters step by step using the losses's gradients.\n",
    "\n",
    "These methods represent two distinct approaches to solving multiple regression problems: one analytical and one numerical. Comparing their performance will provide insight into their suitability based on dataset size, computational constraints, and other practical considerations.\n",
    "\n",
    "Note: For deriving the solutions, solutions will be implemented using both the NumPy and SciPy libraries. This will be seen shortly."
   ]
  },
  {
   "cell_type": "markdown",
   "metadata": {},
   "source": [
    "### **Ordinary Least Squares (OLS)**\n",
    "\n",
    "#### **0) How to Get Started**\n",
    "\n",
    "We start with the following equation:\n",
    "\n",
    "$$\\boldsymbol{X}\\boldsymbol{β} = \\boldsymbol{y}$$\n",
    "\n",
    "Where:\n",
    "\n",
    "*X* := The design matrix of independent variables\\\n",
    "*β* := The vector of parameters (coefficients to be estimated)\\\n",
    "*y* := The vector of the dependent variable\n",
    "\n",
    "This is not possible, however, since there is always an error value, known as the *residuals*. \n",
    "\n",
    "Thus:\n",
    "\n",
    "$$\\boldsymbol{X}\\boldsymbol{\\hat{\\beta}} + \\boldsymbol{\\epsilon} = \\boldsymbol{\\hat{y}}$$\n",
    "\n",
    "With that in mind, OLS can be derived through various approaches:\n",
    "\n",
    "#### **1) Optimization using calculus**  \n",
    "\n",
    "In this scenario, we minimize the norm of $\\boldsymbol{y} - \\boldsymbol{\\hat{y}}$, which will give us the vector of parameters. $$\\min_β |\\boldsymbol{y} - \\boldsymbol{\\hat{y}}| = \\min_β |\\boldsymbol{y} - \\boldsymbol{X}\\boldsymbol{\\hat{β}}|^2$$\n",
    "\n",
    "I won't do the math for this, but if you're interested, it requires calculus and is a stronger solution since it follows along the maximum likelihood estimation (MLE).\n",
    "\n",
    "#### **2) Using the Left Inverse**\n",
    "\n",
    "Because $Xβ$ is assumed to be full column rank, we can derive *β*.\n",
    "\n",
    "In other words, if we multiply $Xβ$ by its transpose, we can then multiply it by its inverse.\n",
    "\n",
    "Thus:\n",
    "\n",
    "$$\\boldsymbol{X}^T\\boldsymbol{X}\\boldsymbol{β} = \\boldsymbol{X}^T\\boldsymbol{y}$$\n",
    "$$(\\boldsymbol{X}^T\\boldsymbol{X})^{-1}\\boldsymbol{X}^T\\boldsymbol{X}\\boldsymbol{β} = (\\boldsymbol{X}^T\\boldsymbol{X})^{-1}\\boldsymbol{X}^T\\boldsymbol{y}$$\n",
    "$$\\boldsymbol{I}\\boldsymbol{β} = (\\boldsymbol{X}^T\\boldsymbol{X})^{-1}\\boldsymbol{X}^T\\boldsymbol{y}$$\n",
    "$$\\boldsymbol{β} = (\\boldsymbol{X}^T\\boldsymbol{X})^{-1}\\boldsymbol{X}^T\\boldsymbol{y}$$\n",
    "\n",
    "Note:\n",
    "*I* = The identity matrix\n",
    "\n",
    "Because β is predicting y, it is better to conclude that this derivation represents $\\boldsymbol{\\hat{β}}$.\n",
    "\n",
    "This is not the best approach because we are assuming $Xβ$ is full column rank, which may not be true if there is **Multicollinearity**.\n",
    "\n",
    "Why? If one parameter is a linear combination of any of the others, then the design matrix $X$ is not of full column rank (e.g. $β_3 = 4*β_1$).\n",
    "\n",
    "#### **3) Transforming $X$ to Row Canonical Form**\n",
    "\n",
    "The equation\n",
    "\n",
    "$$\\boldsymbol{X}^T\\boldsymbol{X}\\boldsymbol{β} = \\boldsymbol{X}^T\\boldsymbol{y}$$\n",
    "\n",
    "can be row reduced to its canonical form to get the vector of parameters as well.\n",
    "\n",
    "This will make sense in the next derivation.\n",
    "\n",
    "#### **4) Using Orthogonal Projections**\n",
    "\n",
    "$\\boldsymbol{X}\\boldsymbol{β} = \\boldsymbol{y}$ can be seen as having a projection and an orthogonal component.\n",
    "\n",
    "If we view the parameters as predictions, then we have a projection:\n",
    "$$\\boldsymbol{X}\\boldsymbol{\\hat{β}} = \\boldsymbol{\\hat{y}}$$\n",
    "\n",
    "This is also known as $\\boldsymbol{\\hat{y}}$ projected onto the column space of $\\boldsymbol{X}\\boldsymbol{\\hat{β}}$\n",
    "\n",
    "The orthogonal component will be the nullspace $\\boldsymbol{X}\\boldsymbol{\\hat{β}}$, which is the residual: $\\boldsymbol{y} - \\boldsymbol{\\hat{y}}$ (or $\\boldsymbol{y} - \\boldsymbol{X}\\boldsymbol{\\hat{β}}$)\n",
    "\n",
    "In other words, the *residual* (orthogonal) and *prediction* (projection) add up to the vector of the dependent variable: y\n",
    "\n",
    "What now?\n",
    "\n",
    "Given that $\\boldsymbol{y} - \\boldsymbol{X}\\boldsymbol{\\hat{β}}$ is orthogonal to the column space of $\\boldsymbol{X}$, then it's orthogonal to each column of $\\boldsymbol{X}$:\n",
    "\n",
    "$$\\boldsymbol{X}^T*(\\boldsymbol{y} - \\boldsymbol{X}\\boldsymbol{\\hat{β}}) = 0$$\n",
    "$$\\boldsymbol{X}^T\\boldsymbol{y} - \\boldsymbol{X}^T\\boldsymbol{X}\\boldsymbol{\\hat{β}} = 0$$\n",
    "$$\\boldsymbol{X}^T\\boldsymbol{y} = \\boldsymbol{X}^T\\boldsymbol{X}\\boldsymbol{\\hat{β}}$$\n",
    "$$(\\boldsymbol{X}^T\\boldsymbol{X})^{-1}\\boldsymbol{X}^T\\boldsymbol{y} = \\boldsymbol{\\hat{β}}$$\n",
    "\n",
    "We could have solved for that using row reduction, where $\\boldsymbol{X}^T\\boldsymbol{X}$ is augmented by $\\boldsymbol{X}^T\\boldsymbol{y}$, then put into row canonical form.\n",
    "\n",
    "#### **5) Using Factorizations (e.g. QR Factorization, SVD)**\n",
    "\n",
    "This article will not explore factorizations, but any rectangular matrix can be factorized into other, smaller matrices using various methods. Once factorized, the parameters can be estimated, often as easily as the previous approaches.\n",
    "\n",
    "#### **Conclusion**\n",
    "\n",
    "Regardless of which approach you use with OLS, the parameters will be:\n",
    "$$\\boldsymbol{\\hat{β}} = (\\boldsymbol{X}^T\\boldsymbol{X})^{-1}\\boldsymbol{X}^T\\boldsymbol{y}$$"
   ]
  },
  {
   "cell_type": "markdown",
   "metadata": {},
   "source": [
    "<!-- #### **0) How to Get Started**\n",
    "\n",
    "With GD, you must decide a cost function, AKA a loss or an objective function.\n",
    "\n",
    "For multiple regression, we start with the mean square error (MSE) as the cost function (it is most common):\n",
    "\n",
    "$$MSE = \\frac{1}{N} \\sum_{i=1}^N (y_i - \\beta_0 - \\mathbf{x}_i^T \\boldsymbol{\\beta})^2$$\n",
    "\n",
    "Where:\n",
    "\n",
    "*N* := Number of data points\\\n",
    "*y_i* := The vector of the dependent variable\\\n",
    "*β_0* := The scalar of the independent variable's intercept\\\n",
    "*β_i* := The vector of parameters (coefficients to be estimated)\\\n",
    "*x_i* := The vector of independent variables\n",
    "\n",
    "Note: This has not been put in matrix form because GD uses calculus.\n",
    "\n",
    "At first, you might think, \"How can I calculate the residual without first having values for the parameters?\"\n",
    "\n",
    "GD iteratively determines the parameters' values.\n",
    "\n",
    "You add the value of the partial derivative of the MSE with regard to the particular parameter:\n",
    "\n",
    "$$\\frac{\\partial MSE}{\\partial \\beta_0} = -\\frac{2}{N} \\sum_{i=1}^N (y_i - \\beta_0 - \\mathbf{x}_i^T \\boldsymbol{\\beta_i})$$\n",
    "\n",
    "$$\\frac{\\partial MSE}{\\partial {\\beta_i}} = -\\frac{2}{N} \\sum_{i=1}^{N}(y_i - \\beta_0 + \\mathbf{x}_i^T \\boldsymbol{\\beta_i}) * x_i$$\n",
    "\n",
    "Now, let's set the parameters to 0 and add a learning rate (α) and number of times (i.e. epochs) to update each parameter.\n",
    "\n",
    "$\\alpha = 0.01$ will be the learning rate, and $t = 100$ will be the number of epochs.\n",
    "\n",
    "We want to update the model parameters using the following equations:\n",
    "\n",
    "$$\\beta_0^{t+1} = \\beta_0 + \\alpha \\cdot \\frac{\\partial MSE}{\\partial \\beta_0}$$\n",
    "\n",
    "$$\\beta_i^{t+1} = \\beta_i + \\alpha \\cdot \\frac{\\partial MSE}{\\partial \\beta_i}$$\n",
    "\n",
    "Substituting the derivatives we found earlier:\n",
    "\n",
    "$$\\beta_0^{t+1} = \\beta_0^{t+1} + 0.01 \\cdot (-\\frac{2}{N} \\sum_{i=1}^{N}(y_i - (\\beta_0^{t+1} + \\beta_i x_i)))$$\n",
    "\n",
    "$$\\beta_i^{t+1} = \\beta_i + 0.01 \\cdot (-\\frac{2}{N} \\sum_{i=1}^{N}(y_i - (\\boldsymbol{\\beta_0} + \\beta_i \\boldsymbol{x_i})) \\cdot \\boldsymbol{x_i})$$\n",
    "\n",
    "Simplifying the equations:\n",
    "\n",
    "$$\\beta_0^{t+1} = \\beta_0 - 0.02 \\sum_{i=1}^{N}(y_i - (\\boldsymbol{\\beta_0} + \\beta_i \\boldsymbol{x_i}))$$\n",
    "\n",
    "$$\\beta_i^{t+1} = \\beta_i - 0.02 \\sum_{i=1}^{N}(y_i - (\\boldsymbol{\\beta_0} + \\beta_i \\boldsymbol{x_i})) \\cdot \\boldsymbol{x_i}$$ -->"
   ]
  },
  {
   "cell_type": "markdown",
   "metadata": {},
   "source": [
    "### **Gradient Descent (GD)**\n",
    "\n",
    "#### **0) How to Get Started**\n",
    "\n",
    "To perform Gradient Descent (GD), you must first decide on a cost function, also known as a loss or objective function. Each parameter will iteratively update with the gradient of the cost function.\n",
    "\n",
    "As the values of the gradient decrease, you get closer to the optimal value of the cost function -- and of the parameters. Unlike conventional optimization, which you may have come across in calculus, GD sets a learning rate by which to update initial values. In addition, you run GD a set number of times, known as epochs, and run the algorithm using a loop (for or while; your choice). You may additionally set a step size; at that point, if one partial derivative is greater than the precision, GD stops. At that point, you've identified the regressor's parameters. \n",
    "\n",
    "For multiple regression, we typically use the mean squared error (MSE) as the cost function:\n",
    "\\boldsymbol\n",
    "<!-- $$MSE = \\frac{1}{N} \\| \\mathbf{y} - \\beta_0 \\mathbf{1} - \\mathbf{X} \\boldsymbol{\\beta} \\|^2$$ -->\n",
    "\n",
    "$$MSE = \\frac{1}{N} \\| \\boldsymbol{y} - \\boldsymbol{X}\\boldsymbol{β} \\|^2$$\n",
    "<!-- $$MSE = \\frac{1}{N} (\\mathbf{y} - \\mathbf{X} \\boldsymbol{\\beta})^{T} * (\\mathbf{y} - \\mathbf{X} \\boldsymbol{\\beta})$$ -->\n",
    "\n",
    "Where:\n",
    "\n",
    "*N* := Number (scalar) of data points\\\n",
    "*y* := Vector of dependent variables (N * 1)\\\n",
    "*X* := Matrix of independent variables (M * N)\\\n",
    "*β* := Vector of parameters (coefficients to be estimated, N * 1)\n",
    "<!-- *β_0* := Scalar intercept term\\ -->\n",
    "<!-- *1* := Vector of 1's (n * 1)\\ -->\n",
    "\n",
    "At first, you might think, \"How can I calculate the residual without first having values for the parameters?\"\n",
    "\n",
    "GD iteratively determines the parameters' values updating the parameters at each step based on the gradient of the cost function, which, in this case, is the MSE.\n",
    "\n",
    "You add the value of the partial derivative of the MSE with regard to the particular parameter:\n",
    "\n",
    "<!-- $$\\frac{\\partial MSE}{\\partial \\beta_0} = \\frac{2}{N} \\mathbf{1}^T (\\mathbf{X} \\boldsymbol{\\beta}^{(t)} + \\beta_0 \\mathbf{1} - \\mathbf{y})$$\n",
    "\n",
    "$$\\frac{\\partial MSE}{\\partial \\boldsymbol{\\beta}} = \\frac{2}{N} \\mathbf{X}^T (\\mathbf{X} \\boldsymbol{\\beta}^{(t)} + \\beta_0 \\mathbf{1} - \\mathbf{y})$$ -->\n",
    "\n",
    "$$\\frac{1}{N} (\\boldsymbol{y} - \\boldsymbol{X}\\boldsymbol{β})^T(\\boldsymbol{y} - \\boldsymbol{X}\\boldsymbol{β})$$\n",
    "\n",
    "We get the following in its expanded form:\n",
    "$$\\frac{1}{N} \\left(||\\boldsymbol{y}||^2 - \\boldsymbol{β}^T\\boldsymbol{X}^T\\boldsymbol{y} - \\boldsymbol{X}\\boldsymbol{β}\\boldsymbol{y}^T + ||\\boldsymbol{X}||^2\\right)$$\n",
    "\n",
    "Since we are taking the gradient:\n",
    "\n",
    "- The squared norm of $y$ drops out\n",
    "- The two middle values are symmetric ($A = A^T$)\n",
    "- The derivative of the transpose is 2\n",
    "- The derivative of $β$ alone is 1\n",
    "\n",
    "Thus, the gradient is:\n",
    "$$\\frac{1}{N} \\left(0 - 2\\boldsymbol{X}^T\\boldsymbol{y} + 2\\boldsymbol{X}^T\\boldsymbol{X}\\boldsymbol{β}\\right)$$\n",
    "The shared term is $2X^T$:\n",
    "$$\\frac{1}{N} \\cdot 2\\boldsymbol{X}^T \\cdot (\\boldsymbol{X}\\boldsymbol{β} - \\boldsymbol{y})$$\n",
    "\n",
    "This is the gradient for the Mean Squared Error (MSE).\n",
    "\n",
    "<!-- \\frac{\\partial MSE}{\\partial \\boldsymbol{\\beta}} =  -->\n",
    "\n",
    "Now, let's set the parameters to 0 and add the learning rate (α) and epochs (t) to update each parameter.\n",
    "\n",
    "The updates for the parameters are:\n",
    "\n",
    "<!-- $$\\beta_0^{(t+1)} = \\beta_0^{(t)} - \\alpha \\cdot \\frac{\\partial MSE}{\\partial \\beta_0}$$ -->\n",
    "\n",
    "$$\\boldsymbol{β}^{t+1} = \\boldsymbol{β}^{t} - \\alpha \\cdot \\frac{\\partial MSE}{\\partial \\boldsymbol{β}}$$\n",
    "\n",
    "Substituting the derivatives into the update equations:\n",
    "\n",
    "<!-- $$\\beta_0^{(t+1)} = \\beta_0^{(t)} - 0.01 \\times \\frac{2}{N} \\mathbf{1}^T (\\mathbf{X} \\boldsymbol{\\beta}^{(t)} + \\beta_0 \\mathbf{1} - \\mathbf{y})$$ -->\n",
    "\n",
    "$$\\boldsymbol{β}^{t+1} = \\boldsymbol{β}^t - \\alpha \\cdot \\frac{1}{N} \\cdot 2\\boldsymbol{X}^T \\cdot (\\boldsymbol{X}\\boldsymbol{β} - \\boldsymbol{y})$$\n",
    "\n",
    "The updated values will run against the epochs.\n",
    "\n",
    "#### **1) GD with Other Cost Functions**\n",
    "\n",
    "Depending on what you're trying to achieve (e.g. regression, classification, anomaly detection), you can choose a different cost function. I will not cover each here, but you can find a *partial* list of those cost functions [here](https://stats.stackexchange.com/questions/154879/a-list-of-cost-functions-used-in-neural-networks-alongside-applications).\n",
    "\n",
    "#### **Conclusion**\n",
    "\n",
    "<!-- The expressions $\\beta_0^{(t+1)}$ and $\\boldsymbol{\\beta}^{(t+1)}$ would give us the intercept and vector of parameters. -->\n",
    "\n",
    "The expression $\\boldsymbol{β}^{t+1}$ will give us the intercept and coefficient as a vector of parameters."
   ]
  },
  {
   "cell_type": "markdown",
   "metadata": {},
   "source": [
    "## 3) Methodology: What Do We Know About the Data?"
   ]
  },
  {
   "cell_type": "markdown",
   "metadata": {},
   "source": [
    "### Gathering the Data"
   ]
  },
  {
   "cell_type": "markdown",
   "metadata": {},
   "source": [
    "The dataset comes from [Kaggle](https://www.kaggle.com/datasets/nikhil7280/student-performance-multiple-linear-regression).\n",
    "\n",
    "The dataset examines the factors influencing academic student performance, including:\n",
    "- Hours Studied: The total number of hours spent studying by each student.\n",
    "- Previous Scores: The scores obtained by students in previous tests.\n",
    "- Extracurricular Activities: Whether the student participates in extracurricular activities (Yes or No).\n",
    "- Sleep Hours: The average number of hours of sleep the student had per day.\n",
    "- Sample Question Papers Practiced: The number of sample question papers the student practiced.\n",
    "\n",
    "The dataset consists of 10,000 student records, with each record containing information about various predictors and a performance index.\n",
    "\n",
    "The target variable, performance index, measures each student's overall performance. The index, rounded to the nearest integer, ranges from 10 to 100, with higher values indicating better performance."
   ]
  },
  {
   "cell_type": "code",
   "execution_count": 91,
   "metadata": {},
   "outputs": [
    {
     "name": "stdout",
     "output_type": "stream",
     "text": [
      "Path to dataset files: /Users/alexdubro/.cache/kagglehub/datasets/nikhil7280/student-performance-multiple-linear-regression/versions/1\n"
     ]
    }
   ],
   "source": [
    "# The dataset will come from Kaggle:\n",
    "\n",
    "import kagglehub\n",
    "\n",
    "# Download latest version\n",
    "path = kagglehub.dataset_download(\"nikhil7280/student-performance-multiple-linear-regression\")\n",
    "print(\"Path to dataset files:\", path)"
   ]
  },
  {
   "cell_type": "markdown",
   "metadata": {},
   "source": [
    "### Importing the Necessary Packages"
   ]
  },
  {
   "cell_type": "code",
   "execution_count": 92,
   "metadata": {},
   "outputs": [],
   "source": [
    "import matplotlib.pyplot as plt\n",
    "import numpy as np \n",
    "import os\n",
    "import pandas as pd \n",
    "from scipy.linalg import pinv\n",
    "import seaborn as sns \n",
    "from sklearn import linear_model\n",
    "from sklearn.model_selection import train_test_split, KFold\n",
    "from sklearn.preprocessing import MinMaxScaler, StandardScaler\n",
    "import statsmodels.api as sm\n",
    "import sys\n",
    "import time"
   ]
  },
  {
   "cell_type": "code",
   "execution_count": 129,
   "metadata": {},
   "outputs": [
    {
     "data": {
      "text/html": [
       "<div>\n",
       "<style scoped>\n",
       "    .dataframe tbody tr th:only-of-type {\n",
       "        vertical-align: middle;\n",
       "    }\n",
       "\n",
       "    .dataframe tbody tr th {\n",
       "        vertical-align: top;\n",
       "    }\n",
       "\n",
       "    .dataframe thead th {\n",
       "        text-align: right;\n",
       "    }\n",
       "</style>\n",
       "<table border=\"1\" class=\"dataframe\">\n",
       "  <thead>\n",
       "    <tr style=\"text-align: right;\">\n",
       "      <th></th>\n",
       "      <th>Hours Studied</th>\n",
       "      <th>Previous Scores</th>\n",
       "      <th>Extracurricular Activities</th>\n",
       "      <th>Sleep Hours</th>\n",
       "      <th>Sample Question Papers Practiced</th>\n",
       "      <th>Performance Index</th>\n",
       "    </tr>\n",
       "  </thead>\n",
       "  <tbody>\n",
       "    <tr>\n",
       "      <th>0</th>\n",
       "      <td>7</td>\n",
       "      <td>99</td>\n",
       "      <td>Yes</td>\n",
       "      <td>9</td>\n",
       "      <td>1</td>\n",
       "      <td>91.0</td>\n",
       "    </tr>\n",
       "    <tr>\n",
       "      <th>1</th>\n",
       "      <td>4</td>\n",
       "      <td>82</td>\n",
       "      <td>No</td>\n",
       "      <td>4</td>\n",
       "      <td>2</td>\n",
       "      <td>65.0</td>\n",
       "    </tr>\n",
       "    <tr>\n",
       "      <th>2</th>\n",
       "      <td>8</td>\n",
       "      <td>51</td>\n",
       "      <td>Yes</td>\n",
       "      <td>7</td>\n",
       "      <td>2</td>\n",
       "      <td>45.0</td>\n",
       "    </tr>\n",
       "    <tr>\n",
       "      <th>3</th>\n",
       "      <td>5</td>\n",
       "      <td>52</td>\n",
       "      <td>Yes</td>\n",
       "      <td>5</td>\n",
       "      <td>2</td>\n",
       "      <td>36.0</td>\n",
       "    </tr>\n",
       "    <tr>\n",
       "      <th>4</th>\n",
       "      <td>7</td>\n",
       "      <td>75</td>\n",
       "      <td>No</td>\n",
       "      <td>8</td>\n",
       "      <td>5</td>\n",
       "      <td>66.0</td>\n",
       "    </tr>\n",
       "  </tbody>\n",
       "</table>\n",
       "</div>"
      ],
      "text/plain": [
       "   Hours Studied  Previous Scores Extracurricular Activities  Sleep Hours  \\\n",
       "0              7               99                        Yes            9   \n",
       "1              4               82                         No            4   \n",
       "2              8               51                        Yes            7   \n",
       "3              5               52                        Yes            5   \n",
       "4              7               75                         No            8   \n",
       "\n",
       "   Sample Question Papers Practiced  Performance Index  \n",
       "0                                 1               91.0  \n",
       "1                                 2               65.0  \n",
       "2                                 2               45.0  \n",
       "3                                 2               36.0  \n",
       "4                                 5               66.0  "
      ]
     },
     "execution_count": 129,
     "metadata": {},
     "output_type": "execute_result"
    }
   ],
   "source": [
    "dataset_path = os.path.join(path, 'Student_Performance.csv')\n",
    "\n",
    "raw_data = pd.read_csv(dataset_path)\n",
    "raw_data.head()"
   ]
  },
  {
   "cell_type": "markdown",
   "metadata": {},
   "source": [
    "### Cleaning/preprocessing the Data"
   ]
  },
  {
   "cell_type": "markdown",
   "metadata": {},
   "source": [
    "The data must be cleaned/preprocessed for duplicates and null values."
   ]
  },
  {
   "cell_type": "code",
   "execution_count": 130,
   "metadata": {},
   "outputs": [],
   "source": [
    "# 1) Removing null data\n",
    "\n",
    "raw_data.dropna(inplace=True)\n",
    "\n",
    "# 2) Removing duplicates\n",
    "\n",
    "raw_data.drop_duplicates(inplace=True)"
   ]
  },
  {
   "cell_type": "markdown",
   "metadata": {},
   "source": [
    "Because there is a categorical variable, the data must be dummy coded. This will be done using using one-hot encoding."
   ]
  },
  {
   "cell_type": "code",
   "execution_count": 131,
   "metadata": {},
   "outputs": [
    {
     "data": {
      "text/plain": [
       "Extracurricular Activities\n",
       "No     4986\n",
       "Yes    4887\n",
       "Name: count, dtype: int64"
      ]
     },
     "execution_count": 131,
     "metadata": {},
     "output_type": "execute_result"
    }
   ],
   "source": [
    "raw_data['Extracurricular Activities'].value_counts()"
   ]
  },
  {
   "cell_type": "code",
   "execution_count": 132,
   "metadata": {},
   "outputs": [
    {
     "data": {
      "text/html": [
       "<div>\n",
       "<style scoped>\n",
       "    .dataframe tbody tr th:only-of-type {\n",
       "        vertical-align: middle;\n",
       "    }\n",
       "\n",
       "    .dataframe tbody tr th {\n",
       "        vertical-align: top;\n",
       "    }\n",
       "\n",
       "    .dataframe thead th {\n",
       "        text-align: right;\n",
       "    }\n",
       "</style>\n",
       "<table border=\"1\" class=\"dataframe\">\n",
       "  <thead>\n",
       "    <tr style=\"text-align: right;\">\n",
       "      <th></th>\n",
       "      <th>Hours Studied</th>\n",
       "      <th>Previous Scores</th>\n",
       "      <th>Sleep Hours</th>\n",
       "      <th>Sample Question Papers Practiced</th>\n",
       "      <th>Performance Index</th>\n",
       "      <th>Extracurricular Activities_No</th>\n",
       "      <th>Extracurricular Activities_Yes</th>\n",
       "    </tr>\n",
       "  </thead>\n",
       "  <tbody>\n",
       "    <tr>\n",
       "      <th>0</th>\n",
       "      <td>7</td>\n",
       "      <td>99</td>\n",
       "      <td>9</td>\n",
       "      <td>1</td>\n",
       "      <td>91.0</td>\n",
       "      <td>0</td>\n",
       "      <td>1</td>\n",
       "    </tr>\n",
       "    <tr>\n",
       "      <th>1</th>\n",
       "      <td>4</td>\n",
       "      <td>82</td>\n",
       "      <td>4</td>\n",
       "      <td>2</td>\n",
       "      <td>65.0</td>\n",
       "      <td>1</td>\n",
       "      <td>0</td>\n",
       "    </tr>\n",
       "    <tr>\n",
       "      <th>2</th>\n",
       "      <td>8</td>\n",
       "      <td>51</td>\n",
       "      <td>7</td>\n",
       "      <td>2</td>\n",
       "      <td>45.0</td>\n",
       "      <td>0</td>\n",
       "      <td>1</td>\n",
       "    </tr>\n",
       "    <tr>\n",
       "      <th>3</th>\n",
       "      <td>5</td>\n",
       "      <td>52</td>\n",
       "      <td>5</td>\n",
       "      <td>2</td>\n",
       "      <td>36.0</td>\n",
       "      <td>0</td>\n",
       "      <td>1</td>\n",
       "    </tr>\n",
       "    <tr>\n",
       "      <th>4</th>\n",
       "      <td>7</td>\n",
       "      <td>75</td>\n",
       "      <td>8</td>\n",
       "      <td>5</td>\n",
       "      <td>66.0</td>\n",
       "      <td>1</td>\n",
       "      <td>0</td>\n",
       "    </tr>\n",
       "  </tbody>\n",
       "</table>\n",
       "</div>"
      ],
      "text/plain": [
       "   Hours Studied  Previous Scores  Sleep Hours  \\\n",
       "0              7               99            9   \n",
       "1              4               82            4   \n",
       "2              8               51            7   \n",
       "3              5               52            5   \n",
       "4              7               75            8   \n",
       "\n",
       "   Sample Question Papers Practiced  Performance Index  \\\n",
       "0                                 1               91.0   \n",
       "1                                 2               65.0   \n",
       "2                                 2               45.0   \n",
       "3                                 2               36.0   \n",
       "4                                 5               66.0   \n",
       "\n",
       "   Extracurricular Activities_No  Extracurricular Activities_Yes  \n",
       "0                              0                               1  \n",
       "1                              1                               0  \n",
       "2                              0                               1  \n",
       "3                              0                               1  \n",
       "4                              1                               0  "
      ]
     },
     "execution_count": 132,
     "metadata": {},
     "output_type": "execute_result"
    }
   ],
   "source": [
    "updated_data = pd.get_dummies(raw_data, columns=['Extracurricular Activities'], dtype=int)\n",
    "updated_data.head()"
   ]
  },
  {
   "cell_type": "markdown",
   "metadata": {},
   "source": [
    "Now, we need to separate the target into its target (dependent) variable, Performance Index, and the predictors (independent variables). For OLS, a column of 1's will be stacked to the left for the intercept."
   ]
  },
  {
   "cell_type": "code",
   "execution_count": 133,
   "metadata": {},
   "outputs": [],
   "source": [
    "# Targeting data\n",
    "\n",
    "y = updated_data['Performance Index']\n",
    "\n",
    "X_extracurricular_yes = updated_data.drop(['Performance Index', 'Extracurricular Activities_No'], axis=1)\n",
    "X_with_intercept_yes = np.column_stack([np.ones(len(X_extracurricular_yes)), X_extracurricular_yes])\n",
    "cols_yes = ['Intercept'] + X_extracurricular_yes.columns.tolist()\n",
    "\n",
    "X_extracurricular_no = updated_data.drop(['Performance Index', 'Extracurricular Activities_Yes'], axis=1)\n",
    "X_with_intercept_no = np.column_stack([np.ones(len(X_extracurricular_no)), X_extracurricular_no])\n",
    "cols_no = ['Intercept'] + X_extracurricular_no.columns.tolist()"
   ]
  },
  {
   "cell_type": "code",
   "execution_count": 154,
   "metadata": {},
   "outputs": [
    {
     "name": "stdout",
     "output_type": "stream",
     "text": [
      "Numpy Method:\n",
      "Computed beta coefficients in 0.003567 seconds\n",
      "Memory usage for parameters of 'yes' variable: 232 bytes\n",
      "Memory usage for 'yes' variable Series: 516 bytes\n",
      "Beta coefficients yes:\n",
      "Intercept                          -34.068915\n",
      "Hours Studied                        2.852729\n",
      "Previous Scores                      1.018319\n",
      "Sleep Hours                          0.480321\n",
      "Sample Question Papers Practiced     0.193910\n",
      "Extracurricular Activities_Yes       0.616693\n",
      "dtype: float64\n",
      "\n",
      "\n",
      "Numpy Method:\n",
      "Computed beta coefficients in 0.000748 seconds\n",
      "Memory usage for parameters of 'no' variable: 232 bytes\n",
      "Memory usage for 'no' variable Series: 515 bytes\n",
      "Beta coefficients no:\n",
      "Intercept                          -33.452221\n",
      "Hours Studied                        2.852729\n",
      "Previous Scores                      1.018319\n",
      "Sleep Hours                          0.480321\n",
      "Sample Question Papers Practiced     0.193910\n",
      "Extracurricular Activities_No       -0.616693\n",
      "dtype: float64\n",
      "\n",
      "\n",
      "Scipy Method:\n",
      "Computed beta coefficients in 0.003065 seconds\n",
      "Memory usage for parameters of 'yes' variable: 232 bytes\n",
      "Memory usage for 'yes' variable Series: 516 bytes\n",
      "Beta coefficients yes:\n",
      "Intercept                          -34.068915\n",
      "Hours Studied                        2.852729\n",
      "Previous Scores                      1.018319\n",
      "Sleep Hours                          0.480321\n",
      "Sample Question Papers Practiced     0.193910\n",
      "Extracurricular Activities_Yes       0.616693\n",
      "dtype: float64\n",
      "\n",
      "\n",
      "Scipy Method:\n",
      "Computed beta coefficients in 0.002036 seconds\n",
      "Memory usage for parameters of 'no' variable: 232 bytes\n",
      "Memory usage for 'no' variable Series: 515 bytes\n",
      "Beta coefficients no:\n",
      "Intercept                          -33.452221\n",
      "Hours Studied                        2.852729\n",
      "Previous Scores                      1.018319\n",
      "Sleep Hours                          0.480321\n",
      "Sample Question Papers Practiced     0.193910\n",
      "Extracurricular Activities_No       -0.616693\n",
      "dtype: float64\n",
      "\n",
      "\n"
     ]
    }
   ],
   "source": [
    "class LinearRegression:\n",
    "    def __init__(self, features_yes, features_no, label, cols_yes, cols_no):\n",
    "        self.features_yes = features_yes\n",
    "        self.features_no = features_no\n",
    "        self.label = label\n",
    "        self.cols_yes = cols_yes\n",
    "        self.cols_no = cols_no\n",
    "        \n",
    "    def _compute_parameters(self, features, key, cols, method='numpy'):\n",
    "        start_time = time.time()\n",
    "        \n",
    "        # Choose computation method\n",
    "        if method == 'numpy':\n",
    "            beta_encoding = np.linalg.inv(features.T @ features) @ features.T @ self.label\n",
    "        elif method == 'scipy':\n",
    "            beta_encoding = pinv(features.T @ features) @ features.T @ self.label\n",
    "            \n",
    "        beta_series = pd.Series(data=beta_encoding, index=cols)\n",
    "        elapsed_time = time.time() - start_time\n",
    "        \n",
    "        # Memory measurements\n",
    "        beta_memory = sys.getsizeof(beta_encodings)\n",
    "        series_memory = sys.getsizeof(beta_series)\n",
    "        \n",
    "        # Display results\n",
    "        print(f\"{method.capitalize()} Method:\")\n",
    "        print(f\"Computed beta coefficients in {elapsed_time:.6f} seconds\")\n",
    "        print(f\"Memory usage for parameters of '{key}' variable: {beta_memory} bytes\")\n",
    "        print(f\"Memory usage for '{key}' variable Series: {series_memory} bytes\")\n",
    "        print(f\"Beta coefficients {key}:\")\n",
    "        print(beta_series)\n",
    "        print(\"\\n\")\n",
    "        \n",
    "        return beta_series\n",
    "    \n",
    "    def fit_numpy(self):\n",
    "        \"\"\"Compute parameters using NumPy method\"\"\"\n",
    "        self.numpy_yes = self._compute_parameters(self.features_yes, 'yes', self.cols_yes, 'numpy')\n",
    "        self.numpy_no = self._compute_parameters(self.features_no, 'no', self.cols_no, 'numpy')\n",
    "        return self.numpy_yes, self.numpy_no\n",
    "    \n",
    "    def fit_scipy(self):\n",
    "        \"\"\"Compute parameters using SciPy method\"\"\"\n",
    "        self.scipy_yes = self._compute_parameters(self.features_yes, 'yes', self.cols_yes, 'scipy')\n",
    "        self.scipy_no = self._compute_parameters(self.features_no, 'no', self.cols_no, 'scipy')\n",
    "        return self.scipy_yes, self.scipy_no\n",
    "\n",
    "# Usage\n",
    "model = LinearRegression(X_with_intercept_yes, X_with_intercept_no, y, cols_yes, cols_no)\n",
    "\n",
    "# Compute using both methods\n",
    "numpy_yes, numpy_no = model.fit_numpy()\n",
    "scipy_yes, scipy_no = model.fit_scipy()"
   ]
  },
  {
   "cell_type": "code",
   "execution_count": 155,
   "metadata": {},
   "outputs": [
    {
     "name": "stdout",
     "output_type": "stream",
     "text": [
      "Numpy Method:\n",
      "Computed beta coefficients in 0.002621 seconds\n",
      "Memory usage for parameters of 'yes' variable: 232 bytes\n",
      "Memory usage for 'yes' variable Series: 516 bytes\n",
      "Beta coefficients yes:\n",
      "Intercept                          -34.068915\n",
      "Hours Studied                        2.852729\n",
      "Previous Scores                      1.018319\n",
      "Sleep Hours                          0.480321\n",
      "Sample Question Papers Practiced     0.193910\n",
      "Extracurricular Activities_Yes       0.616693\n",
      "dtype: float64\n",
      "\n",
      "\n",
      "Numpy Method:\n",
      "Computed beta coefficients in 0.000535 seconds\n",
      "Memory usage for parameters of 'no' variable: 232 bytes\n",
      "Memory usage for 'no' variable Series: 515 bytes\n",
      "Beta coefficients no:\n",
      "Intercept                          -33.452221\n",
      "Hours Studied                        2.852729\n",
      "Previous Scores                      1.018319\n",
      "Sleep Hours                          0.480321\n",
      "Sample Question Papers Practiced     0.193910\n",
      "Extracurricular Activities_No       -0.616693\n",
      "dtype: float64\n",
      "\n",
      "\n",
      "Scipy Method:\n",
      "Computed beta coefficients in 0.001841 seconds\n",
      "Memory usage for parameters of 'yes' variable: 232 bytes\n",
      "Memory usage for 'yes' variable Series: 516 bytes\n",
      "Beta coefficients yes:\n",
      "Intercept                          -34.068915\n",
      "Hours Studied                        2.852729\n",
      "Previous Scores                      1.018319\n",
      "Sleep Hours                          0.480321\n",
      "Sample Question Papers Practiced     0.193910\n",
      "Extracurricular Activities_Yes       0.616693\n",
      "dtype: float64\n",
      "\n",
      "\n",
      "Scipy Method:\n",
      "Computed beta coefficients in 0.001150 seconds\n",
      "Memory usage for parameters of 'no' variable: 232 bytes\n",
      "Memory usage for 'no' variable Series: 515 bytes\n",
      "Beta coefficients no:\n",
      "Intercept                          -33.452221\n",
      "Hours Studied                        2.852729\n",
      "Previous Scores                      1.018319\n",
      "Sleep Hours                          0.480321\n",
      "Sample Question Papers Practiced     0.193910\n",
      "Extracurricular Activities_No       -0.616693\n",
      "dtype: float64\n",
      "\n",
      "\n",
      "Statsmodels Method (yes):\n",
      "Computed beta coefficients in 0.012596 seconds\n",
      "Memory usage for: 48 bytes\n",
      "\n",
      "Model Summary:\n",
      "                            OLS Regression Results                            \n",
      "==============================================================================\n",
      "Dep. Variable:      Performance Index   R-squared:                       0.989\n",
      "Model:                            OLS   Adj. R-squared:                  0.989\n",
      "Method:                 Least Squares   F-statistic:                 1.724e+05\n",
      "Date:                Wed, 18 Dec 2024   Prob (F-statistic):               0.00\n",
      "Time:                        18:21:41   Log-Likelihood:                -21065.\n",
      "No. Observations:                9873   AIC:                         4.214e+04\n",
      "Df Residuals:                    9867   BIC:                         4.219e+04\n",
      "Df Model:                           5                                         \n",
      "Covariance Type:            nonrobust                                         \n",
      "==============================================================================\n",
      "                 coef    std err          t      P>|t|      [0.025      0.975]\n",
      "------------------------------------------------------------------------------\n",
      "const        -34.0689      0.128   -265.875      0.000     -34.320     -33.818\n",
      "x1             2.8527      0.008    358.940      0.000       2.837       2.868\n",
      "x2             1.0183      0.001    857.427      0.000       1.016       1.021\n",
      "x3             0.4803      0.012     39.623      0.000       0.457       0.504\n",
      "x4             0.1939      0.007     27.017      0.000       0.180       0.208\n",
      "x5             0.6167      0.041     14.981      0.000       0.536       0.697\n",
      "==============================================================================\n",
      "Omnibus:                        3.123   Durbin-Watson:                   2.003\n",
      "Prob(Omnibus):                  0.210   Jarque-Bera (JB):                3.224\n",
      "Skew:                           0.014   Prob(JB):                        0.200\n",
      "Kurtosis:                       3.084   Cond. No.                         451.\n",
      "==============================================================================\n",
      "\n",
      "Notes:\n",
      "[1] Standard Errors assume that the covariance matrix of the errors is correctly specified.\n",
      "\n",
      "\n",
      "Statsmodels Method (no):\n",
      "Computed beta coefficients in 0.008664 seconds\n",
      "Memory usage for: 48 bytes\n",
      "\n",
      "Model Summary:\n",
      "                            OLS Regression Results                            \n",
      "==============================================================================\n",
      "Dep. Variable:      Performance Index   R-squared:                       0.989\n",
      "Model:                            OLS   Adj. R-squared:                  0.989\n",
      "Method:                 Least Squares   F-statistic:                 1.724e+05\n",
      "Date:                Wed, 18 Dec 2024   Prob (F-statistic):               0.00\n",
      "Time:                        18:21:41   Log-Likelihood:                -21065.\n",
      "No. Observations:                9873   AIC:                         4.214e+04\n",
      "Df Residuals:                    9867   BIC:                         4.219e+04\n",
      "Df Model:                           5                                         \n",
      "Covariance Type:            nonrobust                                         \n",
      "==============================================================================\n",
      "                 coef    std err          t      P>|t|      [0.025      0.975]\n",
      "------------------------------------------------------------------------------\n",
      "const        -33.4522      0.128   -261.236      0.000     -33.703     -33.201\n",
      "x1             2.8527      0.008    358.940      0.000       2.837       2.868\n",
      "x2             1.0183      0.001    857.427      0.000       1.016       1.021\n",
      "x3             0.4803      0.012     39.623      0.000       0.457       0.504\n",
      "x4             0.1939      0.007     27.017      0.000       0.180       0.208\n",
      "x5            -0.6167      0.041    -14.981      0.000      -0.697      -0.536\n",
      "==============================================================================\n",
      "Omnibus:                        3.123   Durbin-Watson:                   2.003\n",
      "Prob(Omnibus):                  0.210   Jarque-Bera (JB):                3.224\n",
      "Skew:                           0.014   Prob(JB):                        0.200\n",
      "Kurtosis:                       3.084   Cond. No.                         451.\n",
      "==============================================================================\n",
      "\n",
      "Notes:\n",
      "[1] Standard Errors assume that the covariance matrix of the errors is correctly specified.\n",
      "\n",
      "\n"
     ]
    }
   ],
   "source": [
    "class LinearRegression:\n",
    "   def __init__(self, features_yes, features_no, label, cols_yes, cols_no):\n",
    "       self.features_yes = features_yes \n",
    "       self.features_no = features_no\n",
    "       self.label = label\n",
    "       self.cols_yes = cols_yes\n",
    "       self.cols_no = cols_no\n",
    "       \n",
    "   def _compute_parameters(self, features, key, cols, method='numpy'):\n",
    "       start_time = time.time()\n",
    "       \n",
    "       # Choose computation method\n",
    "       if method == 'numpy':\n",
    "           beta_encoding = np.linalg.inv(features.T @ features) @ features.T @ self.label\n",
    "       elif method == 'scipy':\n",
    "           beta_encoding = pinv(features.T @ features) @ features.T @ self.label\n",
    "           \n",
    "       beta_series = pd.Series(data=beta_encoding, index=cols)\n",
    "       elapsed_time = time.time() - start_time\n",
    "       \n",
    "       # Memory measurements\n",
    "       beta_memory = sys.getsizeof(beta_encodings)\n",
    "       series_memory = sys.getsizeof(beta_series)\n",
    "       \n",
    "       # Display results\n",
    "       print(f\"{method.capitalize()} Method:\")\n",
    "       print(f\"Computed beta coefficients in {elapsed_time:.6f} seconds\")\n",
    "       print(f\"Memory usage for parameters of '{key}' variable: {beta_memory} bytes\")\n",
    "       print(f\"Memory usage for '{key}' variable Series: {series_memory} bytes\")\n",
    "       print(f\"Beta coefficients {key}:\")\n",
    "       print(beta_series)\n",
    "       print(\"\\n\")\n",
    "       \n",
    "       return beta_series\n",
    "   \n",
    "   def fit_numpy(self):\n",
    "       \"\"\"Compute parameters using NumPy method\"\"\"\n",
    "       self.numpy_yes = self._compute_parameters(self.features_yes, 'yes', self.cols_yes, 'numpy')\n",
    "       self.numpy_no = self._compute_parameters(self.features_no, 'no', self.cols_no, 'numpy')\n",
    "       return self.numpy_yes, self.numpy_no\n",
    "   \n",
    "   def fit_scipy(self):\n",
    "       \"\"\"Compute parameters using SciPy method\"\"\"\n",
    "       self.scipy_yes = self._compute_parameters(self.features_yes, 'yes', self.cols_yes, 'scipy')\n",
    "       self.scipy_no = self._compute_parameters(self.features_no, 'no', self.cols_no, 'scipy')\n",
    "       return self.scipy_yes, self.scipy_no\n",
    "   \n",
    "   def fit_statsmodels(self, features, key):\n",
    "       \"\"\"Compute parameters using statsmodels\"\"\"\n",
    "       start_time = time.time()\n",
    "       \n",
    "       X_constant = sm.add_constant(features)\n",
    "       model = sm.OLS(self.label, X_constant).fit()\n",
    "       summary = model.summary()\n",
    "       \n",
    "       elapsed_time = time.time() - start_time\n",
    "       \n",
    "       # Display results\n",
    "       print(f\"Statsmodels Method ({key}):\")\n",
    "       print(f\"Computed beta coefficients in {elapsed_time:.6f} seconds\")\n",
    "       print(f\"Memory usage for: {sys.getsizeof(model)} bytes\")\n",
    "       print(\"\\nModel Summary:\")\n",
    "       print(summary)\n",
    "       print(\"\\n\")\n",
    "       \n",
    "       return model, summary\n",
    "       \n",
    "   def fit_all_statsmodels(self):\n",
    "       \"\"\"Compute statsmodels for both yes and no cases\"\"\"\n",
    "       self.statsmodels_yes_model, self.statsmodels_yes_summary = self.fit_statsmodels(self.features_yes, 'yes')\n",
    "       self.statsmodels_no_model, self.statsmodels_no_summary = self.fit_statsmodels(self.features_no, 'no')\n",
    "       return (self.statsmodels_yes_model, self.statsmodels_yes_summary), (self.statsmodels_no_model, self.statsmodels_no_summary)\n",
    "\n",
    "# Usage\n",
    "model = LinearRegression(X_with_intercept_yes, X_with_intercept_no, y, cols_yes, cols_no)\n",
    "\n",
    "# Compute using all methods\n",
    "numpy_yes, numpy_no = model.fit_numpy()\n",
    "scipy_yes, scipy_no = model.fit_scipy()\n",
    "(statsmodels_yes_model, statsmodels_yes_summary), (statsmodels_no_model, statsmodels_no_summary) = model.fit_all_statsmodels()"
   ]
  },
  {
   "cell_type": "code",
   "execution_count": 134,
   "metadata": {},
   "outputs": [
    {
     "name": "stdout",
     "output_type": "stream",
     "text": [
      "[[ 1.  7. 99.  9.  1.  1.]\n",
      " [ 1.  4. 82.  4.  2.  0.]\n",
      " [ 1.  8. 51.  7.  2.  1.]\n",
      " ...\n",
      " [ 1.  6. 83.  8.  5.  1.]\n",
      " [ 1.  9. 97.  7.  0.  1.]\n",
      " [ 1.  7. 74.  8.  1.  0.]]\n"
     ]
    }
   ],
   "source": [
    "print(X_with_intercept_yes)"
   ]
  },
  {
   "cell_type": "markdown",
   "metadata": {},
   "source": [
    "### Visualizing the Data"
   ]
  },
  {
   "cell_type": "markdown",
   "metadata": {},
   "source": [
    "What do know about the students?"
   ]
  },
  {
   "cell_type": "code",
   "execution_count": 98,
   "metadata": {},
   "outputs": [
    {
     "data": {
      "text/html": [
       "<div>\n",
       "<style scoped>\n",
       "    .dataframe tbody tr th:only-of-type {\n",
       "        vertical-align: middle;\n",
       "    }\n",
       "\n",
       "    .dataframe tbody tr th {\n",
       "        vertical-align: top;\n",
       "    }\n",
       "\n",
       "    .dataframe thead th {\n",
       "        text-align: right;\n",
       "    }\n",
       "</style>\n",
       "<table border=\"1\" class=\"dataframe\">\n",
       "  <thead>\n",
       "    <tr style=\"text-align: right;\">\n",
       "      <th></th>\n",
       "      <th>Hours Studied</th>\n",
       "      <th>Previous Scores</th>\n",
       "      <th>Sleep Hours</th>\n",
       "      <th>Sample Question Papers Practiced</th>\n",
       "      <th>Performance Index</th>\n",
       "      <th>Extracurricular Activities_No</th>\n",
       "      <th>Extracurricular Activities_Yes</th>\n",
       "    </tr>\n",
       "  </thead>\n",
       "  <tbody>\n",
       "    <tr>\n",
       "      <th>count</th>\n",
       "      <td>9873.000000</td>\n",
       "      <td>9873.000000</td>\n",
       "      <td>9873.000000</td>\n",
       "      <td>9873.000000</td>\n",
       "      <td>9873.000000</td>\n",
       "      <td>9873.000000</td>\n",
       "      <td>9873.000000</td>\n",
       "    </tr>\n",
       "    <tr>\n",
       "      <th>mean</th>\n",
       "      <td>4.992100</td>\n",
       "      <td>69.441102</td>\n",
       "      <td>6.531652</td>\n",
       "      <td>4.583004</td>\n",
       "      <td>55.216651</td>\n",
       "      <td>0.505014</td>\n",
       "      <td>0.494986</td>\n",
       "    </tr>\n",
       "    <tr>\n",
       "      <th>std</th>\n",
       "      <td>2.589081</td>\n",
       "      <td>17.325601</td>\n",
       "      <td>1.697683</td>\n",
       "      <td>2.867202</td>\n",
       "      <td>19.208570</td>\n",
       "      <td>0.500000</td>\n",
       "      <td>0.500000</td>\n",
       "    </tr>\n",
       "    <tr>\n",
       "      <th>min</th>\n",
       "      <td>1.000000</td>\n",
       "      <td>40.000000</td>\n",
       "      <td>4.000000</td>\n",
       "      <td>0.000000</td>\n",
       "      <td>10.000000</td>\n",
       "      <td>0.000000</td>\n",
       "      <td>0.000000</td>\n",
       "    </tr>\n",
       "    <tr>\n",
       "      <th>25%</th>\n",
       "      <td>3.000000</td>\n",
       "      <td>54.000000</td>\n",
       "      <td>5.000000</td>\n",
       "      <td>2.000000</td>\n",
       "      <td>40.000000</td>\n",
       "      <td>0.000000</td>\n",
       "      <td>0.000000</td>\n",
       "    </tr>\n",
       "    <tr>\n",
       "      <th>50%</th>\n",
       "      <td>5.000000</td>\n",
       "      <td>69.000000</td>\n",
       "      <td>7.000000</td>\n",
       "      <td>5.000000</td>\n",
       "      <td>55.000000</td>\n",
       "      <td>1.000000</td>\n",
       "      <td>0.000000</td>\n",
       "    </tr>\n",
       "    <tr>\n",
       "      <th>75%</th>\n",
       "      <td>7.000000</td>\n",
       "      <td>85.000000</td>\n",
       "      <td>8.000000</td>\n",
       "      <td>7.000000</td>\n",
       "      <td>70.000000</td>\n",
       "      <td>1.000000</td>\n",
       "      <td>1.000000</td>\n",
       "    </tr>\n",
       "    <tr>\n",
       "      <th>max</th>\n",
       "      <td>9.000000</td>\n",
       "      <td>99.000000</td>\n",
       "      <td>9.000000</td>\n",
       "      <td>9.000000</td>\n",
       "      <td>100.000000</td>\n",
       "      <td>1.000000</td>\n",
       "      <td>1.000000</td>\n",
       "    </tr>\n",
       "  </tbody>\n",
       "</table>\n",
       "</div>"
      ],
      "text/plain": [
       "       Hours Studied  Previous Scores  Sleep Hours  \\\n",
       "count    9873.000000      9873.000000  9873.000000   \n",
       "mean        4.992100        69.441102     6.531652   \n",
       "std         2.589081        17.325601     1.697683   \n",
       "min         1.000000        40.000000     4.000000   \n",
       "25%         3.000000        54.000000     5.000000   \n",
       "50%         5.000000        69.000000     7.000000   \n",
       "75%         7.000000        85.000000     8.000000   \n",
       "max         9.000000        99.000000     9.000000   \n",
       "\n",
       "       Sample Question Papers Practiced  Performance Index  \\\n",
       "count                       9873.000000        9873.000000   \n",
       "mean                           4.583004          55.216651   \n",
       "std                            2.867202          19.208570   \n",
       "min                            0.000000          10.000000   \n",
       "25%                            2.000000          40.000000   \n",
       "50%                            5.000000          55.000000   \n",
       "75%                            7.000000          70.000000   \n",
       "max                            9.000000         100.000000   \n",
       "\n",
       "       Extracurricular Activities_No  Extracurricular Activities_Yes  \n",
       "count                    9873.000000                     9873.000000  \n",
       "mean                        0.505014                        0.494986  \n",
       "std                         0.500000                        0.500000  \n",
       "min                         0.000000                        0.000000  \n",
       "25%                         0.000000                        0.000000  \n",
       "50%                         1.000000                        0.000000  \n",
       "75%                         1.000000                        1.000000  \n",
       "max                         1.000000                        1.000000  "
      ]
     },
     "execution_count": 98,
     "metadata": {},
     "output_type": "execute_result"
    }
   ],
   "source": [
    "updated_data.describe()"
   ]
  },
  {
   "cell_type": "code",
   "execution_count": 99,
   "metadata": {},
   "outputs": [
    {
     "data": {
      "image/png": "[encoded data removed]",
      "text/plain": [
       "<Figure size 640x480 with 1 Axes>"
      ]
     },
     "metadata": {},
     "output_type": "display_data"
    }
   ],
   "source": [
    "sns.histplot(x='Performance Index', data=updated_data, kde=True)\n",
    "plt.xlabel('Performance Index', fontsize=12)\n",
    "plt.ylabel('Count of Students', fontsize=12)\n",
    "plt.title('Distribution of Performance Index', fontsize=14)\n",
    "plt.tight_layout()\n",
    "plt.show()"
   ]
  },
  {
   "cell_type": "code",
   "execution_count": 100,
   "metadata": {},
   "outputs": [
    {
     "data": {
      "text/plain": [
       "array([[1., 1., 1., 1., 1., 1., 1.],\n",
       "       [0., 1., 1., 1., 1., 1., 1.],\n",
       "       [0., 0., 1., 1., 1., 1., 1.],\n",
       "       [0., 0., 0., 1., 1., 1., 1.],\n",
       "       [0., 0., 0., 0., 1., 1., 1.],\n",
       "       [0., 0., 0., 0., 0., 1., 1.],\n",
       "       [0., 0., 0., 0., 0., 0., 1.]])"
      ]
     },
     "execution_count": 100,
     "metadata": {},
     "output_type": "execute_result"
    }
   ],
   "source": [
    "mask = np.zeros_like(updated_data.corr())\n",
    "upper_triangle = np.triu_indices_from(mask)\n",
    "mask[upper_triangle] = True\n",
    "mask"
   ]
  },
  {
   "cell_type": "code",
   "execution_count": 101,
   "metadata": {},
   "outputs": [
    {
     "data": {
      "image/png": "[encoded data removed]",
      "text/plain": [
       "<Figure size 1200x800 with 2 Axes>"
      ]
     },
     "metadata": {},
     "output_type": "display_data"
    }
   ],
   "source": [
    "plt.figure(figsize=(12, 8))\n",
    "\n",
    "sns.heatmap(updated_data.corr(), mask=mask, annot=True).set(title='Heatmap of Housing Correlations')\n",
    "sns.set_style('white')\n",
    "plt.show()"
   ]
  },
  {
   "cell_type": "code",
   "execution_count": 102,
   "metadata": {},
   "outputs": [
    {
     "data": {
      "image/png": "[encoded data removed]",
      "text/plain": [
       "<Figure size 1600x800 with 1 Axes>"
      ]
     },
     "metadata": {},
     "output_type": "display_data"
    },
    {
     "name": "stdout",
     "output_type": "stream",
     "text": [
      "Performance Category Thresholds:\n",
      "Q1 (25th percentile): 40.00\n",
      "Median (50th percentile): 55.00\n",
      "Q3 (75th percentile): 70.00\n",
      "\n",
      "Performance Category Distribution:\n",
      "Performance Category\n",
      "Low              2530\n",
      "High             2468\n",
      "Below Average    2446\n",
      "Above Average    2429\n",
      "Name: count, dtype: int64\n",
      "\n",
      "Percentage Distribution:\n",
      "Performance Category\n",
      "Low              25.625443\n",
      "High             24.997468\n",
      "Below Average    24.774638\n",
      "Above Average    24.602451\n",
      "Name: proportion, dtype: float64\n"
     ]
    }
   ],
   "source": [
    "# Calculate quartiles for more meaningful categorization\n",
    "q1 = updated_data['Performance Index'].quantile(0.25)\n",
    "q2 = updated_data['Performance Index'].quantile(0.5)  # Median\n",
    "q3 = updated_data['Performance Index'].quantile(0.75)\n",
    "\n",
    "# Create Performance Category column with more granular categories\n",
    "def categorize_performance(performance):\n",
    "    if performance <= q1:\n",
    "        return 'Low'\n",
    "    elif performance <= q2:\n",
    "        return 'Below Average'\n",
    "    elif performance <= q3:\n",
    "        return 'Above Average'\n",
    "    else:\n",
    "        return 'High'\n",
    "\n",
    "updated_data['Performance Category'] = updated_data['Performance Index'].apply(categorize_performance)\n",
    "\n",
    "# Create the plot\n",
    "plt.figure(figsize=(16, 8))\n",
    "sns.countplot(\n",
    "    data=updated_data,\n",
    "    x='Hours Studied',\n",
    "    hue='Performance Category',\n",
    "    palette='viridis',\n",
    "    order=sorted(updated_data['Hours Studied'].unique())\n",
    ")\n",
    "\n",
    "# Customize plot\n",
    "plt.xlabel('Hours Studied', fontsize=12)\n",
    "plt.ylabel('Number of Students', fontsize=12)\n",
    "plt.title('Performance Categories by Hours Studied', fontsize=14)\n",
    "plt.legend(title='Performance Category', bbox_to_anchor=(1.05, 1), loc='upper left')\n",
    "plt.grid(axis='y', linestyle='--', alpha=0.7)\n",
    "\n",
    "# Rotate x-axis labels if needed\n",
    "plt.xticks(rotation=45)\n",
    "\n",
    "# Add value annotations on top of each bar\n",
    "for container in plt.gca().containers:\n",
    "    plt.gca().bar_label(container)\n",
    "\n",
    "# Adjust layout to prevent cutting off labels\n",
    "plt.tight_layout()\n",
    "\n",
    "# Show the plot\n",
    "plt.show()\n",
    "\n",
    "# Print detailed information\n",
    "print(\"Performance Category Thresholds:\")\n",
    "print(f\"Q1 (25th percentile): {q1:.2f}\")\n",
    "print(f\"Median (50th percentile): {q2:.2f}\")\n",
    "print(f\"Q3 (75th percentile): {q3:.2f}\")\n",
    "print(\"\\nPerformance Category Distribution:\")\n",
    "print(updated_data['Performance Category'].value_counts())\n",
    "print(\"\\nPercentage Distribution:\")\n",
    "print(updated_data['Performance Category'].value_counts(normalize=True) * 100)"
   ]
  },
  {
   "cell_type": "markdown",
   "metadata": {},
   "source": [
    "## 4) Findings/Results: Analysis Using OLS & GD "
   ]
  },
  {
   "cell_type": "markdown",
   "metadata": {},
   "source": [
    "Let's track the coefficients of each algorithm so that we can compare them."
   ]
  },
  {
   "cell_type": "code",
   "execution_count": 103,
   "metadata": {},
   "outputs": [],
   "source": [
    "comparison_extracurricular_yes = pd.DataFrame()\n",
    "comparison_extracurricular_yes.attrs['title'] = 'Comparison of Extracurricular - Yes Activities'\n",
    "\n",
    "comparison_extracurricular_no = pd.DataFrame()\n",
    "comparison_extracurricular_no.attrs['title'] = 'Comparison of Extracurricular - No Activities'"
   ]
  },
  {
   "cell_type": "code",
   "execution_count": 157,
   "metadata": {},
   "outputs": [
    {
     "name": "stdout",
     "output_type": "stream",
     "text": [
      "Numpy Method:\n",
      "Computed beta coefficients in 0.000964 seconds\n",
      "Memory usage for parameters of 'yes' variable: 232 bytes\n",
      "Memory usage for 'yes' variable Series: 516 bytes\n",
      "Beta coefficients yes:\n",
      "Intercept                          -34.068915\n",
      "Hours Studied                        2.852729\n",
      "Previous Scores                      1.018319\n",
      "Sleep Hours                          0.480321\n",
      "Sample Question Papers Practiced     0.193910\n",
      "Extracurricular Activities_Yes       0.616693\n",
      "dtype: float64\n",
      "\n",
      "\n",
      "Numpy Method:\n",
      "Computed beta coefficients in 0.001311 seconds\n",
      "Memory usage for parameters of 'no' variable: 232 bytes\n",
      "Memory usage for 'no' variable Series: 515 bytes\n",
      "Beta coefficients no:\n",
      "Intercept                          -33.452221\n",
      "Hours Studied                        2.852729\n",
      "Previous Scores                      1.018319\n",
      "Sleep Hours                          0.480321\n",
      "Sample Question Papers Practiced     0.193910\n",
      "Extracurricular Activities_No       -0.616693\n",
      "dtype: float64\n",
      "\n",
      "\n",
      "Scipy Method:\n",
      "Computed beta coefficients in 0.000590 seconds\n",
      "Memory usage for parameters of 'yes' variable: 232 bytes\n",
      "Memory usage for 'yes' variable Series: 516 bytes\n",
      "Beta coefficients yes:\n",
      "Intercept                          -34.068915\n",
      "Hours Studied                        2.852729\n",
      "Previous Scores                      1.018319\n",
      "Sleep Hours                          0.480321\n",
      "Sample Question Papers Practiced     0.193910\n",
      "Extracurricular Activities_Yes       0.616693\n",
      "dtype: float64\n",
      "\n",
      "\n",
      "Scipy Method:\n",
      "Computed beta coefficients in 0.000482 seconds\n",
      "Memory usage for parameters of 'no' variable: 232 bytes\n",
      "Memory usage for 'no' variable Series: 515 bytes\n",
      "Beta coefficients no:\n",
      "Intercept                          -33.452221\n",
      "Hours Studied                        2.852729\n",
      "Previous Scores                      1.018319\n",
      "Sleep Hours                          0.480321\n",
      "Sample Question Papers Practiced     0.193910\n",
      "Extracurricular Activities_No       -0.616693\n",
      "dtype: float64\n",
      "\n",
      "\n",
      "Statsmodels Method (yes):\n",
      "Computed beta coefficients in 0.008285 seconds\n",
      "Memory usage for: 48 bytes\n",
      "\n",
      "Model Summary:\n",
      "                            OLS Regression Results                            \n",
      "==============================================================================\n",
      "Dep. Variable:      Performance Index   R-squared:                       0.989\n",
      "Model:                            OLS   Adj. R-squared:                  0.989\n",
      "Method:                 Least Squares   F-statistic:                 1.724e+05\n",
      "Date:                Wed, 18 Dec 2024   Prob (F-statistic):               0.00\n",
      "Time:                        18:25:06   Log-Likelihood:                -21065.\n",
      "No. Observations:                9873   AIC:                         4.214e+04\n",
      "Df Residuals:                    9867   BIC:                         4.219e+04\n",
      "Df Model:                           5                                         \n",
      "Covariance Type:            nonrobust                                         \n",
      "==============================================================================\n",
      "                 coef    std err          t      P>|t|      [0.025      0.975]\n",
      "------------------------------------------------------------------------------\n",
      "const        -34.0689      0.128   -265.875      0.000     -34.320     -33.818\n",
      "x1             2.8527      0.008    358.940      0.000       2.837       2.868\n",
      "x2             1.0183      0.001    857.427      0.000       1.016       1.021\n",
      "x3             0.4803      0.012     39.623      0.000       0.457       0.504\n",
      "x4             0.1939      0.007     27.017      0.000       0.180       0.208\n",
      "x5             0.6167      0.041     14.981      0.000       0.536       0.697\n",
      "==============================================================================\n",
      "Omnibus:                        3.123   Durbin-Watson:                   2.003\n",
      "Prob(Omnibus):                  0.210   Jarque-Bera (JB):                3.224\n",
      "Skew:                           0.014   Prob(JB):                        0.200\n",
      "Kurtosis:                       3.084   Cond. No.                         451.\n",
      "==============================================================================\n",
      "\n",
      "Notes:\n",
      "[1] Standard Errors assume that the covariance matrix of the errors is correctly specified.\n",
      "\n",
      "\n",
      "Statsmodels Method (no):\n",
      "Computed beta coefficients in 0.007306 seconds\n",
      "Memory usage for: 48 bytes\n",
      "\n",
      "Model Summary:\n",
      "                            OLS Regression Results                            \n",
      "==============================================================================\n",
      "Dep. Variable:      Performance Index   R-squared:                       0.989\n",
      "Model:                            OLS   Adj. R-squared:                  0.989\n",
      "Method:                 Least Squares   F-statistic:                 1.724e+05\n",
      "Date:                Wed, 18 Dec 2024   Prob (F-statistic):               0.00\n",
      "Time:                        18:25:06   Log-Likelihood:                -21065.\n",
      "No. Observations:                9873   AIC:                         4.214e+04\n",
      "Df Residuals:                    9867   BIC:                         4.219e+04\n",
      "Df Model:                           5                                         \n",
      "Covariance Type:            nonrobust                                         \n",
      "==============================================================================\n",
      "                 coef    std err          t      P>|t|      [0.025      0.975]\n",
      "------------------------------------------------------------------------------\n",
      "const        -33.4522      0.128   -261.236      0.000     -33.703     -33.201\n",
      "x1             2.8527      0.008    358.940      0.000       2.837       2.868\n",
      "x2             1.0183      0.001    857.427      0.000       1.016       1.021\n",
      "x3             0.4803      0.012     39.623      0.000       0.457       0.504\n",
      "x4             0.1939      0.007     27.017      0.000       0.180       0.208\n",
      "x5            -0.6167      0.041    -14.981      0.000      -0.697      -0.536\n",
      "==============================================================================\n",
      "Omnibus:                        3.123   Durbin-Watson:                   2.003\n",
      "Prob(Omnibus):                  0.210   Jarque-Bera (JB):                3.224\n",
      "Skew:                           0.014   Prob(JB):                        0.200\n",
      "Kurtosis:                       3.084   Cond. No.                         451.\n",
      "==============================================================================\n",
      "\n",
      "Notes:\n",
      "[1] Standard Errors assume that the covariance matrix of the errors is correctly specified.\n",
      "\n",
      "\n",
      "Comparison of Extracurricular - Yes Activities\n",
      "                                      NumPy      SciPy  StatsModels\n",
      "Intercept                        -34.068915 -34.068915   -34.068915\n",
      "Hours Studied                      2.852729   2.852729     2.852729\n",
      "Previous Scores                    1.018319   1.018319     1.018319\n",
      "Sleep Hours                        0.480321   0.480321     0.480321\n",
      "Sample Question Papers Practiced   0.193910   0.193910     0.193910\n",
      "Extracurricular Activities_Yes     0.616693   0.616693     0.616693\n",
      "\n",
      "\n",
      "Comparison of Extracurricular - No Activities\n",
      "                                      NumPy      SciPy  StatsModels\n",
      "Intercept                        -33.452221 -33.452221   -33.452221\n",
      "Hours Studied                      2.852729   2.852729     2.852729\n",
      "Previous Scores                    1.018319   1.018319     1.018319\n",
      "Sleep Hours                        0.480321   0.480321     0.480321\n",
      "Sample Question Papers Practiced   0.193910   0.193910     0.193910\n",
      "Extracurricular Activities_No     -0.616693  -0.616693    -0.616693\n"
     ]
    }
   ],
   "source": [
    "class LinearRegression:\n",
    "   def __init__(self, features_yes, features_no, label, cols_yes, cols_no):\n",
    "       self.features_yes = features_yes \n",
    "       self.features_no = features_no\n",
    "       self.label = label\n",
    "       self.cols_yes = cols_yes\n",
    "       self.cols_no = cols_no\n",
    "       \n",
    "       # Initialize comparison DataFrames\n",
    "       self.comparison_yes = pd.DataFrame()\n",
    "       self.comparison_yes.attrs['title'] = 'Comparison of Extracurricular - Yes Activities'\n",
    "       \n",
    "       self.comparison_no = pd.DataFrame()\n",
    "       self.comparison_no.attrs['title'] = 'Comparison of Extracurricular - No Activities'\n",
    "       \n",
    "   def _compute_parameters(self, features, key, cols, method='numpy'):\n",
    "       start_time = time.time()\n",
    "       \n",
    "       # Choose computation method\n",
    "       if method == 'numpy':\n",
    "           beta_encoding = np.linalg.inv(features.T @ features) @ features.T @ self.label\n",
    "       elif method == 'scipy':\n",
    "           beta_encoding = pinv(features.T @ features) @ features.T @ self.label\n",
    "           \n",
    "       beta_series = pd.Series(data=beta_encoding, index=cols)\n",
    "       elapsed_time = time.time() - start_time\n",
    "       \n",
    "       # Memory measurements\n",
    "       beta_memory = sys.getsizeof(beta_encodings)\n",
    "       series_memory = sys.getsizeof(beta_series)\n",
    "       \n",
    "       # Display results\n",
    "       print(f\"{method.capitalize()} Method:\")\n",
    "       print(f\"Computed beta coefficients in {elapsed_time:.6f} seconds\")\n",
    "       print(f\"Memory usage for parameters of '{key}' variable: {beta_memory} bytes\")\n",
    "       print(f\"Memory usage for '{key}' variable Series: {series_memory} bytes\")\n",
    "       print(f\"Beta coefficients {key}:\")\n",
    "       print(beta_series)\n",
    "       print(\"\\n\")\n",
    "       \n",
    "       return beta_series\n",
    "   \n",
    "   def fit_numpy(self):\n",
    "       \"\"\"Compute parameters using NumPy method\"\"\"\n",
    "       self.numpy_yes = self._compute_parameters(self.features_yes, 'yes', self.cols_yes, 'numpy')\n",
    "       self.numpy_no = self._compute_parameters(self.features_no, 'no', self.cols_no, 'numpy')\n",
    "       return self.numpy_yes, self.numpy_no\n",
    "   \n",
    "   def fit_scipy(self):\n",
    "       \"\"\"Compute parameters using SciPy method\"\"\"\n",
    "       self.scipy_yes = self._compute_parameters(self.features_yes, 'yes', self.cols_yes, 'scipy')\n",
    "       self.scipy_no = self._compute_parameters(self.features_no, 'no', self.cols_no, 'scipy')\n",
    "       return self.scipy_yes, self.scipy_no\n",
    "   \n",
    "   def fit_statsmodels(self, features, key):\n",
    "       \"\"\"Compute parameters using statsmodels\"\"\"\n",
    "       start_time = time.time()\n",
    "       \n",
    "       X_constant = sm.add_constant(features)\n",
    "       model = sm.OLS(self.label, X_constant).fit()\n",
    "       summary = model.summary()\n",
    "       \n",
    "       elapsed_time = time.time() - start_time\n",
    "       \n",
    "       # Display results\n",
    "       print(f\"Statsmodels Method ({key}):\")\n",
    "       print(f\"Computed beta coefficients in {elapsed_time:.6f} seconds\")\n",
    "       print(f\"Memory usage for: {sys.getsizeof(model)} bytes\")\n",
    "       print(\"\\nModel Summary:\")\n",
    "       print(summary)\n",
    "       print(\"\\n\")\n",
    "       \n",
    "       return model, summary\n",
    "       \n",
    "   def fit_all_statsmodels(self):\n",
    "       \"\"\"Compute statsmodels for both yes and no cases\"\"\"\n",
    "       self.statsmodels_yes_model, self.statsmodels_yes_summary = self.fit_statsmodels(self.features_yes, 'yes')\n",
    "       self.statsmodels_no_model, self.statsmodels_no_summary = self.fit_statsmodels(self.features_no, 'no')\n",
    "       return (self.statsmodels_yes_model, self.statsmodels_yes_summary), (self.statsmodels_no_model, self.statsmodels_no_summary)\n",
    "   \n",
    "   def create_comparison_dataframes(self):\n",
    "       \"\"\"Create comparison DataFrames for yes and no cases\"\"\"\n",
    "       # Fit all models if not already fitted\n",
    "       if not hasattr(self, 'numpy_yes'):\n",
    "           self.fit_numpy()\n",
    "       if not hasattr(self, 'scipy_yes'):\n",
    "           self.fit_scipy()\n",
    "       if not hasattr(self, 'statsmodels_yes_model'):\n",
    "           self.fit_all_statsmodels()\n",
    "           \n",
    "       # Create comparison DataFrame for 'yes' case\n",
    "       self.comparison_yes['NumPy'] = self.numpy_yes\n",
    "       self.comparison_yes['SciPy'] = self.scipy_yes\n",
    "       self.comparison_yes['StatsModels'] = self.statsmodels_yes_model.params.values\n",
    "       \n",
    "       # Create comparison DataFrame for 'no' case\n",
    "       self.comparison_no['NumPy'] = self.numpy_no\n",
    "       self.comparison_no['SciPy'] = self.scipy_no\n",
    "       self.comparison_no['StatsModels'] = self.statsmodels_no_model.params.values\n",
    "       \n",
    "       return self.comparison_yes, self.comparison_no\n",
    "\n",
    "# Usage\n",
    "model = LinearRegression(X_with_intercept_yes, X_with_intercept_no, y, cols_yes, cols_no)\n",
    "\n",
    "# Create comparison DataFrames\n",
    "comparison_yes, comparison_no = model.create_comparison_dataframes()\n",
    "\n",
    "# Display results\n",
    "print(comparison_yes.attrs['title'])\n",
    "print(comparison_yes)\n",
    "print(\"\\n\")\n",
    "print(comparison_no.attrs['title'])\n",
    "print(comparison_no)"
   ]
  },
  {
   "cell_type": "code",
   "execution_count": null,
   "metadata": {},
   "outputs": [],
   "source": []
  },
  {
   "cell_type": "markdown",
   "metadata": {},
   "source": [
    "### Ordinary Least Squares (OLS)\n",
    "\n",
    "We will be using the following equation to derive the parameters for OLS:\n",
    "\n",
    "$$\\boldsymbol{\\hat{β}} = (\\boldsymbol{X}^T\\boldsymbol{X})^{-1}\\boldsymbol{X}^T\\boldsymbol{y}\n",
    "$$"
   ]
  },
  {
   "cell_type": "markdown",
   "metadata": {},
   "source": [
    "NumPy gives us fairly different results than SciPy's."
   ]
  },
  {
   "cell_type": "markdown",
   "metadata": {},
   "source": [
    "##### NumPy's Parameters"
   ]
  },
  {
   "cell_type": "code",
   "execution_count": 139,
   "metadata": {},
   "outputs": [
    {
     "name": "stdout",
     "output_type": "stream",
     "text": [
      "Computed beta coefficients in 0.001183 seconds\n",
      "Memory usage for parameters of \f'yes' variable: 232 bytes\n",
      "Memory usage for \f'yes' variable Series: 516 bytes\n",
      "Beta coefficients yes:\n",
      "Intercept                          -34.068915\n",
      "Hours Studied                        2.852729\n",
      "Previous Scores                      1.018319\n",
      "Sleep Hours                          0.480321\n",
      "Sample Question Papers Practiced     0.193910\n",
      "Extracurricular Activities_Yes       0.616693\n",
      "dtype: float64\n",
      "Computed beta coefficients in 0.000580 seconds\n",
      "Memory usage for parameters of \f'no' variable: 232 bytes\n",
      "Memory usage for \f'no' variable Series: 515 bytes\n",
      "Beta coefficients no:\n",
      "Intercept                          -33.452221\n",
      "Hours Studied                        2.852729\n",
      "Previous Scores                      1.018319\n",
      "Sleep Hours                          0.480321\n",
      "Sample Question Papers Practiced     0.193910\n",
      "Extracurricular Activities_No       -0.616693\n",
      "dtype: float64\n"
     ]
    }
   ],
   "source": [
    "def numpy_parameters(features, label, key, cols):\n",
    "\n",
    "    # Start timing\n",
    "    start_time = time.time()\n",
    "\n",
    "    # Compute beta coefficients and Series for both cases\n",
    "    beta_encoding = np.linalg.inv(features.T @ features) @ features.T @ label\n",
    "    beta_series = pd.Series(data=beta_encoding, index=cols)\n",
    "\n",
    "    elapsed_time = time.time() - start_time\n",
    "\n",
    "    # Measure memory usage (using one example as memory usage should be similar)\n",
    "    beta_memory = sys.getsizeof(beta_encodings)\n",
    "    series_memory = sys.getsizeof(beta_series)\n",
    "\n",
    "    # Display results\n",
    "    print(f\"Computed beta coefficients in {elapsed_time:.6f} seconds\")\n",
    "    print(f\"Memory usage for parameters of \\f'{key}' variable: {beta_memory} bytes\")\n",
    "    print(f\"Memory usage for \\f'{key}' variable Series: {series_memory} bytes\")\n",
    "\n",
    "    # Optionally, display the coefficients for both cases\n",
    "    print(f\"Beta coefficients {key}:\")\n",
    "    print(beta_series)\n",
    "\n",
    "    return beta_series\n",
    "\n",
    "numpy_yes = numpy_parameters(X_with_intercept_yes, y, 'yes', cols_yes)\n",
    "numpy_no = numpy_parameters(X_with_intercept_no, y, 'no', cols_no)"
   ]
  },
  {
   "cell_type": "code",
   "execution_count": 140,
   "metadata": {},
   "outputs": [],
   "source": [
    "# Add NumPy's coefficients\n",
    "\n",
    "comparison_extracurricular_yes['NumPy OLS'] = numpy_yes\n",
    "comparison_extracurricular_no['NumPy OLS'] = numpy_no"
   ]
  },
  {
   "cell_type": "markdown",
   "metadata": {},
   "source": [
    "SciPy's is much closer to statsmodels, though its elapsed time is much higher; the memory usage is the same.\n",
    "\n",
    "While the elapsed time might not seem like much here, a difference nearly twice as large can make a difference with a dataset with millions of data points."
   ]
  },
  {
   "cell_type": "markdown",
   "metadata": {},
   "source": [
    "##### SciPy's Parameters"
   ]
  },
  {
   "cell_type": "code",
   "execution_count": 143,
   "metadata": {},
   "outputs": [
    {
     "name": "stdout",
     "output_type": "stream",
     "text": [
      "Computed beta coefficients in 0.001261 seconds\n",
      "Memory usage for parameters of \f'yes' variable: 232 bytes\n",
      "Memory usage for 'Yes' variable Series: 516 bytes\n",
      "Beta coefficients yes:\n",
      "Intercept                          -34.068915\n",
      "Hours Studied                        2.852729\n",
      "Previous Scores                      1.018319\n",
      "Sleep Hours                          0.480321\n",
      "Sample Question Papers Practiced     0.193910\n",
      "Extracurricular Activities_Yes       0.616693\n",
      "dtype: float64\n",
      "Computed beta coefficients in 0.000640 seconds\n",
      "Memory usage for parameters of \f'no' variable: 232 bytes\n",
      "Memory usage for 'Yes' variable Series: 515 bytes\n",
      "Beta coefficients no:\n",
      "Intercept                          -33.452221\n",
      "Hours Studied                        2.852729\n",
      "Previous Scores                      1.018319\n",
      "Sleep Hours                          0.480321\n",
      "Sample Question Papers Practiced     0.193910\n",
      "Extracurricular Activities_No       -0.616693\n",
      "dtype: float64\n"
     ]
    }
   ],
   "source": [
    "def scipy_parameters(features, label, key, cols):\n",
    "\n",
    "    # Start timing\n",
    "    start_time = time.time()\n",
    "\n",
    "    # Compute beta coefficients and Series for both cases\n",
    "    beta_encoding = pinv(features.T @ features) @ features.T @ label\n",
    "    beta_series = pd.Series(data=beta_encoding, index=cols)\n",
    "\n",
    "    elapsed_time = time.time() - start_time\n",
    "\n",
    "    # Measure memory usage (using one example as memory usage should be similar)\n",
    "    beta_memory_scipy = sys.getsizeof(beta_encodings)\n",
    "    series_memory_scipy = sys.getsizeof(beta_series)\n",
    "\n",
    "    # Display results\n",
    "    print(f\"Computed beta coefficients in {elapsed_time:.6f} seconds\")\n",
    "    print(f\"Memory usage for parameters of \\f'{key}' variable: {beta_memory_scipy} bytes\")\n",
    "    print(f\"Memory usage for \\'Yes' variable Series: {series_memory_scipy} bytes\")\n",
    "\n",
    "    # Optionally, display the coefficients for both cases\n",
    "    print(f\"Beta coefficients {key}:\")\n",
    "    print(beta_series)\n",
    "\n",
    "    return beta_series\n",
    "\n",
    "scipy_yes = scipy_parameters(X_with_intercept_yes, y, 'yes', cols_yes)\n",
    "scipy_no = scipy_parameters(X_with_intercept_no, y, 'no', cols_no)"
   ]
  },
  {
   "cell_type": "code",
   "execution_count": 144,
   "metadata": {},
   "outputs": [],
   "source": [
    "# Add SciPy's coefficients\n",
    "\n",
    "comparison_extracurricular_yes['SciPy OLS'] = scipy_yes\n",
    "comparison_extracurricular_no['SciPy OLS'] = scipy_no"
   ]
  },
  {
   "cell_type": "markdown",
   "metadata": {},
   "source": [
    "What about the $R^2$ and $F$-Test?"
   ]
  },
  {
   "cell_type": "markdown",
   "metadata": {},
   "source": [
    "$R^2$ is calculated by subtracting 1 from residual sum of squares divided by the total sum of squares."
   ]
  },
  {
   "cell_type": "code",
   "execution_count": 147,
   "metadata": {},
   "outputs": [
    {
     "name": "stdout",
     "output_type": "stream",
     "text": [
      "Computed beta coefficients in 0.004462 seconds\n",
      "Memory usage for yes: 32 bytes\n",
      "R^2 statistic: 0.9886813814840943\n",
      "Computed beta coefficients in 0.003127 seconds\n",
      "Memory usage for no: 32 bytes\n",
      "R^2 statistic: 0.9886813814840943\n"
     ]
    }
   ],
   "source": [
    "def r_squared(data, key, beta_param=None):\n",
    "\n",
    "    start_time = time.time()\n",
    "\n",
    "    arr_result = data @ beta_param\n",
    "    y_i = np.array(y)\n",
    "    squared_res = ((y_i - arr_result)**2)\n",
    "    ss_res = sum(squared_res)\n",
    "\n",
    "    y_mean = updated_data['Performance Index'].mean()\n",
    "    y_mean_repeated = np.repeat(y_mean, y_i.shape[0])\n",
    "    squared_tot = ((y_i - y_mean_repeated)**2)\n",
    "    ss_tot = sum(squared_tot)\n",
    "\n",
    "    r_squared = 1 - (ss_res/ss_tot)\n",
    "\n",
    "    elapsed_time = time.time() - start_time\n",
    "\n",
    "    # Display results\n",
    "    print(f\"Computed beta coefficients in {elapsed_time:.6f} seconds\")\n",
    "    print(f\"Memory usage for {key}: {sys.getsizeof(r_squared)} bytes\")\n",
    "\n",
    "    print(\"R^2 statistic:\", r_squared)\n",
    "\n",
    "r_squared(X_with_intercept_yes, 'yes', scipy_yes)\n",
    "r_squared(X_with_intercept_no, 'no', scipy_no)"
   ]
  },
  {
   "cell_type": "markdown",
   "metadata": {},
   "source": [
    "The $F$-Test can be calculated in two ways. We will be using the one requiring the sum of squares rather than $R^2$ in order to *not* rely on another statistic."
   ]
  },
  {
   "cell_type": "code",
   "execution_count": 148,
   "metadata": {},
   "outputs": [
    {
     "name": "stdout",
     "output_type": "stream",
     "text": [
      "F-test statistic: 143632.5245290326\n",
      "Computed beta coefficients in 0.012504 seconds\n",
      "Memory usage for: 32 bytes\n",
      "F-test statistic: 143632.52452892312\n",
      "Computed beta coefficients in 0.004031 seconds\n",
      "Memory usage for: 32 bytes\n"
     ]
    }
   ],
   "source": [
    "def f_test(data, key, beta_param=None):\n",
    "\n",
    "    # Start timing\n",
    "    start_time = time.time()\n",
    "\n",
    "    y_mean = y.mean()\n",
    "    y_pred = np.dot(data, beta_param)\n",
    "    ss_reg = sum((y_pred - y_mean) ** 2)\n",
    "\n",
    "    # Calculate SS_res (unexplained variance)\n",
    "    ss_res = sum((y - y_pred) ** 2)\n",
    "\n",
    "    # Number of predictors (k) and observations (n)\n",
    "    n = len(y)\n",
    "    k = X_with_intercept.shape[1] - 1  # Exclude intercept\n",
    "\n",
    "    # F-statistic calculation\n",
    "    numerator = ss_reg / k\n",
    "    denominator = ss_res / (n - k - 1)\n",
    "    f_test = numerator / denominator\n",
    "\n",
    "    print(\"F-test statistic:\", f_test)\n",
    "\n",
    "    elapsed_time = time.time() - start_time\n",
    "\n",
    "    # Display results\n",
    "    print(f\"Computed beta coefficients in {elapsed_time:.6f} seconds\")\n",
    "    print(f\"Memory usage for: {sys.getsizeof(f_test)} bytes\")\n",
    "\n",
    "f_test(X_with_intercept_yes, 'yes', scipy_yes)\n",
    "f_test(X_with_intercept_no, 'no', scipy_no)"
   ]
  },
  {
   "cell_type": "markdown",
   "metadata": {},
   "source": [
    "How do the results of NumPy and ScIpy compare to those of Statsmodels?"
   ]
  },
  {
   "cell_type": "markdown",
   "metadata": {},
   "source": [
    "#### Statsmodels Parameters"
   ]
  },
  {
   "cell_type": "code",
   "execution_count": 152,
   "metadata": {},
   "outputs": [
    {
     "name": "stdout",
     "output_type": "stream",
     "text": [
      "Computed beta coefficients in 0.023770 seconds\n",
      "Memory usage for: 48 bytes\n",
      "\n",
      "Model Summary:\n",
      "                            OLS Regression Results                            \n",
      "==============================================================================\n",
      "Dep. Variable:      Performance Index   R-squared:                       0.989\n",
      "Model:                            OLS   Adj. R-squared:                  0.989\n",
      "Method:                 Least Squares   F-statistic:                 1.724e+05\n",
      "Date:                Wed, 18 Dec 2024   Prob (F-statistic):               0.00\n",
      "Time:                        17:19:36   Log-Likelihood:                -21065.\n",
      "No. Observations:                9873   AIC:                         4.214e+04\n",
      "Df Residuals:                    9867   BIC:                         4.219e+04\n",
      "Df Model:                           5                                         \n",
      "Covariance Type:            nonrobust                                         \n",
      "====================================================================================================\n",
      "                                       coef    std err          t      P>|t|      [0.025      0.975]\n",
      "----------------------------------------------------------------------------------------------------\n",
      "const                              -34.0689      0.128   -265.875      0.000     -34.320     -33.818\n",
      "Hours Studied                        2.8527      0.008    358.940      0.000       2.837       2.868\n",
      "Previous Scores                      1.0183      0.001    857.427      0.000       1.016       1.021\n",
      "Sleep Hours                          0.4803      0.012     39.623      0.000       0.457       0.504\n",
      "Sample Question Papers Practiced     0.1939      0.007     27.017      0.000       0.180       0.208\n",
      "Extracurricular Activities_Yes       0.6167      0.041     14.981      0.000       0.536       0.697\n",
      "==============================================================================\n",
      "Omnibus:                        3.123   Durbin-Watson:                   2.003\n",
      "Prob(Omnibus):                  0.210   Jarque-Bera (JB):                3.224\n",
      "Skew:                           0.014   Prob(JB):                        0.200\n",
      "Kurtosis:                       3.084   Cond. No.                         451.\n",
      "==============================================================================\n",
      "\n",
      "Notes:\n",
      "[1] Standard Errors assume that the covariance matrix of the errors is correctly specified.\n",
      "Computed beta coefficients in 0.010083 seconds\n",
      "Memory usage for: 48 bytes\n",
      "\n",
      "Model Summary:\n",
      "                            OLS Regression Results                            \n",
      "==============================================================================\n",
      "Dep. Variable:      Performance Index   R-squared:                       0.989\n",
      "Model:                            OLS   Adj. R-squared:                  0.989\n",
      "Method:                 Least Squares   F-statistic:                 1.724e+05\n",
      "Date:                Wed, 18 Dec 2024   Prob (F-statistic):               0.00\n",
      "Time:                        17:19:36   Log-Likelihood:                -21065.\n",
      "No. Observations:                9873   AIC:                         4.214e+04\n",
      "Df Residuals:                    9867   BIC:                         4.219e+04\n",
      "Df Model:                           5                                         \n",
      "Covariance Type:            nonrobust                                         \n",
      "====================================================================================================\n",
      "                                       coef    std err          t      P>|t|      [0.025      0.975]\n",
      "----------------------------------------------------------------------------------------------------\n",
      "const                              -33.4522      0.128   -261.236      0.000     -33.703     -33.201\n",
      "Hours Studied                        2.8527      0.008    358.940      0.000       2.837       2.868\n",
      "Previous Scores                      1.0183      0.001    857.427      0.000       1.016       1.021\n",
      "Sleep Hours                          0.4803      0.012     39.623      0.000       0.457       0.504\n",
      "Sample Question Papers Practiced     0.1939      0.007     27.017      0.000       0.180       0.208\n",
      "Extracurricular Activities_No       -0.6167      0.041    -14.981      0.000      -0.697      -0.536\n",
      "==============================================================================\n",
      "Omnibus:                        3.123   Durbin-Watson:                   2.003\n",
      "Prob(Omnibus):                  0.210   Jarque-Bera (JB):                3.224\n",
      "Skew:                           0.014   Prob(JB):                        0.200\n",
      "Kurtosis:                       3.084   Cond. No.                         451.\n",
      "==============================================================================\n",
      "\n",
      "Notes:\n",
      "[1] Standard Errors assume that the covariance matrix of the errors is correctly specified.\n"
     ]
    }
   ],
   "source": [
    "def statsmodels(features, label):\n",
    "    start_time = time.time()\n",
    "\n",
    "    X_constant = sm.add_constant(features)\n",
    "    model = sm.OLS(label, X_constant).fit()\n",
    "    summary = model.summary()\n",
    "\n",
    "    elapsed_time = time.time() - start_time\n",
    "\n",
    "    # Display results\n",
    "    print(f\"Computed beta coefficients in {elapsed_time:.6f} seconds\")\n",
    "    print(f\"Memory usage for: {sys.getsizeof(model)} bytes\")\n",
    "    print(\"\\nModel Summary:\")\n",
    "    print(summary)\n",
    "\n",
    "    return model, summary\n",
    "\n",
    "# Unpack both the model and summary\n",
    "statsmodels_yes_model, statsmodels_yes_summary = statsmodels(X_extracurricular_yes, y)\n",
    "statsmodels_no_model, statsmodels_no_summary = statsmodels(X_extracurricular_no, y)"
   ]
  },
  {
   "cell_type": "code",
   "execution_count": null,
   "metadata": {},
   "outputs": [],
   "source": [
    "comparison_extracurricular_yes['statsmodels'] = statsmodels_yes_model.params.values\n",
    "comparison_extracurricular_no['statsmodels'] = statsmodels_no_model.params.values"
   ]
  },
  {
   "cell_type": "markdown",
   "metadata": {},
   "source": [
    "SciPy's coefficients are fairly close! The $R^2$ is as well. While the F-tests are both very high, their differences are pronounced. This may be due to numerical stability, differences in computational approaches and degrees of freedom, how the intercept is handled by each, and exclusion of multicollinear terms by statsmodels.\n",
    "\n",
    "The memory usage for SciPy and NumPy are much higher, by a rate of 19. Statsmodels is 2.5 times as fast as SciPy's as well. \n",
    "\n",
    "While the speed isn't much of a difference, the memory usage can become an issue if a dataset had 1 million rows. "
   ]
  },
  {
   "cell_type": "markdown",
   "metadata": {},
   "source": [
    "Overall, we have a robust model, though it's much more robust when using SciPy. \n",
    "\n",
    "How does OLS compare to GD?"
   ]
  },
  {
   "cell_type": "markdown",
   "metadata": {},
   "source": [
    "## Gradient Descent (GD)"
   ]
  },
  {
   "cell_type": "markdown",
   "metadata": {},
   "source": [
    "### Conventional GD"
   ]
  },
  {
   "cell_type": "markdown",
   "metadata": {},
   "source": [
    "It should be *emphasized* that the results of GD will likely be different because it relies on a training set, namely a smaller dataset of the data. In other words, it finds the parameters as the dataset grows, whereas OLS is much more static since it provides the parameters as given; not as they change. That can seriously affect the accuracy of the results.\n",
    "\n",
    "Nonetheless, let's take a look."
   ]
  },
  {
   "cell_type": "code",
   "execution_count": null,
   "metadata": {},
   "outputs": [],
   "source": [
    "X_train, X_test, y_train, y_test = train_test_split(features, target, test_size=0.2, random_state=10) "
   ]
  },
  {
   "cell_type": "code",
   "execution_count": null,
   "metadata": {},
   "outputs": [],
   "source": [
    "def gradient_descent(features, label, learning_rate, epochs, precision):\n",
    "\n",
    "features = X_extracurricular_yes\n",
    "target = y\n",
    "\n",
    "# Split the data into features and its target\n",
    "X_train, X_test, y_train, y_test = train_test_split(features, target, test_size=0.2, random_state=10) "
   ]
  },
  {
   "cell_type": "markdown",
   "metadata": {},
   "source": [
    "We will be using an equation similar to this one to derive the parameters for GD:\n",
    "\n",
    "<!-- $$\\beta_0^{(t+1)} = \\beta_0^{(t)} - 0.01 \\times \\frac{2}{N} {1}^T (\\mathbf{X} \\boldsymbol{\\beta}^{(t)} + \\beta_0 \\mathbf{1} - \\mathbf{y})$$ -->\n",
    "\n",
    "<!-- $$\\boldsymbol{\\beta}^{(t+1)} = \\boldsymbol{\\beta}^{(t)} - 0.01 \\times \\frac{2}{N} \\mathbf{X}^T (\\mathbf{X} \\boldsymbol{\\beta}^{(t)} + \\beta_0 \\mathbf{1} - \\mathbf{y})$$ -->\n",
    "\n",
    "$$\\boldsymbol{β}^{t+1} = \\boldsymbol{β}^t - 0.01 \\cdot \\frac{1}{N} \\cdot 2\\boldsymbol{X}^T \\cdot (\\boldsymbol{X}\\boldsymbol{β} - \\boldsymbol{y})$$"
   ]
  },
  {
   "cell_type": "code",
   "execution_count": 159,
   "metadata": {},
   "outputs": [
    {
     "name": "stdout",
     "output_type": "stream",
     "text": [
      "Computed beta coefficients in 0.036073 seconds\n",
      "Loss: 493.6209502871741\n",
      "Computed beta coefficients in 0.040976 seconds\n",
      "Loss: 493.6232302245901\n"
     ]
    }
   ],
   "source": [
    "def gradient_descent(features, label, learning_rate, epochs, precision):\n",
    "    X_train, X_test, y_train, y_test = train_test_split(features, label, test_size=0.2, random_state=10)\n",
    "\n",
    "    scaling = input('Do you want to scale (normalization, standardization, or no)?')\n",
    "\n",
    "    start_time = time.time()  # Start timing\n",
    "\n",
    "    if scaling.lower() == 'normalization':\n",
    "        scaler = MinMaxScaler()\n",
    "    elif scaling.lower() == 'standardization':\n",
    "        scaler = StandardScaler()\n",
    "    elif scaling.lower() == 'no':\n",
    "        scaler = None\n",
    "    else:\n",
    "        print('Sorry, that is not a valid response.')\n",
    "        return None, None, None\n",
    "\n",
    "    if scaler:\n",
    "        scaler.fit(X_train)\n",
    "        X_train = scaler.transform(X_train)\n",
    "        X_test = scaler.transform(X_test)\n",
    "\n",
    "    guesses = []\n",
    "    losses = []  # To store the loss at each epoch\n",
    "\n",
    "    # Add a column of ones for the intercept\n",
    "    X_augmented = np.hstack((np.ones((features.shape[0], 1)), features))\n",
    "    beta = np.zeros(X_augmented.shape[1])  # Initialize coefficients (including intercept)\n",
    "\n",
    "    for epoch in range(epochs):\n",
    "        # Compute predictions\n",
    "        predictions = X_augmented @ beta\n",
    "\n",
    "        # Compute residuals\n",
    "        residuals = predictions - label\n",
    "\n",
    "        # Compute gradient\n",
    "        gradient = (2 / len(label)) * X_augmented.T @ residuals\n",
    "\n",
    "        # Update beta coefficients\n",
    "        beta = beta - learning_rate * gradient\n",
    "\n",
    "        # Track guesses and loss\n",
    "        guesses.append(beta.copy())\n",
    "        loss = np.mean(residuals ** 2)\n",
    "        losses.append(loss)\n",
    "\n",
    "        # Convergence check\n",
    "        step_size = np.max(np.abs(gradient))\n",
    "        if step_size < precision:\n",
    "            break\n",
    "\n",
    "    elapsed_time = time.time() - start_time\n",
    "\n",
    "    # Display results\n",
    "    print(f\"Computed beta coefficients in {elapsed_time:.6f} seconds\")\n",
    "    print(\"Loss:\", losses[-1])\n",
    "\n",
    "    return beta, guesses, losses\n",
    "\n",
    "beta, guesses, losses = gradient_descent(X_with_intercept_yes, y, learning_rate=0.000001, epochs=100, precision=0.00001)\n",
    "beta, guesses, losses = gradient_descent(X_with_intercept_no, y, learning_rate=0.000001, epochs=100, precision=0.00001)"
   ]
  },
  {
   "cell_type": "code",
   "execution_count": null,
   "metadata": {},
   "outputs": [
    {
     "name": "stdout",
     "output_type": "stream",
     "text": [
      "Computed beta coefficients in 0.037044 seconds\n",
      "Memory usage for Pandas Series: 610 bytes\n",
      "[0.00679865 0.03754364 0.51543502 0.04453711 0.03163649 0.00339696]\n",
      "Loss: 492.77587971137257\n"
     ]
    }
   ],
   "source": [
    "def gradient_descent(features, label, learning_rate, epochs, precision):\n",
    "\n",
    "    X_train, X_test, y_train, y_test = train_test_split(features, target, test_size=0.2, random_state=10) \n",
    "\n",
    "    scaling = input('Do you want to scale?')\n",
    "\n",
    "    if scaling.lower() == 'normalization':\n",
    "        \n",
    "        # Start timing\n",
    "        start_time = time.time()\n",
    "        \n",
    "        min_max_scaler = MinMaxScaler()\n",
    "\n",
    "        min_max_scaler.fit(X_train)\n",
    "\n",
    "        # Fit the scaler on the training data\n",
    "        X_train_min_max_scaled = min_max_scaler.transform(X_train)\n",
    "\n",
    "        # Transform the test data using the same scaler\n",
    "        X_test_min_max_scaled = min_max_scaler.transform(X_test)\n",
    "\n",
    "        guesses = []\n",
    "        losses = []  # To store the loss at each epoch\n",
    "\n",
    "        # Add a column of ones for the intercept\n",
    "        X_augmented = np.hstack((np.ones((features.shape[0], 1)), features))\n",
    "        beta = np.zeros(X_augmented.shape[1])  # Initialize coefficients (including intercept)\n",
    "\n",
    "        for epoch in range(epochs):\n",
    "            # Compute predictions\n",
    "            predictions = X_augmented @ beta\n",
    "\n",
    "            # Compute residuals\n",
    "            residuals = predictions - label\n",
    "\n",
    "            # Compute gradient\n",
    "            gradient = (2 / len(label)) * X_augmented.T @ residuals\n",
    "\n",
    "            # Update beta coefficients\n",
    "            beta = beta - learning_rate * gradient\n",
    "\n",
    "            # Track guesses and loss\n",
    "            guesses.append(beta.copy())\n",
    "            loss = np.mean(residuals ** 2)\n",
    "            losses.append(loss)\n",
    "\n",
    "            # Convergence check\n",
    "            step_size = np.max(np.abs(gradient))\n",
    "            if step_size < precision:\n",
    "                break\n",
    "\n",
    "    return beta, guesses, losses\n",
    "\n",
    "    elif scaling.lower() == 'standardization':\n",
    "\n",
    "    elif scaling.lower() == 'no'\n",
    "\n",
    "beta_non_scaling, guesses, losses = gradient_descent(X_train, y_train, learning_rate=0.000001, epochs=100, precision=0.00001)\n",
    "\n",
    "# beta_non_scaling_series = pd.Series(data=beta_non_scaling, index=cols)\n",
    "\n",
    "elapsed_time = time.time() - start_time\n",
    "\n",
    "series_memory_non_scaling_GD = sys.getsizeof(beta_non_scaling_series)\n",
    "\n",
    "# Display results\n",
    "print(f\"Computed beta coefficients in {elapsed_time:.6f} seconds\")\n",
    "print(f\"Memory usage for Pandas Series: {series_memory_non_scaling_GD} bytes\")\n",
    "\n",
    "print(beta_non_scaling)\n",
    "print(\"Loss:\", losses[-1])"
   ]
  },
  {
   "cell_type": "code",
   "execution_count": 51,
   "metadata": {},
   "outputs": [
    {
     "data": {
      "image/png": "[encoded data removed]",
      "text/plain": [
       "<Figure size 1000x500 with 2 Axes>"
      ]
     },
     "metadata": {},
     "output_type": "display_data"
    }
   ],
   "source": [
    "import matplotlib.pyplot as plt\n",
    "\n",
    "plt.figure(figsize=(10, 5))\n",
    "plt.subplot(1, 2, 1)\n",
    "plt.plot(losses)\n",
    "plt.title('Loss over Epochs')\n",
    "plt.xlabel('Epochs')\n",
    "plt.ylabel('Mean Squared Error')\n",
    "\n",
    "plt.subplot(1, 2, 2)\n",
    "plt.plot(guesses)\n",
    "plt.title('Coefficient Trajectory')\n",
    "plt.xlabel('Epochs')\n",
    "plt.ylabel('Coefficient Values')\n",
    "plt.tight_layout()\n",
    "plt.show()"
   ]
  },
  {
   "cell_type": "code",
   "execution_count": 10,
   "metadata": {},
   "outputs": [
    {
     "ename": "NameError",
     "evalue": "name 'comparison' is not defined",
     "output_type": "error",
     "traceback": [
      "\u001b[0;31m---------------------------------------------------------------------------\u001b[0m",
      "\u001b[0;31mNameError\u001b[0m                                 Traceback (most recent call last)",
      "Cell \u001b[0;32mIn[10], line 1\u001b[0m\n\u001b[0;32m----> 1\u001b[0m \u001b[43mcomparison\u001b[49m[\u001b[38;5;124m'\u001b[39m\u001b[38;5;124mConventional GD\u001b[39m\u001b[38;5;124m'\u001b[39m] \u001b[38;5;241m=\u001b[39m beta_non_scaling_series\n",
      "\u001b[0;31mNameError\u001b[0m: name 'comparison' is not defined"
     ]
    }
   ],
   "source": [
    "comparison['Conventional GD'] = beta_non_scaling_series"
   ]
  },
  {
   "cell_type": "code",
   "execution_count": null,
   "metadata": {},
   "outputs": [
    {
     "name": "stdout",
     "output_type": "stream",
     "text": [
      "Computed beta coefficients in 0.000034 seconds\n",
      "Memory usage for Pandas Series: 610 bytes\n",
      "Intercept                          -0.190991\n",
      "Hours Studied                       1.559417\n",
      "Previous Scores                     0.787456\n",
      "Sleep Hours                        -0.740688\n",
      "Sample Question Papers Practiced   -0.257802\n",
      "Extracurricular Activities_No      -0.125462\n",
      "Extracurricular Activities_Yes     -0.065530\n",
      "dtype: float64\n",
      "Loss: 38.611837282320735\n"
     ]
    }
   ],
   "source": [
    "# Start timing\n",
    "start_time = time.time()\n",
    "\n",
    "elapsed_time = time.time() - start_time\n",
    "\n",
    "series_memory_non_scaling_GD = sys.getsizeof(beta_non_scaling_series)\n",
    "\n",
    "# Display results\n",
    "print(f\"Computed beta coefficients in {elapsed_time:.6f} seconds\")\n",
    "print(f\"Memory usage for Pandas Series: {series_memory_non_scaling_GD} bytes\")\n",
    "\n",
    "print(beta_non_scaling_series)\n",
    "print(\"Loss:\", losses[-1])"
   ]
  },
  {
   "cell_type": "markdown",
   "metadata": {},
   "source": [
    "The coefficients are *very* different. However, GD stops at a certain step size, as seen in the code. That may change if the data is scaled: transforming the data to handle outliers or more.\n",
    "\n",
    "The memory usage is the same since NumPy and SciPy are using a Pandas series. However, NumPy and SciPy were transformed to a Pandas series; their memory usage is actually one-sixth of that, so that should be taken into account. \n",
    "\n",
    "However, GD's speed is much slower: 598 times slower relative to NumPy; 46 times slower relative to SciPy. That makes a huge difference. What remains to be seen is if that will change when GD is regularized."
   ]
  },
  {
   "cell_type": "markdown",
   "metadata": {},
   "source": [
    "There are several types of scaling, but we will focus on and apply two: min-max scaling (normalization) and standardization:\n",
    "- Normalization scales the data to a specific range, which will be 0 (min) and 1 (max), hence the term min-max scaling.\n",
    "- Standardization scales the data to have a mean of 0 and a standard deviation of 1, hence the term Z-score scaling."
   ]
  },
  {
   "cell_type": "markdown",
   "metadata": {},
   "source": [
    "#### Loss Curve\n",
    "\n",
    "With the cost function we are using, the loss begins to settle at a very low number--but never 0--after a certain number of epochs."
   ]
  },
  {
   "cell_type": "code",
   "execution_count": 11,
   "metadata": {},
   "outputs": [
    {
     "data": {
      "image/png": "[encoded data removed]",
      "text/plain": [
       "<Figure size 640x480 with 1 Axes>"
      ]
     },
     "metadata": {},
     "output_type": "display_data"
    }
   ],
   "source": [
    "n = 5000\n",
    "\n",
    "beta, guesses, losses = gradient_descent(\n",
    "    X_train, y_train, learning_rate=0.00001, epochs=n, precision=0.0001\n",
    ")\n",
    "\n",
    "# Plotting the Loss Function\n",
    "number_iterations = list(range(len(losses)))\n",
    "plt.plot(number_iterations, losses, label=\"Cost Function (Loss)\")\n",
    "plt.xlabel(\"Number of Iterations\")\n",
    "plt.ylabel(\"Mean Squared Error (Loss)\")\n",
    "plt.title(\"Cost Function During Gradient Descent\")\n",
    "plt.legend()\n",
    "plt.show()"
   ]
  },
  {
   "cell_type": "markdown",
   "metadata": {},
   "source": [
    "### Min-Max Scaling\n",
    "\n",
    "We will scale the training the data to 0 and 1 and see how that affects the coefficients."
   ]
  },
  {
   "cell_type": "code",
   "execution_count": 12,
   "metadata": {},
   "outputs": [],
   "source": [
    "min_max_scaler = MinMaxScaler()\n",
    "\n",
    "min_max_scaler.fit(X_train)\n",
    "\n",
    "# Fit the scaler on the training data\n",
    "X_train_min_max_scaled = min_max_scaler.transform(X_train)\n",
    "\n",
    "# Transform the test data using the same scaler\n",
    "X_test_min_max_scaled = min_max_scaler.transform(X_test)"
   ]
  },
  {
   "cell_type": "code",
   "execution_count": 55,
   "metadata": {},
   "outputs": [
    {
     "name": "stdout",
     "output_type": "stream",
     "text": [
      "Computed beta coefficients in 0.187419 seconds\n",
      "Memory usage for Pandas Series: 610 bytes\n",
      "Intercept                          -0.190991\n",
      "Hours Studied                       1.559417\n",
      "Previous Scores                     0.787456\n",
      "Sleep Hours                        -0.740688\n",
      "Sample Question Papers Practiced   -0.257802\n",
      "Extracurricular Activities_No      -0.125462\n",
      "Extracurricular Activities_Yes     -0.065530\n",
      "dtype: float64\n",
      "Loss: 51.72007196737789\n"
     ]
    }
   ],
   "source": [
    "# Start timing\n",
    "start_time = time.time()\n",
    "\n",
    "def gradient_descent(features, label, learning_rate, epochs, precision):\n",
    "    guesses = []\n",
    "    losses = []  # To store the loss at each epoch\n",
    "\n",
    "    # Add a column of ones for the intercept\n",
    "    X_augmented = np.hstack((np.ones((features.shape[0], 1)), features))\n",
    "    beta = np.zeros(X_augmented.shape[1])  # Initialize coefficients (including intercept)\n",
    "\n",
    "    for epoch in range(epochs):\n",
    "        # Compute predictions\n",
    "        predictions = X_augmented @ beta\n",
    "\n",
    "        # Compute residuals\n",
    "        residuals = predictions - label\n",
    "\n",
    "        # Compute gradient\n",
    "        gradient = (2 / len(label)) * X_augmented.T @ residuals\n",
    "\n",
    "        # Update beta coefficients\n",
    "        beta = beta - learning_rate * gradient\n",
    "\n",
    "        # Track guesses and loss\n",
    "        guesses.append(beta.copy())\n",
    "        loss = np.mean(residuals ** 2)\n",
    "        losses.append(loss)\n",
    "\n",
    "        # Convergence check\n",
    "        step_size = np.max(np.abs(gradient))\n",
    "        if step_size < precision:\n",
    "            break\n",
    "\n",
    "    return beta, guesses, losses\n",
    "\n",
    "beta_min_max_scaling, guesses, losses = gradient_descent(X_train_min_max_scaled, y_train, learning_rate=0.01, epochs=500, precision=0.00001)\n",
    "\n",
    "beta_min_max_scaling_series = pd.Series(data=beta_min_max_scaling, index=cols)\n",
    "\n",
    "elapsed_time = time.time() - start_time\n",
    "\n",
    "series_memory_min_max_scaling_GD = sys.getsizeof(beta_min_max_scaling_series)\n",
    "\n",
    "# Display results\n",
    "print(f\"Computed beta coefficients in {elapsed_time:.6f} seconds\")\n",
    "print(f\"Memory usage for Pandas Series: {series_memory_min_max_scaling_GD} bytes\")\n",
    "\n",
    "print(beta_non_scaling_series)\n",
    "print(\"Loss:\", losses[-1])"
   ]
  },
  {
   "cell_type": "code",
   "execution_count": 14,
   "metadata": {},
   "outputs": [
    {
     "ename": "NameError",
     "evalue": "name 'comparison' is not defined",
     "output_type": "error",
     "traceback": [
      "\u001b[0;31m---------------------------------------------------------------------------\u001b[0m",
      "\u001b[0;31mNameError\u001b[0m                                 Traceback (most recent call last)",
      "Cell \u001b[0;32mIn[14], line 1\u001b[0m\n\u001b[0;32m----> 1\u001b[0m \u001b[43mcomparison\u001b[49m[\u001b[38;5;124m'\u001b[39m\u001b[38;5;124mNormalization Scaling GD\u001b[39m\u001b[38;5;124m'\u001b[39m] \u001b[38;5;241m=\u001b[39m beta_min_max_scaling_series\n",
      "\u001b[0;31mNameError\u001b[0m: name 'comparison' is not defined"
     ]
    }
   ],
   "source": [
    "comparison['Normalization Scaling GD'] = beta_min_max_scaling_series"
   ]
  },
  {
   "cell_type": "code",
   "execution_count": 15,
   "metadata": {},
   "outputs": [
    {
     "data": {
      "image/png": "[encoded data removed]",
      "text/plain": [
       "<Figure size 640x480 with 1 Axes>"
      ]
     },
     "metadata": {},
     "output_type": "display_data"
    }
   ],
   "source": [
    "n = 100\n",
    "\n",
    "beta_min_max_scaling, guesses, losses = gradient_descent(\n",
    "    X_train_min_max_scaled, y_train, learning_rate=0.01, epochs=n, precision=0.00001\n",
    ")\n",
    "\n",
    "# Plotting the Loss Function\n",
    "number_iterations = list(range(len(losses)))\n",
    "plt.plot(number_iterations, losses, label=\"Cost Function (Loss)\")\n",
    "plt.xlabel(\"Number of Iterations\")\n",
    "plt.ylabel(\"Mean Squared Error (Loss)\")\n",
    "plt.title(\"Cost Function During Gradient Descent\")\n",
    "plt.legend()\n",
    "plt.show()"
   ]
  },
  {
   "cell_type": "code",
   "execution_count": 16,
   "metadata": {},
   "outputs": [],
   "source": [
    "scaler = StandardScaler()\n",
    "\n",
    "scaler.fit(X_train)\n",
    "\n",
    "# Fit the scaler on the training data\n",
    "X_train_scaled_model = scaler.transform(X_train)\n",
    "\n",
    "# Transform the test data using the same scaler\n",
    "X_test_scaled_model = scaler.transform(X_test)"
   ]
  },
  {
   "cell_type": "code",
   "execution_count": 17,
   "metadata": {},
   "outputs": [],
   "source": [
    "def gradient_descent(features, label, learning_rate, epochs, precision):\n",
    "    # Initialization\n",
    "    X_augmented = np.hstack((np.ones((features.shape[0], 1)), features))\n",
    "    beta = np.zeros(X_augmented.shape[1])  # Initialize coefficients\n",
    "\n",
    "    for epoch in range(epochs):\n",
    "        predictions = X_augmented @ beta\n",
    "        residuals = predictions - label\n",
    "        gradient = (2 / len(label)) * X_augmented.T @ residuals\n",
    "        beta = beta - learning_rate * gradient\n",
    "    return beta"
   ]
  },
  {
   "cell_type": "code",
   "execution_count": 19,
   "metadata": {},
   "outputs": [
    {
     "name": "stdout",
     "output_type": "stream",
     "text": [
      "Intercept                           55.142748\n",
      "Hours Studied                        7.392875\n",
      "Previous Scores                     17.722890\n",
      "Sleep Hours                          0.819071\n",
      "Sample Question Papers Practiced     0.531543\n",
      "Extracurricular Activities_No       -0.149439\n",
      "Extracurricular Activities_Yes       0.149439\n",
      "dtype: float64\n"
     ]
    }
   ],
   "source": [
    "beta_scaled_scaling = gradient_descent(X_train_scaled_model, y_train, learning_rate=0.001, epochs=5000, precision=0.00001)\n",
    "print(pd.Series(data=beta_scaled_scaling, index=cols))"
   ]
  },
  {
   "cell_type": "code",
   "execution_count": 54,
   "metadata": {},
   "outputs": [
    {
     "name": "stdout",
     "output_type": "stream",
     "text": [
      "Computed beta coefficients in 0.342023 seconds\n",
      "Memory usage for Pandas Series: 610 bytes\n",
      "Intercept                           55.145222\n",
      "Hours Studied                        7.393311\n",
      "Previous Scores                     17.723736\n",
      "Sleep Hours                          0.819051\n",
      "Sample Question Papers Practiced     0.531404\n",
      "Extracurricular Activities_No       -0.149437\n",
      "Extracurricular Activities_Yes       0.149437\n",
      "dtype: float64\n",
      "Loss: 4.125434543804794\n"
     ]
    }
   ],
   "source": [
    "# Start timing\n",
    "start_time = time.time()\n",
    "\n",
    "def gradient_descent(features, label, learning_rate, epochs, precision):\n",
    "    guesses = []\n",
    "    losses = []  # To store the loss at each epoch\n",
    "\n",
    "    # Add a column of ones for the intercept\n",
    "    X_augmented = np.hstack((np.ones((features.shape[0], 1)), features))\n",
    "    beta = np.zeros(X_augmented.shape[1])  # Initialize coefficients (including intercept)\n",
    "\n",
    "    for epoch in range(epochs):\n",
    "        # Compute predictions\n",
    "        predictions = X_augmented @ beta\n",
    "\n",
    "        # Compute residuals\n",
    "        residuals = predictions - label\n",
    "\n",
    "        # Compute gradient\n",
    "        gradient = (2 / len(label)) * X_augmented.T @ residuals\n",
    "\n",
    "        # Update beta coefficients\n",
    "        beta = beta - learning_rate * gradient\n",
    "\n",
    "        # Track guesses and loss\n",
    "        guesses.append(beta.copy())\n",
    "        loss = np.mean(residuals ** 2)\n",
    "        losses.append(loss)\n",
    "\n",
    "        # Convergence check\n",
    "        step_size = np.max(np.abs(gradient))\n",
    "        if step_size < precision:\n",
    "            break\n",
    "\n",
    "    return beta, guesses, losses\n",
    "\n",
    "beta_scaled_scaling, guesses, losses = gradient_descent(X_train_scaled_model, y_train, learning_rate=0.01, epochs=10000, precision=0.00001)\n",
    "\n",
    "beta_scaled_scaling_series = pd.Series(data=beta_scaled_scaling, index=cols)\n",
    "\n",
    "elapsed_time = time.time() - start_time\n",
    "\n",
    "series_memory_scaled_scaling_GD = sys.getsizeof(beta_scaled_scaling_series)\n",
    "\n",
    "# Display results\n",
    "print(f\"Computed beta coefficients in {elapsed_time:.6f} seconds\")\n",
    "print(f\"Memory usage for Pandas Series: {series_memory_scaled_scaling_GD} bytes\")\n",
    "\n",
    "print(beta_scaled_scaling_series)\n",
    "print(\"Loss:\", losses[-1])"
   ]
  },
  {
   "cell_type": "code",
   "execution_count": 37,
   "metadata": {},
   "outputs": [],
   "source": [
    "comparison['Standardization Scaling GD'] = beta_scaled_scaling_series"
   ]
  },
  {
   "cell_type": "code",
   "execution_count": 38,
   "metadata": {},
   "outputs": [
    {
     "data": {
      "image/png": "[encoded data removed]",
      "text/plain": [
       "<Figure size 640x480 with 1 Axes>"
      ]
     },
     "metadata": {},
     "output_type": "display_data"
    }
   ],
   "source": [
    "n = 100\n",
    "\n",
    "beta_min_max_scaling, guesses, losses = gradient_descent(\n",
    "    X_train_scaled_model, y_train, learning_rate=0.01, epochs=n, precision=0.00001\n",
    ")\n",
    "\n",
    "# Plotting the Loss Function\n",
    "number_iterations = list(range(len(losses)))\n",
    "plt.plot(number_iterations, losses, label=\"Cost Function (Loss)\")\n",
    "plt.xlabel(\"Number of Iterations\")\n",
    "plt.ylabel(\"Mean Squared Error (Loss)\")\n",
    "plt.title(\"Cost Function During Gradient Descent\")\n",
    "plt.legend()\n",
    "plt.show()"
   ]
  },
  {
   "cell_type": "markdown",
   "metadata": {},
   "source": [
    "None of our training data sets gives parameters that reflect what statsmodels and SciPy provided. How does this compare to the results of Scikit-Learn's linear regression, ridge regression, and lasso regression?"
   ]
  },
  {
   "cell_type": "markdown",
   "metadata": {},
   "source": [
    "## Scikit-Learn"
   ]
  },
  {
   "cell_type": "markdown",
   "metadata": {},
   "source": [
    "### Linear Regression"
   ]
  },
  {
   "cell_type": "code",
   "execution_count": 53,
   "metadata": {},
   "outputs": [
    {
     "name": "stdout",
     "output_type": "stream",
     "text": [
      "R-squared:  0.9888956710625104\n",
      "[-34.03141143   2.85391567   1.01802924   0.48258993   0.18539982\n",
      "   0.59778371]\n"
     ]
    },
    {
     "ename": "NameError",
     "evalue": "name 'beta_sklearn_OLS_parameters' is not defined",
     "output_type": "error",
     "traceback": [
      "\u001b[0;31m---------------------------------------------------------------------------\u001b[0m",
      "\u001b[0;31mNameError\u001b[0m                                 Traceback (most recent call last)",
      "Cell \u001b[0;32mIn[53], line 18\u001b[0m\n\u001b[1;32m     14\u001b[0m \u001b[38;5;28mprint\u001b[39m(sklearn_OLS_parameters)\n\u001b[1;32m     16\u001b[0m elapsed_time \u001b[38;5;241m=\u001b[39m time\u001b[38;5;241m.\u001b[39mtime() \u001b[38;5;241m-\u001b[39m start_time\n\u001b[0;32m---> 18\u001b[0m series_memory_sklearn_OLS \u001b[38;5;241m=\u001b[39m sys\u001b[38;5;241m.\u001b[39mgetsizeof(\u001b[43mbeta_sklearn_OLS_parameters\u001b[49m)\n\u001b[1;32m     20\u001b[0m \u001b[38;5;66;03m# Display results\u001b[39;00m\n\u001b[1;32m     21\u001b[0m \u001b[38;5;28mprint\u001b[39m(\u001b[38;5;124mf\u001b[39m\u001b[38;5;124m\"\u001b[39m\u001b[38;5;124mComputed beta coefficients in \u001b[39m\u001b[38;5;132;01m{\u001b[39;00melapsed_time\u001b[38;5;132;01m:\u001b[39;00m\u001b[38;5;124m.6f\u001b[39m\u001b[38;5;132;01m}\u001b[39;00m\u001b[38;5;124m seconds\u001b[39m\u001b[38;5;124m\"\u001b[39m)\n",
      "\u001b[0;31mNameError\u001b[0m: name 'beta_sklearn_OLS_parameters' is not defined"
     ]
    }
   ],
   "source": [
    "# Training data\n",
    "\n",
    "# Start timing\n",
    "start_time = time.time()\n",
    "\n",
    "reg_lr = linear_model.LinearRegression(fit_intercept=True)\n",
    "reg_lr.fit(X_train, y_train)\n",
    "y_train_predict = reg_lr.predict(X_train)\n",
    "sklearn_OLS_parameters = np.insert(reg_lr.coef_, 0, reg_lr.intercept_)\n",
    "# beta_sklearn_OLS_parameters = pd.Series(data=sklearn_OLS_parameters, index=cols)\n",
    "\n",
    "print('R-squared: ', reg_lr.score(X_train, y_train))\n",
    "# print(beta_sklearn_OLS_parameters)\n",
    "print(sklearn_OLS_parameters)\n",
    "\n",
    "elapsed_time = time.time() - start_time\n",
    "\n",
    "series_memory_sklearn_OLS = sys.getsizeof(beta_sklearn_OLS_parameters)\n",
    "\n",
    "# Display results\n",
    "print(f\"Computed beta coefficients in {elapsed_time:.6f} seconds\")\n",
    "print(f\"Memory usage: {series_memory_sklearn_OLS} bytes\")"
   ]
  },
  {
   "cell_type": "code",
   "execution_count": null,
   "metadata": {},
   "outputs": [],
   "source": [
    "comparison['Scikit-Learn OLS'] = beta_sklearn_OLS_parameters"
   ]
  },
  {
   "cell_type": "markdown",
   "metadata": {},
   "source": [
    "### Ridge Regression\n",
    "\n",
    "I won't get into the math behind the ridge regression, but it uses the ℓ2 (euclidean) norm of each parameter as a penalty to prevent overfitting."
   ]
  },
  {
   "cell_type": "code",
   "execution_count": 43,
   "metadata": {},
   "outputs": [
    {
     "name": "stdout",
     "output_type": "stream",
     "text": [
      "R-squared:  0.7804019482086624\n",
      "Intercept                           4.621823\n",
      "Hours Studied                       0.142595\n",
      "Previous Scores                     0.715291\n",
      "Sleep Hours                         0.011145\n",
      "Sample Question Papers Practiced    0.015164\n",
      "Extracurricular Activities_No      -0.001288\n",
      "Extracurricular Activities_Yes      0.001288\n",
      "dtype: float64\n",
      "Computed beta coefficients in 0.128285 seconds\n",
      "Memory usage: 610 bytes\n"
     ]
    }
   ],
   "source": [
    "# Training data\n",
    "\n",
    "# Start timing\n",
    "start_time = time.time()\n",
    "\n",
    "reg_ridge = linear_model.Ridge(alpha=1000000.0, fit_intercept=True, solver='auto')\n",
    "reg_ridge.fit(X_train, y_train)\n",
    "y_train_predict = reg_ridge.predict(X_train)\n",
    "sklearn_ridge_parameters = np.insert(reg_ridge.coef_, 0, reg_ridge.intercept_)\n",
    "beta_sklearn_ridge_parameters = pd.Series(data=sklearn_ridge_parameters, index=cols)\n",
    "\n",
    "print('R-squared: ', reg_ridge.score(X_train, y_train))\n",
    "print(beta_sklearn_ridge_parameters)\n",
    "\n",
    "elapsed_time = time.time() - start_time\n",
    "\n",
    "series_memory_sklearn_ridge = sys.getsizeof(beta_sklearn_ridge_parameters)\n",
    "\n",
    "# Display results\n",
    "print(f\"Computed beta coefficients in {elapsed_time:.6f} seconds\")\n",
    "print(f\"Memory usage: {series_memory_sklearn_ridge} bytes\")"
   ]
  },
  {
   "cell_type": "code",
   "execution_count": 44,
   "metadata": {},
   "outputs": [],
   "source": [
    "comparison['Ridge Regression'] = beta_sklearn_ridge_parameters"
   ]
  },
  {
   "cell_type": "markdown",
   "metadata": {},
   "source": [
    "### Lasso Regression\n",
    "\n",
    "I won't get into the math behind the lasso regression either, but it uses the ℓ1 (manhattan) norm of each parameter as a penalty to prevent overfitting."
   ]
  },
  {
   "cell_type": "code",
   "execution_count": 45,
   "metadata": {},
   "outputs": [
    {
     "name": "stdout",
     "output_type": "stream",
     "text": [
      "R-squared:  0.749858869750701\n",
      "Intercept                           7.648829\n",
      "Hours Studied                       0.000000\n",
      "Previous Scores                     0.683961\n",
      "Sleep Hours                         0.000000\n",
      "Sample Question Papers Practiced    0.000000\n",
      "Extracurricular Activities_No      -0.000000\n",
      "Extracurricular Activities_Yes      0.000000\n",
      "dtype: float64\n",
      "Computed beta coefficients in 0.010877 seconds\n",
      "Memory usage: 610 bytes\n"
     ]
    }
   ],
   "source": [
    "# Training data\n",
    "\n",
    "# Start timing\n",
    "start_time = time.time()\n",
    "\n",
    "reg_lasso = linear_model.Lasso(alpha=100.0, fit_intercept=True)\n",
    "reg_lasso.fit(X_train, y_train)\n",
    "y_train_predict = reg_lasso.predict(X_train)\n",
    "sklearn_lasso_parameters = np.insert(reg_lasso.coef_, 0, reg_lasso.intercept_)\n",
    "beta_sklearn_lasso_parameters = pd.Series(data=sklearn_lasso_parameters, index=cols)\n",
    "\n",
    "print('R-squared: ', reg_lasso.score(X_train, y_train))\n",
    "print(beta_sklearn_lasso_parameters)\n",
    "\n",
    "elapsed_time = time.time() - start_time\n",
    "\n",
    "series_memory_sklearn_lasso = sys.getsizeof(beta_sklearn_lasso_parameters)\n",
    "\n",
    "# Display results\n",
    "print(f\"Computed beta coefficients in {elapsed_time:.6f} seconds\")\n",
    "print(f\"Memory usage: {series_memory_sklearn_lasso} bytes\")"
   ]
  },
  {
   "cell_type": "code",
   "execution_count": 46,
   "metadata": {},
   "outputs": [],
   "source": [
    "comparison['Lasso Regression'] = beta_sklearn_lasso_parameters"
   ]
  },
  {
   "cell_type": "markdown",
   "metadata": {},
   "source": [
    "All of Scikit-Learn's regression results are still iffy, but it should not come as a surprise that the ridge and lasso regressions aren't that different. They're meant to prevent overfitting of what the original linear regression prevents, so the parameters will only decrease.\n",
    "\n",
    "What will cross validation do?"
   ]
  },
  {
   "cell_type": "markdown",
   "metadata": {},
   "source": [
    "## Cross Validation"
   ]
  },
  {
   "cell_type": "markdown",
   "metadata": {},
   "source": [
    "It's necessary to define what cross validation is first since it can be confusing at first.\n",
    "\n",
    "Cross validation splits the data set up into different training and test sets, then compares the results after any machine learning (gradient descent, in this case) is applied. For instance, I have split the data set up 80/20: 80% for training; 20% for test. \n",
    "\n",
    "If I were to use a k-fold cross validation approach, then I would simply be shuffling that 80/20 into 6 unique samples."
   ]
  },
  {
   "cell_type": "markdown",
   "metadata": {},
   "source": [
    "![5-fold Cross Validation](K-fold-cross-validation-1.webp)\n",
    "\n",
    "Source: https://sqlrelease.com/introduction-to-k-fold-cross-validation-in-python"
   ]
  },
  {
   "cell_type": "code",
   "execution_count": null,
   "metadata": {},
   "outputs": [],
   "source": [
    "# Set up KFold\n",
    "kf = KFold(n_splits=5, shuffle=True, random_state=42)\n",
    "\n",
    "# Perform the split\n",
    "for fold, (train_index, val_index) in enumerate(kf.split(X)):\n",
    "    print(f\"Fold {fold + 1}\")\n",
    "    print(\"Train indices:\", train_index)\n",
    "    print(\"Validation indices:\", val_index)\n",
    "\n",
    "    # Use .iloc to select rows based on the positional indices\n",
    "    X_train, X_val = X.iloc[train_index], X.iloc[val_index]\n",
    "    y_train, y_val = y.iloc[train_index], y.iloc[val_index]\n",
    "\n",
    "    print(\"X_train:\")\n",
    "    print(X_train)\n",
    "    print(\"X_val:\")\n",
    "    print(X_val)\n",
    "    print()"
   ]
  },
  {
   "cell_type": "code",
   "execution_count": null,
   "metadata": {},
   "outputs": [],
   "source": [
    "# Initialize KFold\n",
    "kf = KFold(n_splits=5, shuffle=True, random_state=42)\n",
    "\n",
    "# Prepare placeholders for the folds\n",
    "folds = []\n",
    "for train_index, val_index in kf.split(X):\n",
    "    # Create train and validation sets for each fold\n",
    "    X_train_fold, X_val_fold = X.iloc[train_index], X.iloc[val_index]\n",
    "    y_train_fold, y_val_fold = y.iloc[train_index], y.iloc[val_index]\n",
    "    folds.append((X_train_fold, X_val_fold, y_train_fold, y_val_fold))"
   ]
  },
  {
   "cell_type": "code",
   "execution_count": null,
   "metadata": {},
   "outputs": [],
   "source": [
    "scaled_folds = []\n",
    "\n",
    "for X_train_fold, X_val_fold, y_train_fold, y_val_fold in folds:\n",
    "    scaler = StandardScaler()\n",
    "\n",
    "    # Fit on training data and transform both train and validation sets\n",
    "    X_train_scaled = scaler.fit_transform(X_train_fold)\n",
    "    X_val_scaled = scaler.transform(X_val_fold)\n",
    "\n",
    "    scaled_folds.append((X_train_scaled, X_val_scaled, y_train_fold, y_val_fold))"
   ]
  },
  {
   "cell_type": "code",
   "execution_count": null,
   "metadata": {},
   "outputs": [],
   "source": [
    "for i, (X_train_fold, X_val_fold, y_train_fold, y_val_fold) in enumerate(folds):\n",
    "    print(f\"Fold {i + 1}\")\n",
    "    start_time = time.time()\n",
    "\n",
    "    # Run gradient descent\n",
    "    beta, guesses, losses = gradient_descent(\n",
    "        X_train_scaled,\n",
    "        y_train_fold.values,\n",
    "        learning_rate=0.001,\n",
    "        epochs=5000,\n",
    "        precision=0.00001\n",
    "    )\n",
    "\n",
    "    elapsed_time = time.time() - start_time\n",
    "    loss = losses[-1]\n",
    "\n",
    "    # Convert beta to Pandas Series\n",
    "    # beta_series = pd.Series(data=beta, index=[\"Intercept\"] + list(X_train_fold.columns))\n",
    "\n",
    "    # Measure memory usage\n",
    "    series_memory = sys.getsizeof(beta_series)\n",
    "\n",
    "    # Display results\n",
    "    print(f\"Computed beta coefficients in {elapsed_time:.6f} seconds\")\n",
    "    print(f\"Memory usage for Pandas Series: {series_memory} bytes\")\n",
    "    print(beta)\n",
    "    print(f\"Loss on Fold {i + 1}: {loss}\\n\")"
   ]
  },
  {
   "cell_type": "code",
   "execution_count": null,
   "metadata": {},
   "outputs": [],
   "source": [
    "for i in enumerate(beta_series, start=1):\n",
    "    comparison[f'Fold {i}'] = beta"
   ]
  },
  {
   "cell_type": "code",
   "execution_count": null,
   "metadata": {},
   "outputs": [],
   "source": [
    "comparison"
   ]
  },
  {
   "cell_type": "code",
   "execution_count": null,
   "metadata": {},
   "outputs": [],
   "source": [
    "for \n",
    "    comparison[f'Fold {i+1}'] = beta_series\n"
   ]
  },
  {
   "cell_type": "code",
   "execution_count": null,
   "metadata": {},
   "outputs": [],
   "source": [
    "for i, beta in enumerate(beta_series, start=1):\n",
    "    comparison[f'Fold {i}'] = beta"
   ]
  },
  {
   "cell_type": "code",
   "execution_count": null,
   "metadata": {},
   "outputs": [],
   "source": [
    "comparison"
   ]
  },
  {
   "cell_type": "code",
   "execution_count": 90,
   "metadata": {},
   "outputs": [
    {
     "data": {
      "text/html": [
       "<style type=\"text/css\">\n",
       "</style>\n",
       "<table id=\"T_7e4c1\">\n",
       "  <caption>Comparison of Extracurricular - Yes Activities</caption>\n",
       "  <thead>\n",
       "    <tr>\n",
       "      <th class=\"blank level0\" >&nbsp;</th>\n",
       "      <th id=\"T_7e4c1_level0_col0\" class=\"col_heading level0 col0\" >NumPy OLS</th>\n",
       "    </tr>\n",
       "  </thead>\n",
       "  <tbody>\n",
       "    <tr>\n",
       "      <th id=\"T_7e4c1_level0_row0\" class=\"row_heading level0 row0\" >Intercept</th>\n",
       "      <td id=\"T_7e4c1_row0_col0\" class=\"data row0 col0\" >-34.068915</td>\n",
       "    </tr>\n",
       "    <tr>\n",
       "      <th id=\"T_7e4c1_level0_row1\" class=\"row_heading level0 row1\" >Hours Studied</th>\n",
       "      <td id=\"T_7e4c1_row1_col0\" class=\"data row1 col0\" >2.852729</td>\n",
       "    </tr>\n",
       "    <tr>\n",
       "      <th id=\"T_7e4c1_level0_row2\" class=\"row_heading level0 row2\" >Previous Scores</th>\n",
       "      <td id=\"T_7e4c1_row2_col0\" class=\"data row2 col0\" >1.018319</td>\n",
       "    </tr>\n",
       "    <tr>\n",
       "      <th id=\"T_7e4c1_level0_row3\" class=\"row_heading level0 row3\" >Sleep Hours</th>\n",
       "      <td id=\"T_7e4c1_row3_col0\" class=\"data row3 col0\" >0.480321</td>\n",
       "    </tr>\n",
       "    <tr>\n",
       "      <th id=\"T_7e4c1_level0_row4\" class=\"row_heading level0 row4\" >Sample Question Papers Practiced</th>\n",
       "      <td id=\"T_7e4c1_row4_col0\" class=\"data row4 col0\" >0.193910</td>\n",
       "    </tr>\n",
       "    <tr>\n",
       "      <th id=\"T_7e4c1_level0_row5\" class=\"row_heading level0 row5\" >Extracurricular Activities_Yes</th>\n",
       "      <td id=\"T_7e4c1_row5_col0\" class=\"data row5 col0\" >0.616693</td>\n",
       "    </tr>\n",
       "  </tbody>\n",
       "</table>\n"
      ],
      "text/plain": [
       "<pandas.io.formats.style.Styler at 0x168b73910>"
      ]
     },
     "metadata": {},
     "output_type": "display_data"
    },
    {
     "data": {
      "text/html": [
       "<style type=\"text/css\">\n",
       "</style>\n",
       "<table id=\"T_cb698\">\n",
       "  <caption>Comparison of Extracurricular - No Activities</caption>\n",
       "  <thead>\n",
       "    <tr>\n",
       "      <th class=\"blank level0\" >&nbsp;</th>\n",
       "      <th id=\"T_cb698_level0_col0\" class=\"col_heading level0 col0\" >NumPy OLS</th>\n",
       "    </tr>\n",
       "  </thead>\n",
       "  <tbody>\n",
       "    <tr>\n",
       "      <th id=\"T_cb698_level0_row0\" class=\"row_heading level0 row0\" >Intercept</th>\n",
       "      <td id=\"T_cb698_row0_col0\" class=\"data row0 col0\" >-33.452221</td>\n",
       "    </tr>\n",
       "    <tr>\n",
       "      <th id=\"T_cb698_level0_row1\" class=\"row_heading level0 row1\" >Hours Studied</th>\n",
       "      <td id=\"T_cb698_row1_col0\" class=\"data row1 col0\" >2.852729</td>\n",
       "    </tr>\n",
       "    <tr>\n",
       "      <th id=\"T_cb698_level0_row2\" class=\"row_heading level0 row2\" >Previous Scores</th>\n",
       "      <td id=\"T_cb698_row2_col0\" class=\"data row2 col0\" >1.018319</td>\n",
       "    </tr>\n",
       "    <tr>\n",
       "      <th id=\"T_cb698_level0_row3\" class=\"row_heading level0 row3\" >Sleep Hours</th>\n",
       "      <td id=\"T_cb698_row3_col0\" class=\"data row3 col0\" >0.480321</td>\n",
       "    </tr>\n",
       "    <tr>\n",
       "      <th id=\"T_cb698_level0_row4\" class=\"row_heading level0 row4\" >Sample Question Papers Practiced</th>\n",
       "      <td id=\"T_cb698_row4_col0\" class=\"data row4 col0\" >0.193910</td>\n",
       "    </tr>\n",
       "    <tr>\n",
       "      <th id=\"T_cb698_level0_row5\" class=\"row_heading level0 row5\" >Extracurricular Activities_No</th>\n",
       "      <td id=\"T_cb698_row5_col0\" class=\"data row5 col0\" >-0.616693</td>\n",
       "    </tr>\n",
       "  </tbody>\n",
       "</table>\n"
      ],
      "text/plain": [
       "<pandas.io.formats.style.Styler at 0x168b721d0>"
      ]
     },
     "metadata": {},
     "output_type": "display_data"
    }
   ],
   "source": [
    "display(comparison_extracurricular_yes.style.set_caption(comparison_extracurricular_yes.attrs.get('title', '')))\n",
    "display(comparison_extracurricular_no.style.set_caption(comparison_extracurricular_no.attrs.get('title', '')))"
   ]
  },
  {
   "cell_type": "markdown",
   "metadata": {},
   "source": [
    "## 6) Conclusion: What Are Some Key Highlights?"
   ]
  },
  {
   "cell_type": "markdown",
   "metadata": {},
   "source": []
  },
  {
   "cell_type": "markdown",
   "metadata": {},
   "source": []
  },
  {
   "cell_type": "markdown",
   "metadata": {},
   "source": []
  },
  {
   "cell_type": "markdown",
   "metadata": {},
   "source": [
    "**Mine**\n",
    "\n",
    "If you have read up on gradient descent, you would know its issues:\n",
    "- Tuning: Finding the right learning rate, epochs, initial values, and precision can be very difficult. In fact, as we saw here, it did not lead to the correct value for CGD. In such a case, using OLS is the better choice.\n",
    "- Convergence: The features can be laid out on a cartesian coordinate system, and its label should lead you to the parameters that, when multiplied by the features, should arrive there. However, there are often local minima or saddle points that stop the gradient from decreasing in value. In other words, optimization *has* occured; just at the wrong point.\n",
    "- Visualization: When you have more than 3 parameters, it is impossible to visualize the loss function. You're stuck guessing when you're tuning. \n",
    "- Loss functions: Not all loss functions are made equal. While the mean square error was used, there are others, including the root mean sqare error and absolute mean error. It's difficult to choose which fits your data.\n",
    "- Choosing GD: There are multiple forms of gradient descent. There's stochastic, batch, mini-batch, momentum, nesterov, etc. How do you choose which one fits your model? You're left hoping that you chose the right loss function and gradient descent version."
   ]
  },
  {
   "cell_type": "markdown",
   "metadata": {},
   "source": [
    "**Claude**\n",
    "\n",
    "# Gradient Descent: Limitations and Challenges\n",
    "\n",
    "## 1. Tuning Complexity\n",
    "- Hyperparameter selection is a multidimensional optimization problem\n",
    "- No universal rule for setting learning rates\n",
    "- Techniques like grid search and random search are computationally expensive\n",
    "- Requires extensive experimentation and domain knowledge\n",
    "\n",
    "## 2. Convergence Challenges\n",
    "- Optimization landscape is often non-convex, especially in high-dimensional spaces\n",
    "- Local minima can trap the algorithm\n",
    "- Saddle points prevent finding the true global optimal solution\n",
    "- Convergence is not guaranteed, even with careful parameter selection\n",
    "\n",
    "## 3. Visualization Limitations\n",
    "- Impossible to visualize loss functions beyond 3 dimensions\n",
    "- Creates a \"black box\" problem in optimization\n",
    "- Dimensionality reduction techniques like t-SNE or PCA offer partial insights\n",
    "- Researchers are essentially \"guessing\" at optimization strategy\n",
    "\n",
    "## 4. Loss Function Ambiguity\n",
    "- Different loss functions serve different purposes:\n",
    "  - Mean Squared Error (MSE): Assumes normally distributed errors\n",
    "  - Mean Absolute Error (MAE): More robust to outliers\n",
    "  - Huber loss: Attempts to combine benefits of MSE and MAE\n",
    "- Choosing the right loss function requires:\n",
    "  - Understanding data distribution\n",
    "  - Knowing the specific problem domain\n",
    "  - Extensive empirical testing\n",
    "\n",
    "## 5. Gradient Descent Variants\n",
    "### Computational Approaches\n",
    "- **Stochastic GD**: \n",
    "  - Updates per single data point\n",
    "  - High variance in updates\n",
    "- **Batch GD**: \n",
    "  - Updates using entire dataset\n",
    "  - Computationally expensive\n",
    "- **Mini-batch GD**: \n",
    "  - Compromise between stochastic and batch approaches\n",
    "\n",
    "### Advanced Variants\n",
    "- Momentum GD\n",
    "- Nesterov Accelerated Gradient\n",
    "- Each adds complexity to handle gradient challenges\n",
    "\n",
    "## Practical Recommendation\n",
    "For many statistical modeling tasks, **Ordinary Least Squares (OLS)** remains superior:\n",
    "- Provides closed-form solution\n",
    "- Guarantees global minimum\n",
    "- Computationally efficient\n",
    "- Offers standard errors and statistical significance\n",
    "\n",
    "## Conclusion\n",
    "While gradient descent is powerful, it is **not a universal solution**. Understanding its limitations is crucial for effective model development and selection."
   ]
  },
  {
   "cell_type": "markdown",
   "metadata": {},
   "source": []
  }
 ],
 "metadata": {
  "kernelspec": {
   "display_name": "miniforge",
   "language": "python",
   "name": "python3"
  },
  "language_info": {
   "codemirror_mode": {
    "name": "ipython",
    "version": 3
   },
   "file_extension": ".py",
   "mimetype": "text/x-python",
   "name": "python",
   "nbconvert_exporter": "python",
   "pygments_lexer": "ipython3",
   "version": "3.10.15"
  }
 },
 "nbformat": 4,
 "nbformat_minor": 2
}
