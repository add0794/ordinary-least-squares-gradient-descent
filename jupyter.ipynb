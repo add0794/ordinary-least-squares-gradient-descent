{
 "cells": [
  {
   "cell_type": "markdown",
   "metadata": {},
   "source": [
    "# Ordinary Least Squares (OLS) vs. Gradient Descent (GD): Academic Performance"
   ]
  },
  {
   "cell_type": "markdown",
   "metadata": {},
   "source": [
    "## 1) Abstract: Framing the Problem"
   ]
  },
  {
   "cell_type": "markdown",
   "metadata": {},
   "source": [
    "Machine learning is transforming industries with powerful applications like image recognition, spam detection, and conversational AI. These advancements often rely on *deep learning*, which requires large datasets, significant computational power, and specialized hardware. While deep learning excels in tasks like computer vision and natural language processing, it may not always align with the needs of small- and medium-sized enterprises (SMEs).\n",
    "\n",
    "For these businesses, *shallow learning* offers a seemingly compelling alternative. By solving well-defined problems with smaller datasets and simpler models, shallow learning techniques are faster, more cost-effective, and easier to interpret. Examples include predicting sales revenue (using regression), segmenting customers (with decision trees), and classifying products (via k-nearest neighbors).\n",
    "\n",
    "One interesting area of comparison lies in multiple regression, where gradient descent (GD) competes with traditional ordinary least squares (OLS). This article evaluates both methods to determine their suitability for SMEs, focusing on criteria like accuracy, speed, and memory usage. It additionally looks at alternative algorithms (e.g. ridge regression) to give readers a full understanding of what tools are available.\n",
    "\n",
    "This article should provide a comprehensive comparison that will help readers choose the appropriate method for their specific use case."
   ]
  },
  {
   "cell_type": "markdown",
   "metadata": {},
   "source": [
    "## 2) Introduction: What Is Multiple Regression?"
   ]
  },
  {
   "cell_type": "markdown",
   "metadata": {},
   "source": [
    "Multiple regression is a statistical technique used to model the relationship between one dependent variable (or label) and two or more independent variables (or features). It is a powerful tool for understanding how changes in independent variables influence the dependent variable.\n",
    "\n",
    "This modeling approach can be implemented using various strategies, but I will focus on two aforementioned methods:\n",
    "\n",
    "**Ordinary Least Squares (OLS)**, which derives the solution through pure mathematical analysis by minimizing the sum of squared residuals through matrix operations.\\\n",
    "**Gradient Descent (GD)**, an iterative machine learning optimization algorithm that minimizes the loss function (e.g., mean squared error) by updating parameters step by step using the losses's gradients.\n",
    "\n",
    "These methods represent two distinct approaches to solving multiple regression problems: one analytical and one numerical. Comparing their performance will provide insight into their suitability based on dataset size, computational constraints, and other practical considerations.\n",
    "\n",
    "Note: For deriving the solutions, solutions will be implemented using both the NumPy and SciPy libraries. This will be seen shortly."
   ]
  },
  {
   "cell_type": "markdown",
   "metadata": {},
   "source": [
    "### **Ordinary Least Squares (OLS)**\n",
    "\n",
    "#### **0) How to Get Started**\n",
    "\n",
    "We start with the following equation:\n",
    "\n",
    "$$\\boldsymbol{X}\\boldsymbol{β} = \\boldsymbol{y}$$\n",
    "\n",
    "Where:\n",
    "\n",
    "*X* := The design matrix of independent variables\\\n",
    "*β* := The vector of parameters (coefficients to be estimated)\\\n",
    "*y* := The vector of the dependent variable\n",
    "\n",
    "This is not possible, however, since there is always an error value, known as the *residuals*. \n",
    "\n",
    "Thus:\n",
    "\n",
    "$$\\boldsymbol{X}\\boldsymbol{\\hat{\\beta}} + \\boldsymbol{\\epsilon} = \\boldsymbol{\\hat{y}}$$\n",
    "\n",
    "With that in mind, OLS can be derived through various approaches:\n",
    "\n",
    "#### **1) Optimization using calculus**  \n",
    "\n",
    "In this scenario, we minimize the norm of $\\boldsymbol{y} - \\boldsymbol{\\hat{y}}$, which will give us the vector of parameters. $$\\min_β |\\boldsymbol{y} - \\boldsymbol{\\hat{y}}| = \\min_β |\\boldsymbol{y} - \\boldsymbol{X}\\boldsymbol{\\hat{β}}|^2$$\n",
    "\n",
    "I won't do the math for this, but if you're interested, it requires calculus and is a stronger solution since it follows along the maximum likelihood estimation (MLE).\n",
    "\n",
    "#### **2) Using the Left Inverse**\n",
    "\n",
    "Because $Xβ$ is assumed to be full column rank, we can derive *β*.\n",
    "\n",
    "In other words, if we multiply $Xβ$ by its transpose, we can then multiply it by its inverse.\n",
    "\n",
    "Thus:\n",
    "\n",
    "$$\\boldsymbol{X}^T\\boldsymbol{X}\\boldsymbol{β} = \\boldsymbol{X}^T\\boldsymbol{y}$$\n",
    "$$(\\boldsymbol{X}^T\\boldsymbol{X})^{-1}\\boldsymbol{X}^T\\boldsymbol{X}\\boldsymbol{β} = (\\boldsymbol{X}^T\\boldsymbol{X})^{-1}\\boldsymbol{X}^T\\boldsymbol{y}$$\n",
    "$$\\boldsymbol{I}\\boldsymbol{β} = (\\boldsymbol{X}^T\\boldsymbol{X})^{-1}\\boldsymbol{X}^T\\boldsymbol{y}$$\n",
    "$$\\boldsymbol{β} = (\\boldsymbol{X}^T\\boldsymbol{X})^{-1}\\boldsymbol{X}^T\\boldsymbol{y}$$\n",
    "\n",
    "Note:\n",
    "*I* = The identity matrix\n",
    "\n",
    "Because β is predicting y, it is better to conclude that this derivation represents $\\boldsymbol{\\hat{β}}$.\n",
    "\n",
    "This is not the best approach because we are assuming $Xβ$ is full column rank, which may not be true if there is **Multicollinearity**.\n",
    "\n",
    "Why? If one parameter is a linear combination of any of the others, then the design matrix $X$ is not of full column rank (e.g. $β_3 = 4*β_1$).\n",
    "\n",
    "#### **3) Transforming $X$ to Row Canonical Form**\n",
    "\n",
    "The equation\n",
    "\n",
    "$$\\boldsymbol{X}^T\\boldsymbol{X}\\boldsymbol{β} = \\boldsymbol{X}^T\\boldsymbol{y}$$\n",
    "\n",
    "can be row reduced to its canonical form to get the vector of parameters as well.\n",
    "\n",
    "This will make sense in the next derivation.\n",
    "\n",
    "#### **4) Using Orthogonal Projections**\n",
    "\n",
    "$\\boldsymbol{X}\\boldsymbol{β} = \\boldsymbol{y}$ can be seen as having a projection and an orthogonal component.\n",
    "\n",
    "If we view the parameters as predictions, then we have a projection:\n",
    "$$\\boldsymbol{X}\\boldsymbol{\\hat{β}} = \\boldsymbol{\\hat{y}}$$\n",
    "\n",
    "This is also known as $\\boldsymbol{\\hat{y}}$ projected onto the column space of $\\boldsymbol{X}\\boldsymbol{\\hat{β}}$\n",
    "\n",
    "The orthogonal component will be the nullspace $\\boldsymbol{X}\\boldsymbol{\\hat{β}}$, which is the residual: $\\boldsymbol{y} - \\boldsymbol{\\hat{y}}$ (or $\\boldsymbol{y} - \\boldsymbol{X}\\boldsymbol{\\hat{β}}$)\n",
    "\n",
    "In other words, the *residual* (orthogonal) and *prediction* (projection) add up to the vector of the dependent variable: y\n",
    "\n",
    "What now?\n",
    "\n",
    "Given that $\\boldsymbol{y} - \\boldsymbol{X}\\boldsymbol{\\hat{β}}$ is orthogonal to the column space of $\\boldsymbol{X}$, then it's orthogonal to each column of $\\boldsymbol{X}$:\n",
    "\n",
    "$$\\boldsymbol{X}^T*(\\boldsymbol{y} - \\boldsymbol{X}\\boldsymbol{\\hat{β}}) = 0$$\n",
    "$$\\boldsymbol{X}^T\\boldsymbol{y} - \\boldsymbol{X}^T\\boldsymbol{X}\\boldsymbol{\\hat{β}} = 0$$\n",
    "$$\\boldsymbol{X}^T\\boldsymbol{y} = \\boldsymbol{X}^T\\boldsymbol{X}\\boldsymbol{\\hat{β}}$$\n",
    "$$(\\boldsymbol{X}^T\\boldsymbol{X})^{-1}\\boldsymbol{X}^T\\boldsymbol{y} = \\boldsymbol{\\hat{β}}$$\n",
    "\n",
    "We could have solved for that using row reduction, where $\\boldsymbol{X}^T\\boldsymbol{X}$ is augmented by $\\boldsymbol{X}^T\\boldsymbol{y}$, then put into row canonical form.\n",
    "\n",
    "#### **5) Using Factorizations (e.g. QR Factorization, SVD)**\n",
    "\n",
    "This article will not explore factorizations, but any rectangular matrix can be factorized into other, smaller matrices using various methods. Once factorized, the parameters can be estimated, often as easily as the previous approaches.\n",
    "\n",
    "#### **Conclusion**\n",
    "\n",
    "Regardless of which approach you use with OLS, the parameters will be:\n",
    "$$\\boldsymbol{\\hat{β}} = (\\boldsymbol{X}^T\\boldsymbol{X})^{-1}\\boldsymbol{X}^T\\boldsymbol{y}$$"
   ]
  },
  {
   "cell_type": "markdown",
   "metadata": {},
   "source": [
    "<!-- #### **0) How to Get Started**\n",
    "\n",
    "With GD, you must decide a cost function, AKA a loss or an objective function.\n",
    "\n",
    "For multiple regression, we start with the mean square error (MSE) as the cost function (it is most common):\n",
    "\n",
    "$$MSE = \\frac{1}{N} \\sum_{i=1}^N (y_i - \\beta_0 - \\mathbf{x}_i^T \\boldsymbol{\\beta})^2$$\n",
    "\n",
    "Where:\n",
    "\n",
    "*N* := Number of data points\\\n",
    "*y_i* := The vector of the dependent variable\\\n",
    "*β_0* := The scalar of the independent variable's intercept\\\n",
    "*β_i* := The vector of parameters (coefficients to be estimated)\\\n",
    "*x_i* := The vector of independent variables\n",
    "\n",
    "Note: This has not been put in matrix form because GD uses calculus.\n",
    "\n",
    "At first, you might think, \"How can I calculate the residual without first having values for the parameters?\"\n",
    "\n",
    "GD iteratively determines the parameters' values.\n",
    "\n",
    "You add the value of the partial derivative of the MSE with regard to the particular parameter:\n",
    "\n",
    "$$\\frac{\\partial MSE}{\\partial \\beta_0} = -\\frac{2}{N} \\sum_{i=1}^N (y_i - \\beta_0 - \\mathbf{x}_i^T \\boldsymbol{\\beta_i})$$\n",
    "\n",
    "$$\\frac{\\partial MSE}{\\partial {\\beta_i}} = -\\frac{2}{N} \\sum_{i=1}^{N}(y_i - \\beta_0 + \\mathbf{x}_i^T \\boldsymbol{\\beta_i}) * x_i$$\n",
    "\n",
    "Now, let's set the parameters to 0 and add a learning rate (α) and number of times (i.e. epochs) to update each parameter.\n",
    "\n",
    "$\\alpha = 0.01$ will be the learning rate, and $t = 100$ will be the number of epochs.\n",
    "\n",
    "We want to update the model parameters using the following equations:\n",
    "\n",
    "$$\\beta_0^{t+1} = \\beta_0 + \\alpha \\cdot \\frac{\\partial MSE}{\\partial \\beta_0}$$\n",
    "\n",
    "$$\\beta_i^{t+1} = \\beta_i + \\alpha \\cdot \\frac{\\partial MSE}{\\partial \\beta_i}$$\n",
    "\n",
    "Substituting the derivatives we found earlier:\n",
    "\n",
    "$$\\beta_0^{t+1} = \\beta_0^{t+1} + 0.01 \\cdot (-\\frac{2}{N} \\sum_{i=1}^{N}(y_i - (\\beta_0^{t+1} + \\beta_i x_i)))$$\n",
    "\n",
    "$$\\beta_i^{t+1} = \\beta_i + 0.01 \\cdot (-\\frac{2}{N} \\sum_{i=1}^{N}(y_i - (\\boldsymbol{\\beta_0} + \\beta_i \\boldsymbol{x_i})) \\cdot \\boldsymbol{x_i})$$\n",
    "\n",
    "Simplifying the equations:\n",
    "\n",
    "$$\\beta_0^{t+1} = \\beta_0 - 0.02 \\sum_{i=1}^{N}(y_i - (\\boldsymbol{\\beta_0} + \\beta_i \\boldsymbol{x_i}))$$\n",
    "\n",
    "$$\\beta_i^{t+1} = \\beta_i - 0.02 \\sum_{i=1}^{N}(y_i - (\\boldsymbol{\\beta_0} + \\beta_i \\boldsymbol{x_i})) \\cdot \\boldsymbol{x_i}$$ -->"
   ]
  },
  {
   "cell_type": "markdown",
   "metadata": {},
   "source": [
    "### **Gradient Descent (GD)**\n",
    "\n",
    "#### **0) How to Get Started**\n",
    "\n",
    "To perform Gradient Descent (GD), you must first decide on a cost function, also known as a loss or objective function. Each parameter will iteratively update with the gradient of the cost function.\n",
    "\n",
    "As the values of the gradient decrease, you get closer to the optimal value of the cost function -- and of the parameters. Unlike conventional optimization, which you may have come across in calculus, GD sets a learning rate by which to update initial values. In addition, you run GD a set number of times, known as epochs, and run the algorithm using a loop (for or while; your choice). You may additionally set a step size; at that point, if one partial derivative is greater than the precision, GD stops. At that point, you've identified the regressor's parameters. \n",
    "\n",
    "For multiple regression, we typically use the mean squared error (MSE) as the cost function:\n",
    "\\boldsymbol\n",
    "<!-- $$MSE = \\frac{1}{N} \\| \\mathbf{y} - \\beta_0 \\mathbf{1} - \\mathbf{X} \\boldsymbol{\\beta} \\|^2$$ -->\n",
    "\n",
    "$$MSE = \\frac{1}{N} \\| \\boldsymbol{y} - \\boldsymbol{X}\\boldsymbol{β} \\|^2$$\n",
    "<!-- $$MSE = \\frac{1}{N} (\\mathbf{y} - \\mathbf{X} \\boldsymbol{\\beta})^{T} * (\\mathbf{y} - \\mathbf{X} \\boldsymbol{\\beta})$$ -->\n",
    "\n",
    "Where:\n",
    "\n",
    "*N* := Number (scalar) of data points\\\n",
    "*y* := Vector of dependent variables (N * 1)\\\n",
    "*X* := Matrix of independent variables (M * N)\\\n",
    "*β* := Vector of parameters (coefficients to be estimated, N * 1)\n",
    "<!-- *β_0* := Scalar intercept term\\ -->\n",
    "<!-- *1* := Vector of 1's (n * 1)\\ -->\n",
    "\n",
    "At first, you might think, \"How can I calculate the residual without first having values for the parameters?\"\n",
    "\n",
    "GD iteratively determines the parameters' values updating the parameters at each step based on the gradient of the cost function, which, in this case, is the MSE.\n",
    "\n",
    "You add the value of the partial derivative of the MSE with regard to the particular parameter:\n",
    "\n",
    "<!-- $$\\frac{\\partial MSE}{\\partial \\beta_0} = \\frac{2}{N} \\mathbf{1}^T (\\mathbf{X} \\boldsymbol{\\beta}^{(t)} + \\beta_0 \\mathbf{1} - \\mathbf{y})$$\n",
    "\n",
    "$$\\frac{\\partial MSE}{\\partial \\boldsymbol{\\beta}} = \\frac{2}{N} \\mathbf{X}^T (\\mathbf{X} \\boldsymbol{\\beta}^{(t)} + \\beta_0 \\mathbf{1} - \\mathbf{y})$$ -->\n",
    "\n",
    "$$\\frac{1}{N} (\\boldsymbol{y} - \\boldsymbol{X}\\boldsymbol{β})^T(\\boldsymbol{y} - \\boldsymbol{X}\\boldsymbol{β})$$\n",
    "\n",
    "We get the following in its expanded form:\n",
    "$$\\frac{1}{N} \\left(||\\boldsymbol{y}||^2 - \\boldsymbol{β}^T\\boldsymbol{X}^T\\boldsymbol{y} - \\boldsymbol{X}\\boldsymbol{β}\\boldsymbol{y}^T + ||\\boldsymbol{X}||^2\\right)$$\n",
    "\n",
    "Since we are taking the gradient:\n",
    "\n",
    "- The squared norm of $y$ drops out\n",
    "- The two middle values are symmetric ($A = A^T$)\n",
    "- The derivative of the transpose is 2\n",
    "- The derivative of $β$ alone is 1\n",
    "\n",
    "Thus, the gradient is:\n",
    "$$\\frac{1}{N} \\left(0 - 2\\boldsymbol{X}^T\\boldsymbol{y} + 2\\boldsymbol{X}^T\\boldsymbol{X}\\boldsymbol{β}\\right)$$\n",
    "The shared term is $2X^T$:\n",
    "$$\\frac{1}{N} \\cdot 2\\boldsymbol{X}^T \\cdot (\\boldsymbol{X}\\boldsymbol{β} - \\boldsymbol{y})$$\n",
    "\n",
    "This is the gradient for the Mean Squared Error (MSE).\n",
    "\n",
    "<!-- \\frac{\\partial MSE}{\\partial \\boldsymbol{\\beta}} =  -->\n",
    "\n",
    "Now, let's set the parameters to 0 and add the learning rate (α) and epochs (t) to update each parameter.\n",
    "\n",
    "The updates for the parameters are:\n",
    "\n",
    "<!-- $$\\beta_0^{(t+1)} = \\beta_0^{(t)} - \\alpha \\cdot \\frac{\\partial MSE}{\\partial \\beta_0}$$ -->\n",
    "\n",
    "$$\\boldsymbol{β}^{t+1} = \\boldsymbol{β}^{t} - \\alpha \\cdot \\frac{\\partial MSE}{\\partial \\boldsymbol{β}}$$\n",
    "\n",
    "Substituting the derivatives into the update equations:\n",
    "\n",
    "<!-- $$\\beta_0^{(t+1)} = \\beta_0^{(t)} - 0.01 \\times \\frac{2}{N} \\mathbf{1}^T (\\mathbf{X} \\boldsymbol{\\beta}^{(t)} + \\beta_0 \\mathbf{1} - \\mathbf{y})$$ -->\n",
    "\n",
    "$$\\boldsymbol{β}^{t+1} = \\boldsymbol{β}^t - \\alpha \\cdot \\frac{1}{N} \\cdot 2\\boldsymbol{X}^T \\cdot (\\boldsymbol{X}\\boldsymbol{β} - \\boldsymbol{y})$$\n",
    "\n",
    "The updated values will run against the epochs.\n",
    "\n",
    "#### **1) GD with Other Cost Functions**\n",
    "\n",
    "Depending on what you're trying to achieve (e.g. regression, classification, anomaly detection), you can choose a different cost function. I will not cover each here, but you can find a *partial* list of those cost functions [here](https://stats.stackexchange.com/questions/154879/a-list-of-cost-functions-used-in-neural-networks-alongside-applications).\n",
    "\n",
    "#### **Conclusion**\n",
    "\n",
    "<!-- The expressions $\\beta_0^{(t+1)}$ and $\\boldsymbol{\\beta}^{(t+1)}$ would give us the intercept and vector of parameters. -->\n",
    "\n",
    "The expression $\\boldsymbol{β}^{t+1}$ will give us the intercept and coefficient as a vector of parameters."
   ]
  },
  {
   "cell_type": "markdown",
   "metadata": {},
   "source": [
    "## 3) Methodology: What Do We Know About the Data?"
   ]
  },
  {
   "cell_type": "markdown",
   "metadata": {},
   "source": [
    "### Gathering the Data"
   ]
  },
  {
   "cell_type": "markdown",
   "metadata": {},
   "source": [
    "The dataset comes from [Kaggle](https://www.kaggle.com/datasets/nikhil7280/student-performance-multiple-linear-regression).\n",
    "\n",
    "The dataset examines the factors influencing academic student performance, including:\n",
    "- Hours Studied: The total number of hours spent studying by each student.\n",
    "- Previous Scores: The scores obtained by students in previous tests.\n",
    "- Extracurricular Activities: Whether the student participates in extracurricular activities (Yes or No).\n",
    "- Sleep Hours: The average number of hours of sleep the student had per day.\n",
    "- Sample Question Papers Practiced: The number of sample question papers the student practiced.\n",
    "\n",
    "The dataset consists of 10,000 student records, with each record containing information about various predictors and a performance index.\n",
    "\n",
    "The target variable, performance index, measures each student's overall performance. The index, rounded to the nearest integer, ranges from 10 to 100, with higher values indicating better performance."
   ]
  },
  {
   "cell_type": "code",
   "execution_count": 1,
   "metadata": {},
   "outputs": [
    {
     "name": "stdout",
     "output_type": "stream",
     "text": [
      "Path to dataset files: /Users/alexdubro/.cache/kagglehub/datasets/nikhil7280/student-performance-multiple-linear-regression/versions/1\n"
     ]
    }
   ],
   "source": [
    "# The dataset will come from Kaggle:\n",
    "\n",
    "import kagglehub\n",
    "\n",
    "# Download latest version\n",
    "path = kagglehub.dataset_download(\"nikhil7280/student-performance-multiple-linear-regression\")\n",
    "print(\"Path to dataset files:\", path)"
   ]
  },
  {
   "cell_type": "markdown",
   "metadata": {},
   "source": [
    "### Importing the Necessary Packages"
   ]
  },
  {
   "cell_type": "code",
   "execution_count": 2,
   "metadata": {},
   "outputs": [],
   "source": [
    "import matplotlib.pyplot as plt\n",
    "import numpy as np \n",
    "import os\n",
    "import pandas as pd \n",
    "from scipy.linalg import pinv\n",
    "import seaborn as sns \n",
    "from sklearn import linear_model\n",
    "from sklearn.model_selection import train_test_split, KFold\n",
    "from sklearn.preprocessing import MinMaxScaler, StandardScaler\n",
    "import statsmodels.api as sm\n",
    "import sys\n",
    "import time"
   ]
  },
  {
   "cell_type": "code",
   "execution_count": 3,
   "metadata": {},
   "outputs": [
    {
     "data": {
      "text/html": [
       "<div>\n",
       "<style scoped>\n",
       "    .dataframe tbody tr th:only-of-type {\n",
       "        vertical-align: middle;\n",
       "    }\n",
       "\n",
       "    .dataframe tbody tr th {\n",
       "        vertical-align: top;\n",
       "    }\n",
       "\n",
       "    .dataframe thead th {\n",
       "        text-align: right;\n",
       "    }\n",
       "</style>\n",
       "<table border=\"1\" class=\"dataframe\">\n",
       "  <thead>\n",
       "    <tr style=\"text-align: right;\">\n",
       "      <th></th>\n",
       "      <th>Hours Studied</th>\n",
       "      <th>Previous Scores</th>\n",
       "      <th>Extracurricular Activities</th>\n",
       "      <th>Sleep Hours</th>\n",
       "      <th>Sample Question Papers Practiced</th>\n",
       "      <th>Performance Index</th>\n",
       "    </tr>\n",
       "  </thead>\n",
       "  <tbody>\n",
       "    <tr>\n",
       "      <th>0</th>\n",
       "      <td>7</td>\n",
       "      <td>99</td>\n",
       "      <td>Yes</td>\n",
       "      <td>9</td>\n",
       "      <td>1</td>\n",
       "      <td>91.0</td>\n",
       "    </tr>\n",
       "    <tr>\n",
       "      <th>1</th>\n",
       "      <td>4</td>\n",
       "      <td>82</td>\n",
       "      <td>No</td>\n",
       "      <td>4</td>\n",
       "      <td>2</td>\n",
       "      <td>65.0</td>\n",
       "    </tr>\n",
       "    <tr>\n",
       "      <th>2</th>\n",
       "      <td>8</td>\n",
       "      <td>51</td>\n",
       "      <td>Yes</td>\n",
       "      <td>7</td>\n",
       "      <td>2</td>\n",
       "      <td>45.0</td>\n",
       "    </tr>\n",
       "    <tr>\n",
       "      <th>3</th>\n",
       "      <td>5</td>\n",
       "      <td>52</td>\n",
       "      <td>Yes</td>\n",
       "      <td>5</td>\n",
       "      <td>2</td>\n",
       "      <td>36.0</td>\n",
       "    </tr>\n",
       "    <tr>\n",
       "      <th>4</th>\n",
       "      <td>7</td>\n",
       "      <td>75</td>\n",
       "      <td>No</td>\n",
       "      <td>8</td>\n",
       "      <td>5</td>\n",
       "      <td>66.0</td>\n",
       "    </tr>\n",
       "  </tbody>\n",
       "</table>\n",
       "</div>"
      ],
      "text/plain": [
       "   Hours Studied  Previous Scores Extracurricular Activities  Sleep Hours  \\\n",
       "0              7               99                        Yes            9   \n",
       "1              4               82                         No            4   \n",
       "2              8               51                        Yes            7   \n",
       "3              5               52                        Yes            5   \n",
       "4              7               75                         No            8   \n",
       "\n",
       "   Sample Question Papers Practiced  Performance Index  \n",
       "0                                 1               91.0  \n",
       "1                                 2               65.0  \n",
       "2                                 2               45.0  \n",
       "3                                 2               36.0  \n",
       "4                                 5               66.0  "
      ]
     },
     "execution_count": 3,
     "metadata": {},
     "output_type": "execute_result"
    }
   ],
   "source": [
    "dataset_path = os.path.join(path, 'Student_Performance.csv')\n",
    "\n",
    "raw_data = pd.read_csv(dataset_path)\n",
    "raw_data.head()"
   ]
  },
  {
   "cell_type": "markdown",
   "metadata": {},
   "source": [
    "### Cleaning/preprocessing the Data"
   ]
  },
  {
   "cell_type": "markdown",
   "metadata": {},
   "source": [
    "The data must be cleaned/preprocessed for duplicates and null values."
   ]
  },
  {
   "cell_type": "code",
   "execution_count": 4,
   "metadata": {},
   "outputs": [],
   "source": [
    "# 1) Removing null data\n",
    "\n",
    "raw_data.dropna(inplace=True)\n",
    "\n",
    "# 2) Removing duplicates\n",
    "\n",
    "raw_data.drop_duplicates(inplace=True)"
   ]
  },
  {
   "cell_type": "markdown",
   "metadata": {},
   "source": [
    "Because there is a categorical variable, the data must be dummy coded. This will be done using using one-hot encoding."
   ]
  },
  {
   "cell_type": "code",
   "execution_count": 5,
   "metadata": {},
   "outputs": [
    {
     "data": {
      "text/plain": [
       "Extracurricular Activities\n",
       "No     4986\n",
       "Yes    4887\n",
       "Name: count, dtype: int64"
      ]
     },
     "execution_count": 5,
     "metadata": {},
     "output_type": "execute_result"
    }
   ],
   "source": [
    "raw_data['Extracurricular Activities'].value_counts()"
   ]
  },
  {
   "cell_type": "code",
   "execution_count": 6,
   "metadata": {},
   "outputs": [
    {
     "data": {
      "text/html": [
       "<div>\n",
       "<style scoped>\n",
       "    .dataframe tbody tr th:only-of-type {\n",
       "        vertical-align: middle;\n",
       "    }\n",
       "\n",
       "    .dataframe tbody tr th {\n",
       "        vertical-align: top;\n",
       "    }\n",
       "\n",
       "    .dataframe thead th {\n",
       "        text-align: right;\n",
       "    }\n",
       "</style>\n",
       "<table border=\"1\" class=\"dataframe\">\n",
       "  <thead>\n",
       "    <tr style=\"text-align: right;\">\n",
       "      <th></th>\n",
       "      <th>Hours Studied</th>\n",
       "      <th>Previous Scores</th>\n",
       "      <th>Sleep Hours</th>\n",
       "      <th>Sample Question Papers Practiced</th>\n",
       "      <th>Performance Index</th>\n",
       "      <th>Extracurricular Activities_No</th>\n",
       "      <th>Extracurricular Activities_Yes</th>\n",
       "    </tr>\n",
       "  </thead>\n",
       "  <tbody>\n",
       "    <tr>\n",
       "      <th>0</th>\n",
       "      <td>7</td>\n",
       "      <td>99</td>\n",
       "      <td>9</td>\n",
       "      <td>1</td>\n",
       "      <td>91.0</td>\n",
       "      <td>0</td>\n",
       "      <td>1</td>\n",
       "    </tr>\n",
       "    <tr>\n",
       "      <th>1</th>\n",
       "      <td>4</td>\n",
       "      <td>82</td>\n",
       "      <td>4</td>\n",
       "      <td>2</td>\n",
       "      <td>65.0</td>\n",
       "      <td>1</td>\n",
       "      <td>0</td>\n",
       "    </tr>\n",
       "    <tr>\n",
       "      <th>2</th>\n",
       "      <td>8</td>\n",
       "      <td>51</td>\n",
       "      <td>7</td>\n",
       "      <td>2</td>\n",
       "      <td>45.0</td>\n",
       "      <td>0</td>\n",
       "      <td>1</td>\n",
       "    </tr>\n",
       "    <tr>\n",
       "      <th>3</th>\n",
       "      <td>5</td>\n",
       "      <td>52</td>\n",
       "      <td>5</td>\n",
       "      <td>2</td>\n",
       "      <td>36.0</td>\n",
       "      <td>0</td>\n",
       "      <td>1</td>\n",
       "    </tr>\n",
       "    <tr>\n",
       "      <th>4</th>\n",
       "      <td>7</td>\n",
       "      <td>75</td>\n",
       "      <td>8</td>\n",
       "      <td>5</td>\n",
       "      <td>66.0</td>\n",
       "      <td>1</td>\n",
       "      <td>0</td>\n",
       "    </tr>\n",
       "  </tbody>\n",
       "</table>\n",
       "</div>"
      ],
      "text/plain": [
       "   Hours Studied  Previous Scores  Sleep Hours  \\\n",
       "0              7               99            9   \n",
       "1              4               82            4   \n",
       "2              8               51            7   \n",
       "3              5               52            5   \n",
       "4              7               75            8   \n",
       "\n",
       "   Sample Question Papers Practiced  Performance Index  \\\n",
       "0                                 1               91.0   \n",
       "1                                 2               65.0   \n",
       "2                                 2               45.0   \n",
       "3                                 2               36.0   \n",
       "4                                 5               66.0   \n",
       "\n",
       "   Extracurricular Activities_No  Extracurricular Activities_Yes  \n",
       "0                              0                               1  \n",
       "1                              1                               0  \n",
       "2                              0                               1  \n",
       "3                              0                               1  \n",
       "4                              1                               0  "
      ]
     },
     "execution_count": 6,
     "metadata": {},
     "output_type": "execute_result"
    }
   ],
   "source": [
    "updated_data = pd.get_dummies(raw_data, columns=['Extracurricular Activities'], dtype=int)\n",
    "updated_data.head()"
   ]
  },
  {
   "cell_type": "markdown",
   "metadata": {},
   "source": [
    "Now, we need to separate the target into its target (dependent) variable, Performance Index, and the predictors (independent variables). For OLS, a column of 1's will be stacked to the left for the intercept."
   ]
  },
  {
   "cell_type": "code",
   "execution_count": 7,
   "metadata": {},
   "outputs": [],
   "source": [
    "# Targeting data\n",
    "\n",
    "y = updated_data['Performance Index']\n",
    "\n",
    "X_extracurricular_yes = updated_data.drop(['Performance Index', 'Extracurricular Activities_No'], axis=1)\n",
    "X_with_intercept_yes = np.column_stack([np.ones(len(X_extracurricular_yes)), X_extracurricular_yes])\n",
    "cols_yes = ['Intercept'] + X_extracurricular_yes.columns.tolist()\n",
    "\n",
    "X_extracurricular_no = updated_data.drop(['Performance Index', 'Extracurricular Activities_Yes'], axis=1)\n",
    "X_with_intercept_no = np.column_stack([np.ones(len(X_extracurricular_no)), X_extracurricular_no])\n",
    "cols_no = ['Intercept'] + X_extracurricular_no.columns.tolist()"
   ]
  },
  {
   "cell_type": "code",
   "execution_count": null,
   "metadata": {},
   "outputs": [
    {
     "ename": "ValueError",
     "evalue": "shape mismatch: objects cannot be broadcast to a single shape.  Mismatch is between arg 0 with shape (6,) and arg 1 with shape (7,).",
     "output_type": "error",
     "traceback": [
      "\u001b[0;31m---------------------------------------------------------------------------\u001b[0m\n",
      "\u001b[0;31mValueError\u001b[0m                                Traceback (most recent call last)\n",
      "Cell \u001b[0;32mIn[43], line 5\u001b[0m\n",
      "\u001b[1;32m      1\u001b[0m barWidth \u001b[38;5;241m=\u001b[39m \u001b[38;5;241m0.25\u001b[39m\n",
      "\u001b[1;32m      3\u001b[0m r1 \u001b[38;5;241m=\u001b[39m np\u001b[38;5;241m.\u001b[39marange(\u001b[38;5;28mlen\u001b[39m(comparison_extracurricular_yes))\n",
      "\u001b[0;32m----> 5\u001b[0m \u001b[43mplt\u001b[49m\u001b[38;5;241;43m.\u001b[39;49m\u001b[43mbar\u001b[49m\u001b[43m(\u001b[49m\u001b[43mr1\u001b[49m\u001b[43m,\u001b[49m\u001b[43m \u001b[49m\u001b[43m[\u001b[49m\u001b[43mi\u001b[49m\u001b[43m \u001b[49m\u001b[38;5;28;43;01mfor\u001b[39;49;00m\u001b[43m \u001b[49m\u001b[43mi\u001b[49m\u001b[43m \u001b[49m\u001b[38;5;129;43;01min\u001b[39;49;00m\u001b[43m \u001b[49m\u001b[43mcomparison_extracurricular_yes\u001b[49m\u001b[43m]\u001b[49m\u001b[43m,\u001b[49m\u001b[43m \u001b[49m\u001b[43mcolor\u001b[49m\u001b[38;5;241;43m=\u001b[39;49m\u001b[38;5;124;43m'\u001b[39;49m\u001b[38;5;124;43m#7f6d5f\u001b[39;49m\u001b[38;5;124;43m'\u001b[39;49m\u001b[43m,\u001b[49m\u001b[43m \u001b[49m\u001b[43mwidth\u001b[49m\u001b[38;5;241;43m=\u001b[39;49m\u001b[43mbarWidth\u001b[49m\u001b[43m,\u001b[49m\u001b[43m \u001b[49m\u001b[43medgecolor\u001b[49m\u001b[38;5;241;43m=\u001b[39;49m\u001b[38;5;124;43m'\u001b[39;49m\u001b[38;5;124;43mwhite\u001b[39;49m\u001b[38;5;124;43m'\u001b[39;49m\u001b[43m,\u001b[49m\u001b[43m \u001b[49m\u001b[43mlabel\u001b[49m\u001b[38;5;241;43m=\u001b[39;49m\u001b[38;5;124;43m'\u001b[39;49m\u001b[38;5;124;43mProduct A\u001b[39;49m\u001b[38;5;124;43m'\u001b[39;49m\u001b[43m)\u001b[49m\n",
      "\u001b[1;32m      6\u001b[0m plt\u001b[38;5;241m.\u001b[39mshow()\n",
      "\n",
      "File \u001b[0;32m~/miniforge3/envs/miniforge/lib/python3.10/site-packages/matplotlib/pyplot.py:2956\u001b[0m, in \u001b[0;36mbar\u001b[0;34m(x, height, width, bottom, align, data, **kwargs)\u001b[0m\n",
      "\u001b[1;32m   2945\u001b[0m \u001b[38;5;129m@_copy_docstring_and_deprecators\u001b[39m(Axes\u001b[38;5;241m.\u001b[39mbar)\n",
      "\u001b[1;32m   2946\u001b[0m \u001b[38;5;28;01mdef\u001b[39;00m \u001b[38;5;21mbar\u001b[39m(\n",
      "\u001b[1;32m   2947\u001b[0m     x: \u001b[38;5;28mfloat\u001b[39m \u001b[38;5;241m|\u001b[39m ArrayLike,\n",
      "\u001b[0;32m   (...)\u001b[0m\n",
      "\u001b[1;32m   2954\u001b[0m     \u001b[38;5;241m*\u001b[39m\u001b[38;5;241m*\u001b[39mkwargs,\n",
      "\u001b[1;32m   2955\u001b[0m ) \u001b[38;5;241m-\u001b[39m\u001b[38;5;241m>\u001b[39m BarContainer:\n",
      "\u001b[0;32m-> 2956\u001b[0m     \u001b[38;5;28;01mreturn\u001b[39;00m \u001b[43mgca\u001b[49m\u001b[43m(\u001b[49m\u001b[43m)\u001b[49m\u001b[38;5;241;43m.\u001b[39;49m\u001b[43mbar\u001b[49m\u001b[43m(\u001b[49m\n",
      "\u001b[1;32m   2957\u001b[0m \u001b[43m        \u001b[49m\u001b[43mx\u001b[49m\u001b[43m,\u001b[49m\n",
      "\u001b[1;32m   2958\u001b[0m \u001b[43m        \u001b[49m\u001b[43mheight\u001b[49m\u001b[43m,\u001b[49m\n",
      "\u001b[1;32m   2959\u001b[0m \u001b[43m        \u001b[49m\u001b[43mwidth\u001b[49m\u001b[38;5;241;43m=\u001b[39;49m\u001b[43mwidth\u001b[49m\u001b[43m,\u001b[49m\n",
      "\u001b[1;32m   2960\u001b[0m \u001b[43m        \u001b[49m\u001b[43mbottom\u001b[49m\u001b[38;5;241;43m=\u001b[39;49m\u001b[43mbottom\u001b[49m\u001b[43m,\u001b[49m\n",
      "\u001b[1;32m   2961\u001b[0m \u001b[43m        \u001b[49m\u001b[43malign\u001b[49m\u001b[38;5;241;43m=\u001b[39;49m\u001b[43malign\u001b[49m\u001b[43m,\u001b[49m\n",
      "\u001b[1;32m   2962\u001b[0m \u001b[43m        \u001b[49m\u001b[38;5;241;43m*\u001b[39;49m\u001b[38;5;241;43m*\u001b[39;49m\u001b[43m(\u001b[49m\u001b[43m{\u001b[49m\u001b[38;5;124;43m\"\u001b[39;49m\u001b[38;5;124;43mdata\u001b[39;49m\u001b[38;5;124;43m\"\u001b[39;49m\u001b[43m:\u001b[49m\u001b[43m \u001b[49m\u001b[43mdata\u001b[49m\u001b[43m}\u001b[49m\u001b[43m \u001b[49m\u001b[38;5;28;43;01mif\u001b[39;49;00m\u001b[43m \u001b[49m\u001b[43mdata\u001b[49m\u001b[43m \u001b[49m\u001b[38;5;129;43;01mis\u001b[39;49;00m\u001b[43m \u001b[49m\u001b[38;5;129;43;01mnot\u001b[39;49;00m\u001b[43m \u001b[49m\u001b[38;5;28;43;01mNone\u001b[39;49;00m\u001b[43m \u001b[49m\u001b[38;5;28;43;01melse\u001b[39;49;00m\u001b[43m \u001b[49m\u001b[43m{\u001b[49m\u001b[43m}\u001b[49m\u001b[43m)\u001b[49m\u001b[43m,\u001b[49m\n",
      "\u001b[1;32m   2963\u001b[0m \u001b[43m        \u001b[49m\u001b[38;5;241;43m*\u001b[39;49m\u001b[38;5;241;43m*\u001b[39;49m\u001b[43mkwargs\u001b[49m\u001b[43m,\u001b[49m\n",
      "\u001b[1;32m   2964\u001b[0m \u001b[43m    \u001b[49m\u001b[43m)\u001b[49m\n",
      "\n",
      "File \u001b[0;32m~/miniforge3/envs/miniforge/lib/python3.10/site-packages/matplotlib/__init__.py:1473\u001b[0m, in \u001b[0;36m_preprocess_data.<locals>.inner\u001b[0;34m(ax, data, *args, **kwargs)\u001b[0m\n",
      "\u001b[1;32m   1470\u001b[0m \u001b[38;5;129m@functools\u001b[39m\u001b[38;5;241m.\u001b[39mwraps(func)\n",
      "\u001b[1;32m   1471\u001b[0m \u001b[38;5;28;01mdef\u001b[39;00m \u001b[38;5;21minner\u001b[39m(ax, \u001b[38;5;241m*\u001b[39margs, data\u001b[38;5;241m=\u001b[39m\u001b[38;5;28;01mNone\u001b[39;00m, \u001b[38;5;241m*\u001b[39m\u001b[38;5;241m*\u001b[39mkwargs):\n",
      "\u001b[1;32m   1472\u001b[0m     \u001b[38;5;28;01mif\u001b[39;00m data \u001b[38;5;129;01mis\u001b[39;00m \u001b[38;5;28;01mNone\u001b[39;00m:\n",
      "\u001b[0;32m-> 1473\u001b[0m         \u001b[38;5;28;01mreturn\u001b[39;00m \u001b[43mfunc\u001b[49m\u001b[43m(\u001b[49m\n",
      "\u001b[1;32m   1474\u001b[0m \u001b[43m            \u001b[49m\u001b[43max\u001b[49m\u001b[43m,\u001b[49m\n",
      "\u001b[1;32m   1475\u001b[0m \u001b[43m            \u001b[49m\u001b[38;5;241;43m*\u001b[39;49m\u001b[38;5;28;43mmap\u001b[39;49m\u001b[43m(\u001b[49m\u001b[43msanitize_sequence\u001b[49m\u001b[43m,\u001b[49m\u001b[43m \u001b[49m\u001b[43margs\u001b[49m\u001b[43m)\u001b[49m\u001b[43m,\u001b[49m\n",
      "\u001b[1;32m   1476\u001b[0m \u001b[43m            \u001b[49m\u001b[38;5;241;43m*\u001b[39;49m\u001b[38;5;241;43m*\u001b[39;49m\u001b[43m{\u001b[49m\u001b[43mk\u001b[49m\u001b[43m:\u001b[49m\u001b[43m \u001b[49m\u001b[43msanitize_sequence\u001b[49m\u001b[43m(\u001b[49m\u001b[43mv\u001b[49m\u001b[43m)\u001b[49m\u001b[43m \u001b[49m\u001b[38;5;28;43;01mfor\u001b[39;49;00m\u001b[43m \u001b[49m\u001b[43mk\u001b[49m\u001b[43m,\u001b[49m\u001b[43m \u001b[49m\u001b[43mv\u001b[49m\u001b[43m \u001b[49m\u001b[38;5;129;43;01min\u001b[39;49;00m\u001b[43m \u001b[49m\u001b[43mkwargs\u001b[49m\u001b[38;5;241;43m.\u001b[39;49m\u001b[43mitems\u001b[49m\u001b[43m(\u001b[49m\u001b[43m)\u001b[49m\u001b[43m}\u001b[49m\u001b[43m)\u001b[49m\n",
      "\u001b[1;32m   1478\u001b[0m     bound \u001b[38;5;241m=\u001b[39m new_sig\u001b[38;5;241m.\u001b[39mbind(ax, \u001b[38;5;241m*\u001b[39margs, \u001b[38;5;241m*\u001b[39m\u001b[38;5;241m*\u001b[39mkwargs)\n",
      "\u001b[1;32m   1479\u001b[0m     auto_label \u001b[38;5;241m=\u001b[39m (bound\u001b[38;5;241m.\u001b[39marguments\u001b[38;5;241m.\u001b[39mget(label_namer)\n",
      "\u001b[1;32m   1480\u001b[0m                   \u001b[38;5;129;01mor\u001b[39;00m bound\u001b[38;5;241m.\u001b[39mkwargs\u001b[38;5;241m.\u001b[39mget(label_namer))\n",
      "\n",
      "File \u001b[0;32m~/miniforge3/envs/miniforge/lib/python3.10/site-packages/matplotlib/axes/_axes.py:2520\u001b[0m, in \u001b[0;36mAxes.bar\u001b[0;34m(self, x, height, width, bottom, align, **kwargs)\u001b[0m\n",
      "\u001b[1;32m   2517\u001b[0m     \u001b[38;5;28;01mif\u001b[39;00m yerr \u001b[38;5;129;01mis\u001b[39;00m \u001b[38;5;129;01mnot\u001b[39;00m \u001b[38;5;28;01mNone\u001b[39;00m:\n",
      "\u001b[1;32m   2518\u001b[0m         yerr \u001b[38;5;241m=\u001b[39m \u001b[38;5;28mself\u001b[39m\u001b[38;5;241m.\u001b[39m_convert_dx(yerr, y0, y, \u001b[38;5;28mself\u001b[39m\u001b[38;5;241m.\u001b[39mconvert_yunits)\n",
      "\u001b[0;32m-> 2520\u001b[0m x, height, width, y, linewidth, hatch \u001b[38;5;241m=\u001b[39m \u001b[43mnp\u001b[49m\u001b[38;5;241;43m.\u001b[39;49m\u001b[43mbroadcast_arrays\u001b[49m\u001b[43m(\u001b[49m\n",
      "\u001b[1;32m   2521\u001b[0m \u001b[43m    \u001b[49m\u001b[38;5;66;43;03m# Make args iterable too.\u001b[39;49;00m\n",
      "\u001b[1;32m   2522\u001b[0m \u001b[43m    \u001b[49m\u001b[43mnp\u001b[49m\u001b[38;5;241;43m.\u001b[39;49m\u001b[43matleast_1d\u001b[49m\u001b[43m(\u001b[49m\u001b[43mx\u001b[49m\u001b[43m)\u001b[49m\u001b[43m,\u001b[49m\u001b[43m \u001b[49m\u001b[43mheight\u001b[49m\u001b[43m,\u001b[49m\u001b[43m \u001b[49m\u001b[43mwidth\u001b[49m\u001b[43m,\u001b[49m\u001b[43m \u001b[49m\u001b[43my\u001b[49m\u001b[43m,\u001b[49m\u001b[43m \u001b[49m\u001b[43mlinewidth\u001b[49m\u001b[43m,\u001b[49m\u001b[43m \u001b[49m\u001b[43mhatch\u001b[49m\u001b[43m)\u001b[49m\n",
      "\u001b[1;32m   2524\u001b[0m \u001b[38;5;66;03m# Now that units have been converted, set the tick locations.\u001b[39;00m\n",
      "\u001b[1;32m   2525\u001b[0m \u001b[38;5;28;01mif\u001b[39;00m orientation \u001b[38;5;241m==\u001b[39m \u001b[38;5;124m'\u001b[39m\u001b[38;5;124mvertical\u001b[39m\u001b[38;5;124m'\u001b[39m:\n",
      "\n",
      "File \u001b[0;32m~/miniforge3/envs/miniforge/lib/python3.10/site-packages/numpy/lib/_stride_tricks_impl.py:558\u001b[0m, in \u001b[0;36mbroadcast_arrays\u001b[0;34m(subok, *args)\u001b[0m\n",
      "\u001b[1;32m    551\u001b[0m \u001b[38;5;66;03m# nditer is not used here to avoid the limit of 32 arrays.\u001b[39;00m\n",
      "\u001b[1;32m    552\u001b[0m \u001b[38;5;66;03m# Otherwise, something like the following one-liner would suffice:\u001b[39;00m\n",
      "\u001b[1;32m    553\u001b[0m \u001b[38;5;66;03m# return np.nditer(args, flags=['multi_index', 'zerosize_ok'],\u001b[39;00m\n",
      "\u001b[1;32m    554\u001b[0m \u001b[38;5;66;03m#                  order='C').itviews\u001b[39;00m\n",
      "\u001b[1;32m    556\u001b[0m args \u001b[38;5;241m=\u001b[39m [np\u001b[38;5;241m.\u001b[39marray(_m, copy\u001b[38;5;241m=\u001b[39m\u001b[38;5;28;01mNone\u001b[39;00m, subok\u001b[38;5;241m=\u001b[39msubok) \u001b[38;5;28;01mfor\u001b[39;00m _m \u001b[38;5;129;01min\u001b[39;00m args]\n",
      "\u001b[0;32m--> 558\u001b[0m shape \u001b[38;5;241m=\u001b[39m \u001b[43m_broadcast_shape\u001b[49m\u001b[43m(\u001b[49m\u001b[38;5;241;43m*\u001b[39;49m\u001b[43margs\u001b[49m\u001b[43m)\u001b[49m\n",
      "\u001b[1;32m    560\u001b[0m result \u001b[38;5;241m=\u001b[39m [array \u001b[38;5;28;01mif\u001b[39;00m array\u001b[38;5;241m.\u001b[39mshape \u001b[38;5;241m==\u001b[39m shape\n",
      "\u001b[1;32m    561\u001b[0m           \u001b[38;5;28;01melse\u001b[39;00m _broadcast_to(array, shape, subok\u001b[38;5;241m=\u001b[39msubok, readonly\u001b[38;5;241m=\u001b[39m\u001b[38;5;28;01mFalse\u001b[39;00m)\n",
      "\u001b[1;32m    562\u001b[0m                           \u001b[38;5;28;01mfor\u001b[39;00m array \u001b[38;5;129;01min\u001b[39;00m args]\n",
      "\u001b[1;32m    563\u001b[0m \u001b[38;5;28;01mreturn\u001b[39;00m \u001b[38;5;28mtuple\u001b[39m(result)\n",
      "\n",
      "File \u001b[0;32m~/miniforge3/envs/miniforge/lib/python3.10/site-packages/numpy/lib/_stride_tricks_impl.py:433\u001b[0m, in \u001b[0;36m_broadcast_shape\u001b[0;34m(*args)\u001b[0m\n",
      "\u001b[1;32m    428\u001b[0m \u001b[38;5;250m\u001b[39m\u001b[38;5;124;03m\"\"\"Returns the shape of the arrays that would result from broadcasting the\u001b[39;00m\n",
      "\u001b[1;32m    429\u001b[0m \u001b[38;5;124;03msupplied arrays against each other.\u001b[39;00m\n",
      "\u001b[1;32m    430\u001b[0m \u001b[38;5;124;03m\"\"\"\u001b[39;00m\n",
      "\u001b[1;32m    431\u001b[0m \u001b[38;5;66;03m# use the old-iterator because np.nditer does not handle size 0 arrays\u001b[39;00m\n",
      "\u001b[1;32m    432\u001b[0m \u001b[38;5;66;03m# consistently\u001b[39;00m\n",
      "\u001b[0;32m--> 433\u001b[0m b \u001b[38;5;241m=\u001b[39m \u001b[43mnp\u001b[49m\u001b[38;5;241;43m.\u001b[39;49m\u001b[43mbroadcast\u001b[49m\u001b[43m(\u001b[49m\u001b[38;5;241;43m*\u001b[39;49m\u001b[43margs\u001b[49m\u001b[43m[\u001b[49m\u001b[43m:\u001b[49m\u001b[38;5;241;43m32\u001b[39;49m\u001b[43m]\u001b[49m\u001b[43m)\u001b[49m\n",
      "\u001b[1;32m    434\u001b[0m \u001b[38;5;66;03m# unfortunately, it cannot handle 32 or more arguments directly\u001b[39;00m\n",
      "\u001b[1;32m    435\u001b[0m \u001b[38;5;28;01mfor\u001b[39;00m pos \u001b[38;5;129;01min\u001b[39;00m \u001b[38;5;28mrange\u001b[39m(\u001b[38;5;241m32\u001b[39m, \u001b[38;5;28mlen\u001b[39m(args), \u001b[38;5;241m31\u001b[39m):\n",
      "\u001b[1;32m    436\u001b[0m     \u001b[38;5;66;03m# ironically, np.broadcast does not properly handle np.broadcast\u001b[39;00m\n",
      "\u001b[1;32m    437\u001b[0m     \u001b[38;5;66;03m# objects (it treats them as scalars)\u001b[39;00m\n",
      "\u001b[1;32m    438\u001b[0m     \u001b[38;5;66;03m# use broadcasting to avoid allocating the full array\u001b[39;00m\n",
      "\n",
      "\u001b[0;31mValueError\u001b[0m: shape mismatch: objects cannot be broadcast to a single shape.  Mismatch is between arg 0 with shape (6,) and arg 1 with shape (7,)."
     ]
    },
    {
     "data": {
      "image/png": "[encoded data removed]",
      "text/plain": [
       "<Figure size 640x480 with 1 Axes>"
      ]
     },
     "metadata": {},
     "output_type": "display_data"
    }
   ],
   "source": [
    "barWidth = 0.25\n",
    "\n",
    "r1 = np.arange(len(comparison_extracurricular_yes))\n",
    "\n",
    "plt.bar(r1, [i for i in comparison_extracurricular_yes], color='#7f6d5f', width=barWidth, edgecolor='white', label='Product A')\n",
    "plt.show()"
   ]
  },
  {
   "cell_type": "markdown",
   "metadata": {},
   "source": [
    "### Visualizing the Data"
   ]
  },
  {
   "cell_type": "markdown",
   "metadata": {},
   "source": [
    "What do know about the students?"
   ]
  },
  {
   "cell_type": "code",
   "execution_count": 8,
   "metadata": {},
   "outputs": [
    {
     "data": {
      "text/html": [
       "<div>\n",
       "<style scoped>\n",
       "    .dataframe tbody tr th:only-of-type {\n",
       "        vertical-align: middle;\n",
       "    }\n",
       "\n",
       "    .dataframe tbody tr th {\n",
       "        vertical-align: top;\n",
       "    }\n",
       "\n",
       "    .dataframe thead th {\n",
       "        text-align: right;\n",
       "    }\n",
       "</style>\n",
       "<table border=\"1\" class=\"dataframe\">\n",
       "  <thead>\n",
       "    <tr style=\"text-align: right;\">\n",
       "      <th></th>\n",
       "      <th>Hours Studied</th>\n",
       "      <th>Previous Scores</th>\n",
       "      <th>Sleep Hours</th>\n",
       "      <th>Sample Question Papers Practiced</th>\n",
       "      <th>Performance Index</th>\n",
       "      <th>Extracurricular Activities_No</th>\n",
       "      <th>Extracurricular Activities_Yes</th>\n",
       "    </tr>\n",
       "  </thead>\n",
       "  <tbody>\n",
       "    <tr>\n",
       "      <th>count</th>\n",
       "      <td>9873.000000</td>\n",
       "      <td>9873.000000</td>\n",
       "      <td>9873.000000</td>\n",
       "      <td>9873.000000</td>\n",
       "      <td>9873.000000</td>\n",
       "      <td>9873.000000</td>\n",
       "      <td>9873.000000</td>\n",
       "    </tr>\n",
       "    <tr>\n",
       "      <th>mean</th>\n",
       "      <td>4.992100</td>\n",
       "      <td>69.441102</td>\n",
       "      <td>6.531652</td>\n",
       "      <td>4.583004</td>\n",
       "      <td>55.216651</td>\n",
       "      <td>0.505014</td>\n",
       "      <td>0.494986</td>\n",
       "    </tr>\n",
       "    <tr>\n",
       "      <th>std</th>\n",
       "      <td>2.589081</td>\n",
       "      <td>17.325601</td>\n",
       "      <td>1.697683</td>\n",
       "      <td>2.867202</td>\n",
       "      <td>19.208570</td>\n",
       "      <td>0.500000</td>\n",
       "      <td>0.500000</td>\n",
       "    </tr>\n",
       "    <tr>\n",
       "      <th>min</th>\n",
       "      <td>1.000000</td>\n",
       "      <td>40.000000</td>\n",
       "      <td>4.000000</td>\n",
       "      <td>0.000000</td>\n",
       "      <td>10.000000</td>\n",
       "      <td>0.000000</td>\n",
       "      <td>0.000000</td>\n",
       "    </tr>\n",
       "    <tr>\n",
       "      <th>25%</th>\n",
       "      <td>3.000000</td>\n",
       "      <td>54.000000</td>\n",
       "      <td>5.000000</td>\n",
       "      <td>2.000000</td>\n",
       "      <td>40.000000</td>\n",
       "      <td>0.000000</td>\n",
       "      <td>0.000000</td>\n",
       "    </tr>\n",
       "    <tr>\n",
       "      <th>50%</th>\n",
       "      <td>5.000000</td>\n",
       "      <td>69.000000</td>\n",
       "      <td>7.000000</td>\n",
       "      <td>5.000000</td>\n",
       "      <td>55.000000</td>\n",
       "      <td>1.000000</td>\n",
       "      <td>0.000000</td>\n",
       "    </tr>\n",
       "    <tr>\n",
       "      <th>75%</th>\n",
       "      <td>7.000000</td>\n",
       "      <td>85.000000</td>\n",
       "      <td>8.000000</td>\n",
       "      <td>7.000000</td>\n",
       "      <td>70.000000</td>\n",
       "      <td>1.000000</td>\n",
       "      <td>1.000000</td>\n",
       "    </tr>\n",
       "    <tr>\n",
       "      <th>max</th>\n",
       "      <td>9.000000</td>\n",
       "      <td>99.000000</td>\n",
       "      <td>9.000000</td>\n",
       "      <td>9.000000</td>\n",
       "      <td>100.000000</td>\n",
       "      <td>1.000000</td>\n",
       "      <td>1.000000</td>\n",
       "    </tr>\n",
       "  </tbody>\n",
       "</table>\n",
       "</div>"
      ],
      "text/plain": [
       "       Hours Studied  Previous Scores  Sleep Hours  \\\n",
       "count    9873.000000      9873.000000  9873.000000   \n",
       "mean        4.992100        69.441102     6.531652   \n",
       "std         2.589081        17.325601     1.697683   \n",
       "min         1.000000        40.000000     4.000000   \n",
       "25%         3.000000        54.000000     5.000000   \n",
       "50%         5.000000        69.000000     7.000000   \n",
       "75%         7.000000        85.000000     8.000000   \n",
       "max         9.000000        99.000000     9.000000   \n",
       "\n",
       "       Sample Question Papers Practiced  Performance Index  \\\n",
       "count                       9873.000000        9873.000000   \n",
       "mean                           4.583004          55.216651   \n",
       "std                            2.867202          19.208570   \n",
       "min                            0.000000          10.000000   \n",
       "25%                            2.000000          40.000000   \n",
       "50%                            5.000000          55.000000   \n",
       "75%                            7.000000          70.000000   \n",
       "max                            9.000000         100.000000   \n",
       "\n",
       "       Extracurricular Activities_No  Extracurricular Activities_Yes  \n",
       "count                    9873.000000                     9873.000000  \n",
       "mean                        0.505014                        0.494986  \n",
       "std                         0.500000                        0.500000  \n",
       "min                         0.000000                        0.000000  \n",
       "25%                         0.000000                        0.000000  \n",
       "50%                         1.000000                        0.000000  \n",
       "75%                         1.000000                        1.000000  \n",
       "max                         1.000000                        1.000000  "
      ]
     },
     "execution_count": 8,
     "metadata": {},
     "output_type": "execute_result"
    }
   ],
   "source": [
    "updated_data.describe()"
   ]
  },
  {
   "cell_type": "code",
   "execution_count": 9,
   "metadata": {},
   "outputs": [
    {
     "data": {
      "image/png": "[encoded data removed]",
      "text/plain": [
       "<Figure size 640x480 with 1 Axes>"
      ]
     },
     "metadata": {},
     "output_type": "display_data"
    }
   ],
   "source": [
    "sns.histplot(x='Performance Index', data=updated_data, kde=True)\n",
    "plt.xlabel('Performance Index', fontsize=12)\n",
    "plt.ylabel('Count of Students', fontsize=12)\n",
    "plt.title('Distribution of Performance Index', fontsize=14)\n",
    "plt.tight_layout()\n",
    "plt.show()"
   ]
  },
  {
   "cell_type": "code",
   "execution_count": 10,
   "metadata": {},
   "outputs": [
    {
     "data": {
      "text/plain": [
       "array([[1., 1., 1., 1., 1., 1., 1.],\n",
       "       [0., 1., 1., 1., 1., 1., 1.],\n",
       "       [0., 0., 1., 1., 1., 1., 1.],\n",
       "       [0., 0., 0., 1., 1., 1., 1.],\n",
       "       [0., 0., 0., 0., 1., 1., 1.],\n",
       "       [0., 0., 0., 0., 0., 1., 1.],\n",
       "       [0., 0., 0., 0., 0., 0., 1.]])"
      ]
     },
     "execution_count": 10,
     "metadata": {},
     "output_type": "execute_result"
    }
   ],
   "source": [
    "mask = np.zeros_like(updated_data.corr())\n",
    "upper_triangle = np.triu_indices_from(mask)\n",
    "mask[upper_triangle] = True\n",
    "mask"
   ]
  },
  {
   "cell_type": "code",
   "execution_count": 11,
   "metadata": {},
   "outputs": [
    {
     "data": {
      "image/png": "[encoded data removed]",
      "text/plain": [
       "<Figure size 1200x800 with 2 Axes>"
      ]
     },
     "metadata": {},
     "output_type": "display_data"
    }
   ],
   "source": [
    "plt.figure(figsize=(12, 8))\n",
    "\n",
    "sns.heatmap(updated_data.corr(), mask=mask, annot=True).set(title='Heatmap of Housing Correlations')\n",
    "sns.set_style('white')\n",
    "plt.show()"
   ]
  },
  {
   "cell_type": "code",
   "execution_count": 12,
   "metadata": {},
   "outputs": [
    {
     "data": {
      "image/png": "[encoded data removed]",
      "text/plain": [
       "<Figure size 1600x800 with 1 Axes>"
      ]
     },
     "metadata": {},
     "output_type": "display_data"
    },
    {
     "name": "stdout",
     "output_type": "stream",
     "text": [
      "Performance Category Thresholds:\n",
      "Q1 (25th percentile): 40.00\n",
      "Median (50th percentile): 55.00\n",
      "Q3 (75th percentile): 70.00\n",
      "\n",
      "Performance Category Distribution:\n",
      "Performance Category\n",
      "Low              2530\n",
      "High             2468\n",
      "Below Average    2446\n",
      "Above Average    2429\n",
      "Name: count, dtype: int64\n",
      "\n",
      "Percentage Distribution:\n",
      "Performance Category\n",
      "Low              25.625443\n",
      "High             24.997468\n",
      "Below Average    24.774638\n",
      "Above Average    24.602451\n",
      "Name: proportion, dtype: float64\n"
     ]
    }
   ],
   "source": [
    "# Calculate quartiles for more meaningful categorization\n",
    "q1 = updated_data['Performance Index'].quantile(0.25)\n",
    "q2 = updated_data['Performance Index'].quantile(0.5)  # Median\n",
    "q3 = updated_data['Performance Index'].quantile(0.75)\n",
    "\n",
    "# Create Performance Category column with more granular categories\n",
    "def categorize_performance(performance):\n",
    "    if performance <= q1:\n",
    "        return 'Low'\n",
    "    elif performance <= q2:\n",
    "        return 'Below Average'\n",
    "    elif performance <= q3:\n",
    "        return 'Above Average'\n",
    "    else:\n",
    "        return 'High'\n",
    "\n",
    "updated_data['Performance Category'] = updated_data['Performance Index'].apply(categorize_performance)\n",
    "\n",
    "# Create the plot\n",
    "plt.figure(figsize=(16, 8))\n",
    "sns.countplot(\n",
    "    data=updated_data,\n",
    "    x='Hours Studied',\n",
    "    hue='Performance Category',\n",
    "    palette='viridis',\n",
    "    order=sorted(updated_data['Hours Studied'].unique())\n",
    ")\n",
    "\n",
    "# Customize plot\n",
    "plt.xlabel('Hours Studied', fontsize=12)\n",
    "plt.ylabel('Number of Students', fontsize=12)\n",
    "plt.title('Performance Categories by Hours Studied', fontsize=14)\n",
    "plt.legend(title='Performance Category', bbox_to_anchor=(1.05, 1), loc='upper left')\n",
    "plt.grid(axis='y', linestyle='--', alpha=0.7)\n",
    "\n",
    "# Rotate x-axis labels if needed\n",
    "plt.xticks(rotation=45)\n",
    "\n",
    "# Add value annotations on top of each bar\n",
    "for container in plt.gca().containers:\n",
    "    plt.gca().bar_label(container)\n",
    "\n",
    "# Adjust layout to prevent cutting off labels\n",
    "plt.tight_layout()\n",
    "\n",
    "# Show the plot\n",
    "plt.show()\n",
    "\n",
    "# Print detailed information\n",
    "print(\"Performance Category Thresholds:\")\n",
    "print(f\"Q1 (25th percentile): {q1:.2f}\")\n",
    "print(f\"Median (50th percentile): {q2:.2f}\")\n",
    "print(f\"Q3 (75th percentile): {q3:.2f}\")\n",
    "print(\"\\nPerformance Category Distribution:\")\n",
    "print(updated_data['Performance Category'].value_counts())\n",
    "print(\"\\nPercentage Distribution:\")\n",
    "print(updated_data['Performance Category'].value_counts(normalize=True) * 100)"
   ]
  },
  {
   "cell_type": "markdown",
   "metadata": {},
   "source": [
    "## 4) Findings/Results: Analysis Using OLS & GD "
   ]
  },
  {
   "cell_type": "markdown",
   "metadata": {},
   "source": [
    "Let's track the coefficients of each algorithm so that we can compare them."
   ]
  },
  {
   "cell_type": "code",
   "execution_count": 13,
   "metadata": {},
   "outputs": [],
   "source": [
    "comparison_extracurricular_yes = pd.DataFrame()\n",
    "comparison_extracurricular_yes.attrs['title'] = 'Comparison of Extracurricular - Yes Activities'\n",
    "\n",
    "comparison_extracurricular_no = pd.DataFrame()\n",
    "comparison_extracurricular_no.attrs['title'] = 'Comparison of Extracurricular - No Activities'"
   ]
  },
  {
   "cell_type": "markdown",
   "metadata": {},
   "source": [
    "### Ordinary Least Squares (OLS)\n",
    "\n",
    "We will be using the following equation to derive the parameters for OLS:\n",
    "\n",
    "$$\\boldsymbol{\\hat{β}} = (\\boldsymbol{X}^T\\boldsymbol{X})^{-1}\\boldsymbol{X}^T\\boldsymbol{y}\n",
    "$$"
   ]
  },
  {
   "cell_type": "markdown",
   "metadata": {},
   "source": [
    "NumPy gives us fairly different results than SciPy's."
   ]
  },
  {
   "cell_type": "markdown",
   "metadata": {},
   "source": [
    "##### NumPy's Parameters"
   ]
  },
  {
   "cell_type": "code",
   "execution_count": 14,
   "metadata": {},
   "outputs": [
    {
     "name": "stdout",
     "output_type": "stream",
     "text": [
      "Computed beta coefficients in 0.001199 seconds\n",
      "Memory usage for parameters of \f'yes' variable: 160 bytes\n",
      "Memory usage for \f'yes' variable Series: 516 bytes\n",
      "Beta coefficients yes:\n",
      "Intercept                          -34.068915\n",
      "Hours Studied                        2.852729\n",
      "Previous Scores                      1.018319\n",
      "Sleep Hours                          0.480321\n",
      "Sample Question Papers Practiced     0.193910\n",
      "Extracurricular Activities_Yes       0.616693\n",
      "dtype: float64\n",
      "Computed beta coefficients in 0.000651 seconds\n",
      "Memory usage for parameters of \f'no' variable: 160 bytes\n",
      "Memory usage for \f'no' variable Series: 515 bytes\n",
      "Beta coefficients no:\n",
      "Intercept                          -33.452221\n",
      "Hours Studied                        2.852729\n",
      "Previous Scores                      1.018319\n",
      "Sleep Hours                          0.480321\n",
      "Sample Question Papers Practiced     0.193910\n",
      "Extracurricular Activities_No       -0.616693\n",
      "dtype: float64\n"
     ]
    }
   ],
   "source": [
    "def numpy_parameters(features, label, key, cols):\n",
    "\n",
    "    # Start timing\n",
    "    start_time = time.time()\n",
    "\n",
    "    # Compute beta coefficients and Series for both cases\n",
    "    beta_encoding = np.linalg.inv(features.T @ features) @ features.T @ label\n",
    "    beta_series = pd.Series(data=beta_encoding, index=cols)\n",
    "\n",
    "    elapsed_time = time.time() - start_time\n",
    "\n",
    "    # Measure memory usage (using one example as memory usage should be similar)\n",
    "    beta_memory = sys.getsizeof(beta_encoding)\n",
    "    series_memory = sys.getsizeof(beta_series)\n",
    "\n",
    "    # Display results\n",
    "    print(f\"Computed beta coefficients in {elapsed_time:.6f} seconds\")\n",
    "    print(f\"Memory usage for parameters of \\f'{key}' variable: {beta_memory} bytes\")\n",
    "    print(f\"Memory usage for \\f'{key}' variable Series: {series_memory} bytes\")\n",
    "\n",
    "    # Optionally, display the coefficients for both cases\n",
    "    print(f\"Beta coefficients {key}:\")\n",
    "    print(beta_series)\n",
    "\n",
    "    return beta_series\n",
    "\n",
    "numpy_yes = numpy_parameters(X_with_intercept_yes, y, 'yes', cols_yes)\n",
    "numpy_no = numpy_parameters(X_with_intercept_no, y, 'no', cols_no)"
   ]
  },
  {
   "cell_type": "code",
   "execution_count": 15,
   "metadata": {},
   "outputs": [],
   "source": [
    "# Add NumPy's coefficients\n",
    "\n",
    "comparison_extracurricular_yes['NumPy OLS'] = numpy_yes\n",
    "comparison_extracurricular_no['NumPy OLS'] = numpy_no"
   ]
  },
  {
   "cell_type": "markdown",
   "metadata": {},
   "source": [
    "SciPy's is much closer to statsmodels, though its elapsed time is much higher; the memory usage is the same.\n",
    "\n",
    "While the elapsed time might not seem like much here, a difference nearly twice as large can make a difference with a dataset with millions of data points."
   ]
  },
  {
   "cell_type": "markdown",
   "metadata": {},
   "source": [
    "##### SciPy's Parameters"
   ]
  },
  {
   "cell_type": "code",
   "execution_count": 16,
   "metadata": {},
   "outputs": [
    {
     "name": "stdout",
     "output_type": "stream",
     "text": [
      "Computed beta coefficients in 0.003141 seconds\n",
      "Memory usage for parameters of \f'yes' variable: 160 bytes\n",
      "Memory usage for 'Yes' variable Series: 516 bytes\n",
      "Beta coefficients yes:\n",
      "Intercept                          -34.068915\n",
      "Hours Studied                        2.852729\n",
      "Previous Scores                      1.018319\n",
      "Sleep Hours                          0.480321\n",
      "Sample Question Papers Practiced     0.193910\n",
      "Extracurricular Activities_Yes       0.616693\n",
      "dtype: float64\n",
      "Computed beta coefficients in 0.001186 seconds\n",
      "Memory usage for parameters of \f'no' variable: 160 bytes\n",
      "Memory usage for 'Yes' variable Series: 515 bytes\n",
      "Beta coefficients no:\n",
      "Intercept                          -33.452221\n",
      "Hours Studied                        2.852729\n",
      "Previous Scores                      1.018319\n",
      "Sleep Hours                          0.480321\n",
      "Sample Question Papers Practiced     0.193910\n",
      "Extracurricular Activities_No       -0.616693\n",
      "dtype: float64\n"
     ]
    }
   ],
   "source": [
    "def scipy_parameters(features, label, key, cols):\n",
    "\n",
    "    # Start timing\n",
    "    start_time = time.time()\n",
    "\n",
    "    # Compute beta coefficients and Series for both cases\n",
    "    beta_encoding = pinv(features.T @ features) @ features.T @ label\n",
    "    beta_series = pd.Series(data=beta_encoding, index=cols)\n",
    "\n",
    "    elapsed_time = time.time() - start_time\n",
    "\n",
    "    # Measure memory usage (using one example as memory usage should be similar)\n",
    "    beta_memory_scipy = sys.getsizeof(beta_encoding)\n",
    "    series_memory_scipy = sys.getsizeof(beta_series)\n",
    "\n",
    "    # Display results\n",
    "    print(f\"Computed beta coefficients in {elapsed_time:.6f} seconds\")\n",
    "    print(f\"Memory usage for parameters of \\f'{key}' variable: {beta_memory_scipy} bytes\")\n",
    "    print(f\"Memory usage for \\'Yes' variable Series: {series_memory_scipy} bytes\")\n",
    "\n",
    "    # Optionally, display the coefficients for both cases\n",
    "    print(f\"Beta coefficients {key}:\")\n",
    "    print(beta_series)\n",
    "\n",
    "    return beta_series\n",
    "\n",
    "scipy_yes = scipy_parameters(X_with_intercept_yes, y, 'yes', cols_yes)\n",
    "scipy_no = scipy_parameters(X_with_intercept_no, y, 'no', cols_no)"
   ]
  },
  {
   "cell_type": "code",
   "execution_count": 17,
   "metadata": {},
   "outputs": [],
   "source": [
    "# Add SciPy's coefficients\n",
    "\n",
    "comparison_extracurricular_yes['SciPy OLS'] = scipy_yes\n",
    "comparison_extracurricular_no['SciPy OLS'] = scipy_no"
   ]
  },
  {
   "cell_type": "markdown",
   "metadata": {},
   "source": [
    "What about the $R^2$ and $F$-Test?"
   ]
  },
  {
   "cell_type": "markdown",
   "metadata": {},
   "source": [
    "$R^2$ is calculated by subtracting 1 from residual sum of squares divided by the total sum of squares."
   ]
  },
  {
   "cell_type": "code",
   "execution_count": 18,
   "metadata": {},
   "outputs": [
    {
     "name": "stdout",
     "output_type": "stream",
     "text": [
      "Computed beta coefficients in 0.003107 seconds\n",
      "Memory usage for yes: 32 bytes\n",
      "R^2 statistic: 0.9886813814840943\n",
      "Computed beta coefficients in 0.002347 seconds\n",
      "Memory usage for no: 32 bytes\n",
      "R^2 statistic: 0.9886813814840943\n"
     ]
    }
   ],
   "source": [
    "def r_squared(data, key, beta_param=None):\n",
    "\n",
    "    start_time = time.time()\n",
    "\n",
    "    arr_result = data @ beta_param\n",
    "    y_i = np.array(y)\n",
    "    squared_res = ((y_i - arr_result)**2)\n",
    "    ss_res = sum(squared_res)\n",
    "\n",
    "    y_mean = updated_data['Performance Index'].mean()\n",
    "    y_mean_repeated = np.repeat(y_mean, y_i.shape[0])\n",
    "    squared_tot = ((y_i - y_mean_repeated)**2)\n",
    "    ss_tot = sum(squared_tot)\n",
    "\n",
    "    r_squared = 1 - (ss_res/ss_tot)\n",
    "\n",
    "    elapsed_time = time.time() - start_time\n",
    "\n",
    "    # Display results\n",
    "    print(f\"Computed beta coefficients in {elapsed_time:.6f} seconds\")\n",
    "    print(f\"Memory usage for {key}: {sys.getsizeof(r_squared)} bytes\")\n",
    "\n",
    "    print(\"R^2 statistic:\", r_squared)\n",
    "\n",
    "r_squared(X_with_intercept_yes, 'yes', scipy_yes)\n",
    "r_squared(X_with_intercept_no, 'no', scipy_no)"
   ]
  },
  {
   "cell_type": "markdown",
   "metadata": {},
   "source": [
    "The $F$-Test can be calculated in two ways. We will be using the one requiring the sum of squares rather than $R^2$ in order to *not* rely on another statistic."
   ]
  },
  {
   "cell_type": "code",
   "execution_count": 19,
   "metadata": {},
   "outputs": [
    {
     "name": "stdout",
     "output_type": "stream",
     "text": [
      "F-test statistic: 172376.4994357954\n",
      "Computed beta coefficients in 0.002813 seconds\n",
      "Memory usage for: 32 bytes\n",
      "F-test statistic: 172376.499435664\n",
      "Computed beta coefficients in 0.003395 seconds\n",
      "Memory usage for: 32 bytes\n"
     ]
    }
   ],
   "source": [
    "def f_test(data, key, beta_param=None):\n",
    "\n",
    "    # Start timing\n",
    "    start_time = time.time()\n",
    "\n",
    "    y_mean = y.mean()\n",
    "    y_pred = np.dot(data, beta_param)\n",
    "    ss_reg = sum((y_pred - y_mean) ** 2)\n",
    "\n",
    "    # Calculate SS_res (unexplained variance)\n",
    "    ss_res = sum((y - y_pred) ** 2)\n",
    "\n",
    "    # Number of predictors (k) and observations (n)\n",
    "    n = len(y)\n",
    "    k = data.shape[1] - 1  # Exclude intercept\n",
    "\n",
    "    # F-statistic calculation\n",
    "    numerator = ss_reg / k\n",
    "    denominator = ss_res / (n - k - 1)\n",
    "    f_test = numerator / denominator\n",
    "\n",
    "    print(\"F-test statistic:\", f_test)\n",
    "\n",
    "    elapsed_time = time.time() - start_time\n",
    "\n",
    "    # Display results\n",
    "    print(f\"Computed beta coefficients in {elapsed_time:.6f} seconds\")\n",
    "    print(f\"Memory usage for: {sys.getsizeof(f_test)} bytes\")\n",
    "\n",
    "f_test(X_with_intercept_yes, 'yes', scipy_yes)\n",
    "f_test(X_with_intercept_no, 'no', scipy_no)"
   ]
  },
  {
   "cell_type": "markdown",
   "metadata": {},
   "source": [
    "How do the results of NumPy and ScIpy compare to those of Statsmodels?"
   ]
  },
  {
   "cell_type": "markdown",
   "metadata": {},
   "source": [
    "#### Statsmodels Parameters"
   ]
  },
  {
   "cell_type": "code",
   "execution_count": 20,
   "metadata": {},
   "outputs": [
    {
     "name": "stdout",
     "output_type": "stream",
     "text": [
      "Computed beta coefficients in 0.015804 seconds\n",
      "Memory usage for: 48 bytes\n",
      "\n",
      "Model Summary:\n",
      "                            OLS Regression Results                            \n",
      "==============================================================================\n",
      "Dep. Variable:      Performance Index   R-squared:                       0.989\n",
      "Model:                            OLS   Adj. R-squared:                  0.989\n",
      "Method:                 Least Squares   F-statistic:                 1.724e+05\n",
      "Date:                Thu, 19 Dec 2024   Prob (F-statistic):               0.00\n",
      "Time:                        00:13:00   Log-Likelihood:                -21065.\n",
      "No. Observations:                9873   AIC:                         4.214e+04\n",
      "Df Residuals:                    9867   BIC:                         4.219e+04\n",
      "Df Model:                           5                                         \n",
      "Covariance Type:            nonrobust                                         \n",
      "====================================================================================================\n",
      "                                       coef    std err          t      P>|t|      [0.025      0.975]\n",
      "----------------------------------------------------------------------------------------------------\n",
      "const                              -34.0689      0.128   -265.875      0.000     -34.320     -33.818\n",
      "Hours Studied                        2.8527      0.008    358.940      0.000       2.837       2.868\n",
      "Previous Scores                      1.0183      0.001    857.427      0.000       1.016       1.021\n",
      "Sleep Hours                          0.4803      0.012     39.623      0.000       0.457       0.504\n",
      "Sample Question Papers Practiced     0.1939      0.007     27.017      0.000       0.180       0.208\n",
      "Extracurricular Activities_Yes       0.6167      0.041     14.981      0.000       0.536       0.697\n",
      "==============================================================================\n",
      "Omnibus:                        3.123   Durbin-Watson:                   2.003\n",
      "Prob(Omnibus):                  0.210   Jarque-Bera (JB):                3.224\n",
      "Skew:                           0.014   Prob(JB):                        0.200\n",
      "Kurtosis:                       3.084   Cond. No.                         451.\n",
      "==============================================================================\n",
      "\n",
      "Notes:\n",
      "[1] Standard Errors assume that the covariance matrix of the errors is correctly specified.\n",
      "Computed beta coefficients in 0.011433 seconds\n",
      "Memory usage for: 48 bytes\n",
      "\n",
      "Model Summary:\n",
      "                            OLS Regression Results                            \n",
      "==============================================================================\n",
      "Dep. Variable:      Performance Index   R-squared:                       0.989\n",
      "Model:                            OLS   Adj. R-squared:                  0.989\n",
      "Method:                 Least Squares   F-statistic:                 1.724e+05\n",
      "Date:                Thu, 19 Dec 2024   Prob (F-statistic):               0.00\n",
      "Time:                        00:13:00   Log-Likelihood:                -21065.\n",
      "No. Observations:                9873   AIC:                         4.214e+04\n",
      "Df Residuals:                    9867   BIC:                         4.219e+04\n",
      "Df Model:                           5                                         \n",
      "Covariance Type:            nonrobust                                         \n",
      "====================================================================================================\n",
      "                                       coef    std err          t      P>|t|      [0.025      0.975]\n",
      "----------------------------------------------------------------------------------------------------\n",
      "const                              -33.4522      0.128   -261.236      0.000     -33.703     -33.201\n",
      "Hours Studied                        2.8527      0.008    358.940      0.000       2.837       2.868\n",
      "Previous Scores                      1.0183      0.001    857.427      0.000       1.016       1.021\n",
      "Sleep Hours                          0.4803      0.012     39.623      0.000       0.457       0.504\n",
      "Sample Question Papers Practiced     0.1939      0.007     27.017      0.000       0.180       0.208\n",
      "Extracurricular Activities_No       -0.6167      0.041    -14.981      0.000      -0.697      -0.536\n",
      "==============================================================================\n",
      "Omnibus:                        3.123   Durbin-Watson:                   2.003\n",
      "Prob(Omnibus):                  0.210   Jarque-Bera (JB):                3.224\n",
      "Skew:                           0.014   Prob(JB):                        0.200\n",
      "Kurtosis:                       3.084   Cond. No.                         451.\n",
      "==============================================================================\n",
      "\n",
      "Notes:\n",
      "[1] Standard Errors assume that the covariance matrix of the errors is correctly specified.\n"
     ]
    }
   ],
   "source": [
    "def statsmodels(features, label):\n",
    "    start_time = time.time()\n",
    "\n",
    "    X_constant = sm.add_constant(features)\n",
    "    model = sm.OLS(label, X_constant).fit()\n",
    "    summary = model.summary()\n",
    "\n",
    "    elapsed_time = time.time() - start_time\n",
    "\n",
    "    # Display results\n",
    "    print(f\"Computed beta coefficients in {elapsed_time:.6f} seconds\")\n",
    "    print(f\"Memory usage for: {sys.getsizeof(model)} bytes\")\n",
    "    print(\"\\nModel Summary:\")\n",
    "    print(summary)\n",
    "\n",
    "    return model, summary\n",
    "\n",
    "# Unpack both the model and summary\n",
    "statsmodels_yes_model, statsmodels_yes_summary = statsmodels(X_extracurricular_yes, y)\n",
    "statsmodels_no_model, statsmodels_no_summary = statsmodels(X_extracurricular_no, y)"
   ]
  },
  {
   "cell_type": "code",
   "execution_count": 21,
   "metadata": {},
   "outputs": [],
   "source": [
    "comparison_extracurricular_yes['statsmodels'] = statsmodels_yes_model.params.values\n",
    "comparison_extracurricular_no['statsmodels'] = statsmodels_no_model.params.values"
   ]
  },
  {
   "cell_type": "markdown",
   "metadata": {},
   "source": [
    "SciPy's coefficients are fairly close! The $R^2$ is as well. While the F-tests are both very high, their differences are pronounced. This may be due to numerical stability, differences in computational approaches and degrees of freedom, how the intercept is handled by each, and exclusion of multicollinear terms by statsmodels.\n",
    "\n",
    "The memory usage for SciPy and NumPy are much higher, by a rate of 19. Statsmodels is 2.5 times as fast as SciPy's as well. \n",
    "\n",
    "While the speed isn't much of a difference, the memory usage can become an issue if a dataset had 1 million rows. "
   ]
  },
  {
   "cell_type": "markdown",
   "metadata": {},
   "source": [
    "Overall, we have a robust model, though it's much more robust when using SciPy. \n",
    "\n",
    "How does OLS compare to GD?"
   ]
  },
  {
   "cell_type": "markdown",
   "metadata": {},
   "source": [
    "## Gradient Descent (GD)"
   ]
  },
  {
   "cell_type": "markdown",
   "metadata": {},
   "source": [
    "### Conventional GD"
   ]
  },
  {
   "cell_type": "markdown",
   "metadata": {},
   "source": [
    "It should be *emphasized* that the results of GD will likely be different because it relies on a training set, namely a smaller dataset of the data. In other words, it finds the parameters as the dataset grows, whereas OLS is much more static since it provides the parameters as given; not as they change. That can seriously affect the accuracy of the results.\n",
    "\n",
    "Nonetheless, let's take a look."
   ]
  },
  {
   "cell_type": "markdown",
   "metadata": {},
   "source": [
    "We will be using an equation similar to this one to derive the parameters for GD:\n",
    "\n",
    "<!-- $$\\beta_0^{(t+1)} = \\beta_0^{(t)} - 0.01 \\times \\frac{2}{N} {1}^T (\\mathbf{X} \\boldsymbol{\\beta}^{(t)} + \\beta_0 \\mathbf{1} - \\mathbf{y})$$ -->\n",
    "\n",
    "<!-- $$\\boldsymbol{\\beta}^{(t+1)} = \\boldsymbol{\\beta}^{(t)} - 0.01 \\times \\frac{2}{N} \\mathbf{X}^T (\\mathbf{X} \\boldsymbol{\\beta}^{(t)} + \\beta_0 \\mathbf{1} - \\mathbf{y})$$ -->\n",
    "\n",
    "$$\\boldsymbol{β}^{t+1} = \\boldsymbol{β}^t - 0.01 \\cdot \\frac{1}{N} \\cdot 2\\boldsymbol{X}^T \\cdot (\\boldsymbol{X}\\boldsymbol{β} - \\boldsymbol{y})$$"
   ]
  },
  {
   "cell_type": "markdown",
   "metadata": {},
   "source": [
    "There are several types of scaling that can be used as well. They can be applied in the function should you like.\n",
    "\n",
    "You have the option to use one of the following two: min-max scaling (normalization) and standardization:\n",
    "- Normalization scales the data to a specific range, which will be 0 (min) and 1 (max), hence the term min-max scaling.\n",
    "- Standardization scales the data to have a mean of 0 and a standard deviation of 1, hence the term Z-score scaling."
   ]
  },
  {
   "cell_type": "code",
   "execution_count": 23,
   "metadata": {},
   "outputs": [
    {
     "name": "stdout",
     "output_type": "stream",
     "text": [
      "Computed beta coefficients in 0.034290 seconds\n",
      "Memory usage for Pandas Series: 516 bytes\n",
      "Intercept                           0.006810\n",
      "Hours Studied                       0.037728\n",
      "Previous Scores                     0.515810\n",
      "Sleep Hours                         0.044779\n",
      "Sample Question Papers Practiced    0.031631\n",
      "Extracurricular Activities_Yes      0.003416\n",
      "dtype: float64\n",
      "Computed beta coefficients in 0.034221 seconds\n",
      "Memory usage for Pandas Series: 515 bytes\n",
      "Intercept                           0.006810\n",
      "Hours Studied                       0.037728\n",
      "Previous Scores                     0.515810\n",
      "Sleep Hours                         0.044779\n",
      "Sample Question Papers Practiced    0.031631\n",
      "Extracurricular Activities_No       0.003394\n",
      "dtype: float64\n"
     ]
    }
   ],
   "source": [
    "def gradient_descent(features, label, cols, learning_rate, epochs, precision):\n",
    "    X_train, X_test, y_train, y_test = train_test_split(features, label, test_size=0.2, random_state=10)\n",
    "\n",
    "    scaling = input('Do you want to scale (normalization, standardization, or no)?')\n",
    "    # learning_rate = float(input('Specify the learning rate.'))\n",
    "    # epochs = int(input('Specify the number of epochs.'))\n",
    "    # precision = float(input('Specify the precision at which your gradient will stop if it reaches this point (\"step size\").'))\n",
    "\n",
    "    start_time = time.time()  # Start timing\n",
    "\n",
    "    if scaling.lower() == 'normalization':\n",
    "        scaler = MinMaxScaler()\n",
    "    elif scaling.lower() == 'standardization':\n",
    "        scaler = StandardScaler()\n",
    "    elif scaling.lower() == 'no':\n",
    "        scaler = None\n",
    "    else:\n",
    "        print('Sorry, that is not a valid response.')\n",
    "        return None, None, None\n",
    "\n",
    "    if scaler:\n",
    "        scaler.fit(X_train)\n",
    "        X_train = scaler.transform(X_train)\n",
    "        X_test = scaler.transform(X_test)\n",
    "\n",
    "    guesses = []\n",
    "    losses = []  # To store the loss at each epoch\n",
    "\n",
    "    # Add a column of ones for the intercept\n",
    "    X_augmented = np.hstack((np.ones((features.shape[0], 1)), features))\n",
    "    beta = np.zeros(X_augmented.shape[1])  # Initialize coefficients (including intercept)\n",
    "\n",
    "    for epoch in range(epochs):\n",
    "        # Compute predictions\n",
    "        predictions = X_augmented @ beta\n",
    "\n",
    "        # Compute residuals\n",
    "        residuals = predictions - label\n",
    "\n",
    "        # Compute gradient\n",
    "        gradient = (2 / len(label)) * X_augmented.T @ residuals\n",
    "\n",
    "        # Update beta coefficients\n",
    "        beta = beta - learning_rate * gradient\n",
    "\n",
    "        # Track guesses and loss\n",
    "        guesses.append(beta.copy())\n",
    "        loss = np.mean(residuals ** 2)\n",
    "        losses.append(loss)\n",
    "\n",
    "        # Convergence check\n",
    "        step_size = np.max(np.abs(gradient))\n",
    "        if step_size < precision:\n",
    "            break\n",
    "\n",
    "    elapsed_time = time.time() - start_time\n",
    "\n",
    "    beta_series = pd.Series(data=beta, index=cols)\n",
    "\n",
    "    # Display results\n",
    "    print(f\"Computed beta coefficients in {elapsed_time:.6f} seconds\")\n",
    "    print(f'Memory usage for Pandas Series: {sys.getsizeof(beta_series)} bytes')\n",
    "    # print(\"Loss:\", losses[-1])\n",
    "    print(beta_series)\n",
    "\n",
    "    return beta_series, guesses, losses\n",
    "    # learning_rate=0.000001, epochs=100, precision=0.00001\n",
    "\n",
    "gradient_descent_yes, guesses, losses = gradient_descent(X_extracurricular_yes, y, cols_yes, learning_rate=0.000001, epochs=100, precision=0.00001)\n",
    "gradient_descent_no, guesses, losses = gradient_descent(X_extracurricular_no, y, cols_no, learning_rate=0.000001, epochs=100, precision=0.00001)"
   ]
  },
  {
   "cell_type": "markdown",
   "metadata": {},
   "source": [
    "The coefficients are *very* different. However, GD stops at a certain step size, as seen in the code. That may change if the data is scaled: transforming the data to handle outliers or more.\n",
    "\n",
    "The memory usage is the same since NumPy and SciPy are using a Pandas series. However, NumPy and SciPy were transformed to a Pandas series; their memory usage is actually one-sixth of that, so that should be taken into account. \n",
    "\n",
    "However, GD's speed is much slower: 598 times slower relative to NumPy; 46 times slower relative to SciPy. That makes a huge difference. What remains to be seen is if that will change when GD is regularized."
   ]
  },
  {
   "cell_type": "code",
   "execution_count": 24,
   "metadata": {},
   "outputs": [],
   "source": [
    "comparison_extracurricular_yes['Conventional GD'] = gradient_descent_yes\n",
    "comparison_extracurricular_no['Conventional GD'] = gradient_descent_no"
   ]
  },
  {
   "cell_type": "markdown",
   "metadata": {},
   "source": [
    "#### Loss Curve\n",
    "\n",
    "With the cost function we are using, the loss begins to settle at a very low number--but never 0--after a certain number of epochs."
   ]
  },
  {
   "cell_type": "code",
   "execution_count": 25,
   "metadata": {},
   "outputs": [
    {
     "ename": "NameError",
     "evalue": "name 'X_train' is not defined",
     "output_type": "error",
     "traceback": [
      "\u001b[0;31m---------------------------------------------------------------------------\u001b[0m",
      "\u001b[0;31mNameError\u001b[0m                                 Traceback (most recent call last)",
      "Cell \u001b[0;32mIn[25], line 4\u001b[0m\n\u001b[1;32m      1\u001b[0m n \u001b[38;5;241m=\u001b[39m \u001b[38;5;241m5000\u001b[39m\n\u001b[1;32m      3\u001b[0m beta, guesses, losses \u001b[38;5;241m=\u001b[39m gradient_descent(\n\u001b[0;32m----> 4\u001b[0m     \u001b[43mX_train\u001b[49m, y_train, learning_rate\u001b[38;5;241m=\u001b[39m\u001b[38;5;241m0.00001\u001b[39m, epochs\u001b[38;5;241m=\u001b[39mn, precision\u001b[38;5;241m=\u001b[39m\u001b[38;5;241m0.0001\u001b[39m\n\u001b[1;32m      5\u001b[0m )\n\u001b[1;32m      7\u001b[0m \u001b[38;5;66;03m# Plotting the Loss Function\u001b[39;00m\n\u001b[1;32m      8\u001b[0m number_iterations \u001b[38;5;241m=\u001b[39m \u001b[38;5;28mlist\u001b[39m(\u001b[38;5;28mrange\u001b[39m(\u001b[38;5;28mlen\u001b[39m(losses)))\n",
      "\u001b[0;31mNameError\u001b[0m: name 'X_train' is not defined"
     ]
    }
   ],
   "source": [
    "n = 5000\n",
    "\n",
    "beta, guesses, losses = gradient_descent(\n",
    "    X_train, y_train, learning_rate=0.00001, epochs=n, precision=0.0001\n",
    ")\n",
    "\n",
    "# Plotting the Loss Function\n",
    "number_iterations = list(range(len(losses)))\n",
    "plt.plot(number_iterations, losses, label=\"Cost Function (Loss)\")\n",
    "plt.xlabel(\"Number of Iterations\")\n",
    "plt.ylabel(\"Mean Squared Error (Loss)\")\n",
    "plt.title(\"Cost Function During Gradient Descent\")\n",
    "plt.legend()\n",
    "plt.show()"
   ]
  },
  {
   "cell_type": "markdown",
   "metadata": {},
   "source": [
    "None of our training data sets gives parameters that reflect what statsmodels and SciPy provided. How does this compare to the results of Scikit-Learn's linear regression, ridge regression, and lasso regression?\n",
    "\n",
    "*Note: I won't get into the math behind ridge (ℓ2, or euclidean, norm) lasso (ℓ1, or manhattan, norm) regressions, but they use a penalty to prevent prevent overfitting of the parameters.*"
   ]
  },
  {
   "cell_type": "markdown",
   "metadata": {},
   "source": [
    "## Alternative Regressions"
   ]
  },
  {
   "cell_type": "code",
   "execution_count": 26,
   "metadata": {},
   "outputs": [
    {
     "name": "stdout",
     "output_type": "stream",
     "text": [
      "Scikit-Learn OLS Regression\n",
      "R-squared: 0.9886813814840943\n",
      "F-statistic: 172376.49943577466\n",
      "Coefficients:\n",
      "Intercept                          -34.068915\n",
      "Hours Studied                        2.852729\n",
      "Previous Scores                      1.018319\n",
      "Sleep Hours                          0.480321\n",
      "Sample Question Papers Practiced     0.193910\n",
      "Extracurricular Activities_Yes       0.616693\n",
      "dtype: float64\n",
      "Elapsed time: 0.009751 seconds\n",
      "Memory usage: 516 bytes\n",
      "\n",
      "Ridge Regression\n",
      "R-squared: 0.9886813736704553\n",
      "F-statistic: 172366.9801707236\n",
      "Coefficients:\n",
      "Intercept                          -34.064059\n",
      "Hours Studied                        2.852300\n",
      "Previous Scores                      1.018316\n",
      "Sleep Hours                          0.480137\n",
      "Sample Question Papers Practiced     0.193899\n",
      "Extracurricular Activities_Yes       0.614203\n",
      "dtype: float64\n",
      "Elapsed time: 0.010675 seconds\n",
      "Memory usage: 516 bytes\n",
      "\n",
      "Lasso Regression\n",
      "R-squared: 0.9443161414119158\n",
      "F-statistic: 28958.122841497116\n",
      "Coefficients:\n",
      "Intercept                          -19.879098\n",
      "Hours Studied                        1.362928\n",
      "Previous Scores                      0.983450\n",
      "Sleep Hours                          0.000000\n",
      "Sample Question Papers Practiced     0.000000\n",
      "Extracurricular Activities_Yes       0.000000\n",
      "dtype: float64\n",
      "Elapsed time: 0.014966 seconds\n",
      "Memory usage: 516 bytes\n",
      "\n",
      "Scikit-Learn OLS Regression\n",
      "R-squared: 0.9886813814840943\n",
      "F-statistic: 172376.49943577472\n",
      "Coefficients:\n",
      "Intercept                          -33.452221\n",
      "Hours Studied                        2.852729\n",
      "Previous Scores                      1.018319\n",
      "Sleep Hours                          0.480321\n",
      "Sample Question Papers Practiced     0.193910\n",
      "Extracurricular Activities_No       -0.616693\n",
      "dtype: float64\n",
      "Elapsed time: 0.003290 seconds\n",
      "Memory usage: 515 bytes\n",
      "\n",
      "Ridge Regression\n",
      "R-squared: 0.9886813736704553\n",
      "F-statistic: 172366.98017072372\n",
      "Coefficients:\n",
      "Intercept                          -33.449856\n",
      "Hours Studied                        2.852300\n",
      "Previous Scores                      1.018316\n",
      "Sleep Hours                          0.480137\n",
      "Sample Question Papers Practiced     0.193899\n",
      "Extracurricular Activities_No       -0.614203\n",
      "dtype: float64\n",
      "Elapsed time: 0.002194 seconds\n",
      "Memory usage: 515 bytes\n",
      "\n",
      "Lasso Regression\n",
      "R-squared: 0.9443161414119158\n",
      "F-statistic: 28958.122841497116\n",
      "Coefficients:\n",
      "Intercept                          -19.879098\n",
      "Hours Studied                        1.362928\n",
      "Previous Scores                      0.983450\n",
      "Sleep Hours                          0.000000\n",
      "Sample Question Papers Practiced     0.000000\n",
      "Extracurricular Activities_No       -0.000000\n",
      "dtype: float64\n",
      "Elapsed time: 0.002421 seconds\n",
      "Memory usage: 515 bytes\n",
      "\n"
     ]
    }
   ],
   "source": [
    "def train_sklearn_models(X_train, y_train, cols, ridge_alpha=1.0, lasso_alpha=1.0):\n",
    "    results = {}\n",
    "\n",
    "    models = {\n",
    "        'Scikit-Learn OLS': linear_model.LinearRegression(fit_intercept=True),\n",
    "        'Ridge': linear_model.Ridge(alpha=ridge_alpha, fit_intercept=True, solver='auto'),\n",
    "        'Lasso': linear_model.Lasso(alpha=lasso_alpha, fit_intercept=True)\n",
    "    }\n",
    "\n",
    "    for name, model in models.items():\n",
    "        start_time = time.time()\n",
    "        model.fit(X_train, y_train)\n",
    "\n",
    "        coefficients = np.insert(model.coef_, 0, model.intercept_)\n",
    "        beta_series = pd.Series(data=coefficients, index=cols)\n",
    "        \n",
    "        # Calculate F-statistic\n",
    "        y_mean = y_train.mean()\n",
    "        y_pred = model.predict(X_train)\n",
    "        ss_reg = sum((y_pred - y_mean) ** 2)\n",
    "        ss_res = sum((y_train - y_pred) ** 2)\n",
    "        n = len(y_train)\n",
    "        k = X_train.shape[1]  # Number of predictors\n",
    "        f_stat = (ss_reg / k) / (ss_res / (n - k - 1))\n",
    "\n",
    "        elapsed_time = time.time() - start_time\n",
    "        memory_usage = sys.getsizeof(beta_series)\n",
    "\n",
    "        results[name] = {\n",
    "            'R-squared': model.score(X_train, y_train),\n",
    "            'F-test': f_stat,\n",
    "            'Coefficients': beta_series,\n",
    "            'Elapsed time': elapsed_time,\n",
    "            'Memory usage': memory_usage\n",
    "        }\n",
    "\n",
    "        print(f\"{name} Regression\")\n",
    "        print(f\"R-squared: {results[name]['R-squared']}\")\n",
    "        print(f\"F-statistic: {results[name]['F-test']}\")\n",
    "        print(f\"Coefficients:\\n{results[name]['Coefficients']}\")\n",
    "        print(f\"Elapsed time: {results[name]['Elapsed time']:.6f} seconds\")\n",
    "        print(f\"Memory usage: {results[name]['Memory usage']} bytes\\n\")\n",
    "\n",
    "    return results\n",
    "\n",
    "alternative_results_yes = train_sklearn_models(X_extracurricular_yes, y, cols_yes, ridge_alpha=10.0, lasso_alpha=10.0)\n",
    "alternative_results_no = train_sklearn_models(X_extracurricular_no, y, cols_no, ridge_alpha=10.0, lasso_alpha=10.0)"
   ]
  },
  {
   "cell_type": "code",
   "execution_count": 27,
   "metadata": {},
   "outputs": [],
   "source": [
    "for regression in alternative_results_yes:\n",
    "    comparison_extracurricular_yes[regression] = alternative_results_yes[regression]['Coefficients']\n",
    "\n",
    "for regression in alternative_results_no:\n",
    "    comparison_extracurricular_no[regression] = alternative_results_no[regression]['Coefficients']"
   ]
  },
  {
   "cell_type": "code",
   "execution_count": 29,
   "metadata": {},
   "outputs": [
    {
     "name": "stdout",
     "output_type": "stream",
     "text": [
      "{'NumPy OLS': [-34.06891477989156, 2.852728515220984, 1.0183194487195228, 0.4803212647846124, 0.19390999666166528, 0.616693446806748], 'SciPy OLS': [-34.06891477990311, 2.852728515221207, 1.0183194487195895, 0.4803212647852745, 0.19390999666180936, 0.6166934468074292], 'statsmodels': [-34.06891477989251, 2.852728515221157, 1.0183194487195246, 0.480321264784639, 0.19390999666166306, 0.6166934468067522], 'Conventional GD': [0.0068098874361761106, 0.0377276565612025, 0.5158103320691536, 0.04477897422951217, 0.03163127998819945, 0.0034158409558801626], 'Scikit-Learn OLS': [-34.06891477989275, 2.852728515221117, 1.0183194487195295, 0.48032126478463666, 0.19390999666165937, 0.6166934468067472], 'Ridge': [-34.06405898523934, 2.8523000677653845, 1.0183161744106195, 0.4801366517351956, 0.1938989144535014, 0.614202564589841], 'Lasso': [-19.87909758557143, 1.362927539289076, 0.9834503915352076, 0.0, 0.0, 0.0]}\n"
     ]
    },
    {
     "ename": "TypeError",
     "evalue": "unhashable type: 'numpy.ndarray'",
     "output_type": "error",
     "traceback": [
      "\u001b[0;31m---------------------------------------------------------------------------\u001b[0m",
      "\u001b[0;31mTypeError\u001b[0m                                 Traceback (most recent call last)",
      "Cell \u001b[0;32mIn[29], line 24\u001b[0m\n\u001b[1;32m     22\u001b[0m dictionary \u001b[38;5;241m=\u001b[39m comparison_extracurricular_yes\u001b[38;5;241m.\u001b[39mto_dict(orient\u001b[38;5;241m=\u001b[39m\u001b[38;5;124m'\u001b[39m\u001b[38;5;124mlist\u001b[39m\u001b[38;5;124m'\u001b[39m)\n\u001b[1;32m     23\u001b[0m \u001b[38;5;28mprint\u001b[39m(dictionary)\n\u001b[0;32m---> 24\u001b[0m \u001b[43mplt\u001b[49m\u001b[38;5;241;43m.\u001b[39;49m\u001b[43mbar\u001b[49m\u001b[43m(\u001b[49m\u001b[43mdictionary\u001b[49m\u001b[38;5;241;43m.\u001b[39;49m\u001b[43mkeys\u001b[49m\u001b[43m(\u001b[49m\u001b[43m)\u001b[49m\u001b[43m,\u001b[49m\u001b[43m \u001b[49m\u001b[43mdictionary\u001b[49m\u001b[38;5;241;43m.\u001b[39;49m\u001b[43mitems\u001b[49m\u001b[43m(\u001b[49m\u001b[43m)\u001b[49m\u001b[43m)\u001b[49m\n\u001b[1;32m     25\u001b[0m plt\u001b[38;5;241m.\u001b[39mshow()\n",
      "File \u001b[0;32m~/miniforge3/envs/miniforge/lib/python3.10/site-packages/matplotlib/pyplot.py:2956\u001b[0m, in \u001b[0;36mbar\u001b[0;34m(x, height, width, bottom, align, data, **kwargs)\u001b[0m\n\u001b[1;32m   2945\u001b[0m \u001b[38;5;129m@_copy_docstring_and_deprecators\u001b[39m(Axes\u001b[38;5;241m.\u001b[39mbar)\n\u001b[1;32m   2946\u001b[0m \u001b[38;5;28;01mdef\u001b[39;00m \u001b[38;5;21mbar\u001b[39m(\n\u001b[1;32m   2947\u001b[0m     x: \u001b[38;5;28mfloat\u001b[39m \u001b[38;5;241m|\u001b[39m ArrayLike,\n\u001b[0;32m   (...)\u001b[0m\n\u001b[1;32m   2954\u001b[0m     \u001b[38;5;241m*\u001b[39m\u001b[38;5;241m*\u001b[39mkwargs,\n\u001b[1;32m   2955\u001b[0m ) \u001b[38;5;241m-\u001b[39m\u001b[38;5;241m>\u001b[39m BarContainer:\n\u001b[0;32m-> 2956\u001b[0m     \u001b[38;5;28;01mreturn\u001b[39;00m \u001b[43mgca\u001b[49m\u001b[43m(\u001b[49m\u001b[43m)\u001b[49m\u001b[38;5;241;43m.\u001b[39;49m\u001b[43mbar\u001b[49m\u001b[43m(\u001b[49m\n\u001b[1;32m   2957\u001b[0m \u001b[43m        \u001b[49m\u001b[43mx\u001b[49m\u001b[43m,\u001b[49m\n\u001b[1;32m   2958\u001b[0m \u001b[43m        \u001b[49m\u001b[43mheight\u001b[49m\u001b[43m,\u001b[49m\n\u001b[1;32m   2959\u001b[0m \u001b[43m        \u001b[49m\u001b[43mwidth\u001b[49m\u001b[38;5;241;43m=\u001b[39;49m\u001b[43mwidth\u001b[49m\u001b[43m,\u001b[49m\n\u001b[1;32m   2960\u001b[0m \u001b[43m        \u001b[49m\u001b[43mbottom\u001b[49m\u001b[38;5;241;43m=\u001b[39;49m\u001b[43mbottom\u001b[49m\u001b[43m,\u001b[49m\n\u001b[1;32m   2961\u001b[0m \u001b[43m        \u001b[49m\u001b[43malign\u001b[49m\u001b[38;5;241;43m=\u001b[39;49m\u001b[43malign\u001b[49m\u001b[43m,\u001b[49m\n\u001b[1;32m   2962\u001b[0m \u001b[43m        \u001b[49m\u001b[38;5;241;43m*\u001b[39;49m\u001b[38;5;241;43m*\u001b[39;49m\u001b[43m(\u001b[49m\u001b[43m{\u001b[49m\u001b[38;5;124;43m\"\u001b[39;49m\u001b[38;5;124;43mdata\u001b[39;49m\u001b[38;5;124;43m\"\u001b[39;49m\u001b[43m:\u001b[49m\u001b[43m \u001b[49m\u001b[43mdata\u001b[49m\u001b[43m}\u001b[49m\u001b[43m \u001b[49m\u001b[38;5;28;43;01mif\u001b[39;49;00m\u001b[43m \u001b[49m\u001b[43mdata\u001b[49m\u001b[43m \u001b[49m\u001b[38;5;129;43;01mis\u001b[39;49;00m\u001b[43m \u001b[49m\u001b[38;5;129;43;01mnot\u001b[39;49;00m\u001b[43m \u001b[49m\u001b[38;5;28;43;01mNone\u001b[39;49;00m\u001b[43m \u001b[49m\u001b[38;5;28;43;01melse\u001b[39;49;00m\u001b[43m \u001b[49m\u001b[43m{\u001b[49m\u001b[43m}\u001b[49m\u001b[43m)\u001b[49m\u001b[43m,\u001b[49m\n\u001b[1;32m   2963\u001b[0m \u001b[43m        \u001b[49m\u001b[38;5;241;43m*\u001b[39;49m\u001b[38;5;241;43m*\u001b[39;49m\u001b[43mkwargs\u001b[49m\u001b[43m,\u001b[49m\n\u001b[1;32m   2964\u001b[0m \u001b[43m    \u001b[49m\u001b[43m)\u001b[49m\n",
      "File \u001b[0;32m~/miniforge3/envs/miniforge/lib/python3.10/site-packages/matplotlib/__init__.py:1473\u001b[0m, in \u001b[0;36m_preprocess_data.<locals>.inner\u001b[0;34m(ax, data, *args, **kwargs)\u001b[0m\n\u001b[1;32m   1470\u001b[0m \u001b[38;5;129m@functools\u001b[39m\u001b[38;5;241m.\u001b[39mwraps(func)\n\u001b[1;32m   1471\u001b[0m \u001b[38;5;28;01mdef\u001b[39;00m \u001b[38;5;21minner\u001b[39m(ax, \u001b[38;5;241m*\u001b[39margs, data\u001b[38;5;241m=\u001b[39m\u001b[38;5;28;01mNone\u001b[39;00m, \u001b[38;5;241m*\u001b[39m\u001b[38;5;241m*\u001b[39mkwargs):\n\u001b[1;32m   1472\u001b[0m     \u001b[38;5;28;01mif\u001b[39;00m data \u001b[38;5;129;01mis\u001b[39;00m \u001b[38;5;28;01mNone\u001b[39;00m:\n\u001b[0;32m-> 1473\u001b[0m         \u001b[38;5;28;01mreturn\u001b[39;00m \u001b[43mfunc\u001b[49m\u001b[43m(\u001b[49m\n\u001b[1;32m   1474\u001b[0m \u001b[43m            \u001b[49m\u001b[43max\u001b[49m\u001b[43m,\u001b[49m\n\u001b[1;32m   1475\u001b[0m \u001b[43m            \u001b[49m\u001b[38;5;241;43m*\u001b[39;49m\u001b[38;5;28;43mmap\u001b[39;49m\u001b[43m(\u001b[49m\u001b[43msanitize_sequence\u001b[49m\u001b[43m,\u001b[49m\u001b[43m \u001b[49m\u001b[43margs\u001b[49m\u001b[43m)\u001b[49m\u001b[43m,\u001b[49m\n\u001b[1;32m   1476\u001b[0m \u001b[43m            \u001b[49m\u001b[38;5;241;43m*\u001b[39;49m\u001b[38;5;241;43m*\u001b[39;49m\u001b[43m{\u001b[49m\u001b[43mk\u001b[49m\u001b[43m:\u001b[49m\u001b[43m \u001b[49m\u001b[43msanitize_sequence\u001b[49m\u001b[43m(\u001b[49m\u001b[43mv\u001b[49m\u001b[43m)\u001b[49m\u001b[43m \u001b[49m\u001b[38;5;28;43;01mfor\u001b[39;49;00m\u001b[43m \u001b[49m\u001b[43mk\u001b[49m\u001b[43m,\u001b[49m\u001b[43m \u001b[49m\u001b[43mv\u001b[49m\u001b[43m \u001b[49m\u001b[38;5;129;43;01min\u001b[39;49;00m\u001b[43m \u001b[49m\u001b[43mkwargs\u001b[49m\u001b[38;5;241;43m.\u001b[39;49m\u001b[43mitems\u001b[49m\u001b[43m(\u001b[49m\u001b[43m)\u001b[49m\u001b[43m}\u001b[49m\u001b[43m)\u001b[49m\n\u001b[1;32m   1478\u001b[0m     bound \u001b[38;5;241m=\u001b[39m new_sig\u001b[38;5;241m.\u001b[39mbind(ax, \u001b[38;5;241m*\u001b[39margs, \u001b[38;5;241m*\u001b[39m\u001b[38;5;241m*\u001b[39mkwargs)\n\u001b[1;32m   1479\u001b[0m     auto_label \u001b[38;5;241m=\u001b[39m (bound\u001b[38;5;241m.\u001b[39marguments\u001b[38;5;241m.\u001b[39mget(label_namer)\n\u001b[1;32m   1480\u001b[0m                   \u001b[38;5;129;01mor\u001b[39;00m bound\u001b[38;5;241m.\u001b[39mkwargs\u001b[38;5;241m.\u001b[39mget(label_namer))\n",
      "File \u001b[0;32m~/miniforge3/envs/miniforge/lib/python3.10/site-packages/matplotlib/axes/_axes.py:2492\u001b[0m, in \u001b[0;36mAxes.bar\u001b[0;34m(self, x, height, width, bottom, align, **kwargs)\u001b[0m\n\u001b[1;32m   2486\u001b[0m         x \u001b[38;5;241m=\u001b[39m \u001b[38;5;241m0\u001b[39m\n\u001b[1;32m   2488\u001b[0m \u001b[38;5;28;01mif\u001b[39;00m orientation \u001b[38;5;241m==\u001b[39m \u001b[38;5;124m'\u001b[39m\u001b[38;5;124mvertical\u001b[39m\u001b[38;5;124m'\u001b[39m:\n\u001b[1;32m   2489\u001b[0m     \u001b[38;5;66;03m# It is possible for y (bottom) to contain unit information.\u001b[39;00m\n\u001b[1;32m   2490\u001b[0m     \u001b[38;5;66;03m# However, it is also possible for y=0 for the default and height\u001b[39;00m\n\u001b[1;32m   2491\u001b[0m     \u001b[38;5;66;03m# to contain unit information.  This will prioritize the units of y.\u001b[39;00m\n\u001b[0;32m-> 2492\u001b[0m     \u001b[38;5;28;43mself\u001b[39;49m\u001b[38;5;241;43m.\u001b[39;49m\u001b[43m_process_unit_info\u001b[49m\u001b[43m(\u001b[49m\n\u001b[1;32m   2493\u001b[0m \u001b[43m        \u001b[49m\u001b[43m[\u001b[49m\u001b[43m(\u001b[49m\u001b[38;5;124;43m\"\u001b[39;49m\u001b[38;5;124;43mx\u001b[39;49m\u001b[38;5;124;43m\"\u001b[39;49m\u001b[43m,\u001b[49m\u001b[43m \u001b[49m\u001b[43mx\u001b[49m\u001b[43m)\u001b[49m\u001b[43m,\u001b[49m\u001b[43m \u001b[49m\u001b[43m(\u001b[49m\u001b[38;5;124;43m\"\u001b[39;49m\u001b[38;5;124;43my\u001b[39;49m\u001b[38;5;124;43m\"\u001b[39;49m\u001b[43m,\u001b[49m\u001b[43m \u001b[49m\u001b[43my\u001b[49m\u001b[43m)\u001b[49m\u001b[43m,\u001b[49m\u001b[43m \u001b[49m\u001b[43m(\u001b[49m\u001b[38;5;124;43m\"\u001b[39;49m\u001b[38;5;124;43my\u001b[39;49m\u001b[38;5;124;43m\"\u001b[39;49m\u001b[43m,\u001b[49m\u001b[43m \u001b[49m\u001b[43mheight\u001b[49m\u001b[43m)\u001b[49m\u001b[43m]\u001b[49m\u001b[43m,\u001b[49m\u001b[43m \u001b[49m\u001b[43mkwargs\u001b[49m\u001b[43m,\u001b[49m\u001b[43m \u001b[49m\u001b[43mconvert\u001b[49m\u001b[38;5;241;43m=\u001b[39;49m\u001b[38;5;28;43;01mFalse\u001b[39;49;00m\u001b[43m)\u001b[49m\n\u001b[1;32m   2494\u001b[0m     \u001b[38;5;28;01mif\u001b[39;00m log:\n\u001b[1;32m   2495\u001b[0m         \u001b[38;5;28mself\u001b[39m\u001b[38;5;241m.\u001b[39mset_yscale(\u001b[38;5;124m'\u001b[39m\u001b[38;5;124mlog\u001b[39m\u001b[38;5;124m'\u001b[39m, nonpositive\u001b[38;5;241m=\u001b[39m\u001b[38;5;124m'\u001b[39m\u001b[38;5;124mclip\u001b[39m\u001b[38;5;124m'\u001b[39m)\n",
      "File \u001b[0;32m~/miniforge3/envs/miniforge/lib/python3.10/site-packages/matplotlib/axes/_base.py:2585\u001b[0m, in \u001b[0;36m_AxesBase._process_unit_info\u001b[0;34m(self, datasets, kwargs, convert)\u001b[0m\n\u001b[1;32m   2583\u001b[0m     \u001b[38;5;66;03m# Update from data if axis is already set but no unit is set yet.\u001b[39;00m\n\u001b[1;32m   2584\u001b[0m     \u001b[38;5;28;01mif\u001b[39;00m axis \u001b[38;5;129;01mis\u001b[39;00m \u001b[38;5;129;01mnot\u001b[39;00m \u001b[38;5;28;01mNone\u001b[39;00m \u001b[38;5;129;01mand\u001b[39;00m data \u001b[38;5;129;01mis\u001b[39;00m \u001b[38;5;129;01mnot\u001b[39;00m \u001b[38;5;28;01mNone\u001b[39;00m \u001b[38;5;129;01mand\u001b[39;00m \u001b[38;5;129;01mnot\u001b[39;00m axis\u001b[38;5;241m.\u001b[39mhave_units():\n\u001b[0;32m-> 2585\u001b[0m         \u001b[43maxis\u001b[49m\u001b[38;5;241;43m.\u001b[39;49m\u001b[43mupdate_units\u001b[49m\u001b[43m(\u001b[49m\u001b[43mdata\u001b[49m\u001b[43m)\u001b[49m\n\u001b[1;32m   2586\u001b[0m \u001b[38;5;28;01mfor\u001b[39;00m axis_name, axis \u001b[38;5;129;01min\u001b[39;00m axis_map\u001b[38;5;241m.\u001b[39mitems():\n\u001b[1;32m   2587\u001b[0m     \u001b[38;5;66;03m# Return if no axis is set.\u001b[39;00m\n\u001b[1;32m   2588\u001b[0m     \u001b[38;5;28;01mif\u001b[39;00m axis \u001b[38;5;129;01mis\u001b[39;00m \u001b[38;5;28;01mNone\u001b[39;00m:\n",
      "File \u001b[0;32m~/miniforge3/envs/miniforge/lib/python3.10/site-packages/matplotlib/axis.py:1756\u001b[0m, in \u001b[0;36mAxis.update_units\u001b[0;34m(self, data)\u001b[0m\n\u001b[1;32m   1754\u001b[0m neednew \u001b[38;5;241m=\u001b[39m \u001b[38;5;28mself\u001b[39m\u001b[38;5;241m.\u001b[39mconverter \u001b[38;5;241m!=\u001b[39m converter\n\u001b[1;32m   1755\u001b[0m \u001b[38;5;28mself\u001b[39m\u001b[38;5;241m.\u001b[39mconverter \u001b[38;5;241m=\u001b[39m converter\n\u001b[0;32m-> 1756\u001b[0m default \u001b[38;5;241m=\u001b[39m \u001b[38;5;28;43mself\u001b[39;49m\u001b[38;5;241;43m.\u001b[39;49m\u001b[43mconverter\u001b[49m\u001b[38;5;241;43m.\u001b[39;49m\u001b[43mdefault_units\u001b[49m\u001b[43m(\u001b[49m\u001b[43mdata\u001b[49m\u001b[43m,\u001b[49m\u001b[43m \u001b[49m\u001b[38;5;28;43mself\u001b[39;49m\u001b[43m)\u001b[49m\n\u001b[1;32m   1757\u001b[0m \u001b[38;5;28;01mif\u001b[39;00m default \u001b[38;5;129;01mis\u001b[39;00m \u001b[38;5;129;01mnot\u001b[39;00m \u001b[38;5;28;01mNone\u001b[39;00m \u001b[38;5;129;01mand\u001b[39;00m \u001b[38;5;28mself\u001b[39m\u001b[38;5;241m.\u001b[39munits \u001b[38;5;129;01mis\u001b[39;00m \u001b[38;5;28;01mNone\u001b[39;00m:\n\u001b[1;32m   1758\u001b[0m     \u001b[38;5;28mself\u001b[39m\u001b[38;5;241m.\u001b[39mset_units(default)\n",
      "File \u001b[0;32m~/miniforge3/envs/miniforge/lib/python3.10/site-packages/matplotlib/category.py:105\u001b[0m, in \u001b[0;36mStrCategoryConverter.default_units\u001b[0;34m(data, axis)\u001b[0m\n\u001b[1;32m    103\u001b[0m \u001b[38;5;66;03m# the conversion call stack is default_units -> axis_info -> convert\u001b[39;00m\n\u001b[1;32m    104\u001b[0m \u001b[38;5;28;01mif\u001b[39;00m axis\u001b[38;5;241m.\u001b[39munits \u001b[38;5;129;01mis\u001b[39;00m \u001b[38;5;28;01mNone\u001b[39;00m:\n\u001b[0;32m--> 105\u001b[0m     axis\u001b[38;5;241m.\u001b[39mset_units(\u001b[43mUnitData\u001b[49m\u001b[43m(\u001b[49m\u001b[43mdata\u001b[49m\u001b[43m)\u001b[49m)\n\u001b[1;32m    106\u001b[0m \u001b[38;5;28;01melse\u001b[39;00m:\n\u001b[1;32m    107\u001b[0m     axis\u001b[38;5;241m.\u001b[39munits\u001b[38;5;241m.\u001b[39mupdate(data)\n",
      "File \u001b[0;32m~/miniforge3/envs/miniforge/lib/python3.10/site-packages/matplotlib/category.py:181\u001b[0m, in \u001b[0;36mUnitData.__init__\u001b[0;34m(self, data)\u001b[0m\n\u001b[1;32m    179\u001b[0m \u001b[38;5;28mself\u001b[39m\u001b[38;5;241m.\u001b[39m_counter \u001b[38;5;241m=\u001b[39m itertools\u001b[38;5;241m.\u001b[39mcount()\n\u001b[1;32m    180\u001b[0m \u001b[38;5;28;01mif\u001b[39;00m data \u001b[38;5;129;01mis\u001b[39;00m \u001b[38;5;129;01mnot\u001b[39;00m \u001b[38;5;28;01mNone\u001b[39;00m:\n\u001b[0;32m--> 181\u001b[0m     \u001b[38;5;28;43mself\u001b[39;49m\u001b[38;5;241;43m.\u001b[39;49m\u001b[43mupdate\u001b[49m\u001b[43m(\u001b[49m\u001b[43mdata\u001b[49m\u001b[43m)\u001b[49m\n",
      "File \u001b[0;32m~/miniforge3/envs/miniforge/lib/python3.10/site-packages/matplotlib/category.py:214\u001b[0m, in \u001b[0;36mUnitData.update\u001b[0;34m(self, data)\u001b[0m\n\u001b[1;32m    212\u001b[0m \u001b[38;5;66;03m# check if convertible to number:\u001b[39;00m\n\u001b[1;32m    213\u001b[0m convertible \u001b[38;5;241m=\u001b[39m \u001b[38;5;28;01mTrue\u001b[39;00m\n\u001b[0;32m--> 214\u001b[0m \u001b[38;5;28;01mfor\u001b[39;00m val \u001b[38;5;129;01min\u001b[39;00m \u001b[43mOrderedDict\u001b[49m\u001b[38;5;241;43m.\u001b[39;49m\u001b[43mfromkeys\u001b[49m\u001b[43m(\u001b[49m\u001b[43mdata\u001b[49m\u001b[43m)\u001b[49m:\n\u001b[1;32m    215\u001b[0m     \u001b[38;5;66;03m# OrderedDict just iterates over unique values in data.\u001b[39;00m\n\u001b[1;32m    216\u001b[0m     _api\u001b[38;5;241m.\u001b[39mcheck_isinstance((\u001b[38;5;28mstr\u001b[39m, \u001b[38;5;28mbytes\u001b[39m), value\u001b[38;5;241m=\u001b[39mval)\n\u001b[1;32m    217\u001b[0m     \u001b[38;5;28;01mif\u001b[39;00m convertible:\n\u001b[1;32m    218\u001b[0m         \u001b[38;5;66;03m# this will only be called so long as convertible is True.\u001b[39;00m\n",
      "\u001b[0;31mTypeError\u001b[0m: unhashable type: 'numpy.ndarray'"
     ]
    },
    {
     "data": {
      "image/png": "[encoded data removed]",
      "text/plain": [
       "<Figure size 640x480 with 1 Axes>"
      ]
     },
     "metadata": {},
     "output_type": "display_data"
    }
   ],
   "source": [
    "# parameters = np.array(comparison_extracurricular_yes.index)\n",
    "# print(parameters)\n",
    "# values = comparison_extracurricular_yes.to_numpy()\n",
    "# for i in range(values.shape[1]):  # `values.shape[1]` gives the number of columns\n",
    "#     parameters[i] += values[:, i]\n",
    "# for i in values[i]:\n",
    "#     print(values[i][:])\n",
    "\n",
    "# parameters = dict(comparison_extracurricular_yes.index)  # Parameter names\n",
    "# print(parameters)\n",
    "# values = comparison_extracurricular_yes.to_numpy()\n",
    "# for i in range(len(parameters)):\n",
    "#     parameters[i] = values[:, i]\n",
    "\n",
    "# print(parameters)\n",
    "# results = {}  # Dictionary to hold parameter sums\n",
    "# for i, param in enumerate(parameters):\n",
    "#     results[param] = values[:, i]  # Sum of each column\n",
    "\n",
    "# print(results)  # Dictionary of parameter names and their corresponding sums\n",
    "\n",
    "dictionary = comparison_extracurricular_yes.to_dict(orient='list')\n",
    "print(dictionary)\n",
    "plt.bar(dictionary.keys(), dictionary.items())\n",
    "plt.show()\n"
   ]
  },
  {
   "cell_type": "code",
   "execution_count": 57,
   "metadata": {},
   "outputs": [
    {
     "name": "stdout",
     "output_type": "stream",
     "text": [
      "[[-3.40689148e+01 -3.40689148e+01 -3.40689148e+01  6.80988744e-03\n",
      "  -3.40689148e+01 -3.40640590e+01 -1.98790976e+01]\n",
      " [ 2.85272852e+00  2.85272852e+00  2.85272852e+00  3.77276566e-02\n",
      "   2.85272852e+00  2.85230007e+00  1.36292754e+00]\n",
      " [ 1.01831945e+00  1.01831945e+00  1.01831945e+00  5.15810332e-01\n",
      "   1.01831945e+00  1.01831617e+00  9.83450392e-01]\n",
      " [ 4.80321265e-01  4.80321265e-01  4.80321265e-01  4.47789742e-02\n",
      "   4.80321265e-01  4.80136652e-01  0.00000000e+00]\n",
      " [ 1.93909997e-01  1.93909997e-01  1.93909997e-01  3.16312800e-02\n",
      "   1.93909997e-01  1.93898914e-01  0.00000000e+00]\n",
      " [ 6.16693447e-01  6.16693447e-01  6.16693447e-01  3.41584096e-03\n",
      "   6.16693447e-01  6.14202565e-01  0.00000000e+00]]\n"
     ]
    },
    {
     "name": "stderr",
     "output_type": "stream",
     "text": [
      "/var/folders/k3/r6qtx6ps7r9312vkvx9ynl8c0000gn/T/ipykernel_38488/391733774.py:32: UserWarning: No artists with labels found to put in legend.  Note that artists whose label start with an underscore are ignored when legend() is called with no argument.\n",
      "  plt.legend(title='Models')\n"
     ]
    },
    {
     "data": {
      "image/png": "[encoded data removed]",
      "text/plain": [
       "<Figure size 1200x800 with 1 Axes>"
      ]
     },
     "metadata": {},
     "output_type": "display_data"
    }
   ],
   "source": [
    "import matplotlib.pyplot as plt\n",
    "import numpy as np\n",
    "\n",
    "plt.figure(figsize=(12, 8))  # Increase the width and height\n",
    "\n",
    "\n",
    "# Assuming `comparison_extracurricular_yes` is your DataFrame\n",
    "# Index: Parameters (e.g., \"Intercept\", \"Feature1\", ...)\n",
    "# Columns: Models (e.g., \"OLS\", \"Ridge\", \"Lasso\")\n",
    "\n",
    "# Extract data for plotting\n",
    "headers = comparison_extracurricular_yes.columns  # Model names\n",
    "parameters = comparison_extracurricular_yes.index  # Parameter names\n",
    "values = comparison_extracurricular_yes.to_numpy()  # Parameter values as a 2D array\n",
    "\n",
    "print(values)\n",
    "\n",
    "# Bar chart settings\n",
    "barWidth = 0.25\n",
    "x_positions = np.arange(len(parameters))  # X positions for the parameter groups\n",
    "\n",
    "# Create grouped bar chart\n",
    "# plt.figure(figsize=(10, 6))\n",
    "for i, header in enumerate(headers):\n",
    "    plt.bar(x_positions, values[:, i], width=barWidth)\n",
    "\n",
    "# Add labels, title, and legend\n",
    "plt.xlabel('Parameters', fontweight='bold')\n",
    "plt.ylabel('Values', fontweight='bold')\n",
    "plt.title('Parameter Comparison Across Models')\n",
    "plt.xticks(x_positions + barWidth * (len(headers) - 1) / 2, parameters, rotation=45)\n",
    "plt.legend(title='Models')\n",
    "\n",
    "# Show the chart\n",
    "# plt.tight_layout()\n",
    "plt.show()\n"
   ]
  },
  {
   "cell_type": "code",
   "execution_count": 58,
   "metadata": {},
   "outputs": [
    {
     "data": {
      "image/png": "[encoded data removed]",
      "text/plain": [
       "<Figure size 1000x600 with 1 Axes>"
      ]
     },
     "metadata": {},
     "output_type": "display_data"
    }
   ],
   "source": [
    "import numpy as np\n",
    "import matplotlib.pyplot as plt\n",
    "\n",
    "# Sample Data\n",
    "parameters = [\"Intercept\", \"Coefficient 1\", \"Coefficient 2\"]\n",
    "models = [\"OLS\", \"Ridge\", \"Lasso\"]\n",
    "values = np.array([\n",
    "    [5.1, 5.0, 4.8],  # Intercepts\n",
    "    [2.3, 2.2, 1.9],  # Coefficient 1\n",
    "    [-1.2, -1.1, -1.0],  # Coefficient 2\n",
    "])\n",
    "\n",
    "barWidth = 0.25\n",
    "x_positions = np.arange(len(parameters))  # Group positions\n",
    "\n",
    "# Create the plot\n",
    "plt.figure(figsize=(10, 6))\n",
    "\n",
    "for i, model in enumerate(models):\n",
    "    plt.bar(x_positions + i * barWidth, values[:, i], width=barWidth, label=model)\n",
    "\n",
    "# Customize the chart\n",
    "plt.xlabel('Parameters', fontweight='bold')\n",
    "plt.ylabel('Values', fontweight='bold')\n",
    "plt.title('Parameter Comparison Across Models')\n",
    "plt.xticks(x_positions + barWidth * (len(models) - 1) / 2, parameters, rotation=45, ha='right')\n",
    "plt.legend(title='Models')\n",
    "plt.tight_layout()\n",
    "\n",
    "# Show the plot\n",
    "plt.show()\n"
   ]
  },
  {
   "cell_type": "code",
   "execution_count": null,
   "metadata": {},
   "outputs": [],
   "source": []
  },
  {
   "cell_type": "code",
   "execution_count": 59,
   "metadata": {},
   "outputs": [
    {
     "data": {
      "image/png": "[encoded data removed]",
      "text/plain": [
       "<Figure size 1200x600 with 1 Axes>"
      ]
     },
     "metadata": {},
     "output_type": "display_data"
    }
   ],
   "source": [
    "import numpy as np\n",
    "import matplotlib.pyplot as plt\n",
    "\n",
    "# Sample Data (Replace with your actual data)\n",
    "parameters = [\"Intercept\", \"Coefficient 1\", \"Coefficient 2\", \"Coefficient 3\", \n",
    "              \"Coefficient 4\", \"Coefficient 5\", \"Coefficient 6\"]\n",
    "models = [\"OLS\", \"Ridge\", \"Lasso\"]\n",
    "values = np.array([\n",
    "    [5.1, 5.0, 4.8],  # Intercept\n",
    "    [2.3, 2.2, 1.9],  # Coefficient 1\n",
    "    [-1.2, -1.1, -1.0],  # Coefficient 2\n",
    "    [0.5, 0.4, 0.3],  # Coefficient 3\n",
    "    [1.1, 1.2, 1.0],  # Coefficient 4\n",
    "    [-0.8, -0.7, -0.6],  # Coefficient 5\n",
    "    [3.3, 3.1, 3.0],  # Coefficient 6\n",
    "])\n",
    "\n",
    "barWidth = 0.2  # Adjust for more compact bars\n",
    "x_positions = np.arange(len(parameters))  # Group positions for each parameter\n",
    "\n",
    "# Initialize the plot\n",
    "plt.figure(figsize=(12, 6))\n",
    "\n",
    "# Plot bars for each model\n",
    "for i, model in enumerate(models):\n",
    "    plt.bar(x_positions + i * barWidth, values[:, i], width=barWidth, label=model)\n",
    "\n",
    "# Customize the chart\n",
    "plt.xlabel('Parameters', fontweight='bold')\n",
    "plt.ylabel('Values', fontweight='bold')\n",
    "plt.title('Comparison of Parameters Across Models')\n",
    "plt.xticks(x_positions + barWidth * (len(models) - 1) / 2, parameters, rotation=45, ha='right')\n",
    "plt.legend(title='Models')\n",
    "plt.tight_layout()\n",
    "\n",
    "# Show the plot\n",
    "plt.show()\n"
   ]
  },
  {
   "cell_type": "code",
   "execution_count": null,
   "metadata": {},
   "outputs": [],
   "source": []
  },
  {
   "cell_type": "code",
   "execution_count": 43,
   "metadata": {},
   "outputs": [
    {
     "ename": "ValueError",
     "evalue": "shape mismatch: objects cannot be broadcast to a single shape.  Mismatch is between arg 0 with shape (6,) and arg 1 with shape (7,).",
     "output_type": "error",
     "traceback": [
      "\u001b[0;31m---------------------------------------------------------------------------\u001b[0m",
      "\u001b[0;31mValueError\u001b[0m                                Traceback (most recent call last)",
      "Cell \u001b[0;32mIn[43], line 5\u001b[0m\n\u001b[1;32m      1\u001b[0m barWidth \u001b[38;5;241m=\u001b[39m \u001b[38;5;241m0.25\u001b[39m\n\u001b[1;32m      3\u001b[0m r1 \u001b[38;5;241m=\u001b[39m np\u001b[38;5;241m.\u001b[39marange(\u001b[38;5;28mlen\u001b[39m(comparison_extracurricular_yes))\n\u001b[0;32m----> 5\u001b[0m \u001b[43mplt\u001b[49m\u001b[38;5;241;43m.\u001b[39;49m\u001b[43mbar\u001b[49m\u001b[43m(\u001b[49m\u001b[43mr1\u001b[49m\u001b[43m,\u001b[49m\u001b[43m \u001b[49m\u001b[43m[\u001b[49m\u001b[43mi\u001b[49m\u001b[43m \u001b[49m\u001b[38;5;28;43;01mfor\u001b[39;49;00m\u001b[43m \u001b[49m\u001b[43mi\u001b[49m\u001b[43m \u001b[49m\u001b[38;5;129;43;01min\u001b[39;49;00m\u001b[43m \u001b[49m\u001b[43mcomparison_extracurricular_yes\u001b[49m\u001b[43m]\u001b[49m\u001b[43m,\u001b[49m\u001b[43m \u001b[49m\u001b[43mcolor\u001b[49m\u001b[38;5;241;43m=\u001b[39;49m\u001b[38;5;124;43m'\u001b[39;49m\u001b[38;5;124;43m#7f6d5f\u001b[39;49m\u001b[38;5;124;43m'\u001b[39;49m\u001b[43m,\u001b[49m\u001b[43m \u001b[49m\u001b[43mwidth\u001b[49m\u001b[38;5;241;43m=\u001b[39;49m\u001b[43mbarWidth\u001b[49m\u001b[43m,\u001b[49m\u001b[43m \u001b[49m\u001b[43medgecolor\u001b[49m\u001b[38;5;241;43m=\u001b[39;49m\u001b[38;5;124;43m'\u001b[39;49m\u001b[38;5;124;43mwhite\u001b[39;49m\u001b[38;5;124;43m'\u001b[39;49m\u001b[43m,\u001b[49m\u001b[43m \u001b[49m\u001b[43mlabel\u001b[49m\u001b[38;5;241;43m=\u001b[39;49m\u001b[38;5;124;43m'\u001b[39;49m\u001b[38;5;124;43mProduct A\u001b[39;49m\u001b[38;5;124;43m'\u001b[39;49m\u001b[43m)\u001b[49m\n\u001b[1;32m      6\u001b[0m plt\u001b[38;5;241m.\u001b[39mshow()\n",
      "File \u001b[0;32m~/miniforge3/envs/miniforge/lib/python3.10/site-packages/matplotlib/pyplot.py:2956\u001b[0m, in \u001b[0;36mbar\u001b[0;34m(x, height, width, bottom, align, data, **kwargs)\u001b[0m\n\u001b[1;32m   2945\u001b[0m \u001b[38;5;129m@_copy_docstring_and_deprecators\u001b[39m(Axes\u001b[38;5;241m.\u001b[39mbar)\n\u001b[1;32m   2946\u001b[0m \u001b[38;5;28;01mdef\u001b[39;00m \u001b[38;5;21mbar\u001b[39m(\n\u001b[1;32m   2947\u001b[0m     x: \u001b[38;5;28mfloat\u001b[39m \u001b[38;5;241m|\u001b[39m ArrayLike,\n\u001b[0;32m   (...)\u001b[0m\n\u001b[1;32m   2954\u001b[0m     \u001b[38;5;241m*\u001b[39m\u001b[38;5;241m*\u001b[39mkwargs,\n\u001b[1;32m   2955\u001b[0m ) \u001b[38;5;241m-\u001b[39m\u001b[38;5;241m>\u001b[39m BarContainer:\n\u001b[0;32m-> 2956\u001b[0m     \u001b[38;5;28;01mreturn\u001b[39;00m \u001b[43mgca\u001b[49m\u001b[43m(\u001b[49m\u001b[43m)\u001b[49m\u001b[38;5;241;43m.\u001b[39;49m\u001b[43mbar\u001b[49m\u001b[43m(\u001b[49m\n\u001b[1;32m   2957\u001b[0m \u001b[43m        \u001b[49m\u001b[43mx\u001b[49m\u001b[43m,\u001b[49m\n\u001b[1;32m   2958\u001b[0m \u001b[43m        \u001b[49m\u001b[43mheight\u001b[49m\u001b[43m,\u001b[49m\n\u001b[1;32m   2959\u001b[0m \u001b[43m        \u001b[49m\u001b[43mwidth\u001b[49m\u001b[38;5;241;43m=\u001b[39;49m\u001b[43mwidth\u001b[49m\u001b[43m,\u001b[49m\n\u001b[1;32m   2960\u001b[0m \u001b[43m        \u001b[49m\u001b[43mbottom\u001b[49m\u001b[38;5;241;43m=\u001b[39;49m\u001b[43mbottom\u001b[49m\u001b[43m,\u001b[49m\n\u001b[1;32m   2961\u001b[0m \u001b[43m        \u001b[49m\u001b[43malign\u001b[49m\u001b[38;5;241;43m=\u001b[39;49m\u001b[43malign\u001b[49m\u001b[43m,\u001b[49m\n\u001b[1;32m   2962\u001b[0m \u001b[43m        \u001b[49m\u001b[38;5;241;43m*\u001b[39;49m\u001b[38;5;241;43m*\u001b[39;49m\u001b[43m(\u001b[49m\u001b[43m{\u001b[49m\u001b[38;5;124;43m\"\u001b[39;49m\u001b[38;5;124;43mdata\u001b[39;49m\u001b[38;5;124;43m\"\u001b[39;49m\u001b[43m:\u001b[49m\u001b[43m \u001b[49m\u001b[43mdata\u001b[49m\u001b[43m}\u001b[49m\u001b[43m \u001b[49m\u001b[38;5;28;43;01mif\u001b[39;49;00m\u001b[43m \u001b[49m\u001b[43mdata\u001b[49m\u001b[43m \u001b[49m\u001b[38;5;129;43;01mis\u001b[39;49;00m\u001b[43m \u001b[49m\u001b[38;5;129;43;01mnot\u001b[39;49;00m\u001b[43m \u001b[49m\u001b[38;5;28;43;01mNone\u001b[39;49;00m\u001b[43m \u001b[49m\u001b[38;5;28;43;01melse\u001b[39;49;00m\u001b[43m \u001b[49m\u001b[43m{\u001b[49m\u001b[43m}\u001b[49m\u001b[43m)\u001b[49m\u001b[43m,\u001b[49m\n\u001b[1;32m   2963\u001b[0m \u001b[43m        \u001b[49m\u001b[38;5;241;43m*\u001b[39;49m\u001b[38;5;241;43m*\u001b[39;49m\u001b[43mkwargs\u001b[49m\u001b[43m,\u001b[49m\n\u001b[1;32m   2964\u001b[0m \u001b[43m    \u001b[49m\u001b[43m)\u001b[49m\n",
      "File \u001b[0;32m~/miniforge3/envs/miniforge/lib/python3.10/site-packages/matplotlib/__init__.py:1473\u001b[0m, in \u001b[0;36m_preprocess_data.<locals>.inner\u001b[0;34m(ax, data, *args, **kwargs)\u001b[0m\n\u001b[1;32m   1470\u001b[0m \u001b[38;5;129m@functools\u001b[39m\u001b[38;5;241m.\u001b[39mwraps(func)\n\u001b[1;32m   1471\u001b[0m \u001b[38;5;28;01mdef\u001b[39;00m \u001b[38;5;21minner\u001b[39m(ax, \u001b[38;5;241m*\u001b[39margs, data\u001b[38;5;241m=\u001b[39m\u001b[38;5;28;01mNone\u001b[39;00m, \u001b[38;5;241m*\u001b[39m\u001b[38;5;241m*\u001b[39mkwargs):\n\u001b[1;32m   1472\u001b[0m     \u001b[38;5;28;01mif\u001b[39;00m data \u001b[38;5;129;01mis\u001b[39;00m \u001b[38;5;28;01mNone\u001b[39;00m:\n\u001b[0;32m-> 1473\u001b[0m         \u001b[38;5;28;01mreturn\u001b[39;00m \u001b[43mfunc\u001b[49m\u001b[43m(\u001b[49m\n\u001b[1;32m   1474\u001b[0m \u001b[43m            \u001b[49m\u001b[43max\u001b[49m\u001b[43m,\u001b[49m\n\u001b[1;32m   1475\u001b[0m \u001b[43m            \u001b[49m\u001b[38;5;241;43m*\u001b[39;49m\u001b[38;5;28;43mmap\u001b[39;49m\u001b[43m(\u001b[49m\u001b[43msanitize_sequence\u001b[49m\u001b[43m,\u001b[49m\u001b[43m \u001b[49m\u001b[43margs\u001b[49m\u001b[43m)\u001b[49m\u001b[43m,\u001b[49m\n\u001b[1;32m   1476\u001b[0m \u001b[43m            \u001b[49m\u001b[38;5;241;43m*\u001b[39;49m\u001b[38;5;241;43m*\u001b[39;49m\u001b[43m{\u001b[49m\u001b[43mk\u001b[49m\u001b[43m:\u001b[49m\u001b[43m \u001b[49m\u001b[43msanitize_sequence\u001b[49m\u001b[43m(\u001b[49m\u001b[43mv\u001b[49m\u001b[43m)\u001b[49m\u001b[43m \u001b[49m\u001b[38;5;28;43;01mfor\u001b[39;49;00m\u001b[43m \u001b[49m\u001b[43mk\u001b[49m\u001b[43m,\u001b[49m\u001b[43m \u001b[49m\u001b[43mv\u001b[49m\u001b[43m \u001b[49m\u001b[38;5;129;43;01min\u001b[39;49;00m\u001b[43m \u001b[49m\u001b[43mkwargs\u001b[49m\u001b[38;5;241;43m.\u001b[39;49m\u001b[43mitems\u001b[49m\u001b[43m(\u001b[49m\u001b[43m)\u001b[49m\u001b[43m}\u001b[49m\u001b[43m)\u001b[49m\n\u001b[1;32m   1478\u001b[0m     bound \u001b[38;5;241m=\u001b[39m new_sig\u001b[38;5;241m.\u001b[39mbind(ax, \u001b[38;5;241m*\u001b[39margs, \u001b[38;5;241m*\u001b[39m\u001b[38;5;241m*\u001b[39mkwargs)\n\u001b[1;32m   1479\u001b[0m     auto_label \u001b[38;5;241m=\u001b[39m (bound\u001b[38;5;241m.\u001b[39marguments\u001b[38;5;241m.\u001b[39mget(label_namer)\n\u001b[1;32m   1480\u001b[0m                   \u001b[38;5;129;01mor\u001b[39;00m bound\u001b[38;5;241m.\u001b[39mkwargs\u001b[38;5;241m.\u001b[39mget(label_namer))\n",
      "File \u001b[0;32m~/miniforge3/envs/miniforge/lib/python3.10/site-packages/matplotlib/axes/_axes.py:2520\u001b[0m, in \u001b[0;36mAxes.bar\u001b[0;34m(self, x, height, width, bottom, align, **kwargs)\u001b[0m\n\u001b[1;32m   2517\u001b[0m     \u001b[38;5;28;01mif\u001b[39;00m yerr \u001b[38;5;129;01mis\u001b[39;00m \u001b[38;5;129;01mnot\u001b[39;00m \u001b[38;5;28;01mNone\u001b[39;00m:\n\u001b[1;32m   2518\u001b[0m         yerr \u001b[38;5;241m=\u001b[39m \u001b[38;5;28mself\u001b[39m\u001b[38;5;241m.\u001b[39m_convert_dx(yerr, y0, y, \u001b[38;5;28mself\u001b[39m\u001b[38;5;241m.\u001b[39mconvert_yunits)\n\u001b[0;32m-> 2520\u001b[0m x, height, width, y, linewidth, hatch \u001b[38;5;241m=\u001b[39m \u001b[43mnp\u001b[49m\u001b[38;5;241;43m.\u001b[39;49m\u001b[43mbroadcast_arrays\u001b[49m\u001b[43m(\u001b[49m\n\u001b[1;32m   2521\u001b[0m \u001b[43m    \u001b[49m\u001b[38;5;66;43;03m# Make args iterable too.\u001b[39;49;00m\n\u001b[1;32m   2522\u001b[0m \u001b[43m    \u001b[49m\u001b[43mnp\u001b[49m\u001b[38;5;241;43m.\u001b[39;49m\u001b[43matleast_1d\u001b[49m\u001b[43m(\u001b[49m\u001b[43mx\u001b[49m\u001b[43m)\u001b[49m\u001b[43m,\u001b[49m\u001b[43m \u001b[49m\u001b[43mheight\u001b[49m\u001b[43m,\u001b[49m\u001b[43m \u001b[49m\u001b[43mwidth\u001b[49m\u001b[43m,\u001b[49m\u001b[43m \u001b[49m\u001b[43my\u001b[49m\u001b[43m,\u001b[49m\u001b[43m \u001b[49m\u001b[43mlinewidth\u001b[49m\u001b[43m,\u001b[49m\u001b[43m \u001b[49m\u001b[43mhatch\u001b[49m\u001b[43m)\u001b[49m\n\u001b[1;32m   2524\u001b[0m \u001b[38;5;66;03m# Now that units have been converted, set the tick locations.\u001b[39;00m\n\u001b[1;32m   2525\u001b[0m \u001b[38;5;28;01mif\u001b[39;00m orientation \u001b[38;5;241m==\u001b[39m \u001b[38;5;124m'\u001b[39m\u001b[38;5;124mvertical\u001b[39m\u001b[38;5;124m'\u001b[39m:\n",
      "File \u001b[0;32m~/miniforge3/envs/miniforge/lib/python3.10/site-packages/numpy/lib/_stride_tricks_impl.py:558\u001b[0m, in \u001b[0;36mbroadcast_arrays\u001b[0;34m(subok, *args)\u001b[0m\n\u001b[1;32m    551\u001b[0m \u001b[38;5;66;03m# nditer is not used here to avoid the limit of 32 arrays.\u001b[39;00m\n\u001b[1;32m    552\u001b[0m \u001b[38;5;66;03m# Otherwise, something like the following one-liner would suffice:\u001b[39;00m\n\u001b[1;32m    553\u001b[0m \u001b[38;5;66;03m# return np.nditer(args, flags=['multi_index', 'zerosize_ok'],\u001b[39;00m\n\u001b[1;32m    554\u001b[0m \u001b[38;5;66;03m#                  order='C').itviews\u001b[39;00m\n\u001b[1;32m    556\u001b[0m args \u001b[38;5;241m=\u001b[39m [np\u001b[38;5;241m.\u001b[39marray(_m, copy\u001b[38;5;241m=\u001b[39m\u001b[38;5;28;01mNone\u001b[39;00m, subok\u001b[38;5;241m=\u001b[39msubok) \u001b[38;5;28;01mfor\u001b[39;00m _m \u001b[38;5;129;01min\u001b[39;00m args]\n\u001b[0;32m--> 558\u001b[0m shape \u001b[38;5;241m=\u001b[39m \u001b[43m_broadcast_shape\u001b[49m\u001b[43m(\u001b[49m\u001b[38;5;241;43m*\u001b[39;49m\u001b[43margs\u001b[49m\u001b[43m)\u001b[49m\n\u001b[1;32m    560\u001b[0m result \u001b[38;5;241m=\u001b[39m [array \u001b[38;5;28;01mif\u001b[39;00m array\u001b[38;5;241m.\u001b[39mshape \u001b[38;5;241m==\u001b[39m shape\n\u001b[1;32m    561\u001b[0m           \u001b[38;5;28;01melse\u001b[39;00m _broadcast_to(array, shape, subok\u001b[38;5;241m=\u001b[39msubok, readonly\u001b[38;5;241m=\u001b[39m\u001b[38;5;28;01mFalse\u001b[39;00m)\n\u001b[1;32m    562\u001b[0m                           \u001b[38;5;28;01mfor\u001b[39;00m array \u001b[38;5;129;01min\u001b[39;00m args]\n\u001b[1;32m    563\u001b[0m \u001b[38;5;28;01mreturn\u001b[39;00m \u001b[38;5;28mtuple\u001b[39m(result)\n",
      "File \u001b[0;32m~/miniforge3/envs/miniforge/lib/python3.10/site-packages/numpy/lib/_stride_tricks_impl.py:433\u001b[0m, in \u001b[0;36m_broadcast_shape\u001b[0;34m(*args)\u001b[0m\n\u001b[1;32m    428\u001b[0m \u001b[38;5;250m\u001b[39m\u001b[38;5;124;03m\"\"\"Returns the shape of the arrays that would result from broadcasting the\u001b[39;00m\n\u001b[1;32m    429\u001b[0m \u001b[38;5;124;03msupplied arrays against each other.\u001b[39;00m\n\u001b[1;32m    430\u001b[0m \u001b[38;5;124;03m\"\"\"\u001b[39;00m\n\u001b[1;32m    431\u001b[0m \u001b[38;5;66;03m# use the old-iterator because np.nditer does not handle size 0 arrays\u001b[39;00m\n\u001b[1;32m    432\u001b[0m \u001b[38;5;66;03m# consistently\u001b[39;00m\n\u001b[0;32m--> 433\u001b[0m b \u001b[38;5;241m=\u001b[39m \u001b[43mnp\u001b[49m\u001b[38;5;241;43m.\u001b[39;49m\u001b[43mbroadcast\u001b[49m\u001b[43m(\u001b[49m\u001b[38;5;241;43m*\u001b[39;49m\u001b[43margs\u001b[49m\u001b[43m[\u001b[49m\u001b[43m:\u001b[49m\u001b[38;5;241;43m32\u001b[39;49m\u001b[43m]\u001b[49m\u001b[43m)\u001b[49m\n\u001b[1;32m    434\u001b[0m \u001b[38;5;66;03m# unfortunately, it cannot handle 32 or more arguments directly\u001b[39;00m\n\u001b[1;32m    435\u001b[0m \u001b[38;5;28;01mfor\u001b[39;00m pos \u001b[38;5;129;01min\u001b[39;00m \u001b[38;5;28mrange\u001b[39m(\u001b[38;5;241m32\u001b[39m, \u001b[38;5;28mlen\u001b[39m(args), \u001b[38;5;241m31\u001b[39m):\n\u001b[1;32m    436\u001b[0m     \u001b[38;5;66;03m# ironically, np.broadcast does not properly handle np.broadcast\u001b[39;00m\n\u001b[1;32m    437\u001b[0m     \u001b[38;5;66;03m# objects (it treats them as scalars)\u001b[39;00m\n\u001b[1;32m    438\u001b[0m     \u001b[38;5;66;03m# use broadcasting to avoid allocating the full array\u001b[39;00m\n",
      "\u001b[0;31mValueError\u001b[0m: shape mismatch: objects cannot be broadcast to a single shape.  Mismatch is between arg 0 with shape (6,) and arg 1 with shape (7,)."
     ]
    },
    {
     "data": {
      "image/png": "[encoded data removed]",
      "text/plain": [
       "<Figure size 640x480 with 1 Axes>"
      ]
     },
     "metadata": {},
     "output_type": "display_data"
    }
   ],
   "source": [
    "barWidth = 0.25\n",
    "\n",
    "r1 = np.arange(len(comparison_extracurricular_yes))\n",
    "\n",
    "plt.bar(r1, [i for i in comparison_extracurricular_yes], color='#7f6d5f', width=barWidth, edgecolor='white', label='Product A')\n",
    "plt.show()"
   ]
  },
  {
   "cell_type": "markdown",
   "metadata": {},
   "source": [
    "All of Scikit-Learn's regression results are still iffy, but it should not come as a surprise that the ridge and lasso regressions aren't that different. They're meant to prevent overfitting of what the original linear regression prevents, so the parameters will only decrease.\n",
    "\n",
    "What will cross validation do?"
   ]
  },
  {
   "cell_type": "markdown",
   "metadata": {},
   "source": [
    "## Cross Validation"
   ]
  },
  {
   "cell_type": "markdown",
   "metadata": {},
   "source": [
    "It's necessary to define what cross validation is first since it can be confusing at first.\n",
    "\n",
    "Cross validation splits the data set up into different training and test sets, then compares the results after any machine learning (gradient descent, in this case) is applied. For instance, I have split the data set up 80/20: 80% for training; 20% for test. \n",
    "\n",
    "If I were to use a k-fold cross validation approach, then I would simply be shuffling that 80/20 into 6 unique samples."
   ]
  },
  {
   "cell_type": "markdown",
   "metadata": {},
   "source": [
    "![5-fold Cross Validation](K-fold-cross-validation-1.webp)\n",
    "\n",
    "Source: https://sqlrelease.com/introduction-to-k-fold-cross-validation-in-python"
   ]
  },
  {
   "cell_type": "code",
   "execution_count": null,
   "metadata": {},
   "outputs": [],
   "source": [
    "# Set up KFold\n",
    "kf = KFold(n_splits=5, shuffle=True, random_state=42)\n",
    "\n",
    "# Perform the split\n",
    "for fold, (train_index, val_index) in enumerate(kf.split(X)):\n",
    "    print(f\"Fold {fold + 1}\")\n",
    "    print(\"Train indices:\", train_index)\n",
    "    print(\"Validation indices:\", val_index)\n",
    "\n",
    "    # Use .iloc to select rows based on the positional indices\n",
    "    X_train, X_val = X.iloc[train_index], X.iloc[val_index]\n",
    "    y_train, y_val = y.iloc[train_index], y.iloc[val_index]\n",
    "\n",
    "    print(\"X_train:\")\n",
    "    print(X_train)\n",
    "    print(\"X_val:\")\n",
    "    print(X_val)\n",
    "    print()"
   ]
  },
  {
   "cell_type": "code",
   "execution_count": null,
   "metadata": {},
   "outputs": [],
   "source": [
    "# Initialize KFold\n",
    "kf = KFold(n_splits=5, shuffle=True, random_state=42)\n",
    "\n",
    "# Prepare placeholders for the folds\n",
    "folds = []\n",
    "for train_index, val_index in kf.split(X):\n",
    "    # Create train and validation sets for each fold\n",
    "    X_train_fold, X_val_fold = X.iloc[train_index], X.iloc[val_index]\n",
    "    y_train_fold, y_val_fold = y.iloc[train_index], y.iloc[val_index]\n",
    "    folds.append((X_train_fold, X_val_fold, y_train_fold, y_val_fold))"
   ]
  },
  {
   "cell_type": "code",
   "execution_count": null,
   "metadata": {},
   "outputs": [],
   "source": [
    "scaled_folds = []\n",
    "\n",
    "for X_train_fold, X_val_fold, y_train_fold, y_val_fold in folds:\n",
    "    scaler = StandardScaler()\n",
    "\n",
    "    # Fit on training data and transform both train and validation sets\n",
    "    X_train_scaled = scaler.fit_transform(X_train_fold)\n",
    "    X_val_scaled = scaler.transform(X_val_fold)\n",
    "\n",
    "    scaled_folds.append((X_train_scaled, X_val_scaled, y_train_fold, y_val_fold))"
   ]
  },
  {
   "cell_type": "code",
   "execution_count": null,
   "metadata": {},
   "outputs": [],
   "source": [
    "for i, (X_train_fold, X_val_fold, y_train_fold, y_val_fold) in enumerate(folds):\n",
    "    print(f\"Fold {i + 1}\")\n",
    "    start_time = time.time()\n",
    "\n",
    "    # Run gradient descent\n",
    "    beta, guesses, losses = gradient_descent(\n",
    "        X_train_scaled,\n",
    "        y_train_fold.values,\n",
    "        learning_rate=0.001,\n",
    "        epochs=5000,\n",
    "        precision=0.00001\n",
    "    )\n",
    "\n",
    "    elapsed_time = time.time() - start_time\n",
    "    loss = losses[-1]\n",
    "\n",
    "    # Convert beta to Pandas Series\n",
    "    # beta_series = pd.Series(data=beta, index=[\"Intercept\"] + list(X_train_fold.columns))\n",
    "\n",
    "    # Measure memory usage\n",
    "    series_memory = sys.getsizeof(beta_series)\n",
    "\n",
    "    # Display results\n",
    "    print(f\"Computed beta coefficients in {elapsed_time:.6f} seconds\")\n",
    "    print(f\"Memory usage for Pandas Series: {series_memory} bytes\")\n",
    "    print(beta)\n",
    "    print(f\"Loss on Fold {i + 1}: {loss}\\n\")"
   ]
  },
  {
   "cell_type": "code",
   "execution_count": 42,
   "metadata": {},
   "outputs": [
    {
     "data": {
      "text/html": [
       "<style type=\"text/css\">\n",
       "</style>\n",
       "<table id=\"T_fa5c4\">\n",
       "  <caption>Comparison of Extracurricular - Yes Activities</caption>\n",
       "  <thead>\n",
       "    <tr>\n",
       "      <th class=\"blank level0\" >&nbsp;</th>\n",
       "      <th id=\"T_fa5c4_level0_col0\" class=\"col_heading level0 col0\" >NumPy OLS</th>\n",
       "      <th id=\"T_fa5c4_level0_col1\" class=\"col_heading level0 col1\" >SciPy OLS</th>\n",
       "      <th id=\"T_fa5c4_level0_col2\" class=\"col_heading level0 col2\" >statsmodels</th>\n",
       "      <th id=\"T_fa5c4_level0_col3\" class=\"col_heading level0 col3\" >Conventional GD</th>\n",
       "      <th id=\"T_fa5c4_level0_col4\" class=\"col_heading level0 col4\" >Scikit-Learn OLS</th>\n",
       "      <th id=\"T_fa5c4_level0_col5\" class=\"col_heading level0 col5\" >Ridge</th>\n",
       "      <th id=\"T_fa5c4_level0_col6\" class=\"col_heading level0 col6\" >Lasso</th>\n",
       "    </tr>\n",
       "  </thead>\n",
       "  <tbody>\n",
       "    <tr>\n",
       "      <th id=\"T_fa5c4_level0_row0\" class=\"row_heading level0 row0\" >Intercept</th>\n",
       "      <td id=\"T_fa5c4_row0_col0\" class=\"data row0 col0\" >-34.068915</td>\n",
       "      <td id=\"T_fa5c4_row0_col1\" class=\"data row0 col1\" >-34.068915</td>\n",
       "      <td id=\"T_fa5c4_row0_col2\" class=\"data row0 col2\" >-34.068915</td>\n",
       "      <td id=\"T_fa5c4_row0_col3\" class=\"data row0 col3\" >0.006810</td>\n",
       "      <td id=\"T_fa5c4_row0_col4\" class=\"data row0 col4\" >-34.068915</td>\n",
       "      <td id=\"T_fa5c4_row0_col5\" class=\"data row0 col5\" >-34.064059</td>\n",
       "      <td id=\"T_fa5c4_row0_col6\" class=\"data row0 col6\" >-19.879098</td>\n",
       "    </tr>\n",
       "    <tr>\n",
       "      <th id=\"T_fa5c4_level0_row1\" class=\"row_heading level0 row1\" >Hours Studied</th>\n",
       "      <td id=\"T_fa5c4_row1_col0\" class=\"data row1 col0\" >2.852729</td>\n",
       "      <td id=\"T_fa5c4_row1_col1\" class=\"data row1 col1\" >2.852729</td>\n",
       "      <td id=\"T_fa5c4_row1_col2\" class=\"data row1 col2\" >2.852729</td>\n",
       "      <td id=\"T_fa5c4_row1_col3\" class=\"data row1 col3\" >0.037728</td>\n",
       "      <td id=\"T_fa5c4_row1_col4\" class=\"data row1 col4\" >2.852729</td>\n",
       "      <td id=\"T_fa5c4_row1_col5\" class=\"data row1 col5\" >2.852300</td>\n",
       "      <td id=\"T_fa5c4_row1_col6\" class=\"data row1 col6\" >1.362928</td>\n",
       "    </tr>\n",
       "    <tr>\n",
       "      <th id=\"T_fa5c4_level0_row2\" class=\"row_heading level0 row2\" >Previous Scores</th>\n",
       "      <td id=\"T_fa5c4_row2_col0\" class=\"data row2 col0\" >1.018319</td>\n",
       "      <td id=\"T_fa5c4_row2_col1\" class=\"data row2 col1\" >1.018319</td>\n",
       "      <td id=\"T_fa5c4_row2_col2\" class=\"data row2 col2\" >1.018319</td>\n",
       "      <td id=\"T_fa5c4_row2_col3\" class=\"data row2 col3\" >0.515810</td>\n",
       "      <td id=\"T_fa5c4_row2_col4\" class=\"data row2 col4\" >1.018319</td>\n",
       "      <td id=\"T_fa5c4_row2_col5\" class=\"data row2 col5\" >1.018316</td>\n",
       "      <td id=\"T_fa5c4_row2_col6\" class=\"data row2 col6\" >0.983450</td>\n",
       "    </tr>\n",
       "    <tr>\n",
       "      <th id=\"T_fa5c4_level0_row3\" class=\"row_heading level0 row3\" >Sleep Hours</th>\n",
       "      <td id=\"T_fa5c4_row3_col0\" class=\"data row3 col0\" >0.480321</td>\n",
       "      <td id=\"T_fa5c4_row3_col1\" class=\"data row3 col1\" >0.480321</td>\n",
       "      <td id=\"T_fa5c4_row3_col2\" class=\"data row3 col2\" >0.480321</td>\n",
       "      <td id=\"T_fa5c4_row3_col3\" class=\"data row3 col3\" >0.044779</td>\n",
       "      <td id=\"T_fa5c4_row3_col4\" class=\"data row3 col4\" >0.480321</td>\n",
       "      <td id=\"T_fa5c4_row3_col5\" class=\"data row3 col5\" >0.480137</td>\n",
       "      <td id=\"T_fa5c4_row3_col6\" class=\"data row3 col6\" >0.000000</td>\n",
       "    </tr>\n",
       "    <tr>\n",
       "      <th id=\"T_fa5c4_level0_row4\" class=\"row_heading level0 row4\" >Sample Question Papers Practiced</th>\n",
       "      <td id=\"T_fa5c4_row4_col0\" class=\"data row4 col0\" >0.193910</td>\n",
       "      <td id=\"T_fa5c4_row4_col1\" class=\"data row4 col1\" >0.193910</td>\n",
       "      <td id=\"T_fa5c4_row4_col2\" class=\"data row4 col2\" >0.193910</td>\n",
       "      <td id=\"T_fa5c4_row4_col3\" class=\"data row4 col3\" >0.031631</td>\n",
       "      <td id=\"T_fa5c4_row4_col4\" class=\"data row4 col4\" >0.193910</td>\n",
       "      <td id=\"T_fa5c4_row4_col5\" class=\"data row4 col5\" >0.193899</td>\n",
       "      <td id=\"T_fa5c4_row4_col6\" class=\"data row4 col6\" >0.000000</td>\n",
       "    </tr>\n",
       "    <tr>\n",
       "      <th id=\"T_fa5c4_level0_row5\" class=\"row_heading level0 row5\" >Extracurricular Activities_Yes</th>\n",
       "      <td id=\"T_fa5c4_row5_col0\" class=\"data row5 col0\" >0.616693</td>\n",
       "      <td id=\"T_fa5c4_row5_col1\" class=\"data row5 col1\" >0.616693</td>\n",
       "      <td id=\"T_fa5c4_row5_col2\" class=\"data row5 col2\" >0.616693</td>\n",
       "      <td id=\"T_fa5c4_row5_col3\" class=\"data row5 col3\" >0.003416</td>\n",
       "      <td id=\"T_fa5c4_row5_col4\" class=\"data row5 col4\" >0.616693</td>\n",
       "      <td id=\"T_fa5c4_row5_col5\" class=\"data row5 col5\" >0.614203</td>\n",
       "      <td id=\"T_fa5c4_row5_col6\" class=\"data row5 col6\" >0.000000</td>\n",
       "    </tr>\n",
       "  </tbody>\n",
       "</table>\n"
      ],
      "text/plain": [
       "<pandas.io.formats.style.Styler at 0x15f544640>"
      ]
     },
     "metadata": {},
     "output_type": "display_data"
    },
    {
     "data": {
      "text/html": [
       "<style type=\"text/css\">\n",
       "</style>\n",
       "<table id=\"T_144b3\">\n",
       "  <caption>Comparison of Extracurricular - No Activities</caption>\n",
       "  <thead>\n",
       "    <tr>\n",
       "      <th class=\"blank level0\" >&nbsp;</th>\n",
       "      <th id=\"T_144b3_level0_col0\" class=\"col_heading level0 col0\" >NumPy OLS</th>\n",
       "      <th id=\"T_144b3_level0_col1\" class=\"col_heading level0 col1\" >SciPy OLS</th>\n",
       "      <th id=\"T_144b3_level0_col2\" class=\"col_heading level0 col2\" >statsmodels</th>\n",
       "      <th id=\"T_144b3_level0_col3\" class=\"col_heading level0 col3\" >Conventional GD</th>\n",
       "      <th id=\"T_144b3_level0_col4\" class=\"col_heading level0 col4\" >Scikit-Learn OLS</th>\n",
       "      <th id=\"T_144b3_level0_col5\" class=\"col_heading level0 col5\" >Ridge</th>\n",
       "      <th id=\"T_144b3_level0_col6\" class=\"col_heading level0 col6\" >Lasso</th>\n",
       "    </tr>\n",
       "  </thead>\n",
       "  <tbody>\n",
       "    <tr>\n",
       "      <th id=\"T_144b3_level0_row0\" class=\"row_heading level0 row0\" >Intercept</th>\n",
       "      <td id=\"T_144b3_row0_col0\" class=\"data row0 col0\" >-33.452221</td>\n",
       "      <td id=\"T_144b3_row0_col1\" class=\"data row0 col1\" >-33.452221</td>\n",
       "      <td id=\"T_144b3_row0_col2\" class=\"data row0 col2\" >-33.452221</td>\n",
       "      <td id=\"T_144b3_row0_col3\" class=\"data row0 col3\" >0.006810</td>\n",
       "      <td id=\"T_144b3_row0_col4\" class=\"data row0 col4\" >-33.452221</td>\n",
       "      <td id=\"T_144b3_row0_col5\" class=\"data row0 col5\" >-33.449856</td>\n",
       "      <td id=\"T_144b3_row0_col6\" class=\"data row0 col6\" >-19.879098</td>\n",
       "    </tr>\n",
       "    <tr>\n",
       "      <th id=\"T_144b3_level0_row1\" class=\"row_heading level0 row1\" >Hours Studied</th>\n",
       "      <td id=\"T_144b3_row1_col0\" class=\"data row1 col0\" >2.852729</td>\n",
       "      <td id=\"T_144b3_row1_col1\" class=\"data row1 col1\" >2.852729</td>\n",
       "      <td id=\"T_144b3_row1_col2\" class=\"data row1 col2\" >2.852729</td>\n",
       "      <td id=\"T_144b3_row1_col3\" class=\"data row1 col3\" >0.037728</td>\n",
       "      <td id=\"T_144b3_row1_col4\" class=\"data row1 col4\" >2.852729</td>\n",
       "      <td id=\"T_144b3_row1_col5\" class=\"data row1 col5\" >2.852300</td>\n",
       "      <td id=\"T_144b3_row1_col6\" class=\"data row1 col6\" >1.362928</td>\n",
       "    </tr>\n",
       "    <tr>\n",
       "      <th id=\"T_144b3_level0_row2\" class=\"row_heading level0 row2\" >Previous Scores</th>\n",
       "      <td id=\"T_144b3_row2_col0\" class=\"data row2 col0\" >1.018319</td>\n",
       "      <td id=\"T_144b3_row2_col1\" class=\"data row2 col1\" >1.018319</td>\n",
       "      <td id=\"T_144b3_row2_col2\" class=\"data row2 col2\" >1.018319</td>\n",
       "      <td id=\"T_144b3_row2_col3\" class=\"data row2 col3\" >0.515810</td>\n",
       "      <td id=\"T_144b3_row2_col4\" class=\"data row2 col4\" >1.018319</td>\n",
       "      <td id=\"T_144b3_row2_col5\" class=\"data row2 col5\" >1.018316</td>\n",
       "      <td id=\"T_144b3_row2_col6\" class=\"data row2 col6\" >0.983450</td>\n",
       "    </tr>\n",
       "    <tr>\n",
       "      <th id=\"T_144b3_level0_row3\" class=\"row_heading level0 row3\" >Sleep Hours</th>\n",
       "      <td id=\"T_144b3_row3_col0\" class=\"data row3 col0\" >0.480321</td>\n",
       "      <td id=\"T_144b3_row3_col1\" class=\"data row3 col1\" >0.480321</td>\n",
       "      <td id=\"T_144b3_row3_col2\" class=\"data row3 col2\" >0.480321</td>\n",
       "      <td id=\"T_144b3_row3_col3\" class=\"data row3 col3\" >0.044779</td>\n",
       "      <td id=\"T_144b3_row3_col4\" class=\"data row3 col4\" >0.480321</td>\n",
       "      <td id=\"T_144b3_row3_col5\" class=\"data row3 col5\" >0.480137</td>\n",
       "      <td id=\"T_144b3_row3_col6\" class=\"data row3 col6\" >0.000000</td>\n",
       "    </tr>\n",
       "    <tr>\n",
       "      <th id=\"T_144b3_level0_row4\" class=\"row_heading level0 row4\" >Sample Question Papers Practiced</th>\n",
       "      <td id=\"T_144b3_row4_col0\" class=\"data row4 col0\" >0.193910</td>\n",
       "      <td id=\"T_144b3_row4_col1\" class=\"data row4 col1\" >0.193910</td>\n",
       "      <td id=\"T_144b3_row4_col2\" class=\"data row4 col2\" >0.193910</td>\n",
       "      <td id=\"T_144b3_row4_col3\" class=\"data row4 col3\" >0.031631</td>\n",
       "      <td id=\"T_144b3_row4_col4\" class=\"data row4 col4\" >0.193910</td>\n",
       "      <td id=\"T_144b3_row4_col5\" class=\"data row4 col5\" >0.193899</td>\n",
       "      <td id=\"T_144b3_row4_col6\" class=\"data row4 col6\" >0.000000</td>\n",
       "    </tr>\n",
       "    <tr>\n",
       "      <th id=\"T_144b3_level0_row5\" class=\"row_heading level0 row5\" >Extracurricular Activities_No</th>\n",
       "      <td id=\"T_144b3_row5_col0\" class=\"data row5 col0\" >-0.616693</td>\n",
       "      <td id=\"T_144b3_row5_col1\" class=\"data row5 col1\" >-0.616693</td>\n",
       "      <td id=\"T_144b3_row5_col2\" class=\"data row5 col2\" >-0.616693</td>\n",
       "      <td id=\"T_144b3_row5_col3\" class=\"data row5 col3\" >0.003394</td>\n",
       "      <td id=\"T_144b3_row5_col4\" class=\"data row5 col4\" >-0.616693</td>\n",
       "      <td id=\"T_144b3_row5_col5\" class=\"data row5 col5\" >-0.614203</td>\n",
       "      <td id=\"T_144b3_row5_col6\" class=\"data row5 col6\" >-0.000000</td>\n",
       "    </tr>\n",
       "  </tbody>\n",
       "</table>\n"
      ],
      "text/plain": [
       "<pandas.io.formats.style.Styler at 0x15f3f76a0>"
      ]
     },
     "metadata": {},
     "output_type": "display_data"
    }
   ],
   "source": [
    "display(comparison_extracurricular_yes.style.set_caption(comparison_extracurricular_yes.attrs.get('title', '')))\n",
    "display(comparison_extracurricular_no.style.set_caption(comparison_extracurricular_no.attrs.get('title', '')))"
   ]
  },
  {
   "cell_type": "markdown",
   "metadata": {},
   "source": [
    "## 6) Conclusion: What Are Some Key Highlights?"
   ]
  },
  {
   "cell_type": "markdown",
   "metadata": {},
   "source": []
  },
  {
   "cell_type": "markdown",
   "metadata": {},
   "source": []
  },
  {
   "cell_type": "markdown",
   "metadata": {},
   "source": []
  },
  {
   "cell_type": "markdown",
   "metadata": {},
   "source": [
    "**Mine**\n",
    "\n",
    "If you have read up on gradient descent, you would know its issues:\n",
    "- Tuning: Finding the right learning rate, epochs, initial values, and precision can be very difficult. In fact, as we saw here, it did not lead to the correct value for CGD. In such a case, using OLS is the better choice.\n",
    "- Convergence: The features can be laid out on a cartesian coordinate system, and its label should lead you to the parameters that, when multiplied by the features, should arrive there. However, there are often local minima or saddle points that stop the gradient from decreasing in value. In other words, optimization *has* occured; just at the wrong point.\n",
    "- Visualization: When you have more than 3 parameters, it is impossible to visualize the loss function. You're stuck guessing when you're tuning. \n",
    "- Loss functions: Not all loss functions are made equal. While the mean square error was used, there are others, including the root mean sqare error and absolute mean error. It's difficult to choose which fits your data.\n",
    "- Choosing GD: There are multiple forms of gradient descent. There's stochastic, batch, mini-batch, momentum, nesterov, etc. How do you choose which one fits your model? You're left hoping that you chose the right loss function and gradient descent version."
   ]
  },
  {
   "cell_type": "markdown",
   "metadata": {},
   "source": [
    "**Claude**\n",
    "\n",
    "# Gradient Descent: Limitations and Challenges\n",
    "\n",
    "## 1. Tuning Complexity\n",
    "- Hyperparameter selection is a multidimensional optimization problem\n",
    "- No universal rule for setting learning rates\n",
    "- Techniques like grid search and random search are computationally expensive\n",
    "- Requires extensive experimentation and domain knowledge\n",
    "\n",
    "## 2. Convergence Challenges\n",
    "- Optimization landscape is often non-convex, especially in high-dimensional spaces\n",
    "- Local minima can trap the algorithm\n",
    "- Saddle points prevent finding the true global optimal solution\n",
    "- Convergence is not guaranteed, even with careful parameter selection\n",
    "\n",
    "## 3. Visualization Limitations\n",
    "- Impossible to visualize loss functions beyond 3 dimensions\n",
    "- Creates a \"black box\" problem in optimization\n",
    "- Dimensionality reduction techniques like t-SNE or PCA offer partial insights\n",
    "- Researchers are essentially \"guessing\" at optimization strategy\n",
    "\n",
    "## 4. Loss Function Ambiguity\n",
    "- Different loss functions serve different purposes:\n",
    "  - Mean Squared Error (MSE): Assumes normally distributed errors\n",
    "  - Mean Absolute Error (MAE): More robust to outliers\n",
    "  - Huber loss: Attempts to combine benefits of MSE and MAE\n",
    "- Choosing the right loss function requires:\n",
    "  - Understanding data distribution\n",
    "  - Knowing the specific problem domain\n",
    "  - Extensive empirical testing\n",
    "\n",
    "## 5. Gradient Descent Variants\n",
    "### Computational Approaches\n",
    "- **Stochastic GD**: \n",
    "  - Updates per single data point\n",
    "  - High variance in updates\n",
    "- **Batch GD**: \n",
    "  - Updates using entire dataset\n",
    "  - Computationally expensive\n",
    "- **Mini-batch GD**: \n",
    "  - Compromise between stochastic and batch approaches\n",
    "\n",
    "### Advanced Variants\n",
    "- Momentum GD\n",
    "- Nesterov Accelerated Gradient\n",
    "- Each adds complexity to handle gradient challenges\n",
    "\n",
    "## Practical Recommendation\n",
    "For many statistical modeling tasks, **Ordinary Least Squares (OLS)** remains superior:\n",
    "- Provides closed-form solution\n",
    "- Guarantees global minimum\n",
    "- Computationally efficient\n",
    "- Offers standard errors and statistical significance\n",
    "\n",
    "## Conclusion\n",
    "While gradient descent is powerful, it is **not a universal solution**. Understanding its limitations is crucial for effective model development and selection."
   ]
  },
  {
   "cell_type": "markdown",
   "metadata": {},
   "source": []
  }
 ],
 "metadata": {
  "kernelspec": {
   "display_name": "miniforge",
   "language": "python",
   "name": "python3"
  },
  "language_info": {
   "codemirror_mode": {
    "name": "ipython",
    "version": 3
   },
   "file_extension": ".py",
   "mimetype": "text/x-python",
   "name": "python",
   "nbconvert_exporter": "python",
   "pygments_lexer": "ipython3",
   "version": "3.10.15"
  }
 },
 "nbformat": 4,
 "nbformat_minor": 2
}
