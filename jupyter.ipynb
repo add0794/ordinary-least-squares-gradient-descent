{
 "cells": [
  {
   "cell_type": "markdown",
   "metadata": {},
   "source": [
    "# Ordinary Least Squares (OLS) vs. Gradient Descent (GD)"
   ]
  },
  {
   "cell_type": "markdown",
   "metadata": {},
   "source": [
    "## 1) Framing the Problem"
   ]
  },
  {
   "cell_type": "markdown",
   "metadata": {},
   "source": [
    "Multiple regression is a statistical technique used to model the relationship between one dependent variable (or label) and two or more independent variables (or features). It is a powerful tool for understanding how changes in independent variables influence the dependent variable. While this modeling approach can be implemented using various strategies, I will focus on two main methods: \n",
    "- **Ordinary Least Squares (OLS)**, which derives the solution through pure mathematical analysis, \n",
    "- **Gradient Descent (GD)**, an iterative optimization algorithm often associated with machine learning.\n",
    "\n",
    "Although Python packages exist for conducting multiple regression, this article will show how to derive the regression parameters using both OLS and GD from scratch. Then, it compare their performance and applicability based on the following criteria:\n",
    "- **Computational Speed**: How quickly each method converges to a solution, particularly for datasets of varying sizes and dimensionalities.\n",
    "- **Memory Usage**: The amount of memory required by each approach, especially for large datasets where matrix operations (OLS) may become prohibitive.\n",
    "- **Convergence Behavior**: The robustness of GD to hyperparameter tuning (e.g., learning rate) and its ability to converge to an optimal solution in different conditions.\n",
    "- **Numerical Stability**: How each method performs when faced with ill-conditioned data or high multicollinearity among independent variables.\n",
    "- **Scalability**: Suitability for big data scenarios, where the efficiency of processing may differ significantly between the two methods.\n",
    "- **Ease of Implementation**: Practical considerations, including code complexity, ease of debugging, and availability of libraries or tools.\n",
    "- **Accuracy**: The ability of each method to minimize the error term (residuals) and produce reliable parameter estimates under different scenarios.\n",
    "\n",
    "Finally, the article will explore scenarios where one method is preferable over the other. For example:\n",
    "- OLS may excel in smaller datasets where computational resources are not constrained.\n",
    "- GD is often the method of choice for very large datasets or when working with models that extend beyond linear regression, such as neural networks.\n",
    "\n",
    "By analyzing these aspects, this article aims to provide a comprehensive comparison to help readers choose the appropriate method for their specific use case."
   ]
  },
  {
   "cell_type": "markdown",
   "metadata": {},
   "source": [
    "First, let's focus on how the parameters are derived with OLS and GD."
   ]
  },
  {
   "cell_type": "markdown",
   "metadata": {},
   "source": [
    "### **How to Use Ordinary Least Squares (OLS)**\n",
    "\n",
    "#### **0) How to Get Started**\n",
    "\n",
    "We start with the following equation:\n",
    "\n",
    "$$Xβ = y$$\n",
    "\n",
    "Where:\n",
    "\n",
    "*X* := The design matrix of independent variables\\\n",
    "*β* := The vector of parameters (coefficients to be estimated)\\\n",
    "*y* := The vector of the dependent variable\n",
    "\n",
    "This is not possible, however, since there is always an error value, known as the *residuals*. \n",
    "\n",
    "Thus:\n",
    "\n",
    "$$X\\hat{β} + ε = \\hat{y}$$\n",
    "\n",
    "With that in mind, OLS can be derived through various approaches:\n",
    "\n",
    "#### **1) Optimization using calculus**  \n",
    "\n",
    "In this scenario, we minimize the norm of $y - \\hat{y}$, which will give us the vector of parameters. $$\\min_β |y - \\hat{y}| = \\min_β |y - X\\hat{β}|^2$$\n",
    "\n",
    "I won't do the math for this, but if you're interested, it requires calculus and is a stronger solution since it follows along the maximum likelihood estimation (MLE).\n",
    "\n",
    "#### **2) Using the Left Inverse**\n",
    "\n",
    "Because $Xβ$ is assumed to be full column rank, we can derive *β*.\n",
    "\n",
    "In other words, if we multiply $Xβ$ by its transpose, we can then multiply it by its inverse.\n",
    "\n",
    "Thus:\n",
    "\n",
    "$$X^TXβ = X^Ty$$\n",
    "$$(X^TX)^{-1}X^TXβ = (X^T X)^{-1}X^Ty$$\n",
    "$$Iβ = (X^TX)^{-1}X^Ty$$\n",
    "$$β = (X^T X)^{-1}X^Ty$$\n",
    "\n",
    "Note:\n",
    "*I* = The identity matrix\n",
    "\n",
    "Because β is predicting y, it is better to conclude that this derivation represents $\\hat{β}$.\n",
    "\n",
    "This is not the best approach because we are assuming $Xβ$ is full column rank, which may not be true if there is **Multicollinearity**.\n",
    "\n",
    "Why? If one parameter is a linear combination of any of the others, then the design matrix $X$ is not of full column rank (e.g. $β_3 = 4*β_1$).\n",
    "\n",
    "#### **3) Transforming $X$ to Row Canonical Form**\n",
    "\n",
    "The equation\n",
    "\n",
    "$$X^TXβ = X^Ty$$\n",
    "\n",
    "can be row reduced to its canonical form to get the vector of parameters as well.\n",
    "\n",
    "This will make sense in the next derivation.\n",
    "\n",
    "#### **4) Using Orthogonal Projections**\n",
    "\n",
    "$Xβ = y$ can be seen as having a projection and an orthogonal component.\n",
    "\n",
    "If we view the parameters as predictions, then we have a projection:\n",
    "$$X\\hat{β} = \\hat{y}$$\n",
    "\n",
    "This is also known as $\\hat{y}$ projected onto the column space of $X\\hat{β}$\n",
    "\n",
    "The orthogonal component will be the nullspace $X\\hat{β}$, which is the residual: $y - \\hat{y}$ (or $y - X\\hat{β}$)\n",
    "\n",
    "In other words, the *residual* (orthogonal) and *prediction* (projection) add up to the vector of the dependent variable: y\n",
    "\n",
    "What now?\n",
    "\n",
    "Given that $y - X\\hat{β}$ is orthogonal to the column space of $X$, then it's orthogonal to each column of $X$:\n",
    "\n",
    "$$X^T*(y - X\\hat{β}) = 0$$\n",
    "$$X^Ty - X^TX\\hat{β} = 0$$\n",
    "$$X^Ty = X^TX\\hat{β}$$\n",
    "$$(X^TX)^{-1}X^Ty = \\hat{β}$$\n",
    "\n",
    "We could have solved for that using row reduction, where $X^TX$ is augmented by $X^Ty$, then put into row canonical form.\n",
    "\n",
    "#### **Conclusion**\n",
    "\n",
    "Regardless of which approach you use with OLS, the coefficients will be:\n",
    "$$\\hat{β} = (X^TX)^{-1}X^Ty$$"
   ]
  },
  {
   "cell_type": "markdown",
   "metadata": {},
   "source": [
    "<!-- #### **0) How to Get Started**\n",
    "\n",
    "With GD, you must decide a cost function, AKA a loss or an objective function.\n",
    "\n",
    "For multiple regression, we start with the mean square error (MSE) as the cost function (it is most common):\n",
    "\n",
    "$$MSE = \\frac{1}{N} \\sum_{i=1}^N (y_i - \\beta_0 - \\mathbf{x}_i^T \\boldsymbol{\\beta})^2$$\n",
    "\n",
    "Where:\n",
    "\n",
    "*N* := Number of data points\\\n",
    "*y_i* := The vector of the dependent variable\\\n",
    "*β_0* := The scalar of the independent variable's intercept\\\n",
    "*β_i* := The vector of parameters (coefficients to be estimated)\\\n",
    "*x_i* := The vector of independent variables\n",
    "\n",
    "Note: This has not been put in matrix form because GD uses calculus.\n",
    "\n",
    "At first, you might think, \"How can I calculate the residual without first having values for the parameters?\"\n",
    "\n",
    "GD iteratively determines the parameters' values.\n",
    "\n",
    "You add the value of the partial derivative of the MSE with regard to the particular parameter:\n",
    "\n",
    "$$\\frac{\\partial MSE}{\\partial \\beta_0} = -\\frac{2}{N} \\sum_{i=1}^N (y_i - \\beta_0 - \\mathbf{x}_i^T \\boldsymbol{\\beta_i})$$\n",
    "\n",
    "$$\\frac{\\partial MSE}{\\partial {\\beta_i}} = -\\frac{2}{N} \\sum_{i=1}^{N}(y_i - \\beta_0 + \\mathbf{x}_i^T \\boldsymbol{\\beta_i}) * x_i$$\n",
    "\n",
    "Now, let's set the parameters to 0 and add a learning rate (α) and number of times (i.e. epochs) to update each parameter.\n",
    "\n",
    "$\\alpha = 0.01$ will be the learning rate, and $t = 100$ will be the number of epochs.\n",
    "\n",
    "We want to update the model parameters using the following equations:\n",
    "\n",
    "$$\\beta_0^{t+1} = \\beta_0 + \\alpha \\cdot \\frac{\\partial MSE}{\\partial \\beta_0}$$\n",
    "\n",
    "$$\\beta_i^{t+1} = \\beta_i + \\alpha \\cdot \\frac{\\partial MSE}{\\partial \\beta_i}$$\n",
    "\n",
    "Substituting the derivatives we found earlier:\n",
    "\n",
    "$$\\beta_0^{t+1} = \\beta_0^{t+1} + 0.01 \\cdot (-\\frac{2}{N} \\sum_{i=1}^{N}(y_i - (\\beta_0^{t+1} + \\beta_i x_i)))$$\n",
    "\n",
    "$$\\beta_i^{t+1} = \\beta_i + 0.01 \\cdot (-\\frac{2}{N} \\sum_{i=1}^{N}(y_i - (\\boldsymbol{\\beta_0} + \\beta_i \\boldsymbol{x_i})) \\cdot \\boldsymbol{x_i})$$\n",
    "\n",
    "Simplifying the equations:\n",
    "\n",
    "$$\\beta_0^{t+1} = \\beta_0 - 0.02 \\sum_{i=1}^{N}(y_i - (\\boldsymbol{\\beta_0} + \\beta_i \\boldsymbol{x_i}))$$\n",
    "\n",
    "$$\\beta_i^{t+1} = \\beta_i - 0.02 \\sum_{i=1}^{N}(y_i - (\\boldsymbol{\\beta_0} + \\beta_i \\boldsymbol{x_i})) \\cdot \\boldsymbol{x_i}$$ -->"
   ]
  },
  {
   "cell_type": "markdown",
   "metadata": {},
   "source": [
    "### **How to Use Gradient Descent (GD)**\n",
    "\n",
    "#### **0) How to Get Started**\n",
    "\n",
    "To perform Gradient Descent (GD), you must first decide on a cost function, also known as a loss or objective function.\n",
    "\n",
    "For multiple regression, we typically use the mean squared error (MSE) as the cost function:\n",
    "\n",
    "$$MSE = \\frac{1}{N} \\| \\mathbf{y} - \\beta_0 \\mathbf{1} - \\mathbf{X} \\boldsymbol{\\beta} \\|^2$$\n",
    "\n",
    "Where:\n",
    "\n",
    "*N* := Number (scalar) of data points\\\n",
    "*y* := Vector of dependent variables (N * 1)\\\n",
    "*β_0* := Scalar intercept term\\\n",
    "*1* := Vector of 1's (n * 1)\\\n",
    "*X* := Matrix of independent variables (M * N)\\\n",
    "*β* := Vector of parameters (coefficients to be estimated, N * 1)\n",
    "\n",
    "At first, you might think, \"How can I calculate the residual without first having values for the parameters?\"\n",
    "\n",
    "GD iteratively determines the parameters' values updating the parameters at each step based on the gradient of the cost function, which, in this case, is the MSE.\n",
    "\n",
    "You add the value of the partial derivative of the MSE with regard to the particular parameter:\n",
    "\n",
    "$$\\frac{\\partial MSE}{\\partial \\beta_0} = -\\frac{2}{N} \\mathbf{1}^T (\\mathbf{y} - \\beta_0 \\mathbf{1} - \\mathbf{X} \\boldsymbol{\\beta})$$\n",
    "\n",
    "$$\\frac{\\partial MSE}{\\partial \\boldsymbol{\\beta}} = -\\frac{2}{N} \\mathbf{X}^T (\\mathbf{y} - \\beta_0 \\mathbf{1} - \\mathbf{X} \\boldsymbol{\\beta})$$\n",
    "\n",
    "Now, let's set the parameters to 0 and add a learning rate (α) and number of times (i.e. epochs) to update each parameter.\n",
    "\n",
    "$α = 0.01$ will be the learning rate, and $t = 100$ will be the number of epochs.\n",
    "\n",
    "The updates for the parameters are:\n",
    "\n",
    "$$\\beta_0^{(t+1)} = \\beta_0^{(t)} - \\alpha \\cdot \\frac{\\partial MSE}{\\partial \\beta_0}$$\n",
    "\n",
    "$$\\boldsymbol{\\beta}^{(t+1)} = \\boldsymbol{\\beta}^{(t)} - \\alpha \\cdot \\frac{\\partial MSE}{\\partial \\boldsymbol{\\beta}}$$\n",
    "\n",
    "Substituting the derivatives into the update equations:\n",
    "\n",
    "$$\\beta_0^{(t+1)} = \\beta_0^{(t)} + \\frac{2 \\alpha}{N} \\mathbf{1}^T (\\mathbf{y} - \\beta_0^{(t)} \\mathbf{1} - \\mathbf{X} \\boldsymbol{\\beta}^{(t)})$$\n",
    "\n",
    "$$\\boldsymbol{\\beta}^{(t+1)} = \\boldsymbol{\\beta}^{(t)} + \\frac{2 \\alpha}{N} \\mathbf{X}^T (\\mathbf{y} - \\beta_0^{(t)} \\mathbf{1} - \\mathbf{X} \\boldsymbol{\\beta}^{(t)})$$\n",
    "\n",
    "#### **Conclusion**\n",
    "\n",
    "The expressions $\\beta_0^{(t+1)}$ and $\\boldsymbol{\\beta}^{(t+1)}$ would give us the intercept and vector of parameters."
   ]
  },
  {
   "cell_type": "markdown",
   "metadata": {},
   "source": [
    "## 2) Gathering the Data"
   ]
  },
  {
   "cell_type": "markdown",
   "metadata": {},
   "source": [
    "The dataset comes from [Kaggle](https://www.kaggle.com/datasets/nikhil7280/student-performance-multiple-linear-regression).\n",
    "\n",
    "The dataset examines the factors influencing academic student performance, including:\n",
    "- Hours Studied: The total number of hours spent studying by each student.\n",
    "- Previous Scores: The scores obtained by students in previous tests.\n",
    "- Extracurricular Activities: Whether the student participates in extracurricular activities (Yes or No).\n",
    "- Sleep Hours: The average number of hours of sleep the student had per day.\n",
    "- Sample Question Papers Practiced: The number of sample question papers the student practiced.\n",
    "\n",
    "The dataset consists of 10,000 student records, with each record containing information about various predictors and a performance index.\n",
    "\n",
    "The target variable, performance index, measures each student's overall performance. The index, rounded to the nearest integer ranges from 10 to 100, with higher values indicating better performance."
   ]
  },
  {
   "cell_type": "code",
   "execution_count": 1,
   "metadata": {},
   "outputs": [
    {
     "name": "stdout",
     "output_type": "stream",
     "text": [
      "Downloading from https://www.kaggle.com/api/v1/datasets/download/nikhil7280/student-performance-multiple-linear-regression?dataset_version_number=1...\n"
     ]
    },
    {
     "name": "stderr",
     "output_type": "stream",
     "text": [
      "100%|██████████| 48.5k/48.5k [00:00<00:00, 21.3MB/s]"
     ]
    },
    {
     "name": "stdout",
     "output_type": "stream",
     "text": [
      "Extracting files...\n",
      "Path to dataset files: /Users/alexdubro/.cache/kagglehub/datasets/nikhil7280/student-performance-multiple-linear-regression/versions/1\n"
     ]
    },
    {
     "name": "stderr",
     "output_type": "stream",
     "text": [
      "\n"
     ]
    }
   ],
   "source": [
    "# The dataset will come from Kaggle:\n",
    "\n",
    "import kagglehub\n",
    "\n",
    "# Download latest version\n",
    "path = kagglehub.dataset_download(\"nikhil7280/student-performance-multiple-linear-regression\")\n",
    "print(\"Path to dataset files:\", path)"
   ]
  },
  {
   "cell_type": "code",
   "execution_count": 3,
   "metadata": {},
   "outputs": [
    {
     "data": {
      "text/html": [
       "<div>\n",
       "<style scoped>\n",
       "    .dataframe tbody tr th:only-of-type {\n",
       "        vertical-align: middle;\n",
       "    }\n",
       "\n",
       "    .dataframe tbody tr th {\n",
       "        vertical-align: top;\n",
       "    }\n",
       "\n",
       "    .dataframe thead th {\n",
       "        text-align: right;\n",
       "    }\n",
       "</style>\n",
       "<table border=\"1\" class=\"dataframe\">\n",
       "  <thead>\n",
       "    <tr style=\"text-align: right;\">\n",
       "      <th></th>\n",
       "      <th>Hours Studied</th>\n",
       "      <th>Previous Scores</th>\n",
       "      <th>Extracurricular Activities</th>\n",
       "      <th>Sleep Hours</th>\n",
       "      <th>Sample Question Papers Practiced</th>\n",
       "      <th>Performance Index</th>\n",
       "    </tr>\n",
       "  </thead>\n",
       "  <tbody>\n",
       "    <tr>\n",
       "      <th>0</th>\n",
       "      <td>7</td>\n",
       "      <td>99</td>\n",
       "      <td>Yes</td>\n",
       "      <td>9</td>\n",
       "      <td>1</td>\n",
       "      <td>91.0</td>\n",
       "    </tr>\n",
       "    <tr>\n",
       "      <th>1</th>\n",
       "      <td>4</td>\n",
       "      <td>82</td>\n",
       "      <td>No</td>\n",
       "      <td>4</td>\n",
       "      <td>2</td>\n",
       "      <td>65.0</td>\n",
       "    </tr>\n",
       "    <tr>\n",
       "      <th>2</th>\n",
       "      <td>8</td>\n",
       "      <td>51</td>\n",
       "      <td>Yes</td>\n",
       "      <td>7</td>\n",
       "      <td>2</td>\n",
       "      <td>45.0</td>\n",
       "    </tr>\n",
       "    <tr>\n",
       "      <th>3</th>\n",
       "      <td>5</td>\n",
       "      <td>52</td>\n",
       "      <td>Yes</td>\n",
       "      <td>5</td>\n",
       "      <td>2</td>\n",
       "      <td>36.0</td>\n",
       "    </tr>\n",
       "    <tr>\n",
       "      <th>4</th>\n",
       "      <td>7</td>\n",
       "      <td>75</td>\n",
       "      <td>No</td>\n",
       "      <td>8</td>\n",
       "      <td>5</td>\n",
       "      <td>66.0</td>\n",
       "    </tr>\n",
       "  </tbody>\n",
       "</table>\n",
       "</div>"
      ],
      "text/plain": [
       "   Hours Studied  Previous Scores Extracurricular Activities  Sleep Hours  \\\n",
       "0              7               99                        Yes            9   \n",
       "1              4               82                         No            4   \n",
       "2              8               51                        Yes            7   \n",
       "3              5               52                        Yes            5   \n",
       "4              7               75                         No            8   \n",
       "\n",
       "   Sample Question Papers Practiced  Performance Index  \n",
       "0                                 1               91.0  \n",
       "1                                 2               65.0  \n",
       "2                                 2               45.0  \n",
       "3                                 2               36.0  \n",
       "4                                 5               66.0  "
      ]
     },
     "execution_count": 3,
     "metadata": {},
     "output_type": "execute_result"
    }
   ],
   "source": [
    "import matplotlib.pyplot as plt\n",
    "import numpy as np \n",
    "import os\n",
    "import pandas as pd \n",
    "import seaborn as sns \n",
    "\n",
    "dataset_path = os.path.join(path, 'Student_Performance.csv')\n",
    "\n",
    "raw_data = pd.read_csv(dataset_path)\n",
    "raw_data.head()"
   ]
  },
  {
   "cell_type": "markdown",
   "metadata": {},
   "source": [
    "## 3) Cleaning/preprocessing data"
   ]
  },
  {
   "cell_type": "code",
   "execution_count": null,
   "metadata": {},
   "outputs": [],
   "source": [
    "# 1) Removing null data\n",
    "\n",
    "raw_data.dropna(inplace=True)\n",
    "\n",
    "# 2) Removing duplicates\n",
    "\n",
    "raw_data.drop_duplicates(inplace=True)"
   ]
  },
  {
   "cell_type": "markdown",
   "metadata": {},
   "source": [
    "Because there is a categorical variable, the data must be dummy coded."
   ]
  },
  {
   "cell_type": "code",
   "execution_count": 18,
   "metadata": {},
   "outputs": [
    {
     "data": {
      "text/plain": [
       "Extracurricular Activities\n",
       "No     4986\n",
       "Yes    4887\n",
       "Name: count, dtype: int64"
      ]
     },
     "execution_count": 18,
     "metadata": {},
     "output_type": "execute_result"
    }
   ],
   "source": [
    "raw_data['Extracurricular Activities'].value_counts()"
   ]
  },
  {
   "cell_type": "code",
   "execution_count": 19,
   "metadata": {},
   "outputs": [],
   "source": [
    "updated_data = raw_data.copy()  # making a copy so that our original data remains intact"
   ]
  },
  {
   "cell_type": "code",
   "execution_count": 22,
   "metadata": {},
   "outputs": [
    {
     "data": {
      "text/html": [
       "<div>\n",
       "<style scoped>\n",
       "    .dataframe tbody tr th:only-of-type {\n",
       "        vertical-align: middle;\n",
       "    }\n",
       "\n",
       "    .dataframe tbody tr th {\n",
       "        vertical-align: top;\n",
       "    }\n",
       "\n",
       "    .dataframe thead th {\n",
       "        text-align: right;\n",
       "    }\n",
       "</style>\n",
       "<table border=\"1\" class=\"dataframe\">\n",
       "  <thead>\n",
       "    <tr style=\"text-align: right;\">\n",
       "      <th></th>\n",
       "      <th>Hours Studied</th>\n",
       "      <th>Previous Scores</th>\n",
       "      <th>Extracurricular Activities</th>\n",
       "      <th>Sleep Hours</th>\n",
       "      <th>Sample Question Papers Practiced</th>\n",
       "      <th>Performance Index</th>\n",
       "    </tr>\n",
       "  </thead>\n",
       "  <tbody>\n",
       "    <tr>\n",
       "      <th>0</th>\n",
       "      <td>7</td>\n",
       "      <td>99</td>\n",
       "      <td>1</td>\n",
       "      <td>9</td>\n",
       "      <td>1</td>\n",
       "      <td>91.0</td>\n",
       "    </tr>\n",
       "    <tr>\n",
       "      <th>1</th>\n",
       "      <td>4</td>\n",
       "      <td>82</td>\n",
       "      <td>0</td>\n",
       "      <td>4</td>\n",
       "      <td>2</td>\n",
       "      <td>65.0</td>\n",
       "    </tr>\n",
       "    <tr>\n",
       "      <th>2</th>\n",
       "      <td>8</td>\n",
       "      <td>51</td>\n",
       "      <td>1</td>\n",
       "      <td>7</td>\n",
       "      <td>2</td>\n",
       "      <td>45.0</td>\n",
       "    </tr>\n",
       "    <tr>\n",
       "      <th>3</th>\n",
       "      <td>5</td>\n",
       "      <td>52</td>\n",
       "      <td>1</td>\n",
       "      <td>5</td>\n",
       "      <td>2</td>\n",
       "      <td>36.0</td>\n",
       "    </tr>\n",
       "    <tr>\n",
       "      <th>4</th>\n",
       "      <td>7</td>\n",
       "      <td>75</td>\n",
       "      <td>0</td>\n",
       "      <td>8</td>\n",
       "      <td>5</td>\n",
       "      <td>66.0</td>\n",
       "    </tr>\n",
       "  </tbody>\n",
       "</table>\n",
       "</div>"
      ],
      "text/plain": [
       "   Hours Studied  Previous Scores  Extracurricular Activities  Sleep Hours  \\\n",
       "0              7               99                           1            9   \n",
       "1              4               82                           0            4   \n",
       "2              8               51                           1            7   \n",
       "3              5               52                           1            5   \n",
       "4              7               75                           0            8   \n",
       "\n",
       "   Sample Question Papers Practiced  Performance Index  \n",
       "0                                 1               91.0  \n",
       "1                                 2               65.0  \n",
       "2                                 2               45.0  \n",
       "3                                 2               36.0  \n",
       "4                                 5               66.0  "
      ]
     },
     "execution_count": 22,
     "metadata": {},
     "output_type": "execute_result"
    }
   ],
   "source": [
    "updated_data['Extracurricular Activities'] = raw_data['Extracurricular Activities'].map({'No': 0, 'Yes': 1}) # dummy coding the data"
   ]
  },
  {
   "cell_type": "code",
   "execution_count": 41,
   "metadata": {},
   "outputs": [
    {
     "data": {
      "text/html": [
       "<div>\n",
       "<style scoped>\n",
       "    .dataframe tbody tr th:only-of-type {\n",
       "        vertical-align: middle;\n",
       "    }\n",
       "\n",
       "    .dataframe tbody tr th {\n",
       "        vertical-align: top;\n",
       "    }\n",
       "\n",
       "    .dataframe thead th {\n",
       "        text-align: right;\n",
       "    }\n",
       "</style>\n",
       "<table border=\"1\" class=\"dataframe\">\n",
       "  <thead>\n",
       "    <tr style=\"text-align: right;\">\n",
       "      <th></th>\n",
       "      <th>Hours Studied</th>\n",
       "      <th>Previous Scores</th>\n",
       "      <th>Extracurricular Activities</th>\n",
       "      <th>Sleep Hours</th>\n",
       "      <th>Sample Question Papers Practiced</th>\n",
       "      <th>Performance Index</th>\n",
       "    </tr>\n",
       "  </thead>\n",
       "  <tbody>\n",
       "    <tr>\n",
       "      <th>1</th>\n",
       "      <td>4</td>\n",
       "      <td>82</td>\n",
       "      <td>0</td>\n",
       "      <td>4</td>\n",
       "      <td>2</td>\n",
       "      <td>65.0</td>\n",
       "    </tr>\n",
       "    <tr>\n",
       "      <th>4</th>\n",
       "      <td>7</td>\n",
       "      <td>75</td>\n",
       "      <td>0</td>\n",
       "      <td>8</td>\n",
       "      <td>5</td>\n",
       "      <td>66.0</td>\n",
       "    </tr>\n",
       "    <tr>\n",
       "      <th>5</th>\n",
       "      <td>3</td>\n",
       "      <td>78</td>\n",
       "      <td>0</td>\n",
       "      <td>9</td>\n",
       "      <td>6</td>\n",
       "      <td>61.0</td>\n",
       "    </tr>\n",
       "    <tr>\n",
       "      <th>8</th>\n",
       "      <td>5</td>\n",
       "      <td>77</td>\n",
       "      <td>0</td>\n",
       "      <td>8</td>\n",
       "      <td>2</td>\n",
       "      <td>61.0</td>\n",
       "    </tr>\n",
       "    <tr>\n",
       "      <th>9</th>\n",
       "      <td>4</td>\n",
       "      <td>89</td>\n",
       "      <td>0</td>\n",
       "      <td>4</td>\n",
       "      <td>0</td>\n",
       "      <td>69.0</td>\n",
       "    </tr>\n",
       "  </tbody>\n",
       "</table>\n",
       "</div>"
      ],
      "text/plain": [
       "   Hours Studied  Previous Scores  Extracurricular Activities  Sleep Hours  \\\n",
       "1              4               82                           0            4   \n",
       "4              7               75                           0            8   \n",
       "5              3               78                           0            9   \n",
       "8              5               77                           0            8   \n",
       "9              4               89                           0            4   \n",
       "\n",
       "   Sample Question Papers Practiced  Performance Index  \n",
       "1                                 2               65.0  \n",
       "4                                 5               66.0  \n",
       "5                                 6               61.0  \n",
       "8                                 2               61.0  \n",
       "9                                 0               69.0  "
      ]
     },
     "execution_count": 41,
     "metadata": {},
     "output_type": "execute_result"
    }
   ],
   "source": [
    "data_0 = updated_data[updated_data['Extracurricular Activities'] == 0]\n",
    "data_0.head()"
   ]
  },
  {
   "cell_type": "code",
   "execution_count": null,
   "metadata": {},
   "outputs": [],
   "source": [
    "X_0 = data_0.drop('Performance Index', axis=1) # Extracurricular Activities: 'No': 0\n",
    "y_0 = data_0['Performance Index']"
   ]
  },
  {
   "cell_type": "code",
   "execution_count": 46,
   "metadata": {},
   "outputs": [
    {
     "data": {
      "text/html": [
       "<div>\n",
       "<style scoped>\n",
       "    .dataframe tbody tr th:only-of-type {\n",
       "        vertical-align: middle;\n",
       "    }\n",
       "\n",
       "    .dataframe tbody tr th {\n",
       "        vertical-align: top;\n",
       "    }\n",
       "\n",
       "    .dataframe thead th {\n",
       "        text-align: right;\n",
       "    }\n",
       "</style>\n",
       "<table border=\"1\" class=\"dataframe\">\n",
       "  <thead>\n",
       "    <tr style=\"text-align: right;\">\n",
       "      <th></th>\n",
       "      <th>Hours Studied</th>\n",
       "      <th>Previous Scores</th>\n",
       "      <th>Extracurricular Activities</th>\n",
       "      <th>Sleep Hours</th>\n",
       "      <th>Sample Question Papers Practiced</th>\n",
       "      <th>Performance Index</th>\n",
       "    </tr>\n",
       "  </thead>\n",
       "  <tbody>\n",
       "    <tr>\n",
       "      <th>0</th>\n",
       "      <td>7</td>\n",
       "      <td>99</td>\n",
       "      <td>1</td>\n",
       "      <td>9</td>\n",
       "      <td>1</td>\n",
       "      <td>91.0</td>\n",
       "    </tr>\n",
       "    <tr>\n",
       "      <th>2</th>\n",
       "      <td>8</td>\n",
       "      <td>51</td>\n",
       "      <td>1</td>\n",
       "      <td>7</td>\n",
       "      <td>2</td>\n",
       "      <td>45.0</td>\n",
       "    </tr>\n",
       "    <tr>\n",
       "      <th>3</th>\n",
       "      <td>5</td>\n",
       "      <td>52</td>\n",
       "      <td>1</td>\n",
       "      <td>5</td>\n",
       "      <td>2</td>\n",
       "      <td>36.0</td>\n",
       "    </tr>\n",
       "    <tr>\n",
       "      <th>6</th>\n",
       "      <td>7</td>\n",
       "      <td>73</td>\n",
       "      <td>1</td>\n",
       "      <td>5</td>\n",
       "      <td>6</td>\n",
       "      <td>63.0</td>\n",
       "    </tr>\n",
       "    <tr>\n",
       "      <th>7</th>\n",
       "      <td>8</td>\n",
       "      <td>45</td>\n",
       "      <td>1</td>\n",
       "      <td>4</td>\n",
       "      <td>6</td>\n",
       "      <td>42.0</td>\n",
       "    </tr>\n",
       "  </tbody>\n",
       "</table>\n",
       "</div>"
      ],
      "text/plain": [
       "   Hours Studied  Previous Scores  Extracurricular Activities  Sleep Hours  \\\n",
       "0              7               99                           1            9   \n",
       "2              8               51                           1            7   \n",
       "3              5               52                           1            5   \n",
       "6              7               73                           1            5   \n",
       "7              8               45                           1            4   \n",
       "\n",
       "   Sample Question Papers Practiced  Performance Index  \n",
       "0                                 1               91.0  \n",
       "2                                 2               45.0  \n",
       "3                                 2               36.0  \n",
       "6                                 6               63.0  \n",
       "7                                 6               42.0  "
      ]
     },
     "execution_count": 46,
     "metadata": {},
     "output_type": "execute_result"
    }
   ],
   "source": [
    "data_1 = updated_data[updated_data['Extracurricular Activities'] == 1]\n",
    "data_1.head()"
   ]
  },
  {
   "cell_type": "code",
   "execution_count": 47,
   "metadata": {},
   "outputs": [],
   "source": [
    "X_1 = data_1.drop('Performance Index', axis=1)\n",
    "y_1 = data_1['Performance Index']"
   ]
  },
  {
   "cell_type": "markdown",
   "metadata": {},
   "source": [
    "## 4) Visualizing the Data"
   ]
  },
  {
   "cell_type": "code",
   "execution_count": 54,
   "metadata": {},
   "outputs": [
    {
     "data": {
      "text/html": [
       "<div>\n",
       "<style scoped>\n",
       "    .dataframe tbody tr th:only-of-type {\n",
       "        vertical-align: middle;\n",
       "    }\n",
       "\n",
       "    .dataframe tbody tr th {\n",
       "        vertical-align: top;\n",
       "    }\n",
       "\n",
       "    .dataframe thead th {\n",
       "        text-align: right;\n",
       "    }\n",
       "</style>\n",
       "<table border=\"1\" class=\"dataframe\">\n",
       "  <thead>\n",
       "    <tr style=\"text-align: right;\">\n",
       "      <th></th>\n",
       "      <th>Hours Studied</th>\n",
       "      <th>Previous Scores</th>\n",
       "      <th>Extracurricular Activities</th>\n",
       "      <th>Sleep Hours</th>\n",
       "      <th>Sample Question Papers Practiced</th>\n",
       "      <th>Performance Index</th>\n",
       "    </tr>\n",
       "  </thead>\n",
       "  <tbody>\n",
       "    <tr>\n",
       "      <th>count</th>\n",
       "      <td>9873.000000</td>\n",
       "      <td>9873.000000</td>\n",
       "      <td>9873.000000</td>\n",
       "      <td>9873.000000</td>\n",
       "      <td>9873.000000</td>\n",
       "      <td>9873.000000</td>\n",
       "    </tr>\n",
       "    <tr>\n",
       "      <th>mean</th>\n",
       "      <td>4.992100</td>\n",
       "      <td>69.441102</td>\n",
       "      <td>0.494986</td>\n",
       "      <td>6.531652</td>\n",
       "      <td>4.583004</td>\n",
       "      <td>55.216651</td>\n",
       "    </tr>\n",
       "    <tr>\n",
       "      <th>std</th>\n",
       "      <td>2.589081</td>\n",
       "      <td>17.325601</td>\n",
       "      <td>0.500000</td>\n",
       "      <td>1.697683</td>\n",
       "      <td>2.867202</td>\n",
       "      <td>19.208570</td>\n",
       "    </tr>\n",
       "    <tr>\n",
       "      <th>min</th>\n",
       "      <td>1.000000</td>\n",
       "      <td>40.000000</td>\n",
       "      <td>0.000000</td>\n",
       "      <td>4.000000</td>\n",
       "      <td>0.000000</td>\n",
       "      <td>10.000000</td>\n",
       "    </tr>\n",
       "    <tr>\n",
       "      <th>25%</th>\n",
       "      <td>3.000000</td>\n",
       "      <td>54.000000</td>\n",
       "      <td>0.000000</td>\n",
       "      <td>5.000000</td>\n",
       "      <td>2.000000</td>\n",
       "      <td>40.000000</td>\n",
       "    </tr>\n",
       "    <tr>\n",
       "      <th>50%</th>\n",
       "      <td>5.000000</td>\n",
       "      <td>69.000000</td>\n",
       "      <td>0.000000</td>\n",
       "      <td>7.000000</td>\n",
       "      <td>5.000000</td>\n",
       "      <td>55.000000</td>\n",
       "    </tr>\n",
       "    <tr>\n",
       "      <th>75%</th>\n",
       "      <td>7.000000</td>\n",
       "      <td>85.000000</td>\n",
       "      <td>1.000000</td>\n",
       "      <td>8.000000</td>\n",
       "      <td>7.000000</td>\n",
       "      <td>70.000000</td>\n",
       "    </tr>\n",
       "    <tr>\n",
       "      <th>max</th>\n",
       "      <td>9.000000</td>\n",
       "      <td>99.000000</td>\n",
       "      <td>1.000000</td>\n",
       "      <td>9.000000</td>\n",
       "      <td>9.000000</td>\n",
       "      <td>100.000000</td>\n",
       "    </tr>\n",
       "  </tbody>\n",
       "</table>\n",
       "</div>"
      ],
      "text/plain": [
       "       Hours Studied  Previous Scores  Extracurricular Activities  \\\n",
       "count    9873.000000      9873.000000                 9873.000000   \n",
       "mean        4.992100        69.441102                    0.494986   \n",
       "std         2.589081        17.325601                    0.500000   \n",
       "min         1.000000        40.000000                    0.000000   \n",
       "25%         3.000000        54.000000                    0.000000   \n",
       "50%         5.000000        69.000000                    0.000000   \n",
       "75%         7.000000        85.000000                    1.000000   \n",
       "max         9.000000        99.000000                    1.000000   \n",
       "\n",
       "       Sleep Hours  Sample Question Papers Practiced  Performance Index  \n",
       "count  9873.000000                       9873.000000        9873.000000  \n",
       "mean      6.531652                          4.583004          55.216651  \n",
       "std       1.697683                          2.867202          19.208570  \n",
       "min       4.000000                          0.000000          10.000000  \n",
       "25%       5.000000                          2.000000          40.000000  \n",
       "50%       7.000000                          5.000000          55.000000  \n",
       "75%       8.000000                          7.000000          70.000000  \n",
       "max       9.000000                          9.000000         100.000000  "
      ]
     },
     "execution_count": 54,
     "metadata": {},
     "output_type": "execute_result"
    }
   ],
   "source": [
    "updated_data.describe()"
   ]
  },
  {
   "cell_type": "code",
   "execution_count": null,
   "metadata": {},
   "outputs": [],
   "source": [
    "plt.figure(figsize=(12, 8))\n",
    "\n",
    "plt.hist(df['MEDV'], bins=50, ec='black', rwidth=0.5)\n",
    "plt.xlabel('Price in thousands')\n",
    "plt.ylabel('Number of houses')\n",
    "plt.title(\"Counts of Housing Prices\")\n",
    "plt.show()"
   ]
  },
  {
   "cell_type": "markdown",
   "metadata": {},
   "source": [
    "## 5) Training & Building the Algorithm: Deriving Parameters Using OLS & GD "
   ]
  },
  {
   "cell_type": "markdown",
   "metadata": {},
   "source": [
    "## Ordinary Least Squares (OLS)\n",
    "\n",
    "We will be using the following equation to derive the parameters for OLS:\n",
    "\n",
    "$$\\hat{β} = (X^TX)^{-1}X^Ty$$"
   ]
  },
  {
   "cell_type": "code",
   "execution_count": 43,
   "metadata": {},
   "outputs": [
    {
     "ename": "LinAlgError",
     "evalue": "Singular matrix",
     "output_type": "error",
     "traceback": [
      "\u001b[0;31m---------------------------------------------------------------------------\u001b[0m",
      "\u001b[0;31mLinAlgError\u001b[0m                               Traceback (most recent call last)",
      "Cell \u001b[0;32mIn[43], line 15\u001b[0m\n\u001b[1;32m     12\u001b[0m X_0_with_intercept \u001b[38;5;241m=\u001b[39m np\u001b[38;5;241m.\u001b[39mcolumn_stack([np\u001b[38;5;241m.\u001b[39mones(\u001b[38;5;28mlen\u001b[39m(X_0)), X_0])\n\u001b[1;32m     14\u001b[0m \u001b[38;5;66;03m# Use matrix multiplication and matrix inverse\u001b[39;00m\n\u001b[0;32m---> 15\u001b[0m beta \u001b[38;5;241m=\u001b[39m \u001b[43mnp\u001b[49m\u001b[38;5;241;43m.\u001b[39;49m\u001b[43mlinalg\u001b[49m\u001b[38;5;241;43m.\u001b[39;49m\u001b[43minv\u001b[49m\u001b[43m(\u001b[49m\u001b[43mX_0_with_intercept\u001b[49m\u001b[38;5;241;43m.\u001b[39;49m\u001b[43mT\u001b[49m\u001b[43m \u001b[49m\u001b[38;5;241;43m@\u001b[39;49m\u001b[43m \u001b[49m\u001b[43mX_0_with_intercept\u001b[49m\u001b[43m)\u001b[49m \u001b[38;5;241m@\u001b[39m X_0_with_intercept\u001b[38;5;241m.\u001b[39mT \u001b[38;5;241m@\u001b[39m y_0\n",
      "File \u001b[0;32m~/miniforge3/envs/miniforge/lib/python3.10/site-packages/numpy/linalg/_linalg.py:615\u001b[0m, in \u001b[0;36minv\u001b[0;34m(a)\u001b[0m\n\u001b[1;32m    612\u001b[0m signature \u001b[38;5;241m=\u001b[39m \u001b[38;5;124m'\u001b[39m\u001b[38;5;124mD->D\u001b[39m\u001b[38;5;124m'\u001b[39m \u001b[38;5;28;01mif\u001b[39;00m isComplexType(t) \u001b[38;5;28;01melse\u001b[39;00m \u001b[38;5;124m'\u001b[39m\u001b[38;5;124md->d\u001b[39m\u001b[38;5;124m'\u001b[39m\n\u001b[1;32m    613\u001b[0m \u001b[38;5;28;01mwith\u001b[39;00m errstate(call\u001b[38;5;241m=\u001b[39m_raise_linalgerror_singular, invalid\u001b[38;5;241m=\u001b[39m\u001b[38;5;124m'\u001b[39m\u001b[38;5;124mcall\u001b[39m\u001b[38;5;124m'\u001b[39m,\n\u001b[1;32m    614\u001b[0m               over\u001b[38;5;241m=\u001b[39m\u001b[38;5;124m'\u001b[39m\u001b[38;5;124mignore\u001b[39m\u001b[38;5;124m'\u001b[39m, divide\u001b[38;5;241m=\u001b[39m\u001b[38;5;124m'\u001b[39m\u001b[38;5;124mignore\u001b[39m\u001b[38;5;124m'\u001b[39m, under\u001b[38;5;241m=\u001b[39m\u001b[38;5;124m'\u001b[39m\u001b[38;5;124mignore\u001b[39m\u001b[38;5;124m'\u001b[39m):\n\u001b[0;32m--> 615\u001b[0m     ainv \u001b[38;5;241m=\u001b[39m \u001b[43m_umath_linalg\u001b[49m\u001b[38;5;241;43m.\u001b[39;49m\u001b[43minv\u001b[49m\u001b[43m(\u001b[49m\u001b[43ma\u001b[49m\u001b[43m,\u001b[49m\u001b[43m \u001b[49m\u001b[43msignature\u001b[49m\u001b[38;5;241;43m=\u001b[39;49m\u001b[43msignature\u001b[49m\u001b[43m)\u001b[49m\n\u001b[1;32m    616\u001b[0m \u001b[38;5;28;01mreturn\u001b[39;00m wrap(ainv\u001b[38;5;241m.\u001b[39mastype(result_t, copy\u001b[38;5;241m=\u001b[39m\u001b[38;5;28;01mFalse\u001b[39;00m))\n",
      "File \u001b[0;32m~/miniforge3/envs/miniforge/lib/python3.10/site-packages/numpy/linalg/_linalg.py:104\u001b[0m, in \u001b[0;36m_raise_linalgerror_singular\u001b[0;34m(err, flag)\u001b[0m\n\u001b[1;32m    103\u001b[0m \u001b[38;5;28;01mdef\u001b[39;00m \u001b[38;5;21m_raise_linalgerror_singular\u001b[39m(err, flag):\n\u001b[0;32m--> 104\u001b[0m     \u001b[38;5;28;01mraise\u001b[39;00m LinAlgError(\u001b[38;5;124m\"\u001b[39m\u001b[38;5;124mSingular matrix\u001b[39m\u001b[38;5;124m\"\u001b[39m)\n",
      "\u001b[0;31mLinAlgError\u001b[0m: Singular matrix"
     ]
    }
   ],
   "source": [
    "# y_0 = data_0['Performance Index']\n",
    "# X_0 = data_0.drop('Performance Index', axis=1)\n",
    "# x_0_transpose = np.transpose(X_0)\n",
    "\n",
    "# beta = np.linalg.inv(X_0.T @ X_0) @ X_0.T @ y_0\n",
    "\n",
    "# Correct implementation of normal equations\n",
    "X_0 = data_0.drop('Performance Index', axis=1)\n",
    "y_0 = data_0['Performance Index']\n",
    "\n",
    "# Add a column of 1s for the intercept term\n",
    "X_0_with_intercept = np.column_stack([np.ones(len(X_0)), X_0])\n",
    "\n",
    "# Use matrix multiplication and matrix inverse\n",
    "beta = np.linalg.inv(X_0_with_intercept.T @ X_0_with_intercept) @ X_0_with_intercept.T @ y_0"
   ]
  },
  {
   "cell_type": "markdown",
   "metadata": {},
   "source": [
    "Because of Extracurricular Activities (namely, the dummy variable), the matrix is not full column rank. Therefore, other approaches must be taken to calculate its parameters."
   ]
  },
  {
   "cell_type": "markdown",
   "metadata": {},
   "source": [
    "## 1) Ridge Regression"
   ]
  },
  {
   "cell_type": "code",
   "execution_count": 44,
   "metadata": {},
   "outputs": [
    {
     "name": "stdout",
     "output_type": "stream",
     "text": [
      "[-34.02208685   2.8404049    1.01806564   0.           0.48233107\n",
      "   0.19807239]\n"
     ]
    }
   ],
   "source": [
    "def ridge_regression(X, y, lambda_=1.0):\n",
    "    # Add intercept column\n",
    "    X_with_intercept = np.column_stack([np.ones(len(X)), X])\n",
    "    \n",
    "    # Create identity matrix (skip first element for intercept)\n",
    "    I = np.eye(X_with_intercept.shape[1])\n",
    "    I[0,0] = 0  # Don't regularize intercept\n",
    "    \n",
    "    # Solve (X^T X + λI)^(-1) X^T y\n",
    "    beta = np.linalg.inv(X_with_intercept.T @ X_with_intercept + lambda_ * I) @ X_with_intercept.T @ y\n",
    "    \n",
    "    return beta\n",
    "\n",
    "parameters = ridge_regression(X_0, y_0, lambda_=1.0)\n",
    "print(parameters)"
   ]
  },
  {
   "cell_type": "markdown",
   "metadata": {},
   "source": [
    "## 2) Singular Value Decomposition (SVD)"
   ]
  },
  {
   "cell_type": "code",
   "execution_count": 45,
   "metadata": {},
   "outputs": [
    {
     "name": "stdout",
     "output_type": "stream",
     "text": [
      "[-3.40227939e+01  2.84048888e+00  1.01806649e+00 -4.12559464e-17\n",
      "  4.82363491e-01  1.98076137e-01]\n"
     ]
    }
   ],
   "source": [
    "U, s, Vt = np.linalg.svd(X_0_with_intercept, full_matrices=False)\n",
    "\n",
    "# Create a diagonal matrix with reciprocals of singular values\n",
    "# Add a small threshold to handle near-zero singular values\n",
    "s_inv = np.zeros_like(s)\n",
    "threshold = 1e-10  # You can adjust this threshold\n",
    "s_inv[s > threshold] = 1 / s[s > threshold]\n",
    "\n",
    "# Construct the pseudoinverse\n",
    "# V * Σ⁺ * U^T\n",
    "pseudoinverse = Vt.T @ np.diag(s_inv) @ U.T\n",
    "\n",
    "# Compute beta\n",
    "beta = pseudoinverse @ y_0\n",
    "print(beta)"
   ]
  },
  {
   "cell_type": "code",
   "execution_count": null,
   "metadata": {},
   "outputs": [
    {
     "ename": "LinAlgError",
     "evalue": "Singular matrix",
     "output_type": "error",
     "traceback": [
      "\u001b[0;31m---------------------------------------------------------------------------\u001b[0m",
      "\u001b[0;31mLinAlgError\u001b[0m                               Traceback (most recent call last)",
      "Cell \u001b[0;32mIn[52], line 5\u001b[0m\n\u001b[1;32m      1\u001b[0m \u001b[38;5;66;03m# y_0 = data_0['Performance Index']\u001b[39;00m\n\u001b[1;32m      2\u001b[0m \u001b[38;5;66;03m# X_0 = data_0.drop('Performance Index', axis=1)\u001b[39;00m\n\u001b[1;32m      3\u001b[0m \u001b[38;5;66;03m# x_0_transpose = np.transpose(X_0)\u001b[39;00m\n\u001b[0;32m----> 5\u001b[0m beta_11 \u001b[38;5;241m=\u001b[39m \u001b[43mnp\u001b[49m\u001b[38;5;241;43m.\u001b[39;49m\u001b[43mlinalg\u001b[49m\u001b[38;5;241;43m.\u001b[39;49m\u001b[43minv\u001b[49m\u001b[43m(\u001b[49m\u001b[43mX_0\u001b[49m\u001b[38;5;241;43m.\u001b[39;49m\u001b[43mT\u001b[49m\u001b[43m \u001b[49m\u001b[38;5;241;43m@\u001b[39;49m\u001b[43m \u001b[49m\u001b[43mX_0\u001b[49m\u001b[43m)\u001b[49m \u001b[38;5;241m@\u001b[39m X_0\u001b[38;5;241m.\u001b[39mT \u001b[38;5;241m@\u001b[39m y_0\n\u001b[1;32m      6\u001b[0m \u001b[38;5;28mprint\u001b[39m(beta_11)\n\u001b[1;32m      8\u001b[0m \u001b[38;5;66;03m# Correct implementation of normal equations\u001b[39;00m\n\u001b[1;32m      9\u001b[0m \u001b[38;5;66;03m# X_1 = data_1.drop('Performance Index', axis=1)\u001b[39;00m\n\u001b[1;32m     10\u001b[0m \u001b[38;5;66;03m# y_1 = data_1['Performance Index']\u001b[39;00m\n\u001b[1;32m     11\u001b[0m \n\u001b[1;32m     12\u001b[0m \u001b[38;5;66;03m# Add a column of 1s for the intercept term\u001b[39;00m\n",
      "File \u001b[0;32m~/miniforge3/envs/miniforge/lib/python3.10/site-packages/numpy/linalg/_linalg.py:615\u001b[0m, in \u001b[0;36minv\u001b[0;34m(a)\u001b[0m\n\u001b[1;32m    612\u001b[0m signature \u001b[38;5;241m=\u001b[39m \u001b[38;5;124m'\u001b[39m\u001b[38;5;124mD->D\u001b[39m\u001b[38;5;124m'\u001b[39m \u001b[38;5;28;01mif\u001b[39;00m isComplexType(t) \u001b[38;5;28;01melse\u001b[39;00m \u001b[38;5;124m'\u001b[39m\u001b[38;5;124md->d\u001b[39m\u001b[38;5;124m'\u001b[39m\n\u001b[1;32m    613\u001b[0m \u001b[38;5;28;01mwith\u001b[39;00m errstate(call\u001b[38;5;241m=\u001b[39m_raise_linalgerror_singular, invalid\u001b[38;5;241m=\u001b[39m\u001b[38;5;124m'\u001b[39m\u001b[38;5;124mcall\u001b[39m\u001b[38;5;124m'\u001b[39m,\n\u001b[1;32m    614\u001b[0m               over\u001b[38;5;241m=\u001b[39m\u001b[38;5;124m'\u001b[39m\u001b[38;5;124mignore\u001b[39m\u001b[38;5;124m'\u001b[39m, divide\u001b[38;5;241m=\u001b[39m\u001b[38;5;124m'\u001b[39m\u001b[38;5;124mignore\u001b[39m\u001b[38;5;124m'\u001b[39m, under\u001b[38;5;241m=\u001b[39m\u001b[38;5;124m'\u001b[39m\u001b[38;5;124mignore\u001b[39m\u001b[38;5;124m'\u001b[39m):\n\u001b[0;32m--> 615\u001b[0m     ainv \u001b[38;5;241m=\u001b[39m \u001b[43m_umath_linalg\u001b[49m\u001b[38;5;241;43m.\u001b[39;49m\u001b[43minv\u001b[49m\u001b[43m(\u001b[49m\u001b[43ma\u001b[49m\u001b[43m,\u001b[49m\u001b[43m \u001b[49m\u001b[43msignature\u001b[49m\u001b[38;5;241;43m=\u001b[39;49m\u001b[43msignature\u001b[49m\u001b[43m)\u001b[49m\n\u001b[1;32m    616\u001b[0m \u001b[38;5;28;01mreturn\u001b[39;00m wrap(ainv\u001b[38;5;241m.\u001b[39mastype(result_t, copy\u001b[38;5;241m=\u001b[39m\u001b[38;5;28;01mFalse\u001b[39;00m))\n",
      "File \u001b[0;32m~/miniforge3/envs/miniforge/lib/python3.10/site-packages/numpy/linalg/_linalg.py:104\u001b[0m, in \u001b[0;36m_raise_linalgerror_singular\u001b[0;34m(err, flag)\u001b[0m\n\u001b[1;32m    103\u001b[0m \u001b[38;5;28;01mdef\u001b[39;00m \u001b[38;5;21m_raise_linalgerror_singular\u001b[39m(err, flag):\n\u001b[0;32m--> 104\u001b[0m     \u001b[38;5;28;01mraise\u001b[39;00m LinAlgError(\u001b[38;5;124m\"\u001b[39m\u001b[38;5;124mSingular matrix\u001b[39m\u001b[38;5;124m\"\u001b[39m)\n",
      "\u001b[0;31mLinAlgError\u001b[0m: Singular matrix"
     ]
    }
   ],
   "source": [
    "# y_0 = data_0['Performance Index']\n",
    "# X_0 = data_0.drop('Performance Index', axis=1)\n",
    "# x_0_transpose = np.transpose(X_0)\n",
    "\n",
    "beta_11 = np.linalg.inv(X_0.T @ X_0) @ X_0.T @ y_0\n",
    "print(beta_11)"
   ]
  },
  {
   "cell_type": "code",
   "execution_count": 53,
   "metadata": {},
   "outputs": [
    {
     "name": "stdout",
     "output_type": "stream",
     "text": [
      "[ 9.38976005e+17 -4.12495736e+00  1.98060613e+00 -9.38976005e+17\n",
      "  3.98771005e+01  0.00000000e+00]\n"
     ]
    }
   ],
   "source": [
    "# Correct implementation of normal equations\n",
    "# X_1 = data_1.drop('Performance Index', axis=1)\n",
    "# y_1 = data_1['Performance Index']\n",
    "\n",
    "# Add a column of 1s for the intercept term\n",
    "X_1_with_intercept = np.column_stack([np.ones(len(X_1)), X_1])\n",
    "\n",
    "# Use matrix multiplication and matrix inverse\n",
    "beta_22 = np.linalg.inv(X_1_with_intercept.T @ X_1_with_intercept) @ X_1_with_intercept.T @ y_1\n",
    "print(beta_22)"
   ]
  },
  {
   "cell_type": "code",
   "execution_count": 50,
   "metadata": {},
   "outputs": [
    {
     "name": "stdout",
     "output_type": "stream",
     "text": [
      "[-3.34984716e+01  2.86538453e+00  1.01852677e+00  1.52518478e-11\n",
      "  4.78547138e-01  1.89582109e-01]\n"
     ]
    }
   ],
   "source": [
    "def ridge_regression(X, y, lambda_=1.0):\n",
    "    # Add intercept column\n",
    "    X_with_intercept = np.column_stack([np.ones(len(X)), X])\n",
    "    \n",
    "    # Create identity matrix (skip first element for intercept)\n",
    "    I = np.eye(X_with_intercept.shape[1])\n",
    "    I[0,0] = 0  # Don't regularize intercept\n",
    "    \n",
    "    # Solve (X^T X + λI)^(-1) X^T y\n",
    "    beta = np.linalg.inv(X_with_intercept.T @ X_with_intercept + lambda_ * I) @ X_with_intercept.T @ y\n",
    "    \n",
    "    return beta\n",
    "\n",
    "parameters = ridge_regression(X_1, y_1, lambda_=1.0)\n",
    "print(parameters)"
   ]
  },
  {
   "cell_type": "code",
   "execution_count": 51,
   "metadata": {},
   "outputs": [
    {
     "name": "stdout",
     "output_type": "stream",
     "text": [
      "[-16.74960152   2.865473     1.0185275  -16.74960152   0.47858157\n",
      "   0.18958515]\n"
     ]
    }
   ],
   "source": [
    "U, s, Vt = np.linalg.svd(X_1_with_intercept, full_matrices=False)\n",
    "\n",
    "# Create a diagonal matrix with reciprocals of singular values\n",
    "# Add a small threshold to handle near-zero singular values\n",
    "s_inv = np.zeros_like(s)\n",
    "threshold = 1e-10  # You can adjust this threshold\n",
    "s_inv[s > threshold] = 1 / s[s > threshold]\n",
    "\n",
    "# Construct the pseudoinverse\n",
    "# V * Σ⁺ * U^T\n",
    "pseudoinverse = Vt.T @ np.diag(s_inv) @ U.T\n",
    "\n",
    "# Compute beta\n",
    "beta = pseudoinverse @ y_1\n",
    "print(beta)"
   ]
  },
  {
   "cell_type": "code",
   "execution_count": null,
   "metadata": {},
   "outputs": [],
   "source": []
  }
 ],
 "metadata": {
  "kernelspec": {
   "display_name": "miniforge",
   "language": "python",
   "name": "python3"
  },
  "language_info": {
   "codemirror_mode": {
    "name": "ipython",
    "version": 3
   },
   "file_extension": ".py",
   "mimetype": "text/x-python",
   "name": "python",
   "nbconvert_exporter": "python",
   "pygments_lexer": "ipython3",
   "version": "3.10.15"
  }
 },
 "nbformat": 4,
 "nbformat_minor": 2
}
