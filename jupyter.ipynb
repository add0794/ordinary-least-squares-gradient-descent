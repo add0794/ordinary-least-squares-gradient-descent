{
 "cells": [
  {
   "cell_type": "markdown",
   "metadata": {},
   "source": [
    "# Multiple Regression: Ordinary Least Squares (OLS) vs. Gradient Descent (GD)"
   ]
  },
  {
   "cell_type": "markdown",
   "metadata": {},
   "source": [
    "Multiple regression is a statistical technique used to model the relationship between one dependent variable (or label) and two or more independent variables (or features). It is a powerful tool for understanding how changes in independent variables influence the dependent variable. While this modeling approach can be implemented using various strategies, I will focus on two main methods: \n",
    "- **Ordinary Least Squares (OLS)**, which derives the solution through pure mathematical analysis, \n",
    "- **Gradient Descent (GD)**, an iterative optimization algorithm often associated with machine learning.\n",
    "\n",
    "Although Python packages exist for conducting multiple regression, this article will show how to derive the regression parameters using both OLS and GD from scratch. Then, it compare their performance and applicability based on the following criteria:\n",
    "- **Computational Speed**: How quickly each method converges to a solution, particularly for datasets of varying sizes and dimensionalities.\n",
    "- **Memory Usage**: The amount of memory required by each approach, especially for large datasets where matrix operations (OLS) may become prohibitive.\n",
    "- **Convergence Behavior**: The robustness of GD to hyperparameter tuning (e.g., learning rate) and its ability to converge to an optimal solution in different conditions.\n",
    "- **Numerical Stability**: How each method performs when faced with ill-conditioned data or high multicollinearity among independent variables.\n",
    "- **Scalability**: Suitability for big data scenarios, where the efficiency of processing may differ significantly between the two methods.\n",
    "- **Ease of Implementation**: Practical considerations, including code complexity, ease of debugging, and availability of libraries or tools.\n",
    "- **Accuracy**: The ability of each method to minimize the error term (residuals) and produce reliable parameter estimates under different scenarios.\n",
    "\n",
    "Finally, the article will explore scenarios where one method is preferable over the other. For example:\n",
    "- OLS may excel in smaller datasets where computational resources are not constrained.\n",
    "- GD is often the method of choice for very large datasets or when working with models that extend beyond linear regression, such as neural networks.\n",
    "\n",
    "By analyzing these aspects, this article aims to provide a comprehensive comparison to help readers choose the appropriate method for their specific use case."
   ]
  },
  {
   "cell_type": "markdown",
   "metadata": {},
   "source": [
    "## A. Deriving Parameters"
   ]
  },
  {
   "cell_type": "markdown",
   "metadata": {},
   "source": [
    "First, let's focus on how the parameters are derived with OLS and GD."
   ]
  },
  {
   "cell_type": "markdown",
   "metadata": {},
   "source": [
    "### How to Use OLS\n",
    "\n",
    "#### 0) How to Get Started\n",
    "\n",
    "We start with the following equation:\n",
    "\n",
    "$$Xβ = y$$\n",
    "\n",
    "Where:\n",
    "\n",
    "*X* := The design matrix of independent variables\\\n",
    "*β* := The vector of parameters (coefficients to be estimated)\\\n",
    "*y* := The vector of the dependent variable\n",
    "\n",
    "This is not possible, however, since there is always an error value, known as the *residuals*. \n",
    "\n",
    "Thus:\n",
    "\n",
    "$$X\\hat{β} + ε = \\hat{y}$$\n",
    "\n",
    "With that in mind, OLS can be derived through various approaches:\n",
    "\n",
    "#### 1) **Optimization using calculus**  \n",
    "\n",
    "In this scenario, we minimize the norm of $y - \\hat{y}$, which will give us the vector of parameters. $$\\min_β |y - \\hat{y}| = \\min_β |y - X\\hat{β}|^2$$\n",
    "\n",
    "I won't do the math for this, but if you're interested, it requires calculus and is a stronger solution since it follows along the maximum likelihood estimation (MLE).\n",
    "\n",
    "#### 2) **Using the Left Inverse**\n",
    "\n",
    "Because $Xβ$ is assumed to be full column rank, we can derive *β*.\n",
    "\n",
    "In other words, if we multiply $Xβ$ by its transpose, we can then multiply it by its inverse.\n",
    "\n",
    "Thus:\n",
    "\n",
    "$$X^TXβ = X^Ty$$\n",
    "$$(X^TX)^{-1}X^TXβ = (X^T X)^{-1}X^Ty$$\n",
    "$$Iβ = (X^TX)^{-1}X^Ty$$\n",
    "$$β = (X^T X)^{-1}X^Ty$$\n",
    "\n",
    "Note:\n",
    "*I* = The identity matrix\n",
    "\n",
    "Because β is predicting y, it is better to conclude that this derivation represents $\\hat{β}$.\n",
    "\n",
    "This is not the best approach because we are assuming $Xβ$ is full column rank, which may not be true if there is **Multicollinearity**.\n",
    "\n",
    "Why? If one parameter is a linear combination of any of the others, then the design matrix $X$ is not of full column rank (e.g. $β_3 = 4*β_1$).\n",
    "\n",
    "#### 3) Transforming $X$ to Row Canonical Form\n",
    "\n",
    "The equation\n",
    "\n",
    "$$X^TXβ = X^Ty$$\n",
    "\n",
    "can be row reduced to its canonical form to get the vector of parameters as well.\n",
    "\n",
    "This will make sense in the next derivation.\n",
    "\n",
    "#### **4) Using Orthogonal Projections**\n",
    "\n",
    "$Xβ = y$ can be seen as having a projection and an orthogonal component.\n",
    "\n",
    "If we view the parameters as predictions, then we have a projection:\n",
    "$$X\\hat{β} = \\hat{y}$$\n",
    "\n",
    "This is also known as $\\hat{y}$ projected onto the column space of $X\\hat{β}$\n",
    "\n",
    "The orthogonal component will be the nullspace $X\\hat{β}$, which is the residual: $y - \\hat{y}$ (or $y - X\\hat{β}$)\n",
    "\n",
    "In other words, the *residual* (orthogonal) and *prediction* (projection) add up to the vector of the dependent variable: y\n",
    "\n",
    "What now?\n",
    "\n",
    "Given that $y - X\\hat{β}$ is orthogonal to the column space of $X$, then it's orthogonal to each column of $X$:\n",
    "\n",
    "$$X^T*(y - X\\hat{β}) = 0$$\n",
    "$$X^Ty - X^TX\\hat{β} = 0$$\n",
    "$$X^Ty = X^TX\\hat{β}$$\n",
    "$$(X^TX)^{-1}X^Ty = \\hat{β}$$\n",
    "\n",
    "We could have solved for that using row reduction, where $X^TX$ is augmented by $X^Ty$, then put into row canonical form.\n",
    "\n",
    "#### **Conclusion**\n",
    "\n",
    "Regardless of which approach you use with OLS, the coefficients will be:\n",
    "$$\\hat{β} = (X^TX)^{-1}X^Ty$$"
   ]
  },
  {
   "cell_type": "markdown",
   "metadata": {},
   "source": [
    "### How to Use GD"
   ]
  },
  {
   "cell_type": "markdown",
   "metadata": {},
   "source": [
    "<!-- #### **0) How to Get Started**\n",
    "\n",
    "With GD, you must decide a cost function, AKA a loss or an objective function.\n",
    "\n",
    "For multiple regression, we start with the mean square error (MSE) as the cost function (it is most common):\n",
    "\n",
    "$$MSE = \\frac{1}{N} \\sum_{i=1}^N (y_i - \\beta_0 - \\mathbf{x}_i^T \\boldsymbol{\\beta})^2$$\n",
    "\n",
    "Where:\n",
    "\n",
    "*N* := Number of data points\\\n",
    "*y_i* := The vector of the dependent variable\\\n",
    "*β_0* := The scalar of the independent variable's intercept\\\n",
    "*β_i* := The vector of parameters (coefficients to be estimated)\\\n",
    "*x_i* := The vector of independent variables\n",
    "\n",
    "Note: This has not been put in matrix form because GD uses calculus.\n",
    "\n",
    "At first, you might think, \"How can I calculate the residual without first having values for the parameters?\"\n",
    "\n",
    "GD iteratively determines the parameters' values.\n",
    "\n",
    "You add the value of the partial derivative of the MSE with regard to the particular parameter:\n",
    "\n",
    "$$\\frac{\\partial MSE}{\\partial \\beta_0} = -\\frac{2}{N} \\sum_{i=1}^N (y_i - \\beta_0 - \\mathbf{x}_i^T \\boldsymbol{\\beta_i})$$\n",
    "\n",
    "$$\\frac{\\partial MSE}{\\partial {\\beta_i}} = -\\frac{2}{N} \\sum_{i=1}^{N}(y_i - \\beta_0 + \\mathbf{x}_i^T \\boldsymbol{\\beta_i}) * x_i$$\n",
    "\n",
    "Now, let's set the parameters to 0 and add a learning rate (α) and number of times (i.e. epochs) to update each parameter.\n",
    "\n",
    "$\\alpha = 0.01$ will be the learning rate, and $t = 100$ will be the number of epochs.\n",
    "\n",
    "We want to update the model parameters using the following equations:\n",
    "\n",
    "$$\\beta_0^{t+1} = \\beta_0 + \\alpha \\cdot \\frac{\\partial MSE}{\\partial \\beta_0}$$\n",
    "\n",
    "$$\\beta_i^{t+1} = \\beta_i + \\alpha \\cdot \\frac{\\partial MSE}{\\partial \\beta_i}$$\n",
    "\n",
    "Substituting the derivatives we found earlier:\n",
    "\n",
    "$$\\beta_0^{t+1} = \\beta_0^{t+1} + 0.01 \\cdot (-\\frac{2}{N} \\sum_{i=1}^{N}(y_i - (\\beta_0^{t+1} + \\beta_i x_i)))$$\n",
    "\n",
    "$$\\beta_i^{t+1} = \\beta_i + 0.01 \\cdot (-\\frac{2}{N} \\sum_{i=1}^{N}(y_i - (\\boldsymbol{\\beta_0} + \\beta_i \\boldsymbol{x_i})) \\cdot \\boldsymbol{x_i})$$\n",
    "\n",
    "Simplifying the equations:\n",
    "\n",
    "$$\\beta_0^{t+1} = \\beta_0 - 0.02 \\sum_{i=1}^{N}(y_i - (\\boldsymbol{\\beta_0} + \\beta_i \\boldsymbol{x_i}))$$\n",
    "\n",
    "$$\\beta_i^{t+1} = \\beta_i - 0.02 \\sum_{i=1}^{N}(y_i - (\\boldsymbol{\\beta_0} + \\beta_i \\boldsymbol{x_i})) \\cdot \\boldsymbol{x_i}$$ -->"
   ]
  },
  {
   "cell_type": "markdown",
   "metadata": {},
   "source": [
    "#### **0) How to Get Started**\n",
    "\n",
    "To perform Gradient Descent (GD), you must first decide on a cost function, also known as a loss or objective function.\n",
    "\n",
    "For multiple regression, we typically use the mean squared error (MSE) as the cost function:\n",
    "\n",
    "$$MSE = \\frac{1}{N} \\| \\mathbf{y} - \\beta_0 \\mathbf{1} - \\mathbf{X} \\boldsymbol{\\beta} \\|^2$$\n",
    "\n",
    "Where:\n",
    "\n",
    "*N* := Number (scalar) of data points\\\n",
    "*y* := Vector of dependent variables (N * 1)\\\n",
    "*β_0* := Scalar intercept term\\\n",
    "*1* := Vector of 1's (n * 1)\\\n",
    "*X* := Matrix of independent variables (M * N)\\\n",
    "*β* := Vector of parameters (coefficients to be estimated, N * 1)\n",
    "\n",
    "At first, you might think, \"How can I calculate the residual without first having values for the parameters?\"\n",
    "\n",
    "GD iteratively determines the parameters' values updating the parameters at each step based on the gradient of the cost function, which, in this case, is the MSE.\n",
    "\n",
    "You add the value of the partial derivative of the MSE with regard to the particular parameter:\n",
    "\n",
    "$$\\frac{\\partial MSE}{\\partial \\beta_0} = -\\frac{2}{N} \\mathbf{1}^T (\\mathbf{y} - \\beta_0 \\mathbf{1} - \\mathbf{X} \\boldsymbol{\\beta})$$\n",
    "\n",
    "$$\\frac{\\partial MSE}{\\partial \\boldsymbol{\\beta}} = -\\frac{2}{N} \\mathbf{X}^T (\\mathbf{y} - \\beta_0 \\mathbf{1} - \\mathbf{X} \\boldsymbol{\\beta})$$\n",
    "\n",
    "Now, let's set the parameters to 0 and add a learning rate (α) and number of times (i.e. epochs) to update each parameter.\n",
    "\n",
    "$α = 0.01$ will be the learning rate, and $t = 100$ will be the number of epochs.\n",
    "\n",
    "The updates for the parameters are:\n",
    "\n",
    "$$\\beta_0^{(t+1)} = \\beta_0^{(t)} - \\alpha \\cdot \\frac{\\partial MSE}{\\partial \\beta_0}$$\n",
    "\n",
    "$$\\boldsymbol{\\beta}^{(t+1)} = \\boldsymbol{\\beta}^{(t)} - \\alpha \\cdot \\frac{\\partial MSE}{\\partial \\boldsymbol{\\beta}}$$\n",
    "\n",
    "Substituting the derivatives into the update equations:\n",
    "\n",
    "$$\\beta_0^{(t+1)} = \\beta_0^{(t)} + \\frac{2 \\alpha}{N} \\mathbf{1}^T (\\mathbf{y} - \\beta_0^{(t)} \\mathbf{1} - \\mathbf{X} \\boldsymbol{\\beta}^{(t)})$$\n",
    "\n",
    "$$\\boldsymbol{\\beta}^{(t+1)} = \\boldsymbol{\\beta}^{(t)} + \\frac{2 \\alpha}{N} \\mathbf{X}^T (\\mathbf{y} - \\beta_0^{(t)} \\mathbf{1} - \\mathbf{X} \\boldsymbol{\\beta}^{(t)})$$\n",
    "\n",
    "#### Conclusion\n",
    "\n",
    "The expressions $\\beta_0^{(t+1)}$ and $\\boldsymbol{\\beta}^{(t+1)}$ would give us the intercept and vector of parameters."
   ]
  },
  {
   "cell_type": "markdown",
   "metadata": {},
   "source": [
    "## B. Deriving Parameters Using OLS & GD"
   ]
  },
  {
   "cell_type": "code",
   "execution_count": 1,
   "metadata": {},
   "outputs": [
    {
     "name": "stdout",
     "output_type": "stream",
     "text": [
      "Downloading from https://www.kaggle.com/api/v1/datasets/download/nikhil7280/student-performance-multiple-linear-regression?dataset_version_number=1...\n"
     ]
    },
    {
     "name": "stderr",
     "output_type": "stream",
     "text": [
      "100%|██████████| 48.5k/48.5k [00:00<00:00, 21.3MB/s]"
     ]
    },
    {
     "name": "stdout",
     "output_type": "stream",
     "text": [
      "Extracting files...\n",
      "Path to dataset files: /Users/alexdubro/.cache/kagglehub/datasets/nikhil7280/student-performance-multiple-linear-regression/versions/1\n"
     ]
    },
    {
     "name": "stderr",
     "output_type": "stream",
     "text": [
      "\n"
     ]
    }
   ],
   "source": [
    "# The dataset will come from Kaggle:\n",
    "\n",
    "import kagglehub\n",
    "\n",
    "# Download latest version\n",
    "path = kagglehub.dataset_download(\"nikhil7280/student-performance-multiple-linear-regression\")\n",
    "print(\"Path to dataset files:\", path)"
   ]
  },
  {
   "cell_type": "code",
   "execution_count": 3,
   "metadata": {},
   "outputs": [
    {
     "data": {
      "text/html": [
       "<div>\n",
       "<style scoped>\n",
       "    .dataframe tbody tr th:only-of-type {\n",
       "        vertical-align: middle;\n",
       "    }\n",
       "\n",
       "    .dataframe tbody tr th {\n",
       "        vertical-align: top;\n",
       "    }\n",
       "\n",
       "    .dataframe thead th {\n",
       "        text-align: right;\n",
       "    }\n",
       "</style>\n",
       "<table border=\"1\" class=\"dataframe\">\n",
       "  <thead>\n",
       "    <tr style=\"text-align: right;\">\n",
       "      <th></th>\n",
       "      <th>Hours Studied</th>\n",
       "      <th>Previous Scores</th>\n",
       "      <th>Extracurricular Activities</th>\n",
       "      <th>Sleep Hours</th>\n",
       "      <th>Sample Question Papers Practiced</th>\n",
       "      <th>Performance Index</th>\n",
       "    </tr>\n",
       "  </thead>\n",
       "  <tbody>\n",
       "    <tr>\n",
       "      <th>0</th>\n",
       "      <td>7</td>\n",
       "      <td>99</td>\n",
       "      <td>Yes</td>\n",
       "      <td>9</td>\n",
       "      <td>1</td>\n",
       "      <td>91.0</td>\n",
       "    </tr>\n",
       "    <tr>\n",
       "      <th>1</th>\n",
       "      <td>4</td>\n",
       "      <td>82</td>\n",
       "      <td>No</td>\n",
       "      <td>4</td>\n",
       "      <td>2</td>\n",
       "      <td>65.0</td>\n",
       "    </tr>\n",
       "    <tr>\n",
       "      <th>2</th>\n",
       "      <td>8</td>\n",
       "      <td>51</td>\n",
       "      <td>Yes</td>\n",
       "      <td>7</td>\n",
       "      <td>2</td>\n",
       "      <td>45.0</td>\n",
       "    </tr>\n",
       "    <tr>\n",
       "      <th>3</th>\n",
       "      <td>5</td>\n",
       "      <td>52</td>\n",
       "      <td>Yes</td>\n",
       "      <td>5</td>\n",
       "      <td>2</td>\n",
       "      <td>36.0</td>\n",
       "    </tr>\n",
       "    <tr>\n",
       "      <th>4</th>\n",
       "      <td>7</td>\n",
       "      <td>75</td>\n",
       "      <td>No</td>\n",
       "      <td>8</td>\n",
       "      <td>5</td>\n",
       "      <td>66.0</td>\n",
       "    </tr>\n",
       "  </tbody>\n",
       "</table>\n",
       "</div>"
      ],
      "text/plain": [
       "   Hours Studied  Previous Scores Extracurricular Activities  Sleep Hours  \\\n",
       "0              7               99                        Yes            9   \n",
       "1              4               82                         No            4   \n",
       "2              8               51                        Yes            7   \n",
       "3              5               52                        Yes            5   \n",
       "4              7               75                         No            8   \n",
       "\n",
       "   Sample Question Papers Practiced  Performance Index  \n",
       "0                                 1               91.0  \n",
       "1                                 2               65.0  \n",
       "2                                 2               45.0  \n",
       "3                                 2               36.0  \n",
       "4                                 5               66.0  "
      ]
     },
     "execution_count": 3,
     "metadata": {},
     "output_type": "execute_result"
    }
   ],
   "source": [
    "import matplotlib.pyplot as plt\n",
    "import numpy as np \n",
    "import os\n",
    "import pandas as pd \n",
    "import seaborn as sns \n",
    "\n",
    "dataset_path = os.path.join(path, 'Student_Performance.csv')\n",
    "\n",
    "raw_data = pd.read_csv(dataset_path)\n",
    "raw_data.head()"
   ]
  },
  {
   "cell_type": "code",
   "execution_count": 16,
   "metadata": {},
   "outputs": [],
   "source": [
    "# 1) Removing null data\n",
    "\n",
    "# print(raw_data.isnull().sum())\n",
    "raw_data.dropna(inplace=True)\n",
    "\n",
    "# 2) Removing duplicates\n",
    "\n",
    "raw_data.drop_duplicates(inplace=True)\n",
    "# duplicate_rows = raw_data[raw_data.duplicated()]\n",
    "# print(duplicate_rows)\n",
    "\n",
    "# Identify fully duplicate rows (entire row content matches)\n",
    "# duplicate_rows = raw_data[raw_data.duplicated()]\n",
    "# duplicate_rows.head()\n",
    "\n",
    "# s = raw_data.duplicated()\n",
    "\n",
    "# print(s)\n",
    "\n",
    "# duplicateRows = raw_data[raw_data.duplicated(keep=False)]\n",
    "# print(len(duplicateRows))\n",
    "\n",
    "# Step 1: Identify all duplicate rows\n",
    "# duplicate_rows = raw_data[raw_data.duplicated(keep=False)]\n",
    "\n",
    "# Step 2: Display one example of a duplicate row\n",
    "# example_duplicate = duplicate_rows.iloc[0] # Or use .iloc[0] for the first duplicate row\n",
    "# print(\"Example of a duplicate row:\\n\", example_duplicate)\n",
    "\n",
    "\n",
    "# Show duplicate rows\n",
    "# print(\"Duplicate rows based on all columns:\\n\", duplicate_rows)\n",
    "\n",
    "# duplicates = raw_data[raw_data.duplicated()]\n",
    "# print(\"Duplicate rows:\\n\", duplicates)\n",
    "# all_duplicates = raw_data[raw_data.duplicated(keep=False)]\n",
    "# print(len(duplicate_rows))\n",
    " \n",
    "# Print the resultant Dataframe\n",
    "# print(duplicate)\n",
    "# df.drop_duplicates(inplace=True)"
   ]
  },
  {
   "cell_type": "markdown",
   "metadata": {},
   "source": [
    "We will be using the following equation to derive the parameters for OLS:\n",
    "\n",
    "$$\\hat{β} = (X^TX)^{-1}X^Ty$$\n",
    "\n",
    "For multiple regression, X reflects the features; y is the label.\n",
    "\n",
    "Features will include quantitative and categorical variables.\n",
    "\n",
    "If there are categorical variables, they must be dummy-coded."
   ]
  },
  {
   "cell_type": "code",
   "execution_count": null,
   "metadata": {},
   "outputs": [],
   "source": []
  },
  {
   "cell_type": "code",
   "execution_count": null,
   "metadata": {},
   "outputs": [],
   "source": [
    "raw_data['Extracurricular Activities'].value_counts()"
   ]
  },
  {
   "cell_type": "code",
   "execution_count": null,
   "metadata": {},
   "outputs": [],
   "source": [
    "dums = pd.get_dummies(df['Extracurricular Activities'], dtype='float')\n",
    "df['Extracurricular Activities'] = dums[['Yes']]"
   ]
  },
  {
   "cell_type": "code",
   "execution_count": null,
   "metadata": {},
   "outputs": [],
   "source": [
    "df.head()"
   ]
  },
  {
   "cell_type": "code",
   "execution_count": null,
   "metadata": {},
   "outputs": [],
   "source": []
  },
  {
   "cell_type": "markdown",
   "metadata": {},
   "source": [
    "## C. Comparing OLS & GD"
   ]
  },
  {
   "cell_type": "code",
   "execution_count": null,
   "metadata": {},
   "outputs": [],
   "source": []
  }
 ],
 "metadata": {
  "kernelspec": {
   "display_name": "miniforge",
   "language": "python",
   "name": "python3"
  },
  "language_info": {
   "codemirror_mode": {
    "name": "ipython",
    "version": 3
   },
   "file_extension": ".py",
   "mimetype": "text/x-python",
   "name": "python",
   "nbconvert_exporter": "python",
   "pygments_lexer": "ipython3",
   "version": "3.10.15"
  }
 },
 "nbformat": 4,
 "nbformat_minor": 2
}
